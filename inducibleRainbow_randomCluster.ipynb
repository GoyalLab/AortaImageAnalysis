{
 "cells": [
  {
   "cell_type": "code",
   "execution_count": 1,
   "outputs": [],
   "source": [
    "import numpy as np\n",
    "from random import seed\n",
    "from random import sample\n",
    "import pandas as pd\n",
    "from sklearn.neighbors import NearestNeighbors\n",
    "from os.path import join\n",
    "from skimage.measure import regionprops_table\n",
    "import matplotlib.pyplot as plt"
   ],
   "metadata": {
    "collapsed": false,
    "pycharm": {
     "name": "#%%\n"
    }
   }
  },
  {
   "cell_type": "code",
   "execution_count": null,
   "outputs": [],
   "source": [],
   "metadata": {
    "collapsed": false,
    "pycharm": {
     "name": "#%%\n"
    }
   }
  },
  {
   "cell_type": "code",
   "execution_count": 8,
   "outputs": [],
   "source": [
    "nucleiPath = '/Volumes/Aortas/Aorta/segmentations/inducedRainbow/nuclei/5-60/C5RB-048_5-60'\n",
    "clusterPath = '/Volumes/Aortas/Aorta/segmentations/inducedRainbow/red/5-60/C5RB-048/clusterSizeRedP5-60_aorta_C5RB-048_60Thres_updated.npy'\n",
    "savePath = '/Volumes/Aortas/Aorta/results/inducedRainbow/randomness/5-60/C5RB-050'\n",
    "aorta = '5-60Red_C5RB050.csv'"
   ],
   "metadata": {
    "collapsed": false,
    "pycharm": {
     "name": "#%%\n"
    }
   }
  },
  {
   "cell_type": "code",
   "execution_count": 9,
   "outputs": [],
   "source": [
    "scalingFactor = 10000\n",
    "for i in range(4):\n",
    "    #build row block\n",
    "    nuc1 =np.load(join(nucleiPath, \"Cropped_IMG-\" + str(4*i +1) + '_seg.npy'), allow_pickle=True).item()['masks']\n",
    "    nuc2 =np.load(join(nucleiPath, \"Cropped_IMG-\" + str(4*i +2) + '_seg.npy'), allow_pickle=True).item()['masks']\n",
    "    nuc3 =np.load(join(nucleiPath, \"Cropped_IMG-\" + str(4*i +3) + '_seg.npy'), allow_pickle=True).item()['masks']\n",
    "    nuc4 =np.load(join(nucleiPath, \"Cropped_IMG-\" + str(4*i +4) + '_seg.npy'), allow_pickle=True).item()['masks']\n",
    "    nuc1 = nuc1 + scalingFactor *(4*i +1)\n",
    "    nuc1[nuc1 == (scalingFactor *(4*i +1))] = 0\n",
    "    nuc2 = nuc2 + scalingFactor *(4*i +2)\n",
    "    nuc2[nuc2 == (scalingFactor *(4*i +2))] = 0\n",
    "    nuc3 = nuc3 + scalingFactor *(4*i +3)\n",
    "    nuc3[nuc3 == (scalingFactor *(4*i +3))] = 0\n",
    "    nuc4 = nuc4 + scalingFactor *(4*i +4)\n",
    "    nuc4[nuc4 == (scalingFactor *(4*i +4))] = 0\n",
    "\n",
    "    row = np.concatenate((nuc1, nuc2, nuc3, nuc4), axis = 1)\n",
    "    if i == 0:\n",
    "        nucImage = row\n",
    "    else:\n",
    "        nucImage = np.concatenate((nucImage, row), axis = 0)"
   ],
   "metadata": {
    "collapsed": false,
    "pycharm": {
     "name": "#%%\n"
    }
   }
  },
  {
   "cell_type": "code",
   "execution_count": 10,
   "outputs": [],
   "source": [
    "def centeroidPoints(arr):\n",
    "    length = arr.shape[0]\n",
    "    sum_y = np.sum(arr[:, 0])\n",
    "    sum_x = np.sum(arr[:, 1])\n",
    "    return sum_y/length, sum_x/length"
   ],
   "metadata": {
    "collapsed": false,
    "pycharm": {
     "name": "#%%\n"
    }
   }
  },
  {
   "cell_type": "code",
   "execution_count": 11,
   "outputs": [],
   "source": [
    "prop_dict = regionprops_table(nucImage, properties = ('label', 'centroid'))\n",
    "df = pd.DataFrame(prop_dict)\n",
    "nucIDs = df['label'].tolist()"
   ],
   "metadata": {
    "collapsed": false,
    "pycharm": {
     "name": "#%%\n"
    }
   }
  },
  {
   "cell_type": "code",
   "execution_count": 12,
   "outputs": [],
   "source": [
    "cluster = np.load(clusterPath, allow_pickle=True).item()"
   ],
   "metadata": {
    "collapsed": false,
    "pycharm": {
     "name": "#%%\n"
    }
   }
  },
  {
   "cell_type": "code",
   "execution_count": 13,
   "outputs": [],
   "source": [
    "singletons = []\n",
    "doublets = []\n",
    "higher = []\n",
    "marked = []\n",
    "for key in cluster:\n",
    "    if len(cluster[key]) == 1:\n",
    "        singletons.append(df[df['label'] == cluster[key][0]][['centroid-0', 'centroid-1']].to_numpy()[0])\n",
    "        marked.append(df[df['label'] == cluster[key][0]][['centroid-0', 'centroid-1']].to_numpy()[0])\n",
    "    elif len(cluster[key]) == 2:\n",
    "        points = np.asarray([df[df['label'] == cluster[key][i]][['centroid-0', 'centroid-1']].to_numpy()[0] for i in range(len(cluster[key]))])\n",
    "        centroid = centeroidPoints(points)\n",
    "        doublets.append(centroid)\n",
    "        marked.append(centroid)\n",
    "    else:\n",
    "        points = np.asarray([df[df['label'] == cluster[key][i]][['centroid-0', 'centroid-1']].to_numpy()[0] for i in range(len(cluster[key]))])\n",
    "        centroid = centeroidPoints(points)\n",
    "        higher.append(centroid)\n",
    "        marked.append(centroid)\n",
    "\n",
    "markedArray = np.asarray(marked)\n",
    "singletonsArray = np.asarray(singletons)\n",
    "doubletsArray = np.asarray(doublets)\n",
    "higherArray = np.asarray(higher)"
   ],
   "metadata": {
    "collapsed": false,
    "pycharm": {
     "name": "#%%\n"
    }
   }
  },
  {
   "cell_type": "code",
   "execution_count": 14,
   "outputs": [],
   "source": [
    "def kNN(array, neighbor):\n",
    "    nbrs = NearestNeighbors(n_neighbors=neighbor, algorithm='ball_tree').fit(array)\n",
    "    distances, indices = nbrs.kneighbors(array)\n",
    "    return nbrs, distances, indices"
   ],
   "metadata": {
    "collapsed": false,
    "pycharm": {
     "name": "#%%\n"
    }
   }
  },
  {
   "cell_type": "code",
   "execution_count": 15,
   "outputs": [],
   "source": [
    "#marked real\n",
    "nbrsMarkedReal, distancesMarkedReal, indicesMarkedReal = kNN(markedArray, 6)\n",
    "\n",
    "#singletonsReal\n",
    "nbrsSingletonsReal, distancesSingletonsReal, indicesSingletonsReal = kNN(singletonsArray, 6)\n",
    "\n",
    "#doubletsReal\n",
    "nbrsDoubletsReal, distancesDoubletsReal, indicesDoubletsReal = kNN(doubletsArray, 6)\n",
    "\n",
    "#higherReal\n",
    "nbrsHigherReal, distancesHigherReal, indicesHigherReal = kNN(higherArray, 6)"
   ],
   "metadata": {
    "collapsed": false,
    "pycharm": {
     "name": "#%%\n"
    }
   }
  },
  {
   "cell_type": "code",
   "execution_count": 15,
   "outputs": [],
   "source": [],
   "metadata": {
    "collapsed": false,
    "pycharm": {
     "name": "#%%\n"
    }
   }
  },
  {
   "cell_type": "code",
   "execution_count": 16,
   "outputs": [],
   "source": [
    "def randomkNNDistances(len):\n",
    "    selectedRandom = sample(nucIDs, len)\n",
    "    dfRandom = df[df['label'].isin(selectedRandom)]\n",
    "    nucCoordRandom = dfRandom[['centroid-0', 'centroid-1']].to_numpy()\n",
    "    nbrsRandom = NearestNeighbors(n_neighbors=6, algorithm='ball_tree').fit(nucCoordRandom)\n",
    "    distancesRand, indicesRandom = nbrsRandom.kneighbors(nucCoordRandom)\n",
    "    return distancesRand"
   ],
   "metadata": {
    "collapsed": false,
    "pycharm": {
     "name": "#%%\n"
    }
   }
  },
  {
   "cell_type": "code",
   "execution_count": 17,
   "outputs": [],
   "source": [
    "seed(42)\n",
    "distancesRandom = []\n",
    "markedRandom = []\n",
    "singletonRandom = []\n",
    "doubletRandom = []\n",
    "higherRandom = []\n",
    "for _ in range(1000):\n",
    "    markedRandom.append(np.asarray(randomkNNDistances(len(markedArray))))\n",
    "    singletonRandom.append(np.asarray(randomkNNDistances(len(singletonsArray))))\n",
    "    doubletRandom.append(np.asarray((randomkNNDistances(len(doubletsArray)))))\n",
    "    higherRandom.append(np.asarray(randomkNNDistances(len(higherArray))))\n",
    "distancesMarkedRandom = np.asarray(markedRandom)\n",
    "distancesSingletonsRandom = np.asarray(singletonRandom)\n",
    "distancesDoubletsRandom = np.asarray(doubletRandom)\n",
    "distancesHigherRandom = np.asarray(higherRandom)"
   ],
   "metadata": {
    "collapsed": false,
    "pycharm": {
     "name": "#%%\n"
    }
   }
  },
  {
   "cell_type": "code",
   "execution_count": null,
   "outputs": [],
   "source": [],
   "metadata": {
    "collapsed": false,
    "pycharm": {
     "name": "#%%\n"
    }
   }
  },
  {
   "cell_type": "code",
   "execution_count": null,
   "outputs": [],
   "source": [],
   "metadata": {
    "collapsed": false,
    "pycharm": {
     "name": "#%%\n"
    }
   }
  },
  {
   "cell_type": "code",
   "execution_count": 17,
   "outputs": [],
   "source": [],
   "metadata": {
    "collapsed": false,
    "pycharm": {
     "name": "#%%\n"
    }
   }
  },
  {
   "cell_type": "code",
   "execution_count": 221,
   "outputs": [],
   "source": [
    "k=1"
   ],
   "metadata": {
    "collapsed": false,
    "pycharm": {
     "name": "#%%\n"
    }
   }
  },
  {
   "cell_type": "code",
   "execution_count": 222,
   "outputs": [
    {
     "data": {
      "text/plain": "38.524314644967625"
     },
     "execution_count": 222,
     "metadata": {},
     "output_type": "execute_result"
    }
   ],
   "source": [
    "np.mean(distancesMarkedReal[:,k])"
   ],
   "metadata": {
    "collapsed": false,
    "pycharm": {
     "name": "#%%\n"
    }
   }
  },
  {
   "cell_type": "code",
   "execution_count": 223,
   "outputs": [
    {
     "data": {
      "text/plain": "42.75325251869774"
     },
     "execution_count": 223,
     "metadata": {},
     "output_type": "execute_result"
    }
   ],
   "source": [
    "np.mean(distancesMarkedRandom[:,:,k])"
   ],
   "metadata": {
    "collapsed": false,
    "pycharm": {
     "name": "#%%\n"
    }
   }
  },
  {
   "cell_type": "code",
   "execution_count": 223,
   "outputs": [],
   "source": [],
   "metadata": {
    "collapsed": false,
    "pycharm": {
     "name": "#%%\n"
    }
   }
  },
  {
   "cell_type": "code",
   "execution_count": 224,
   "outputs": [
    {
     "data": {
      "text/plain": "43.928347257487026"
     },
     "execution_count": 224,
     "metadata": {},
     "output_type": "execute_result"
    }
   ],
   "source": [
    "np.mean(distancesSingletonsReal[:,k])"
   ],
   "metadata": {
    "collapsed": false,
    "pycharm": {
     "name": "#%%\n"
    }
   }
  },
  {
   "cell_type": "code",
   "execution_count": 225,
   "outputs": [
    {
     "data": {
      "text/plain": "54.327009699685775"
     },
     "execution_count": 225,
     "metadata": {},
     "output_type": "execute_result"
    }
   ],
   "source": [
    "np.mean(distancesSingletonsRandom[:,:,k])"
   ],
   "metadata": {
    "collapsed": false,
    "pycharm": {
     "name": "#%%\n"
    }
   }
  },
  {
   "cell_type": "code",
   "execution_count": 225,
   "outputs": [],
   "source": [],
   "metadata": {
    "collapsed": false,
    "pycharm": {
     "name": "#%%\n"
    }
   }
  },
  {
   "cell_type": "code",
   "execution_count": 226,
   "outputs": [
    {
     "data": {
      "text/plain": "82.1854494244663"
     },
     "execution_count": 226,
     "metadata": {},
     "output_type": "execute_result"
    }
   ],
   "source": [
    "np.mean(distancesDoubletsReal[:,k])"
   ],
   "metadata": {
    "collapsed": false,
    "pycharm": {
     "name": "#%%\n"
    }
   }
  },
  {
   "cell_type": "code",
   "execution_count": 227,
   "outputs": [
    {
     "data": {
      "text/plain": "86.96451516342397"
     },
     "execution_count": 227,
     "metadata": {},
     "output_type": "execute_result"
    }
   ],
   "source": [
    "np.mean(distancesDoubletsRandom[:,:,k].flatten())"
   ],
   "metadata": {
    "collapsed": false,
    "pycharm": {
     "name": "#%%\n"
    }
   }
  },
  {
   "cell_type": "code",
   "execution_count": 227,
   "outputs": [],
   "source": [],
   "metadata": {
    "collapsed": false,
    "pycharm": {
     "name": "#%%\n"
    }
   }
  },
  {
   "cell_type": "code",
   "execution_count": 228,
   "outputs": [
    {
     "data": {
      "text/plain": "114.61139054483097"
     },
     "execution_count": 228,
     "metadata": {},
     "output_type": "execute_result"
    }
   ],
   "source": [
    "np.mean(distancesHigherReal[:,k])"
   ],
   "metadata": {
    "collapsed": false,
    "pycharm": {
     "name": "#%%\n"
    }
   }
  },
  {
   "cell_type": "code",
   "execution_count": 229,
   "outputs": [
    {
     "data": {
      "text/plain": "124.84278265911774"
     },
     "execution_count": 229,
     "metadata": {},
     "output_type": "execute_result"
    }
   ],
   "source": [
    "np.mean(distancesHigherRandom[:,:,k].flatten())"
   ],
   "metadata": {
    "collapsed": false,
    "pycharm": {
     "name": "#%%\n"
    }
   }
  },
  {
   "cell_type": "code",
   "execution_count": null,
   "outputs": [],
   "source": [],
   "metadata": {
    "collapsed": false,
    "pycharm": {
     "name": "#%%\n"
    }
   }
  },
  {
   "cell_type": "code",
   "execution_count": null,
   "outputs": [],
   "source": [
    "#save results"
   ],
   "metadata": {
    "collapsed": false,
    "pycharm": {
     "name": "#%%\n"
    }
   }
  },
  {
   "cell_type": "code",
   "execution_count": 159,
   "outputs": [],
   "source": [
    "distancesMarkedRandom2D = np.asarray([distancesMarkedRandom[:,:,0].flatten(), distancesMarkedRandom[:,:,1].flatten(), distancesMarkedRandom[:,:,2].flatten(), distancesMarkedRandom[:,:,3].flatten(), distancesMarkedRandom[:,:,4].flatten(), distancesMarkedRandom[:,:,5].flatten()])\n",
    "\n",
    "distancesSingletonsRandom2D = np.asarray([distancesSingletonsRandom[:,:,0].flatten(), distancesSingletonsRandom[:,:,1].flatten(), distancesSingletonsRandom[:,:,2].flatten(), distancesSingletonsRandom[:,:,3].flatten(), distancesSingletonsRandom[:,:,4].flatten(), distancesSingletonsRandom[:,:,5].flatten()])\n",
    "\n",
    "distancesDoubletsRandom2D = np.asarray([distancesDoubletsRandom[:,:,0].flatten(), distancesDoubletsRandom[:,:,1].flatten(), distancesDoubletsRandom[:,:,2].flatten(), distancesDoubletsRandom[:,:,3].flatten(), distancesDoubletsRandom[:,:,4].flatten(), distancesDoubletsRandom[:,:,5].flatten()])\n",
    "\n",
    "distancesHigherRandom2D = np.asarray([distancesHigherRandom[:,:,0].flatten(), distancesHigherRandom[:,:,1].flatten(), distancesHigherRandom[:,:,2].flatten(), distancesHigherRandom[:,:,3].flatten(), distancesHigherRandom[:,:,4].flatten(), distancesHigherRandom[:,:,4].flatten()])"
   ],
   "metadata": {
    "collapsed": false,
    "pycharm": {
     "name": "#%%\n"
    }
   }
  },
  {
   "cell_type": "code",
   "execution_count": 162,
   "outputs": [],
   "source": [
    "np.savetxt(join(savePath,'distancesMarkedReal_' + aorta), distancesMarkedReal, delimiter=\",\")\n",
    "np.savetxt(join(savePath,'distancesMarkedRandom_' + aorta), distancesMarkedRandom2D, delimiter=\",\")\n",
    "np.savetxt(join(savePath,'distancesSingletonsReal_' + aorta), distancesSingletonsReal, delimiter=\",\")\n",
    "np.savetxt(join(savePath,'distancesSingletonsRandom_' + aorta), distancesSingletonsRandom2D, delimiter=\",\")\n",
    "np.savetxt(join(savePath,'distancesDoubletsReal_' + aorta), distancesDoubletsReal, delimiter=\",\")\n",
    "np.savetxt(join(savePath,'distancesDoubletsRandom_' + aorta), distancesDoubletsRandom2D, delimiter=\",\")\n",
    "np.savetxt(join(savePath,'distancesHigherReal_' + aorta), distancesHigherReal, delimiter=\",\")\n",
    "np.savetxt(join(savePath,'distancesHigherRandom_' + aorta), distancesHigherRandom2D, delimiter=\",\")"
   ],
   "metadata": {
    "collapsed": false,
    "pycharm": {
     "name": "#%%\n"
    }
   }
  },
  {
   "cell_type": "code",
   "execution_count": 168,
   "outputs": [
    {
     "data": {
      "text/plain": "370"
     },
     "execution_count": 168,
     "metadata": {},
     "output_type": "execute_result"
    }
   ],
   "source": [
    "len(distancesMarkedReal[:,k])"
   ],
   "metadata": {
    "collapsed": false,
    "pycharm": {
     "name": "#%%\n"
    }
   }
  },
  {
   "cell_type": "code",
   "execution_count": 18,
   "outputs": [],
   "source": [
    "k = 1"
   ],
   "metadata": {
    "collapsed": false,
    "pycharm": {
     "name": "#%%\n"
    }
   }
  },
  {
   "cell_type": "code",
   "execution_count": 19,
   "outputs": [
    {
     "data": {
      "text/plain": "(0.0, 300.0)"
     },
     "execution_count": 19,
     "metadata": {},
     "output_type": "execute_result"
    },
    {
     "data": {
      "text/plain": "<Figure size 432x288 with 1 Axes>",
      "image/png": "[encoded data removed]"
     },
     "metadata": {
      "needs_background": "light"
     },
     "output_type": "display_data"
    }
   ],
   "source": [
    "plt.hist(distancesMarkedReal[:,k])\n",
    "plt.xlim(0,300)"
   ],
   "metadata": {
    "collapsed": false,
    "pycharm": {
     "name": "#%%\n"
    }
   }
  },
  {
   "cell_type": "code",
   "execution_count": 45,
   "outputs": [
    {
     "data": {
      "text/plain": "(0.0, 300.0)"
     },
     "execution_count": 45,
     "metadata": {},
     "output_type": "execute_result"
    },
    {
     "data": {
      "text/plain": "<Figure size 432x288 with 1 Axes>",
      "image/png": "[encoded data removed]"
     },
     "metadata": {
      "needs_background": "light"
     },
     "output_type": "display_data"
    }
   ],
   "source": [
    "plt.hist(distancesMarkedRandom[:,:,k].flatten(), bins = 200)\n",
    "plt.xlim(0,300)"
   ],
   "metadata": {
    "collapsed": false,
    "pycharm": {
     "name": "#%%\n"
    }
   }
  },
  {
   "cell_type": "code",
   "execution_count": null,
   "outputs": [],
   "source": [],
   "metadata": {
    "collapsed": false,
    "pycharm": {
     "name": "#%%\n"
    }
   }
  },
  {
   "cell_type": "code",
   "execution_count": 61,
   "outputs": [],
   "source": [
    "k = 5"
   ],
   "metadata": {
    "collapsed": false,
    "pycharm": {
     "name": "#%%\n"
    }
   }
  },
  {
   "cell_type": "code",
   "execution_count": 84,
   "outputs": [
    {
     "data": {
      "text/plain": "(0.0, 400.0)"
     },
     "execution_count": 84,
     "metadata": {},
     "output_type": "execute_result"
    },
    {
     "data": {
      "text/plain": "<Figure size 432x288 with 1 Axes>",
      "image/png": "[encoded data removed]"
     },
     "metadata": {
      "needs_background": "light"
     },
     "output_type": "display_data"
    }
   ],
   "source": [
    "plt.hist(distancesSingletonsReal[:,k])\n",
    "plt.xlim(0,400)"
   ],
   "metadata": {
    "collapsed": false,
    "pycharm": {
     "name": "#%%\n"
    }
   }
  },
  {
   "cell_type": "code",
   "execution_count": 85,
   "outputs": [
    {
     "data": {
      "text/plain": "(0.0, 400.0)"
     },
     "execution_count": 85,
     "metadata": {},
     "output_type": "execute_result"
    },
    {
     "data": {
      "text/plain": "<Figure size 432x288 with 1 Axes>",
      "image/png": "[encoded data removed]"
     },
     "metadata": {
      "needs_background": "light"
     },
     "output_type": "display_data"
    }
   ],
   "source": [
    "plt.hist(distancesSingletonsRandom[:,:,k].flatten(), bins=200)\n",
    "plt.xlim(0,400)"
   ],
   "metadata": {
    "collapsed": false,
    "pycharm": {
     "name": "#%%\n"
    }
   }
  },
  {
   "cell_type": "code",
   "execution_count": null,
   "outputs": [],
   "source": [],
   "metadata": {
    "collapsed": false,
    "pycharm": {
     "name": "#%%\n"
    }
   }
  },
  {
   "cell_type": "code",
   "execution_count": 79,
   "outputs": [],
   "source": [
    "k = 5"
   ],
   "metadata": {
    "collapsed": false,
    "pycharm": {
     "name": "#%%\n"
    }
   }
  },
  {
   "cell_type": "code",
   "execution_count": 83,
   "outputs": [
    {
     "data": {
      "text/plain": "(0.0, 600.0)"
     },
     "execution_count": 83,
     "metadata": {},
     "output_type": "execute_result"
    },
    {
     "data": {
      "text/plain": "<Figure size 432x288 with 1 Axes>",
      "image/png": "[encoded data removed]"
     },
     "metadata": {
      "needs_background": "light"
     },
     "output_type": "display_data"
    }
   ],
   "source": [
    "plt.hist(distancesDoubletsReal[:,k])\n",
    "plt.xlim(0,600)"
   ],
   "metadata": {
    "collapsed": false,
    "pycharm": {
     "name": "#%%\n"
    }
   }
  },
  {
   "cell_type": "code",
   "execution_count": 82,
   "outputs": [
    {
     "data": {
      "text/plain": "(0.0, 600.0)"
     },
     "execution_count": 82,
     "metadata": {},
     "output_type": "execute_result"
    },
    {
     "data": {
      "text/plain": "<Figure size 432x288 with 1 Axes>",
      "image/png": "[encoded data removed]"
     },
     "metadata": {
      "needs_background": "light"
     },
     "output_type": "display_data"
    }
   ],
   "source": [
    "plt.hist(distancesDoubletsRandom[:,:,k].flatten(), bins = 200)\n",
    "plt.xlim(0,600)"
   ],
   "metadata": {
    "collapsed": false,
    "pycharm": {
     "name": "#%%\n"
    }
   }
  },
  {
   "cell_type": "code",
   "execution_count": null,
   "outputs": [],
   "source": [],
   "metadata": {
    "collapsed": false,
    "pycharm": {
     "name": "#%%\n"
    }
   }
  },
  {
   "cell_type": "code",
   "execution_count": 98,
   "outputs": [],
   "source": [
    "k = 5"
   ],
   "metadata": {
    "collapsed": false,
    "pycharm": {
     "name": "#%%\n"
    }
   }
  },
  {
   "cell_type": "code",
   "execution_count": 144,
   "outputs": [
    {
     "data": {
      "text/plain": "(0.0, 300.0)"
     },
     "execution_count": 144,
     "metadata": {},
     "output_type": "execute_result"
    },
    {
     "data": {
      "text/plain": "<Figure size 432x288 with 1 Axes>",
      "image/png": "[encoded data removed]"
     },
     "metadata": {
      "needs_background": "light"
     },
     "output_type": "display_data"
    }
   ],
   "source": [
    "plt.hist(distancesSingletonsReal[:,k])\n",
    "plt.xlim(0,300)"
   ],
   "metadata": {
    "collapsed": false,
    "pycharm": {
     "name": "#%%\n"
    }
   }
  },
  {
   "cell_type": "code",
   "execution_count": 130,
   "outputs": [
    {
     "data": {
      "text/plain": "(0.0, 850.0)"
     },
     "execution_count": 130,
     "metadata": {},
     "output_type": "execute_result"
    },
    {
     "data": {
      "text/plain": "<Figure size 432x288 with 1 Axes>",
      "image/png": "[encoded data removed]"
     },
     "metadata": {
      "needs_background": "light"
     },
     "output_type": "display_data"
    }
   ],
   "source": [
    "plt.hist(distancesSingletonsRandom[:,:,k].flatten(), bins = 200)\n",
    "plt.xlim(0,850)"
   ],
   "metadata": {
    "collapsed": false,
    "pycharm": {
     "name": "#%%\n"
    }
   }
  },
  {
   "cell_type": "code",
   "execution_count": 122,
   "outputs": [],
   "source": [
    "plt.hist(distancesSingletonsRandom[:,:,k].flatten(), bins = 200)\n",
    "plt.xlim(0,850)"
   ],
   "metadata": {
    "collapsed": false,
    "pycharm": {
     "name": "#%%\n"
    }
   }
  },
  {
   "cell_type": "code",
   "execution_count": 20,
   "outputs": [],
   "source": [
    "k=1"
   ],
   "metadata": {
    "collapsed": false,
    "pycharm": {
     "name": "#%%\n"
    }
   }
  },
  {
   "cell_type": "code",
   "execution_count": 24,
   "outputs": [
    {
     "data": {
      "text/plain": "<Figure size 432x288 with 1 Axes>",
      "image/png": "[encoded data removed]"
     },
     "metadata": {
      "needs_background": "light"
     },
     "output_type": "display_data"
    }
   ],
   "source": [
    "# Your code.\n",
    "n, bins, patches = plt.hist(distancesMarkedReal[:,k], 20, facecolor='blue', label=\"Real\", align='left', density=True)\n",
    "n, bins, patches = plt.hist(distancesMarkedRandom[:,:,k].flatten(), 20, facecolor='red',label=\"Random\",align='left',density=True)\n",
    "plt.xlabel('value')\n",
    "plt.ylabel('probability')\n",
    "plt.title('')\n",
    "plt.xlim(0,300)\n",
    "plt.ylim(0,0.04)\n",
    "#plt.legend()\n",
    "\n",
    "# My addition.\n",
    "import matplotlib.ticker as mtick\n",
    "def div_10(x, *args):\n",
    "    \"\"\"\n",
    "    The function that will you be applied to your y-axis ticks.\n",
    "    \"\"\"\n",
    "    x = float(x)*len(distancesHigherReal[:,k])\n",
    "    return \"{:.1f}\".format(x)\n",
    "# Apply to the major ticks of the y-axis the function that you defined.\n",
    "ax = plt.gca()\n",
    "#ax.yaxis.set_major_formatter(mtick.FuncFormatter(div_10))\n",
    "plt.show()"
   ],
   "metadata": {
    "collapsed": false,
    "pycharm": {
     "name": "#%%\n"
    }
   }
  },
  {
   "cell_type": "code",
   "execution_count": 53,
   "outputs": [
    {
     "data": {
      "text/plain": "(-4.0, 4.0)"
     },
     "execution_count": 53,
     "metadata": {},
     "output_type": "execute_result"
    },
    {
     "data": {
      "text/plain": "<Figure size 432x288 with 1 Axes>",
      "image/png": "[encoded data removed]"
     },
     "metadata": {
      "needs_background": "light"
     },
     "output_type": "display_data"
    }
   ],
   "source": [
    "k = 5\n",
    "plt.hist((distancesSingletonsReal[:,k]/np.mean(distancesSingletonsRandom[:,:,k].flatten())) -1, bins = 50)\n",
    "plt.xlim(-4,4)"
   ],
   "metadata": {
    "collapsed": false,
    "pycharm": {
     "name": "#%%\n"
    }
   }
  },
  {
   "cell_type": "code",
   "execution_count": 131,
   "outputs": [],
   "source": [
    "k = 5"
   ],
   "metadata": {
    "collapsed": false,
    "pycharm": {
     "name": "#%%\n"
    }
   }
  },
  {
   "cell_type": "code",
   "execution_count": 132,
   "outputs": [
    {
     "data": {
      "text/plain": "89.05835455535912"
     },
     "execution_count": 132,
     "metadata": {},
     "output_type": "execute_result"
    }
   ],
   "source": [
    "np.mean(distancesMarkedReal[:,k])"
   ],
   "metadata": {
    "collapsed": false,
    "pycharm": {
     "name": "#%%\n"
    }
   }
  },
  {
   "cell_type": "code",
   "execution_count": 133,
   "outputs": [
    {
     "data": {
      "text/plain": "96.93205847020234"
     },
     "execution_count": 133,
     "metadata": {},
     "output_type": "execute_result"
    }
   ],
   "source": [
    "np.mean(distancesMarkedRandom[:,:,k])"
   ],
   "metadata": {
    "collapsed": false,
    "pycharm": {
     "name": "#%%\n"
    }
   }
  },
  {
   "cell_type": "code",
   "execution_count": 134,
   "outputs": [
    {
     "data": {
      "text/plain": "114.15767189764152"
     },
     "execution_count": 134,
     "metadata": {},
     "output_type": "execute_result"
    }
   ],
   "source": [
    "np.mean(distancesSingletonsReal[:,k])"
   ],
   "metadata": {
    "collapsed": false,
    "pycharm": {
     "name": "#%%\n"
    }
   }
  },
  {
   "cell_type": "code",
   "execution_count": 135,
   "outputs": [
    {
     "data": {
      "text/plain": "123.2395873897276"
     },
     "execution_count": 135,
     "metadata": {},
     "output_type": "execute_result"
    }
   ],
   "source": [
    "np.mean(distancesSingletonsRandom[:,:,k])"
   ],
   "metadata": {
    "collapsed": false,
    "pycharm": {
     "name": "#%%\n"
    }
   }
  },
  {
   "cell_type": "code",
   "execution_count": 136,
   "outputs": [
    {
     "data": {
      "text/plain": "183.8761124595404"
     },
     "execution_count": 136,
     "metadata": {},
     "output_type": "execute_result"
    }
   ],
   "source": [
    "np.mean(distancesDoubletsReal[:,k])"
   ],
   "metadata": {
    "collapsed": false,
    "pycharm": {
     "name": "#%%\n"
    }
   }
  },
  {
   "cell_type": "code",
   "execution_count": 137,
   "outputs": [
    {
     "data": {
      "text/plain": "203.32167909713993"
     },
     "execution_count": 137,
     "metadata": {},
     "output_type": "execute_result"
    }
   ],
   "source": [
    "np.mean(distancesDoubletsRandom[:,:,k].flatten())"
   ],
   "metadata": {
    "collapsed": false,
    "pycharm": {
     "name": "#%%\n"
    }
   }
  },
  {
   "cell_type": "code",
   "execution_count": 138,
   "outputs": [
    {
     "data": {
      "text/plain": "340.67756213700335"
     },
     "execution_count": 138,
     "metadata": {},
     "output_type": "execute_result"
    }
   ],
   "source": [
    "np.mean(distancesHigherReal[:,k])"
   ],
   "metadata": {
    "collapsed": false,
    "pycharm": {
     "name": "#%%\n"
    }
   }
  },
  {
   "cell_type": "code",
   "execution_count": 139,
   "outputs": [
    {
     "data": {
      "text/plain": "317.34342010977736"
     },
     "execution_count": 139,
     "metadata": {},
     "output_type": "execute_result"
    }
   ],
   "source": [
    "np.mean(distancesHigherRandom[:,:,k].flatten())"
   ],
   "metadata": {
    "collapsed": false,
    "pycharm": {
     "name": "#%%\n"
    }
   }
  },
  {
   "cell_type": "code",
   "execution_count": null,
   "outputs": [],
   "source": [],
   "metadata": {
    "collapsed": false,
    "pycharm": {
     "name": "#%%\n"
    }
   }
  },
  {
   "cell_type": "code",
   "execution_count": 187,
   "outputs": [
    {
     "data": {
      "text/plain": "119.86272120187259"
     },
     "execution_count": 187,
     "metadata": {},
     "output_type": "execute_result"
    }
   ],
   "source": [],
   "metadata": {
    "collapsed": false,
    "pycharm": {
     "name": "#%%\n"
    }
   }
  },
  {
   "cell_type": "code",
   "execution_count": 54,
   "outputs": [],
   "source": [
    "# positive cells"
   ],
   "metadata": {
    "collapsed": false,
    "pycharm": {
     "name": "#%%\n"
    }
   }
  },
  {
   "cell_type": "code",
   "execution_count": 54,
   "outputs": [],
   "source": [
    "markedArray\n",
    "singletonsArray = np.asarray(singletons)\n",
    "doubletsArray = np.asarray(doublets)\n",
    "higherArray = np.asarray(higher)"
   ],
   "metadata": {
    "collapsed": false,
    "pycharm": {
     "name": "#%%\n"
    }
   }
  },
  {
   "cell_type": "code",
   "execution_count": 56,
   "outputs": [
    {
     "data": {
      "text/plain": "508"
     },
     "execution_count": 56,
     "metadata": {},
     "output_type": "execute_result"
    }
   ],
   "source": [
    "len(singletonsArray) + len(doubletsArray) + len(higherArray)"
   ],
   "metadata": {
    "collapsed": false,
    "pycharm": {
     "name": "#%%\n"
    }
   }
  },
  {
   "cell_type": "code",
   "execution_count": 57,
   "outputs": [
    {
     "data": {
      "text/plain": "508"
     },
     "execution_count": 57,
     "metadata": {},
     "output_type": "execute_result"
    }
   ],
   "source": [
    "len(markedArray)"
   ],
   "metadata": {
    "collapsed": false,
    "pycharm": {
     "name": "#%%\n"
    }
   }
  },
  {
   "cell_type": "code",
   "execution_count": 59,
   "outputs": [
    {
     "data": {
      "text/plain": "0.5019685039370079"
     },
     "execution_count": 59,
     "metadata": {},
     "output_type": "execute_result"
    }
   ],
   "source": [
    "# divided clusters\n",
    "1-(len(singletonsArray)/len(markedArray))"
   ],
   "metadata": {
    "collapsed": false,
    "pycharm": {
     "name": "#%%\n"
    }
   }
  },
  {
   "cell_type": "code",
   "execution_count": 68,
   "outputs": [],
   "source": [
    "\n",
    "nucNumber = len(np.unique(nucImage))\n",
    "positiveCells, dividedCells = 0, 0\n",
    "for i in range(len(markedArray)):\n",
    "    positiveCells += len(markedArray[i])\n",
    "    dividedCells += (len(markedArray[i]) - 1)"
   ],
   "metadata": {
    "collapsed": false,
    "pycharm": {
     "name": "#%%\n"
    }
   }
  },
  {
   "cell_type": "code",
   "execution_count": 72,
   "outputs": [
    {
     "data": {
      "text/plain": "0.05893955215222184"
     },
     "execution_count": 72,
     "metadata": {},
     "output_type": "execute_result"
    }
   ],
   "source": [
    "# positive cells\n",
    "positiveCells/nucNumber"
   ],
   "metadata": {
    "collapsed": false,
    "pycharm": {
     "name": "#%%\n"
    }
   }
  },
  {
   "cell_type": "code",
   "execution_count": 74,
   "outputs": [
    {
     "data": {
      "text/plain": "0.5"
     },
     "execution_count": 74,
     "metadata": {},
     "output_type": "execute_result"
    }
   ],
   "source": [
    "# divided cells\n",
    "dividedCells/positiveCells"
   ],
   "metadata": {
    "collapsed": false,
    "pycharm": {
     "name": "#%%\n"
    }
   }
  },
  {
   "cell_type": "code",
   "execution_count": null,
   "outputs": [],
   "source": [],
   "metadata": {
    "collapsed": false,
    "pycharm": {
     "name": "#%%\n"
    }
   }
  }
 ],
 "metadata": {
  "kernelspec": {
   "name": "luisaproject",
   "language": "python",
   "display_name": "LuisaProject"
  },
  "language_info": {
   "codemirror_mode": {
    "name": "ipython",
    "version": 2
   },
   "file_extension": ".py",
   "mimetype": "text/x-python",
   "name": "python",
   "nbconvert_exporter": "python",
   "pygments_lexer": "ipython2",
   "version": "2.7.6"
  }
 },
 "nbformat": 4,
 "nbformat_minor": 0
}
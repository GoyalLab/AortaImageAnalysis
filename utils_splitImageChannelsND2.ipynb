{
 "cells": [
  {
   "cell_type": "code",
   "execution_count": 10,
   "outputs": [],
   "source": [
    "import numpy as np\n",
    "import nd2\n",
    "import matplotlib.pyplot as plt\n",
    "from libtiff import TIFF\n",
    "import os\n",
    "from os import listdir\n",
    "from os.path import isfile, join"
   ],
   "metadata": {
    "collapsed": false,
    "pycharm": {
     "name": "#%%\n"
    }
   }
  },
  {
   "cell_type": "code",
   "execution_count": 6,
   "outputs": [],
   "source": [
    "imagePath = \"/Volumes/Aortas/Aorta/rawImage/cellSize/tiles/P50/aorta05\"\n",
    "savePath = \"/Volumes/Aortas/Aorta/preprocessedImages/cellSize/tiled\""
   ],
   "metadata": {
    "collapsed": false,
    "pycharm": {
     "name": "#%%\n"
    }
   }
  },
  {
   "cell_type": "code",
   "execution_count": 7,
   "outputs": [],
   "source": [
    "folders = [x[0] for x in os.walk(imagePath)]\n",
    "folders = sorted(folders)"
   ],
   "metadata": {
    "collapsed": false,
    "pycharm": {
     "name": "#%%\n"
    }
   }
  },
  {
   "cell_type": "code",
   "execution_count": 8,
   "outputs": [
    {
     "data": {
      "text/plain": "['/Volumes/Aortas/Aorta/rawImage/cellSize/tiles/P50/aorta05']"
     },
     "execution_count": 8,
     "metadata": {},
     "output_type": "execute_result"
    }
   ],
   "source": [
    "folders"
   ],
   "metadata": {
    "collapsed": false,
    "pycharm": {
     "name": "#%%\n"
    }
   }
  },
  {
   "cell_type": "code",
   "execution_count": 5,
   "outputs": [],
   "source": [
    "#cell size stitched max-IP, crop\n",
    "\n",
    "for folder in folders:\n",
    "    os.chdir(folder)\n",
    "    files = [f for f in listdir(folder) if isfile(join(folder, f)) if \".DS_Store\" not in f if \".nd2\" in f if \"._\" not in f]\n",
    "    for file in files:\n",
    "        aorta = folder.split(\"/\")[-1]\n",
    "        age = folder.split(\"/\")[-2]\n",
    "        image = nd2.imread(join(folder, file))\n",
    "        nucleusImage = image[0]\n",
    "        cellSizeImage = image[1]\n",
    "        imageNameNucleus = \"cellSizeImage_\" + age + \"_\" + aorta + \"_nuclei.tif\"\n",
    "        imageNameCellSize = \"cellSizeImage_\" + age + \"_\" + aorta + \"_cellSize.tif\"\n",
    "\n",
    "        type = \"cellSize\"\n",
    "\n",
    "        os.chdir(join(savePath, type))\n",
    "        if not os.path.exists(join(savePath, type, age)):\n",
    "            os.mkdir(age)\n",
    "        os.chdir(join(savePath, type, age))\n",
    "        if not os.path.exists(join(savePath, type, age, aorta)):\n",
    "            os.mkdir(aorta)\n",
    "        os.chdir(join(savePath, type, age, aorta))\n",
    "        cellSize = TIFF.open(join(savePath, type, age, aorta, imageNameCellSize), mode='w')\n",
    "        cellSize.write_image(cellSizeImage)\n",
    "        cellSize.close()\n",
    "\n",
    "        type = \"nuclei\"\n",
    "\n",
    "        os.chdir(join(savePath, type))\n",
    "        if not os.path.exists(join(savePath, type, age)):\n",
    "            os.mkdir(age)\n",
    "        os.chdir(join(savePath, type, age))\n",
    "        if not os.path.exists(join(savePath,type , age, aorta)):\n",
    "            os.mkdir(aorta)\n",
    "        os.chdir(join(savePath, type, age, aorta))\n",
    "        cellSize = TIFF.open(join(savePath, type, age, aorta, imageNameNucleus), mode='w')\n",
    "        cellSize.write_image(nucleusImage)\n",
    "        cellSize.close()"
   ],
   "metadata": {
    "collapsed": false,
    "pycharm": {
     "name": "#%%\n"
    }
   }
  },
  {
   "cell_type": "code",
   "execution_count": 23,
   "outputs": [],
   "source": [
    "''#cell size max-IP"
   ],
   "metadata": {
    "collapsed": false,
    "pycharm": {
     "name": "#%%\n"
    }
   }
  },
  {
   "cell_type": "code",
   "execution_count": 9,
   "outputs": [],
   "source": [
    "for folder in folders:\n",
    "    os.chdir(folder)\n",
    "    files = [f for f in listdir(folder) if isfile(join(folder, f)) if \".DS_Store\" not in f if \".nd2\" in f if \"._\" not in f]\n",
    "    for file in files:\n",
    "        aorta = folder.split(\"/\")[-1]\n",
    "        age = folder.split(\"/\")[-2]\n",
    "        image = nd2.imread(join(folder, file))\n",
    "        for i in range(len(image)):\n",
    "            nucleusImage = image[i,0]\n",
    "            cellSizeImage = image[i,1]\n",
    "            imageNameNucleus = \"cellSizeImage_\" + age + \"_\" + aorta + \"_nuclei\" + str(i) + \".tif\"\n",
    "            imageNameCellSize = \"cellSizeImage_\" + age + \"_\" + aorta + \"_cellSize\" + str(i) + \".tif\"\n",
    "\n",
    "            type = \"tiledCellSize\"\n",
    "\n",
    "            os.chdir(join(savePath, type))\n",
    "            if not os.path.exists(join(savePath, type, age)):\n",
    "                os.mkdir(age)\n",
    "            os.chdir(join(savePath, type, age))\n",
    "            if not os.path.exists(join(savePath, type, age, aorta)):\n",
    "                os.mkdir(aorta)\n",
    "            os.chdir(join(savePath, type, age, aorta))\n",
    "            cellSize = TIFF.open(join(savePath, type, age, aorta, imageNameCellSize), mode='w')\n",
    "            cellSize.write_image(cellSizeImage)\n",
    "            cellSize.close()\n",
    "\n",
    "            type = \"tiledNuclei\"\n",
    "\n",
    "            os.chdir(join(savePath, type))\n",
    "            if not os.path.exists(join(savePath, type, age)):\n",
    "                os.mkdir(age)\n",
    "            os.chdir(join(savePath, type, age))\n",
    "            if not os.path.exists(join(savePath,type , age, aorta)):\n",
    "                os.mkdir(aorta)\n",
    "            os.chdir(join(savePath, type, age, aorta))\n",
    "            cellSize = TIFF.open(join(savePath, type, age, aorta, imageNameNucleus), mode='w')\n",
    "            cellSize.write_image(nucleusImage)\n",
    "            cellSize.close()"
   ],
   "metadata": {
    "collapsed": false,
    "pycharm": {
     "name": "#%%\n"
    }
   }
  },
  {
   "cell_type": "code",
   "execution_count": null,
   "outputs": [],
   "source": [
    "#KI67 stitched max-IP"
   ],
   "metadata": {
    "collapsed": false,
    "pycharm": {
     "name": "#%%\n"
    }
   }
  },
  {
   "cell_type": "code",
   "execution_count": null,
   "outputs": [],
   "source": [
    "#KI67 max-IP"
   ],
   "metadata": {
    "collapsed": false,
    "pycharm": {
     "name": "#%%\n"
    }
   }
  },
  {
   "cell_type": "code",
   "execution_count": null,
   "outputs": [],
   "source": [
    "image = nd2.imread(join(folder, file))"
   ],
   "metadata": {
    "collapsed": false,
    "pycharm": {
     "name": "#%%\n"
    }
   }
  },
  {
   "cell_type": "code",
   "execution_count": null,
   "outputs": [],
   "source": [],
   "metadata": {
    "collapsed": false,
    "pycharm": {
     "name": "#%%\n"
    }
   }
  },
  {
   "cell_type": "code",
   "execution_count": null,
   "outputs": [],
   "source": [],
   "metadata": {
    "collapsed": false,
    "pycharm": {
     "name": "#%%\n"
    }
   }
  },
  {
   "cell_type": "code",
   "execution_count": null,
   "outputs": [],
   "source": [],
   "metadata": {
    "collapsed": false,
    "pycharm": {
     "name": "#%%\n"
    }
   }
  },
  {
   "cell_type": "code",
   "execution_count": null,
   "outputs": [],
   "source": [],
   "metadata": {
    "collapsed": false,
    "pycharm": {
     "name": "#%%\n"
    }
   }
  },
  {
   "cell_type": "code",
   "execution_count": null,
   "outputs": [],
   "source": [],
   "metadata": {
    "collapsed": false,
    "pycharm": {
     "name": "#%%\n"
    }
   }
  },
  {
   "cell_type": "code",
   "execution_count": 13,
   "outputs": [],
   "source": [
    "image = nd2.imread(\"/Volumes/Aortas/Aorta/rawImage/cellSize/Cell Size-crop1-8/P3/aorta01/221212_P3 aorta 1_cell size_PECAM ERG - Stitched-MaxIP_crop1-8.nd2\")"
   ],
   "metadata": {
    "collapsed": false,
    "pycharm": {
     "name": "#%%\n"
    }
   }
  },
  {
   "cell_type": "code",
   "execution_count": 14,
   "outputs": [
    {
     "data": {
      "text/plain": "2"
     },
     "execution_count": 14,
     "metadata": {},
     "output_type": "execute_result"
    }
   ],
   "source": [
    "len(image)"
   ],
   "metadata": {
    "collapsed": false,
    "pycharm": {
     "name": "#%%\n"
    }
   }
  },
  {
   "cell_type": "code",
   "execution_count": 19,
   "outputs": [
    {
     "data": {
      "text/plain": "<matplotlib.image.AxesImage at 0x7fce818dfee0>"
     },
     "execution_count": 19,
     "metadata": {},
     "output_type": "execute_result"
    },
    {
     "data": {
      "text/plain": "<Figure size 432x288 with 1 Axes>",
      "image/png": "[encoded data removed]"
     },
     "metadata": {
      "needs_background": "light"
     },
     "output_type": "display_data"
    }
   ],
   "source": [
    "plt.imshow(image[1], cmap=\"gray\")"
   ],
   "metadata": {
    "collapsed": false,
    "pycharm": {
     "name": "#%%\n"
    }
   }
  },
  {
   "cell_type": "code",
   "execution_count": null,
   "outputs": [],
   "source": [
    "os.chdir(savePath)\n",
    "if not os.path.exists(join(savePath, age)):\n",
    "    os.mkdir(age)\n",
    "os.chdir(join(savePath, age))\n",
    "if not os.path.exists(join(savePath, age, aorta)):\n",
    "    os.mkdir(aorta)\n",
    "os.chdir(join(savePath,age, aorta))\n",
    "if not os.path.exists(join(savePath, age, aorta, diamName)):\n",
    "    os.mkdir(diamName)\n",
    "os.chdir(join(savePath,age, aorta, diamName))"
   ],
   "metadata": {
    "collapsed": false,
    "pycharm": {
     "name": "#%%\n"
    }
   }
  },
  {
   "cell_type": "code",
   "execution_count": 13,
   "outputs": [
    {
     "data": {
      "text/plain": "<matplotlib.image.AxesImage at 0x7f9e597d92e0>"
     },
     "execution_count": 13,
     "metadata": {},
     "output_type": "execute_result"
    },
    {
     "data": {
      "text/plain": "<Figure size 432x288 with 1 Axes>",
      "image/png": "[encoded data removed]"
     },
     "metadata": {
      "needs_background": "light"
     },
     "output_type": "display_data"
    }
   ],
   "source": [
    "plt.imshow(image[9,1], cmap=\"gray\")"
   ],
   "metadata": {
    "collapsed": false,
    "pycharm": {
     "name": "#%%\n"
    }
   }
  },
  {
   "cell_type": "code",
   "execution_count": 14,
   "outputs": [],
   "source": [],
   "metadata": {
    "collapsed": false,
    "pycharm": {
     "name": "#%%\n"
    }
   }
  },
  {
   "cell_type": "code",
   "execution_count": 15,
   "outputs": [],
   "source": [
    "tiff = TIFF.open('/Users/jones/Downloads/nucleiTest.tiff', mode='w')\n",
    "tiff.write_image(image[9,1])\n",
    "tiff.close()"
   ],
   "metadata": {
    "collapsed": false,
    "pycharm": {
     "name": "#%%\n"
    }
   }
  },
  {
   "cell_type": "code",
   "execution_count": null,
   "outputs": [],
   "source": [
    "readTest ="
   ],
   "metadata": {
    "collapsed": false,
    "pycharm": {
     "name": "#%%\n"
    }
   }
  },
  {
   "cell_type": "code",
   "execution_count": 17,
   "outputs": [
    {
     "data": {
      "text/plain": "dtype('uint16')"
     },
     "execution_count": 17,
     "metadata": {},
     "output_type": "execute_result"
    }
   ],
   "source": [
    "tiff = TIFF.open(\"/Users/jones/Downloads/nucleiTest.tiff\", mode='r')\n",
    "ar = tiff.read_image()\n",
    "tiff.close()\n",
    "ar.dtype\n"
   ],
   "metadata": {
    "collapsed": false,
    "pycharm": {
     "name": "#%%\n"
    }
   }
  },
  {
   "cell_type": "code",
   "execution_count": 18,
   "outputs": [
    {
     "data": {
      "text/plain": "4095"
     },
     "execution_count": 18,
     "metadata": {},
     "output_type": "execute_result"
    }
   ],
   "source": [
    "np.max(ar)"
   ],
   "metadata": {
    "collapsed": false,
    "pycharm": {
     "name": "#%%\n"
    }
   }
  },
  {
   "cell_type": "code",
   "execution_count": null,
   "outputs": [],
   "source": [
    "for i in range(len(image)):\n",
    "    image[i, 0] = nucleiImage\n"
   ],
   "metadata": {
    "collapsed": false,
    "pycharm": {
     "name": "#%%\n"
    }
   }
  }
 ],
 "metadata": {
  "kernelspec": {
   "name": "luisaproject",
   "language": "python",
   "display_name": "LuisaProject"
  },
  "language_info": {
   "codemirror_mode": {
    "name": "ipython",
    "version": 2
   },
   "file_extension": ".py",
   "mimetype": "text/x-python",
   "name": "python",
   "nbconvert_exporter": "python",
   "pygments_lexer": "ipython2",
   "version": "2.7.6"
  }
 },
 "nbformat": 4,
 "nbformat_minor": 0
}
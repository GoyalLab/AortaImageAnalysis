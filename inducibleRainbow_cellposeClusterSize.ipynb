{
 "cells": [
  {
   "cell_type": "code",
   "execution_count": 1,
   "outputs": [],
   "source": [
    "import numpy as np\n",
    "from os.path import join\n",
    "import pandas as pd\n",
    "from skimage.measure import regionprops_table\n",
    "import matplotlib.pyplot as plt\n",
    "from utils.nucStitch import fullNucImage16"
   ],
   "metadata": {
    "collapsed": false,
    "pycharm": {
     "name": "#%%\n"
    }
   }
  },
  {
   "cell_type": "code",
   "execution_count": 23,
   "outputs": [],
   "source": [
    "segmentationPath = \"/Volumes/Aortas/Aorta/segmentations/inducedRainbow/old/red/5-60/aorta08/cellposeSegm_RedP5-60_aorta08_50Thres_final_seg.npy\"\n",
    "nucleiPath = \"/Volumes/Aortas/Aorta/segmentations/inducedRainbow/final/nuclei/5-60/aorta08\""
   ],
   "metadata": {
    "collapsed": false,
    "pycharm": {
     "name": "#%%\n"
    }
   }
  },
  {
   "cell_type": "code",
   "execution_count": 24,
   "outputs": [],
   "source": [
    "df = pd.DataFrame()\n",
    "nuclei = np.load(join(nucleiPath, \"Cropped_IMG-1_seg.npy\"), allow_pickle=True).item()['masks']\n",
    "yLength = nuclei.shape[0]\n",
    "xLength = nuclei.shape[1]\n",
    "for i in range(16):\n",
    "    number = i+1\n",
    "    nuclei = np.load(join(nucleiPath, \"Cropped_IMG-\" + str(number) + '_seg.npy'), allow_pickle=True).item()['masks']\n",
    "    row = int(i/4) + 1\n",
    "    column  = (i%4) + 1\n",
    "    prop_dict = regionprops_table(nuclei, properties = ('label', 'centroid'))\n",
    "    df_help = pd.DataFrame(prop_dict)\n",
    "    df_help['picture_id'] = number\n",
    "    df_help['yCoord'] = df_help['centroid-0']*row\n",
    "    df_help['xCoord'] = df_help['centroid-1']*column\n",
    "    #df = df.append(df_help, ignore_index=True)\n",
    "    df = pd.concat([df, df_help], axis=0)\n",
    "\n",
    "nucImage = fullNucImage16(nucleiPath)"
   ],
   "metadata": {
    "collapsed": false,
    "pycharm": {
     "name": "#%%\n"
    }
   }
  },
  {
   "cell_type": "code",
   "execution_count": 26,
   "outputs": [],
   "source": [
    "masks = np.load(segmentationPath, allow_pickle=True).item()['masks']"
   ],
   "metadata": {
    "collapsed": false,
    "pycharm": {
     "name": "#%%\n"
    }
   }
  },
  {
   "cell_type": "code",
   "execution_count": 27,
   "outputs": [],
   "source": [
    "accuracy_value = 0.8\n",
    "clusters = list()\n",
    "dic = {}\n",
    "dicNot = list()\n",
    "for mask in np.unique(masks):\n",
    "    if mask != 0:\n",
    "        cluster = list()\n",
    "        coord = np.where(masks == mask)\n",
    "        segmentationNuc = np.unique(nucImage[coord])\n",
    "        for j in segmentationNuc:\n",
    "            if j != 0:\n",
    "                #occurence of nucleus pixel in\n",
    "                nucOccur = np.bincount(nucImage[coord])[j]\n",
    "                #How many pixels does this nucleus have:\n",
    "                coordLen = len(np.where(nucImage == j)[0])\n",
    "                #check if most of nuclei values are in segmentation\n",
    "                if(nucOccur >= accuracy_value*coordLen):\n",
    "                    cluster.append(j)\n",
    "        if cluster:\n",
    "            dic[mask] = cluster\n",
    "            clusters.append(cluster)\n",
    "        else:\n",
    "            dicNot.append(mask)"
   ],
   "metadata": {
    "collapsed": false,
    "pycharm": {
     "name": "#%%\n"
    }
   }
  },
  {
   "cell_type": "code",
   "execution_count": 28,
   "outputs": [],
   "source": [
    "clusterSizes = []\n",
    "for key in dic:\n",
    "    clusterSizes.append(len(dic[key]))"
   ],
   "metadata": {
    "collapsed": false,
    "pycharm": {
     "name": "#%%\n"
    }
   }
  },
  {
   "cell_type": "code",
   "execution_count": 29,
   "outputs": [
    {
     "data": {
      "text/plain": "11"
     },
     "execution_count": 29,
     "metadata": {},
     "output_type": "execute_result"
    }
   ],
   "source": [
    "np.max(clusterSizes)"
   ],
   "metadata": {
    "collapsed": false,
    "pycharm": {
     "name": "#%%\n"
    }
   }
  },
  {
   "cell_type": "code",
   "execution_count": 36,
   "outputs": [],
   "source": [
    "resultdic = {\"age\": segmentationPath.split(\"/\")[-3], \"aorta\": segmentationPath.split(\"/\")[-2]}\n",
    "unique, counts = np.unique(clusterSizes, return_counts=True)\n",
    "for i in range(1,18):\n",
    "    if i in unique:\n",
    "        resultdic[i] = counts[np.where(unique==i)][0]\n",
    "    else:\n",
    "        resultdic[i] = 0"
   ],
   "metadata": {
    "collapsed": false,
    "pycharm": {
     "name": "#%%\n"
    }
   }
  },
  {
   "cell_type": "code",
   "execution_count": 37,
   "outputs": [],
   "source": [
    "dfHelp = pd.DataFrame(resultdic, index = [0])"
   ],
   "metadata": {
    "collapsed": false,
    "pycharm": {
     "name": "#%%\n"
    }
   }
  },
  {
   "cell_type": "code",
   "execution_count": 38,
   "outputs": [
    {
     "data": {
      "text/plain": "    age    aorta    1    2   3   4  5  6  7  8  9  10  11  12  13  14  15  16  \\\n0  5-60  aorta08  226  125  35  16  7  4  1  0  1   0   1   0   0   0   0   0   \n\n   17  \n0   0  ",
      "text/html": "<div>\n<style scoped>\n    .dataframe tbody tr th:only-of-type {\n        vertical-align: middle;\n    }\n\n    .dataframe tbody tr th {\n        vertical-align: top;\n    }\n\n    .dataframe thead th {\n        text-align: right;\n    }\n</style>\n<table border=\"1\" class=\"dataframe\">\n  <thead>\n    <tr style=\"text-align: right;\">\n      <th></th>\n      <th>age</th>\n      <th>aorta</th>\n      <th>1</th>\n      <th>2</th>\n      <th>3</th>\n      <th>4</th>\n      <th>5</th>\n      <th>6</th>\n      <th>7</th>\n      <th>8</th>\n      <th>9</th>\n      <th>10</th>\n      <th>11</th>\n      <th>12</th>\n      <th>13</th>\n      <th>14</th>\n      <th>15</th>\n      <th>16</th>\n      <th>17</th>\n    </tr>\n  </thead>\n  <tbody>\n    <tr>\n      <th>0</th>\n      <td>5-60</td>\n      <td>aorta08</td>\n      <td>226</td>\n      <td>125</td>\n      <td>35</td>\n      <td>16</td>\n      <td>7</td>\n      <td>4</td>\n      <td>1</td>\n      <td>0</td>\n      <td>1</td>\n      <td>0</td>\n      <td>1</td>\n      <td>0</td>\n      <td>0</td>\n      <td>0</td>\n      <td>0</td>\n      <td>0</td>\n      <td>0</td>\n    </tr>\n  </tbody>\n</table>\n</div>"
     },
     "execution_count": 38,
     "metadata": {},
     "output_type": "execute_result"
    }
   ],
   "source": [
    "dfHelp"
   ],
   "metadata": {
    "collapsed": false,
    "pycharm": {
     "name": "#%%\n"
    }
   }
  },
  {
   "cell_type": "code",
   "execution_count": 33,
   "outputs": [],
   "source": [
    "dfHelp[1] = dfHelp[1][0] + len(dicNot)"
   ],
   "metadata": {
    "collapsed": false,
    "pycharm": {
     "name": "#%%\n"
    }
   }
  },
  {
   "cell_type": "code",
   "execution_count": 34,
   "outputs": [
    {
     "data": {
      "text/plain": "    age    aorta    1    2   3   4  5  6  7  8  9  10  11  12  13  14  15  16  \\\n0  5-60  aorta08  337  125  35  16  7  4  1  0  1   0   1   0   0   0   0   0   \n\n   17  \n0   0  ",
      "text/html": "<div>\n<style scoped>\n    .dataframe tbody tr th:only-of-type {\n        vertical-align: middle;\n    }\n\n    .dataframe tbody tr th {\n        vertical-align: top;\n    }\n\n    .dataframe thead th {\n        text-align: right;\n    }\n</style>\n<table border=\"1\" class=\"dataframe\">\n  <thead>\n    <tr style=\"text-align: right;\">\n      <th></th>\n      <th>age</th>\n      <th>aorta</th>\n      <th>1</th>\n      <th>2</th>\n      <th>3</th>\n      <th>4</th>\n      <th>5</th>\n      <th>6</th>\n      <th>7</th>\n      <th>8</th>\n      <th>9</th>\n      <th>10</th>\n      <th>11</th>\n      <th>12</th>\n      <th>13</th>\n      <th>14</th>\n      <th>15</th>\n      <th>16</th>\n      <th>17</th>\n    </tr>\n  </thead>\n  <tbody>\n    <tr>\n      <th>0</th>\n      <td>5-60</td>\n      <td>aorta08</td>\n      <td>337</td>\n      <td>125</td>\n      <td>35</td>\n      <td>16</td>\n      <td>7</td>\n      <td>4</td>\n      <td>1</td>\n      <td>0</td>\n      <td>1</td>\n      <td>0</td>\n      <td>1</td>\n      <td>0</td>\n      <td>0</td>\n      <td>0</td>\n      <td>0</td>\n      <td>0</td>\n      <td>0</td>\n    </tr>\n  </tbody>\n</table>\n</div>"
     },
     "execution_count": 34,
     "metadata": {},
     "output_type": "execute_result"
    }
   ],
   "source": [
    "dfHelp"
   ],
   "metadata": {
    "collapsed": false,
    "pycharm": {
     "name": "#%%\n"
    }
   }
  },
  {
   "cell_type": "code",
   "execution_count": 39,
   "outputs": [
    {
     "data": {
      "text/plain": "    age    aorta    1    2   3   4  5  6  7  8  9  10  11  12  13  14  15  16  \\\n0  5-60  aorta07  147   73  15   7  2  1  0  1  1   0   0   0   0   0   0   0   \n0  5-60  aorta08  226  125  35  16  7  4  1  0  1   0   1   0   0   0   0   0   \n\n   17  \n0   0  \n0   0  ",
      "text/html": "<div>\n<style scoped>\n    .dataframe tbody tr th:only-of-type {\n        vertical-align: middle;\n    }\n\n    .dataframe tbody tr th {\n        vertical-align: top;\n    }\n\n    .dataframe thead th {\n        text-align: right;\n    }\n</style>\n<table border=\"1\" class=\"dataframe\">\n  <thead>\n    <tr style=\"text-align: right;\">\n      <th></th>\n      <th>age</th>\n      <th>aorta</th>\n      <th>1</th>\n      <th>2</th>\n      <th>3</th>\n      <th>4</th>\n      <th>5</th>\n      <th>6</th>\n      <th>7</th>\n      <th>8</th>\n      <th>9</th>\n      <th>10</th>\n      <th>11</th>\n      <th>12</th>\n      <th>13</th>\n      <th>14</th>\n      <th>15</th>\n      <th>16</th>\n      <th>17</th>\n    </tr>\n  </thead>\n  <tbody>\n    <tr>\n      <th>0</th>\n      <td>5-60</td>\n      <td>aorta07</td>\n      <td>147</td>\n      <td>73</td>\n      <td>15</td>\n      <td>7</td>\n      <td>2</td>\n      <td>1</td>\n      <td>0</td>\n      <td>1</td>\n      <td>1</td>\n      <td>0</td>\n      <td>0</td>\n      <td>0</td>\n      <td>0</td>\n      <td>0</td>\n      <td>0</td>\n      <td>0</td>\n      <td>0</td>\n    </tr>\n    <tr>\n      <th>0</th>\n      <td>5-60</td>\n      <td>aorta08</td>\n      <td>226</td>\n      <td>125</td>\n      <td>35</td>\n      <td>16</td>\n      <td>7</td>\n      <td>4</td>\n      <td>1</td>\n      <td>0</td>\n      <td>1</td>\n      <td>0</td>\n      <td>1</td>\n      <td>0</td>\n      <td>0</td>\n      <td>0</td>\n      <td>0</td>\n      <td>0</td>\n      <td>0</td>\n    </tr>\n  </tbody>\n</table>\n</div>"
     },
     "execution_count": 39,
     "metadata": {},
     "output_type": "execute_result"
    }
   ],
   "source": [
    "dfResult = pd.concat([dfResult, dfHelp])\n",
    "dfResult"
   ],
   "metadata": {
    "collapsed": false,
    "pycharm": {
     "name": "#%%\n"
    }
   }
  },
  {
   "cell_type": "code",
   "execution_count": 40,
   "outputs": [],
   "source": [
    "dfResult.to_csv(\"/Volumes/Aortas/Aorta/results/inducedRainbow/clusterSizes/5-60/red/clusterSizeRedP5-60_redCellposeA7-8.csv\")"
   ],
   "metadata": {
    "collapsed": false,
    "pycharm": {
     "name": "#%%\n"
    }
   }
  },
  {
   "cell_type": "code",
   "execution_count": 21,
   "outputs": [],
   "source": [
    "dfResult = pd.DataFrame()"
   ],
   "metadata": {
    "collapsed": false,
    "pycharm": {
     "name": "#%%\n"
    }
   }
  },
  {
   "cell_type": "code",
   "execution_count": 35,
   "outputs": [
    {
     "data": {
      "text/plain": "111"
     },
     "execution_count": 35,
     "metadata": {},
     "output_type": "execute_result"
    }
   ],
   "source": [
    "len(dicNot)"
   ],
   "metadata": {
    "collapsed": false,
    "pycharm": {
     "name": "#%%\n"
    }
   }
  },
  {
   "cell_type": "code",
   "execution_count": 20,
   "outputs": [
    {
     "name": "stdout",
     "output_type": "stream",
     "text": [
      "yes\n"
     ]
    }
   ],
   "source": [
    "i = 1\n",
    "if i in unique:\n",
    "    print(\"yes\")"
   ],
   "metadata": {
    "collapsed": false,
    "pycharm": {
     "name": "#%%\n"
    }
   }
  },
  {
   "cell_type": "code",
   "execution_count": 26,
   "outputs": [
    {
     "data": {
      "text/plain": "313"
     },
     "execution_count": 26,
     "metadata": {},
     "output_type": "execute_result"
    }
   ],
   "source": [
    "counts[np.where(unique==i)][0]"
   ],
   "metadata": {
    "collapsed": false,
    "pycharm": {
     "name": "#%%\n"
    }
   }
  },
  {
   "cell_type": "code",
   "execution_count": 11,
   "outputs": [
    {
     "data": {
      "text/plain": "'0-5'"
     },
     "execution_count": 11,
     "metadata": {},
     "output_type": "execute_result"
    }
   ],
   "source": [
    "segmentationPath.split(\"/\")[-3]"
   ],
   "metadata": {
    "collapsed": false,
    "pycharm": {
     "name": "#%%\n"
    }
   }
  },
  {
   "cell_type": "code",
   "execution_count": 56,
   "outputs": [
    {
     "data": {
      "text/plain": "(array([313.,  87.,  27.,  13.,   8.,   3.,   2.,   0.,   0.]),\n array([0.5, 1.5, 2.5, 3.5, 4.5, 5.5, 6.5, 7.5, 8.5, 9.5]),\n <BarContainer object of 9 artists>)"
     },
     "execution_count": 56,
     "metadata": {},
     "output_type": "execute_result"
    },
    {
     "data": {
      "text/plain": "<Figure size 432x288 with 1 Axes>",
      "image/png": "[encoded data removed]"
     },
     "metadata": {
      "needs_background": "light"
     },
     "output_type": "display_data"
    }
   ],
   "source": [
    "plt.hist(clusterSizes, bins = [0.5, 1.5, 2.5, 3.5,4.5, 5.5, 6.5, 7.5, 8.5, 9.5])"
   ],
   "metadata": {
    "collapsed": false,
    "pycharm": {
     "name": "#%%\n"
    }
   }
  },
  {
   "cell_type": "code",
   "execution_count": null,
   "outputs": [],
   "source": [],
   "metadata": {
    "collapsed": false,
    "pycharm": {
     "name": "#%%\n"
    }
   }
  },
  {
   "cell_type": "code",
   "execution_count": 58,
   "outputs": [],
   "source": [
    "dfResult = pd.DataFrame({\"aorta01\": clusterSizes})\n",
    "dfResult.to_csv(savePath)"
   ],
   "metadata": {
    "collapsed": false,
    "pycharm": {
     "name": "#%%\n"
    }
   }
  },
  {
   "cell_type": "code",
   "execution_count": null,
   "outputs": [],
   "source": [],
   "metadata": {
    "collapsed": false,
    "pycharm": {
     "name": "#%%\n"
    }
   }
  }
 ],
 "metadata": {
  "kernelspec": {
   "name": "luisaproject",
   "language": "python",
   "display_name": "LuisaProject"
  },
  "language_info": {
   "codemirror_mode": {
    "name": "ipython",
    "version": 2
   },
   "file_extension": ".py",
   "mimetype": "text/x-python",
   "name": "python",
   "nbconvert_exporter": "python",
   "pygments_lexer": "ipython2",
   "version": "2.7.6"
  }
 },
 "nbformat": 4,
 "nbformat_minor": 0
}
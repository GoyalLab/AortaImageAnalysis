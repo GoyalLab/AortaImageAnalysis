{
 "cells": [
  {
   "cell_type": "code",
   "execution_count": 20,
   "outputs": [],
   "source": [
    "import numpy as np\n",
    "import pandas as pd\n",
    "from os.path import join\n",
    "import skimage.io"
   ],
   "metadata": {
    "collapsed": false,
    "pycharm": {
     "name": "#%%\n"
    }
   }
  },
  {
   "cell_type": "code",
   "execution_count": 2,
   "outputs": [],
   "source": [
    "def stitchedNucImage(nucleiPath, scalingFactor = 10000):\n",
    "    for i in range(4):\n",
    "        #build row block\n",
    "        nuc1 =np.load(join(nucleiPath, \"Cropped_IMG-\" + str(4*i +1) + '_seg.npy'), allow_pickle=True).item()['masks']\n",
    "        nuc2 =np.load(join(nucleiPath, \"Cropped_IMG-\" + str(4*i +2) + '_seg.npy'), allow_pickle=True).item()['masks']\n",
    "        nuc3 =np.load(join(nucleiPath, \"Cropped_IMG-\" + str(4*i +3) + '_seg.npy'), allow_pickle=True).item()['masks']\n",
    "        nuc4 =np.load(join(nucleiPath, \"Cropped_IMG-\" + str(4*i +4) + '_seg.npy'), allow_pickle=True).item()['masks']\n",
    "        nuc1 = nuc1 + scalingFactor *(4*i +1)\n",
    "        nuc1[nuc1 == (scalingFactor *(4*i +1))] = 0\n",
    "        nuc2 = nuc2 + scalingFactor *(4*i +2)\n",
    "        nuc2[nuc2 == (scalingFactor *(4*i +2))] = 0\n",
    "        nuc3 = nuc3 + scalingFactor *(4*i +3)\n",
    "        nuc3[nuc3 == (scalingFactor *(4*i +3))] = 0\n",
    "        nuc4 = nuc4 + scalingFactor *(4*i +4)\n",
    "        nuc4[nuc4 == (scalingFactor *(4*i +4))] = 0\n",
    "\n",
    "        row = np.concatenate((nuc1, nuc2, nuc3, nuc4), axis = 1)\n",
    "        if i == 0:\n",
    "            nucImage = row\n",
    "        else:\n",
    "            nucImage = np.concatenate((nucImage, row), axis = 0)\n",
    "    return nucImage"
   ],
   "metadata": {
    "collapsed": false,
    "pycharm": {
     "name": "#%%\n"
    }
   }
  },
  {
   "cell_type": "code",
   "execution_count": 8,
   "outputs": [],
   "source": [
    "dfRed = pd.read_csv(\"/Users/jones/Downloads/allClusterSizesRed.csv\", delimiter=\";\")\n",
    "dfOrange = pd.read_csv(\"/Users/jones/Downloads/clusterSizesOrange.csv\", delimiter=\";\")"
   ],
   "metadata": {
    "collapsed": false,
    "pycharm": {
     "name": "#%%\n"
    }
   }
  },
  {
   "cell_type": "code",
   "execution_count": 11,
   "outputs": [
    {
     "data": {
      "text/plain": "       age      aorta    1    2   3   4   5  6  7  8  9  10  11  12  13\n0   P10-21   C5RB-002  475  105  41   6   4  1  0  0  0   0   0   0   0\n1   P10-21  C5RB-0021  258   43  14   3   1  0  0  0  0   0   0   0   0\n2   P10-21   C5RB-003  319   82  30   4   6  0  0  1  0   0   0   0   0\n3   P10-21   C5RB-004  358   55  17   2   2  1  0  0  0   0   0   0   0\n4   P10-21   C5RB-005  331   99  25  10   3  0  1  0  0   0   0   0   0\n5   P10-30   C5RB-051  315  148  33  13   1  1  2  0  0   0   0   0   0\n6   P10-30   C5RB-052  351  176  36  20   6  2  3  1  0   0   0   0   0\n7   P10-30   C5RB-053  335   87  19   6   1  2  0  0  0   0   0   0   0\n8   P10-30   C5RB-054  279  102  30   7   3  1  0  0  0   0   0   0   0\n9   P10-30   C5RB-056  256   93  25   7   1  0  1  0  0   0   0   0   0\n10  P10-30   C5RB-058  384  113  30  11   1  3  0  2  0   0   0   0   0\n11  P10-30   C5RB-061  313  128  28  11   4  1  1  0  0   0   0   0   0\n12  P10-60   C5RB-001  219   88  16   4   0  0  0  0  0   0   0   0   0\n13  P10-60   C5RB-038  330  124  31  19   6  1  2  1  2   0   0   0   0\n14  P10-60   C5RB-039  216  154  30  13   7  2  1  0  1   0   0   0   0\n15  P10-60   C5RB-041  257  176  33  17   8  2  0  0  0   0   0   0   0\n16  P10-60   C5RB-043  184   74  11   5   0  0  0  1  0   0   0   0   0\n17  P10-60   C5RB-044  352  176  44  24   7  1  1  0  0   0   0   0   0\n18  P21-30   C5RB-072  200   23   4   0   0  0  0  0  0   0   0   0   0\n19  P21-30   C5RB-074  123   16   0   0   0  0  0  0  0   0   0   0   0\n20  P21-30   C5RB-075  155   17   2   1   0  0  0  0  0   0   0   0   0\n21  P21-30   C5RB-076   66    4   0   0   0  0  0  0  0   0   0   0   0\n22  P21-30   C5RB-078   59    7   0   0   0  0  0  0  0   0   0   0   0\n23  P30-60   C5RB-019  426   44  10   0   0  1  0  0  0   0   0   0   0\n24  P30-60   C5RB-023  110   24   1   0   0  0  0  0  0   0   0   0   0\n25  P30-60   C5RB-024  189   39   4   1   1  0  0  0  0   0   0   0   0\n26  P30-60   C5RB-025  193   42   4   0   0  0  0  0  0   0   0   0   0\n27  P30-60   C5RB-027   99   15   1   0   0  0  0  0  0   0   0   0   0\n28   P5-10   C5RB-001  500  143  52  26   9  4  1  1  0   0   0   0   0\n29   P5-10   C5RB-002  230   85  19  11   4  0  0  0  0   0   0   0   0\n30   P5-10   C5RB-003  208   55  21   9   2  2  0  0  0   0   0   0   0\n31   P5-10   C5RB-004  409  122  35  20   7  2  2  1  0   0   0   0   0\n32   P5-10   C5RB-006  290   67  16   5   6  2  0  0  0   0   0   0   0\n33   P5-10   C5RB-007  350   81  33  10   5  4  0  0  0   0   0   0   0\n34   P5-10   C5RB-008  391   88  28   6   6  7  1  0  0   0   0   0   0\n35   P5-30   C5RB-001  235  180  28  20  10  3  1  1  0   0   0   0   0\n36   P5-30   C5RB-002  249  137  28  12   7  2  2  0  0   0   0   0   0\n37   P5-30   C5RB-066  196   69  27  12   2  1  1  0  0   0   0   0   0\n38   P5-30   C5RB-068  197  122  37  12   6  4  1  0  1   0   0   0   0\n39   P5-30   C5RB-069  214   91  24   8   5  2  0  0  0   0   0   0   0\n40   P5-30   C5RB-070  251  145  51  20   5  4  1  1  0   1   0   0   0\n41   P5-60   C5RB-014  225   91  20  19   2  1  1  2  0   0   0   1   0\n42   P5-60   C5RB-048  253  173  44  20   9  4  2  1  0   0   0   1   1\n43   P5-60   C5RB-050  235   93  25  11   3  0  1  1  0   0   0   1   0",
      "text/html": "<div>\n<style scoped>\n    .dataframe tbody tr th:only-of-type {\n        vertical-align: middle;\n    }\n\n    .dataframe tbody tr th {\n        vertical-align: top;\n    }\n\n    .dataframe thead th {\n        text-align: right;\n    }\n</style>\n<table border=\"1\" class=\"dataframe\">\n  <thead>\n    <tr style=\"text-align: right;\">\n      <th></th>\n      <th>age</th>\n      <th>aorta</th>\n      <th>1</th>\n      <th>2</th>\n      <th>3</th>\n      <th>4</th>\n      <th>5</th>\n      <th>6</th>\n      <th>7</th>\n      <th>8</th>\n      <th>9</th>\n      <th>10</th>\n      <th>11</th>\n      <th>12</th>\n      <th>13</th>\n    </tr>\n  </thead>\n  <tbody>\n    <tr>\n      <th>0</th>\n      <td>P10-21</td>\n      <td>C5RB-002</td>\n      <td>475</td>\n      <td>105</td>\n      <td>41</td>\n      <td>6</td>\n      <td>4</td>\n      <td>1</td>\n      <td>0</td>\n      <td>0</td>\n      <td>0</td>\n      <td>0</td>\n      <td>0</td>\n      <td>0</td>\n      <td>0</td>\n    </tr>\n    <tr>\n      <th>1</th>\n      <td>P10-21</td>\n      <td>C5RB-0021</td>\n      <td>258</td>\n      <td>43</td>\n      <td>14</td>\n      <td>3</td>\n      <td>1</td>\n      <td>0</td>\n      <td>0</td>\n      <td>0</td>\n      <td>0</td>\n      <td>0</td>\n      <td>0</td>\n      <td>0</td>\n      <td>0</td>\n    </tr>\n    <tr>\n      <th>2</th>\n      <td>P10-21</td>\n      <td>C5RB-003</td>\n      <td>319</td>\n      <td>82</td>\n      <td>30</td>\n      <td>4</td>\n      <td>6</td>\n      <td>0</td>\n      <td>0</td>\n      <td>1</td>\n      <td>0</td>\n      <td>0</td>\n      <td>0</td>\n      <td>0</td>\n      <td>0</td>\n    </tr>\n    <tr>\n      <th>3</th>\n      <td>P10-21</td>\n      <td>C5RB-004</td>\n      <td>358</td>\n      <td>55</td>\n      <td>17</td>\n      <td>2</td>\n      <td>2</td>\n      <td>1</td>\n      <td>0</td>\n      <td>0</td>\n      <td>0</td>\n      <td>0</td>\n      <td>0</td>\n      <td>0</td>\n      <td>0</td>\n    </tr>\n    <tr>\n      <th>4</th>\n      <td>P10-21</td>\n      <td>C5RB-005</td>\n      <td>331</td>\n      <td>99</td>\n      <td>25</td>\n      <td>10</td>\n      <td>3</td>\n      <td>0</td>\n      <td>1</td>\n      <td>0</td>\n      <td>0</td>\n      <td>0</td>\n      <td>0</td>\n      <td>0</td>\n      <td>0</td>\n    </tr>\n    <tr>\n      <th>5</th>\n      <td>P10-30</td>\n      <td>C5RB-051</td>\n      <td>315</td>\n      <td>148</td>\n      <td>33</td>\n      <td>13</td>\n      <td>1</td>\n      <td>1</td>\n      <td>2</td>\n      <td>0</td>\n      <td>0</td>\n      <td>0</td>\n      <td>0</td>\n      <td>0</td>\n      <td>0</td>\n    </tr>\n    <tr>\n      <th>6</th>\n      <td>P10-30</td>\n      <td>C5RB-052</td>\n      <td>351</td>\n      <td>176</td>\n      <td>36</td>\n      <td>20</td>\n      <td>6</td>\n      <td>2</td>\n      <td>3</td>\n      <td>1</td>\n      <td>0</td>\n      <td>0</td>\n      <td>0</td>\n      <td>0</td>\n      <td>0</td>\n    </tr>\n    <tr>\n      <th>7</th>\n      <td>P10-30</td>\n      <td>C5RB-053</td>\n      <td>335</td>\n      <td>87</td>\n      <td>19</td>\n      <td>6</td>\n      <td>1</td>\n      <td>2</td>\n      <td>0</td>\n      <td>0</td>\n      <td>0</td>\n      <td>0</td>\n      <td>0</td>\n      <td>0</td>\n      <td>0</td>\n    </tr>\n    <tr>\n      <th>8</th>\n      <td>P10-30</td>\n      <td>C5RB-054</td>\n      <td>279</td>\n      <td>102</td>\n      <td>30</td>\n      <td>7</td>\n      <td>3</td>\n      <td>1</td>\n      <td>0</td>\n      <td>0</td>\n      <td>0</td>\n      <td>0</td>\n      <td>0</td>\n      <td>0</td>\n      <td>0</td>\n    </tr>\n    <tr>\n      <th>9</th>\n      <td>P10-30</td>\n      <td>C5RB-056</td>\n      <td>256</td>\n      <td>93</td>\n      <td>25</td>\n      <td>7</td>\n      <td>1</td>\n      <td>0</td>\n      <td>1</td>\n      <td>0</td>\n      <td>0</td>\n      <td>0</td>\n      <td>0</td>\n      <td>0</td>\n      <td>0</td>\n    </tr>\n    <tr>\n      <th>10</th>\n      <td>P10-30</td>\n      <td>C5RB-058</td>\n      <td>384</td>\n      <td>113</td>\n      <td>30</td>\n      <td>11</td>\n      <td>1</td>\n      <td>3</td>\n      <td>0</td>\n      <td>2</td>\n      <td>0</td>\n      <td>0</td>\n      <td>0</td>\n      <td>0</td>\n      <td>0</td>\n    </tr>\n    <tr>\n      <th>11</th>\n      <td>P10-30</td>\n      <td>C5RB-061</td>\n      <td>313</td>\n      <td>128</td>\n      <td>28</td>\n      <td>11</td>\n      <td>4</td>\n      <td>1</td>\n      <td>1</td>\n      <td>0</td>\n      <td>0</td>\n      <td>0</td>\n      <td>0</td>\n      <td>0</td>\n      <td>0</td>\n    </tr>\n    <tr>\n      <th>12</th>\n      <td>P10-60</td>\n      <td>C5RB-001</td>\n      <td>219</td>\n      <td>88</td>\n      <td>16</td>\n      <td>4</td>\n      <td>0</td>\n      <td>0</td>\n      <td>0</td>\n      <td>0</td>\n      <td>0</td>\n      <td>0</td>\n      <td>0</td>\n      <td>0</td>\n      <td>0</td>\n    </tr>\n    <tr>\n      <th>13</th>\n      <td>P10-60</td>\n      <td>C5RB-038</td>\n      <td>330</td>\n      <td>124</td>\n      <td>31</td>\n      <td>19</td>\n      <td>6</td>\n      <td>1</td>\n      <td>2</td>\n      <td>1</td>\n      <td>2</td>\n      <td>0</td>\n      <td>0</td>\n      <td>0</td>\n      <td>0</td>\n    </tr>\n    <tr>\n      <th>14</th>\n      <td>P10-60</td>\n      <td>C5RB-039</td>\n      <td>216</td>\n      <td>154</td>\n      <td>30</td>\n      <td>13</td>\n      <td>7</td>\n      <td>2</td>\n      <td>1</td>\n      <td>0</td>\n      <td>1</td>\n      <td>0</td>\n      <td>0</td>\n      <td>0</td>\n      <td>0</td>\n    </tr>\n    <tr>\n      <th>15</th>\n      <td>P10-60</td>\n      <td>C5RB-041</td>\n      <td>257</td>\n      <td>176</td>\n      <td>33</td>\n      <td>17</td>\n      <td>8</td>\n      <td>2</td>\n      <td>0</td>\n      <td>0</td>\n      <td>0</td>\n      <td>0</td>\n      <td>0</td>\n      <td>0</td>\n      <td>0</td>\n    </tr>\n    <tr>\n      <th>16</th>\n      <td>P10-60</td>\n      <td>C5RB-043</td>\n      <td>184</td>\n      <td>74</td>\n      <td>11</td>\n      <td>5</td>\n      <td>0</td>\n      <td>0</td>\n      <td>0</td>\n      <td>1</td>\n      <td>0</td>\n      <td>0</td>\n      <td>0</td>\n      <td>0</td>\n      <td>0</td>\n    </tr>\n    <tr>\n      <th>17</th>\n      <td>P10-60</td>\n      <td>C5RB-044</td>\n      <td>352</td>\n      <td>176</td>\n      <td>44</td>\n      <td>24</td>\n      <td>7</td>\n      <td>1</td>\n      <td>1</td>\n      <td>0</td>\n      <td>0</td>\n      <td>0</td>\n      <td>0</td>\n      <td>0</td>\n      <td>0</td>\n    </tr>\n    <tr>\n      <th>18</th>\n      <td>P21-30</td>\n      <td>C5RB-072</td>\n      <td>200</td>\n      <td>23</td>\n      <td>4</td>\n      <td>0</td>\n      <td>0</td>\n      <td>0</td>\n      <td>0</td>\n      <td>0</td>\n      <td>0</td>\n      <td>0</td>\n      <td>0</td>\n      <td>0</td>\n      <td>0</td>\n    </tr>\n    <tr>\n      <th>19</th>\n      <td>P21-30</td>\n      <td>C5RB-074</td>\n      <td>123</td>\n      <td>16</td>\n      <td>0</td>\n      <td>0</td>\n      <td>0</td>\n      <td>0</td>\n      <td>0</td>\n      <td>0</td>\n      <td>0</td>\n      <td>0</td>\n      <td>0</td>\n      <td>0</td>\n      <td>0</td>\n    </tr>\n    <tr>\n      <th>20</th>\n      <td>P21-30</td>\n      <td>C5RB-075</td>\n      <td>155</td>\n      <td>17</td>\n      <td>2</td>\n      <td>1</td>\n      <td>0</td>\n      <td>0</td>\n      <td>0</td>\n      <td>0</td>\n      <td>0</td>\n      <td>0</td>\n      <td>0</td>\n      <td>0</td>\n      <td>0</td>\n    </tr>\n    <tr>\n      <th>21</th>\n      <td>P21-30</td>\n      <td>C5RB-076</td>\n      <td>66</td>\n      <td>4</td>\n      <td>0</td>\n      <td>0</td>\n      <td>0</td>\n      <td>0</td>\n      <td>0</td>\n      <td>0</td>\n      <td>0</td>\n      <td>0</td>\n      <td>0</td>\n      <td>0</td>\n      <td>0</td>\n    </tr>\n    <tr>\n      <th>22</th>\n      <td>P21-30</td>\n      <td>C5RB-078</td>\n      <td>59</td>\n      <td>7</td>\n      <td>0</td>\n      <td>0</td>\n      <td>0</td>\n      <td>0</td>\n      <td>0</td>\n      <td>0</td>\n      <td>0</td>\n      <td>0</td>\n      <td>0</td>\n      <td>0</td>\n      <td>0</td>\n    </tr>\n    <tr>\n      <th>23</th>\n      <td>P30-60</td>\n      <td>C5RB-019</td>\n      <td>426</td>\n      <td>44</td>\n      <td>10</td>\n      <td>0</td>\n      <td>0</td>\n      <td>1</td>\n      <td>0</td>\n      <td>0</td>\n      <td>0</td>\n      <td>0</td>\n      <td>0</td>\n      <td>0</td>\n      <td>0</td>\n    </tr>\n    <tr>\n      <th>24</th>\n      <td>P30-60</td>\n      <td>C5RB-023</td>\n      <td>110</td>\n      <td>24</td>\n      <td>1</td>\n      <td>0</td>\n      <td>0</td>\n      <td>0</td>\n      <td>0</td>\n      <td>0</td>\n      <td>0</td>\n      <td>0</td>\n      <td>0</td>\n      <td>0</td>\n      <td>0</td>\n    </tr>\n    <tr>\n      <th>25</th>\n      <td>P30-60</td>\n      <td>C5RB-024</td>\n      <td>189</td>\n      <td>39</td>\n      <td>4</td>\n      <td>1</td>\n      <td>1</td>\n      <td>0</td>\n      <td>0</td>\n      <td>0</td>\n      <td>0</td>\n      <td>0</td>\n      <td>0</td>\n      <td>0</td>\n      <td>0</td>\n    </tr>\n    <tr>\n      <th>26</th>\n      <td>P30-60</td>\n      <td>C5RB-025</td>\n      <td>193</td>\n      <td>42</td>\n      <td>4</td>\n      <td>0</td>\n      <td>0</td>\n      <td>0</td>\n      <td>0</td>\n      <td>0</td>\n      <td>0</td>\n      <td>0</td>\n      <td>0</td>\n      <td>0</td>\n      <td>0</td>\n    </tr>\n    <tr>\n      <th>27</th>\n      <td>P30-60</td>\n      <td>C5RB-027</td>\n      <td>99</td>\n      <td>15</td>\n      <td>1</td>\n      <td>0</td>\n      <td>0</td>\n      <td>0</td>\n      <td>0</td>\n      <td>0</td>\n      <td>0</td>\n      <td>0</td>\n      <td>0</td>\n      <td>0</td>\n      <td>0</td>\n    </tr>\n    <tr>\n      <th>28</th>\n      <td>P5-10</td>\n      <td>C5RB-001</td>\n      <td>500</td>\n      <td>143</td>\n      <td>52</td>\n      <td>26</td>\n      <td>9</td>\n      <td>4</td>\n      <td>1</td>\n      <td>1</td>\n      <td>0</td>\n      <td>0</td>\n      <td>0</td>\n      <td>0</td>\n      <td>0</td>\n    </tr>\n    <tr>\n      <th>29</th>\n      <td>P5-10</td>\n      <td>C5RB-002</td>\n      <td>230</td>\n      <td>85</td>\n      <td>19</td>\n      <td>11</td>\n      <td>4</td>\n      <td>0</td>\n      <td>0</td>\n      <td>0</td>\n      <td>0</td>\n      <td>0</td>\n      <td>0</td>\n      <td>0</td>\n      <td>0</td>\n    </tr>\n    <tr>\n      <th>30</th>\n      <td>P5-10</td>\n      <td>C5RB-003</td>\n      <td>208</td>\n      <td>55</td>\n      <td>21</td>\n      <td>9</td>\n      <td>2</td>\n      <td>2</td>\n      <td>0</td>\n      <td>0</td>\n      <td>0</td>\n      <td>0</td>\n      <td>0</td>\n      <td>0</td>\n      <td>0</td>\n    </tr>\n    <tr>\n      <th>31</th>\n      <td>P5-10</td>\n      <td>C5RB-004</td>\n      <td>409</td>\n      <td>122</td>\n      <td>35</td>\n      <td>20</td>\n      <td>7</td>\n      <td>2</td>\n      <td>2</td>\n      <td>1</td>\n      <td>0</td>\n      <td>0</td>\n      <td>0</td>\n      <td>0</td>\n      <td>0</td>\n    </tr>\n    <tr>\n      <th>32</th>\n      <td>P5-10</td>\n      <td>C5RB-006</td>\n      <td>290</td>\n      <td>67</td>\n      <td>16</td>\n      <td>5</td>\n      <td>6</td>\n      <td>2</td>\n      <td>0</td>\n      <td>0</td>\n      <td>0</td>\n      <td>0</td>\n      <td>0</td>\n      <td>0</td>\n      <td>0</td>\n    </tr>\n    <tr>\n      <th>33</th>\n      <td>P5-10</td>\n      <td>C5RB-007</td>\n      <td>350</td>\n      <td>81</td>\n      <td>33</td>\n      <td>10</td>\n      <td>5</td>\n      <td>4</td>\n      <td>0</td>\n      <td>0</td>\n      <td>0</td>\n      <td>0</td>\n      <td>0</td>\n      <td>0</td>\n      <td>0</td>\n    </tr>\n    <tr>\n      <th>34</th>\n      <td>P5-10</td>\n      <td>C5RB-008</td>\n      <td>391</td>\n      <td>88</td>\n      <td>28</td>\n      <td>6</td>\n      <td>6</td>\n      <td>7</td>\n      <td>1</td>\n      <td>0</td>\n      <td>0</td>\n      <td>0</td>\n      <td>0</td>\n      <td>0</td>\n      <td>0</td>\n    </tr>\n    <tr>\n      <th>35</th>\n      <td>P5-30</td>\n      <td>C5RB-001</td>\n      <td>235</td>\n      <td>180</td>\n      <td>28</td>\n      <td>20</td>\n      <td>10</td>\n      <td>3</td>\n      <td>1</td>\n      <td>1</td>\n      <td>0</td>\n      <td>0</td>\n      <td>0</td>\n      <td>0</td>\n      <td>0</td>\n    </tr>\n    <tr>\n      <th>36</th>\n      <td>P5-30</td>\n      <td>C5RB-002</td>\n      <td>249</td>\n      <td>137</td>\n      <td>28</td>\n      <td>12</td>\n      <td>7</td>\n      <td>2</td>\n      <td>2</td>\n      <td>0</td>\n      <td>0</td>\n      <td>0</td>\n      <td>0</td>\n      <td>0</td>\n      <td>0</td>\n    </tr>\n    <tr>\n      <th>37</th>\n      <td>P5-30</td>\n      <td>C5RB-066</td>\n      <td>196</td>\n      <td>69</td>\n      <td>27</td>\n      <td>12</td>\n      <td>2</td>\n      <td>1</td>\n      <td>1</td>\n      <td>0</td>\n      <td>0</td>\n      <td>0</td>\n      <td>0</td>\n      <td>0</td>\n      <td>0</td>\n    </tr>\n    <tr>\n      <th>38</th>\n      <td>P5-30</td>\n      <td>C5RB-068</td>\n      <td>197</td>\n      <td>122</td>\n      <td>37</td>\n      <td>12</td>\n      <td>6</td>\n      <td>4</td>\n      <td>1</td>\n      <td>0</td>\n      <td>1</td>\n      <td>0</td>\n      <td>0</td>\n      <td>0</td>\n      <td>0</td>\n    </tr>\n    <tr>\n      <th>39</th>\n      <td>P5-30</td>\n      <td>C5RB-069</td>\n      <td>214</td>\n      <td>91</td>\n      <td>24</td>\n      <td>8</td>\n      <td>5</td>\n      <td>2</td>\n      <td>0</td>\n      <td>0</td>\n      <td>0</td>\n      <td>0</td>\n      <td>0</td>\n      <td>0</td>\n      <td>0</td>\n    </tr>\n    <tr>\n      <th>40</th>\n      <td>P5-30</td>\n      <td>C5RB-070</td>\n      <td>251</td>\n      <td>145</td>\n      <td>51</td>\n      <td>20</td>\n      <td>5</td>\n      <td>4</td>\n      <td>1</td>\n      <td>1</td>\n      <td>0</td>\n      <td>1</td>\n      <td>0</td>\n      <td>0</td>\n      <td>0</td>\n    </tr>\n    <tr>\n      <th>41</th>\n      <td>P5-60</td>\n      <td>C5RB-014</td>\n      <td>225</td>\n      <td>91</td>\n      <td>20</td>\n      <td>19</td>\n      <td>2</td>\n      <td>1</td>\n      <td>1</td>\n      <td>2</td>\n      <td>0</td>\n      <td>0</td>\n      <td>0</td>\n      <td>1</td>\n      <td>0</td>\n    </tr>\n    <tr>\n      <th>42</th>\n      <td>P5-60</td>\n      <td>C5RB-048</td>\n      <td>253</td>\n      <td>173</td>\n      <td>44</td>\n      <td>20</td>\n      <td>9</td>\n      <td>4</td>\n      <td>2</td>\n      <td>1</td>\n      <td>0</td>\n      <td>0</td>\n      <td>0</td>\n      <td>1</td>\n      <td>1</td>\n    </tr>\n    <tr>\n      <th>43</th>\n      <td>P5-60</td>\n      <td>C5RB-050</td>\n      <td>235</td>\n      <td>93</td>\n      <td>25</td>\n      <td>11</td>\n      <td>3</td>\n      <td>0</td>\n      <td>1</td>\n      <td>1</td>\n      <td>0</td>\n      <td>0</td>\n      <td>0</td>\n      <td>1</td>\n      <td>0</td>\n    </tr>\n  </tbody>\n</table>\n</div>"
     },
     "execution_count": 11,
     "metadata": {},
     "output_type": "execute_result"
    }
   ],
   "source": [
    "dfRed"
   ],
   "metadata": {
    "collapsed": false,
    "pycharm": {
     "name": "#%%\n"
    }
   }
  },
  {
   "cell_type": "code",
   "execution_count": 12,
   "outputs": [
    {
     "data": {
      "text/plain": "       age     aorta    1    2   3   4   5  6  7  8  ...  Unnamed: 13  \\\n0   P10-21  C5RB-002  497  103  16   4   3  0  1  0  ...     0.796474   \n1   P10-21  C5RB-003  326   55  16   5   4  0  0  0  ...     0.802956   \n2   P10-21  C5RB-004  346   55  12   7   1  0  0  0  ...     0.821853   \n3   P10-21  C5RB-005  327   70  17   4   1  0  0  1  ...     0.778571   \n4   P10-30  C5RB-052  450  196  46  16   8  3  2  0  ...     0.623269   \n5   P10-30  C5RB-053  314   96  19   5   1  1  0  1  ...     0.718535   \n6   P10-30  C5RB-054  282   96  22   7   1  0  0  0  ...     0.691176   \n7   P10-30  C5RB-061  422  142  23  10   1  0  0  0  ...     0.705686   \n8   P10-60  C5RB-001  199   76   6   6   0  1  0  0  ...     0.690972   \n9   P10-60  C5RB-041  305  136  21  10   3  2  0  0  ...     0.638075   \n10  P30-60  C5RB-023  102   11   2   1   0  0  0  0  ...     0.879310   \n11  P30-60  C5RB-024  157   31   3   0   0  0  0  0  ...     0.821990   \n12  P30-60  C5RB-025  124   31   4   1   0  0  0  0  ...     0.775000   \n13  P30-60  C5RB-027   84   18   2   0   0  0  0  0  ...     0.807692   \n14   P5-10  C5RB-001  651  130  30  14   8  1  1  0  ...     0.779641   \n15   P5-10  C5RB-002  300   65  17   4   7  0  2  0  ...     0.759494   \n16   P5-10  C5RB-003  262   58   9   4   2  0  0  0  ...     0.782090   \n17   P5-10  C5RB-004  500  132  41  18   5  2  2  2  ...     0.711238   \n18   P5-10  C5RB-008  493  113  38  11   5  2  1  2  ...     0.741353   \n19   P5-30  C5RB-001  343  156  38  11   3  1  0  0  ...     0.621377   \n20   P5-30  C5RB-002  249  119  25  12   2  2  0  2  ...     0.604369   \n21   P5-30  C5RB-068  275  148  30  12  12  1  2  1  ...     0.571726   \n22   P5-30  C5RB-069  235   93  27  10   3  0  0  0  ...     0.638587   \n23   P5-30  C5RB-070  331  160  35  24   7  4  0  1  ...     0.588968   \n24   P5-60  C5RB-013  256  138  48  13   9  3  1  1  ...     0.544681   \n25   P5-60  C5RB-014  223  118  29  14   7  3  0  0  ...     0.565990   \n\n    Unnamed: 14  Unnamed: 15  Unnamed: 16  Unnamed: 17  Unnamed: 18  \\\n0      0.165064     0.025641     0.006410     0.004808     0.000000   \n1      0.135468     0.039409     0.012315     0.009852     0.000000   \n2      0.130641     0.028504     0.016627     0.002375     0.000000   \n3      0.166667     0.040476     0.009524     0.002381     0.000000   \n4      0.271468     0.063712     0.022161     0.011080     0.004155   \n5      0.219680     0.043478     0.011442     0.002288     0.002288   \n6      0.235294     0.053922     0.017157     0.002451     0.000000   \n7      0.237458     0.038462     0.016722     0.001672     0.000000   \n8      0.263889     0.020833     0.020833     0.000000     0.003472   \n9      0.284519     0.043933     0.020921     0.006276     0.004184   \n10     0.094828     0.017241     0.008621     0.000000     0.000000   \n11     0.162304     0.015707     0.000000     0.000000     0.000000   \n12     0.193750     0.025000     0.006250     0.000000     0.000000   \n13     0.173077     0.019231     0.000000     0.000000     0.000000   \n14     0.155689     0.035928     0.016766     0.009581     0.001198   \n15     0.164557     0.043038     0.010127     0.017722     0.000000   \n16     0.173134     0.026866     0.011940     0.005970     0.000000   \n17     0.187767     0.058321     0.025605     0.007112     0.002845   \n18     0.169925     0.057143     0.016541     0.007519     0.003008   \n19     0.282609     0.068841     0.019928     0.005435     0.001812   \n20     0.288835     0.060680     0.029126     0.004854     0.004854   \n21     0.307692     0.062370     0.024948     0.024948     0.002079   \n22     0.252717     0.073370     0.027174     0.008152     0.000000   \n23     0.284698     0.062278     0.042705     0.012456     0.007117   \n24     0.293617     0.102128     0.027660     0.019149     0.006383   \n25     0.299492     0.073604     0.035533     0.017766     0.007614   \n\n    Unnamed: 19  Unnamed: 20  Unnamed: 21  Unnamed: 22  \n0      0.001603     0.000000     0.000000     0.000000  \n1      0.000000     0.000000     0.000000     0.000000  \n2      0.000000     0.000000     0.000000     0.000000  \n3      0.000000     0.002381     0.000000     0.000000  \n4      0.002770     0.000000     0.001385     0.000000  \n5      0.000000     0.002288     0.000000     0.000000  \n6      0.000000     0.000000     0.000000     0.000000  \n7      0.000000     0.000000     0.000000     0.000000  \n8      0.000000     0.000000     0.000000     0.000000  \n9      0.000000     0.000000     0.002092     0.000000  \n10     0.000000     0.000000     0.000000     0.000000  \n11     0.000000     0.000000     0.000000     0.000000  \n12     0.000000     0.000000     0.000000     0.000000  \n13     0.000000     0.000000     0.000000     0.000000  \n14     0.001198     0.000000     0.000000     0.000000  \n15     0.005063     0.000000     0.000000     0.000000  \n16     0.000000     0.000000     0.000000     0.000000  \n17     0.002845     0.002845     0.001422     0.000000  \n18     0.001504     0.003008     0.000000     0.000000  \n19     0.000000     0.000000     0.000000     0.000000  \n20     0.000000     0.004854     0.000000     0.002427  \n21     0.004158     0.002079     0.000000     0.000000  \n22     0.000000     0.000000     0.000000     0.000000  \n23     0.000000     0.001779     0.000000     0.000000  \n24     0.002128     0.002128     0.002128     0.000000  \n25     0.000000     0.000000     0.000000     0.000000  \n\n[26 rows x 23 columns]",
      "text/html": "<div>\n<style scoped>\n    .dataframe tbody tr th:only-of-type {\n        vertical-align: middle;\n    }\n\n    .dataframe tbody tr th {\n        vertical-align: top;\n    }\n\n    .dataframe thead th {\n        text-align: right;\n    }\n</style>\n<table border=\"1\" class=\"dataframe\">\n  <thead>\n    <tr style=\"text-align: right;\">\n      <th></th>\n      <th>age</th>\n      <th>aorta</th>\n      <th>1</th>\n      <th>2</th>\n      <th>3</th>\n      <th>4</th>\n      <th>5</th>\n      <th>6</th>\n      <th>7</th>\n      <th>8</th>\n      <th>...</th>\n      <th>Unnamed: 13</th>\n      <th>Unnamed: 14</th>\n      <th>Unnamed: 15</th>\n      <th>Unnamed: 16</th>\n      <th>Unnamed: 17</th>\n      <th>Unnamed: 18</th>\n      <th>Unnamed: 19</th>\n      <th>Unnamed: 20</th>\n      <th>Unnamed: 21</th>\n      <th>Unnamed: 22</th>\n    </tr>\n  </thead>\n  <tbody>\n    <tr>\n      <th>0</th>\n      <td>P10-21</td>\n      <td>C5RB-002</td>\n      <td>497</td>\n      <td>103</td>\n      <td>16</td>\n      <td>4</td>\n      <td>3</td>\n      <td>0</td>\n      <td>1</td>\n      <td>0</td>\n      <td>...</td>\n      <td>0.796474</td>\n      <td>0.165064</td>\n      <td>0.025641</td>\n      <td>0.006410</td>\n      <td>0.004808</td>\n      <td>0.000000</td>\n      <td>0.001603</td>\n      <td>0.000000</td>\n      <td>0.000000</td>\n      <td>0.000000</td>\n    </tr>\n    <tr>\n      <th>1</th>\n      <td>P10-21</td>\n      <td>C5RB-003</td>\n      <td>326</td>\n      <td>55</td>\n      <td>16</td>\n      <td>5</td>\n      <td>4</td>\n      <td>0</td>\n      <td>0</td>\n      <td>0</td>\n      <td>...</td>\n      <td>0.802956</td>\n      <td>0.135468</td>\n      <td>0.039409</td>\n      <td>0.012315</td>\n      <td>0.009852</td>\n      <td>0.000000</td>\n      <td>0.000000</td>\n      <td>0.000000</td>\n      <td>0.000000</td>\n      <td>0.000000</td>\n    </tr>\n    <tr>\n      <th>2</th>\n      <td>P10-21</td>\n      <td>C5RB-004</td>\n      <td>346</td>\n      <td>55</td>\n      <td>12</td>\n      <td>7</td>\n      <td>1</td>\n      <td>0</td>\n      <td>0</td>\n      <td>0</td>\n      <td>...</td>\n      <td>0.821853</td>\n      <td>0.130641</td>\n      <td>0.028504</td>\n      <td>0.016627</td>\n      <td>0.002375</td>\n      <td>0.000000</td>\n      <td>0.000000</td>\n      <td>0.000000</td>\n      <td>0.000000</td>\n      <td>0.000000</td>\n    </tr>\n    <tr>\n      <th>3</th>\n      <td>P10-21</td>\n      <td>C5RB-005</td>\n      <td>327</td>\n      <td>70</td>\n      <td>17</td>\n      <td>4</td>\n      <td>1</td>\n      <td>0</td>\n      <td>0</td>\n      <td>1</td>\n      <td>...</td>\n      <td>0.778571</td>\n      <td>0.166667</td>\n      <td>0.040476</td>\n      <td>0.009524</td>\n      <td>0.002381</td>\n      <td>0.000000</td>\n      <td>0.000000</td>\n      <td>0.002381</td>\n      <td>0.000000</td>\n      <td>0.000000</td>\n    </tr>\n    <tr>\n      <th>4</th>\n      <td>P10-30</td>\n      <td>C5RB-052</td>\n      <td>450</td>\n      <td>196</td>\n      <td>46</td>\n      <td>16</td>\n      <td>8</td>\n      <td>3</td>\n      <td>2</td>\n      <td>0</td>\n      <td>...</td>\n      <td>0.623269</td>\n      <td>0.271468</td>\n      <td>0.063712</td>\n      <td>0.022161</td>\n      <td>0.011080</td>\n      <td>0.004155</td>\n      <td>0.002770</td>\n      <td>0.000000</td>\n      <td>0.001385</td>\n      <td>0.000000</td>\n    </tr>\n    <tr>\n      <th>5</th>\n      <td>P10-30</td>\n      <td>C5RB-053</td>\n      <td>314</td>\n      <td>96</td>\n      <td>19</td>\n      <td>5</td>\n      <td>1</td>\n      <td>1</td>\n      <td>0</td>\n      <td>1</td>\n      <td>...</td>\n      <td>0.718535</td>\n      <td>0.219680</td>\n      <td>0.043478</td>\n      <td>0.011442</td>\n      <td>0.002288</td>\n      <td>0.002288</td>\n      <td>0.000000</td>\n      <td>0.002288</td>\n      <td>0.000000</td>\n      <td>0.000000</td>\n    </tr>\n    <tr>\n      <th>6</th>\n      <td>P10-30</td>\n      <td>C5RB-054</td>\n      <td>282</td>\n      <td>96</td>\n      <td>22</td>\n      <td>7</td>\n      <td>1</td>\n      <td>0</td>\n      <td>0</td>\n      <td>0</td>\n      <td>...</td>\n      <td>0.691176</td>\n      <td>0.235294</td>\n      <td>0.053922</td>\n      <td>0.017157</td>\n      <td>0.002451</td>\n      <td>0.000000</td>\n      <td>0.000000</td>\n      <td>0.000000</td>\n      <td>0.000000</td>\n      <td>0.000000</td>\n    </tr>\n    <tr>\n      <th>7</th>\n      <td>P10-30</td>\n      <td>C5RB-061</td>\n      <td>422</td>\n      <td>142</td>\n      <td>23</td>\n      <td>10</td>\n      <td>1</td>\n      <td>0</td>\n      <td>0</td>\n      <td>0</td>\n      <td>...</td>\n      <td>0.705686</td>\n      <td>0.237458</td>\n      <td>0.038462</td>\n      <td>0.016722</td>\n      <td>0.001672</td>\n      <td>0.000000</td>\n      <td>0.000000</td>\n      <td>0.000000</td>\n      <td>0.000000</td>\n      <td>0.000000</td>\n    </tr>\n    <tr>\n      <th>8</th>\n      <td>P10-60</td>\n      <td>C5RB-001</td>\n      <td>199</td>\n      <td>76</td>\n      <td>6</td>\n      <td>6</td>\n      <td>0</td>\n      <td>1</td>\n      <td>0</td>\n      <td>0</td>\n      <td>...</td>\n      <td>0.690972</td>\n      <td>0.263889</td>\n      <td>0.020833</td>\n      <td>0.020833</td>\n      <td>0.000000</td>\n      <td>0.003472</td>\n      <td>0.000000</td>\n      <td>0.000000</td>\n      <td>0.000000</td>\n      <td>0.000000</td>\n    </tr>\n    <tr>\n      <th>9</th>\n      <td>P10-60</td>\n      <td>C5RB-041</td>\n      <td>305</td>\n      <td>136</td>\n      <td>21</td>\n      <td>10</td>\n      <td>3</td>\n      <td>2</td>\n      <td>0</td>\n      <td>0</td>\n      <td>...</td>\n      <td>0.638075</td>\n      <td>0.284519</td>\n      <td>0.043933</td>\n      <td>0.020921</td>\n      <td>0.006276</td>\n      <td>0.004184</td>\n      <td>0.000000</td>\n      <td>0.000000</td>\n      <td>0.002092</td>\n      <td>0.000000</td>\n    </tr>\n    <tr>\n      <th>10</th>\n      <td>P30-60</td>\n      <td>C5RB-023</td>\n      <td>102</td>\n      <td>11</td>\n      <td>2</td>\n      <td>1</td>\n      <td>0</td>\n      <td>0</td>\n      <td>0</td>\n      <td>0</td>\n      <td>...</td>\n      <td>0.879310</td>\n      <td>0.094828</td>\n      <td>0.017241</td>\n      <td>0.008621</td>\n      <td>0.000000</td>\n      <td>0.000000</td>\n      <td>0.000000</td>\n      <td>0.000000</td>\n      <td>0.000000</td>\n      <td>0.000000</td>\n    </tr>\n    <tr>\n      <th>11</th>\n      <td>P30-60</td>\n      <td>C5RB-024</td>\n      <td>157</td>\n      <td>31</td>\n      <td>3</td>\n      <td>0</td>\n      <td>0</td>\n      <td>0</td>\n      <td>0</td>\n      <td>0</td>\n      <td>...</td>\n      <td>0.821990</td>\n      <td>0.162304</td>\n      <td>0.015707</td>\n      <td>0.000000</td>\n      <td>0.000000</td>\n      <td>0.000000</td>\n      <td>0.000000</td>\n      <td>0.000000</td>\n      <td>0.000000</td>\n      <td>0.000000</td>\n    </tr>\n    <tr>\n      <th>12</th>\n      <td>P30-60</td>\n      <td>C5RB-025</td>\n      <td>124</td>\n      <td>31</td>\n      <td>4</td>\n      <td>1</td>\n      <td>0</td>\n      <td>0</td>\n      <td>0</td>\n      <td>0</td>\n      <td>...</td>\n      <td>0.775000</td>\n      <td>0.193750</td>\n      <td>0.025000</td>\n      <td>0.006250</td>\n      <td>0.000000</td>\n      <td>0.000000</td>\n      <td>0.000000</td>\n      <td>0.000000</td>\n      <td>0.000000</td>\n      <td>0.000000</td>\n    </tr>\n    <tr>\n      <th>13</th>\n      <td>P30-60</td>\n      <td>C5RB-027</td>\n      <td>84</td>\n      <td>18</td>\n      <td>2</td>\n      <td>0</td>\n      <td>0</td>\n      <td>0</td>\n      <td>0</td>\n      <td>0</td>\n      <td>...</td>\n      <td>0.807692</td>\n      <td>0.173077</td>\n      <td>0.019231</td>\n      <td>0.000000</td>\n      <td>0.000000</td>\n      <td>0.000000</td>\n      <td>0.000000</td>\n      <td>0.000000</td>\n      <td>0.000000</td>\n      <td>0.000000</td>\n    </tr>\n    <tr>\n      <th>14</th>\n      <td>P5-10</td>\n      <td>C5RB-001</td>\n      <td>651</td>\n      <td>130</td>\n      <td>30</td>\n      <td>14</td>\n      <td>8</td>\n      <td>1</td>\n      <td>1</td>\n      <td>0</td>\n      <td>...</td>\n      <td>0.779641</td>\n      <td>0.155689</td>\n      <td>0.035928</td>\n      <td>0.016766</td>\n      <td>0.009581</td>\n      <td>0.001198</td>\n      <td>0.001198</td>\n      <td>0.000000</td>\n      <td>0.000000</td>\n      <td>0.000000</td>\n    </tr>\n    <tr>\n      <th>15</th>\n      <td>P5-10</td>\n      <td>C5RB-002</td>\n      <td>300</td>\n      <td>65</td>\n      <td>17</td>\n      <td>4</td>\n      <td>7</td>\n      <td>0</td>\n      <td>2</td>\n      <td>0</td>\n      <td>...</td>\n      <td>0.759494</td>\n      <td>0.164557</td>\n      <td>0.043038</td>\n      <td>0.010127</td>\n      <td>0.017722</td>\n      <td>0.000000</td>\n      <td>0.005063</td>\n      <td>0.000000</td>\n      <td>0.000000</td>\n      <td>0.000000</td>\n    </tr>\n    <tr>\n      <th>16</th>\n      <td>P5-10</td>\n      <td>C5RB-003</td>\n      <td>262</td>\n      <td>58</td>\n      <td>9</td>\n      <td>4</td>\n      <td>2</td>\n      <td>0</td>\n      <td>0</td>\n      <td>0</td>\n      <td>...</td>\n      <td>0.782090</td>\n      <td>0.173134</td>\n      <td>0.026866</td>\n      <td>0.011940</td>\n      <td>0.005970</td>\n      <td>0.000000</td>\n      <td>0.000000</td>\n      <td>0.000000</td>\n      <td>0.000000</td>\n      <td>0.000000</td>\n    </tr>\n    <tr>\n      <th>17</th>\n      <td>P5-10</td>\n      <td>C5RB-004</td>\n      <td>500</td>\n      <td>132</td>\n      <td>41</td>\n      <td>18</td>\n      <td>5</td>\n      <td>2</td>\n      <td>2</td>\n      <td>2</td>\n      <td>...</td>\n      <td>0.711238</td>\n      <td>0.187767</td>\n      <td>0.058321</td>\n      <td>0.025605</td>\n      <td>0.007112</td>\n      <td>0.002845</td>\n      <td>0.002845</td>\n      <td>0.002845</td>\n      <td>0.001422</td>\n      <td>0.000000</td>\n    </tr>\n    <tr>\n      <th>18</th>\n      <td>P5-10</td>\n      <td>C5RB-008</td>\n      <td>493</td>\n      <td>113</td>\n      <td>38</td>\n      <td>11</td>\n      <td>5</td>\n      <td>2</td>\n      <td>1</td>\n      <td>2</td>\n      <td>...</td>\n      <td>0.741353</td>\n      <td>0.169925</td>\n      <td>0.057143</td>\n      <td>0.016541</td>\n      <td>0.007519</td>\n      <td>0.003008</td>\n      <td>0.001504</td>\n      <td>0.003008</td>\n      <td>0.000000</td>\n      <td>0.000000</td>\n    </tr>\n    <tr>\n      <th>19</th>\n      <td>P5-30</td>\n      <td>C5RB-001</td>\n      <td>343</td>\n      <td>156</td>\n      <td>38</td>\n      <td>11</td>\n      <td>3</td>\n      <td>1</td>\n      <td>0</td>\n      <td>0</td>\n      <td>...</td>\n      <td>0.621377</td>\n      <td>0.282609</td>\n      <td>0.068841</td>\n      <td>0.019928</td>\n      <td>0.005435</td>\n      <td>0.001812</td>\n      <td>0.000000</td>\n      <td>0.000000</td>\n      <td>0.000000</td>\n      <td>0.000000</td>\n    </tr>\n    <tr>\n      <th>20</th>\n      <td>P5-30</td>\n      <td>C5RB-002</td>\n      <td>249</td>\n      <td>119</td>\n      <td>25</td>\n      <td>12</td>\n      <td>2</td>\n      <td>2</td>\n      <td>0</td>\n      <td>2</td>\n      <td>...</td>\n      <td>0.604369</td>\n      <td>0.288835</td>\n      <td>0.060680</td>\n      <td>0.029126</td>\n      <td>0.004854</td>\n      <td>0.004854</td>\n      <td>0.000000</td>\n      <td>0.004854</td>\n      <td>0.000000</td>\n      <td>0.002427</td>\n    </tr>\n    <tr>\n      <th>21</th>\n      <td>P5-30</td>\n      <td>C5RB-068</td>\n      <td>275</td>\n      <td>148</td>\n      <td>30</td>\n      <td>12</td>\n      <td>12</td>\n      <td>1</td>\n      <td>2</td>\n      <td>1</td>\n      <td>...</td>\n      <td>0.571726</td>\n      <td>0.307692</td>\n      <td>0.062370</td>\n      <td>0.024948</td>\n      <td>0.024948</td>\n      <td>0.002079</td>\n      <td>0.004158</td>\n      <td>0.002079</td>\n      <td>0.000000</td>\n      <td>0.000000</td>\n    </tr>\n    <tr>\n      <th>22</th>\n      <td>P5-30</td>\n      <td>C5RB-069</td>\n      <td>235</td>\n      <td>93</td>\n      <td>27</td>\n      <td>10</td>\n      <td>3</td>\n      <td>0</td>\n      <td>0</td>\n      <td>0</td>\n      <td>...</td>\n      <td>0.638587</td>\n      <td>0.252717</td>\n      <td>0.073370</td>\n      <td>0.027174</td>\n      <td>0.008152</td>\n      <td>0.000000</td>\n      <td>0.000000</td>\n      <td>0.000000</td>\n      <td>0.000000</td>\n      <td>0.000000</td>\n    </tr>\n    <tr>\n      <th>23</th>\n      <td>P5-30</td>\n      <td>C5RB-070</td>\n      <td>331</td>\n      <td>160</td>\n      <td>35</td>\n      <td>24</td>\n      <td>7</td>\n      <td>4</td>\n      <td>0</td>\n      <td>1</td>\n      <td>...</td>\n      <td>0.588968</td>\n      <td>0.284698</td>\n      <td>0.062278</td>\n      <td>0.042705</td>\n      <td>0.012456</td>\n      <td>0.007117</td>\n      <td>0.000000</td>\n      <td>0.001779</td>\n      <td>0.000000</td>\n      <td>0.000000</td>\n    </tr>\n    <tr>\n      <th>24</th>\n      <td>P5-60</td>\n      <td>C5RB-013</td>\n      <td>256</td>\n      <td>138</td>\n      <td>48</td>\n      <td>13</td>\n      <td>9</td>\n      <td>3</td>\n      <td>1</td>\n      <td>1</td>\n      <td>...</td>\n      <td>0.544681</td>\n      <td>0.293617</td>\n      <td>0.102128</td>\n      <td>0.027660</td>\n      <td>0.019149</td>\n      <td>0.006383</td>\n      <td>0.002128</td>\n      <td>0.002128</td>\n      <td>0.002128</td>\n      <td>0.000000</td>\n    </tr>\n    <tr>\n      <th>25</th>\n      <td>P5-60</td>\n      <td>C5RB-014</td>\n      <td>223</td>\n      <td>118</td>\n      <td>29</td>\n      <td>14</td>\n      <td>7</td>\n      <td>3</td>\n      <td>0</td>\n      <td>0</td>\n      <td>...</td>\n      <td>0.565990</td>\n      <td>0.299492</td>\n      <td>0.073604</td>\n      <td>0.035533</td>\n      <td>0.017766</td>\n      <td>0.007614</td>\n      <td>0.000000</td>\n      <td>0.000000</td>\n      <td>0.000000</td>\n      <td>0.000000</td>\n    </tr>\n  </tbody>\n</table>\n<p>26 rows × 23 columns</p>\n</div>"
     },
     "execution_count": 12,
     "metadata": {},
     "output_type": "execute_result"
    }
   ],
   "source": [
    "dfOrange"
   ],
   "metadata": {
    "collapsed": false,
    "pycharm": {
     "name": "#%%\n"
    }
   }
  },
  {
   "cell_type": "code",
   "execution_count": null,
   "outputs": [],
   "source": [],
   "metadata": {
    "collapsed": false,
    "pycharm": {
     "name": "#%%\n"
    }
   }
  },
  {
   "cell_type": "code",
   "execution_count": 135,
   "outputs": [],
   "source": [
    "nucleiPath = \"//Volumes/Aortas/Aorta/segmentations/inducedRainbow/final/nuclei/5-30/C5RB-070\"\n",
    "bluePath = \"/Volumes/Aortas/Aorta/preprocessedImages/inducedRainbow/tifChannels/5-30/220911_C5RB 070_5-30_descending_stitch unmix denoise maxIP_blue.tif\"\n",
    "nucImage = stitchedNucImage(nucleiPath)"
   ],
   "metadata": {
    "collapsed": false,
    "pycharm": {
     "name": "#%%\n"
    }
   }
  },
  {
   "cell_type": "code",
   "execution_count": 136,
   "outputs": [
    {
     "data": {
      "text/plain": "(1305, 1393)"
     },
     "execution_count": 136,
     "metadata": {},
     "output_type": "execute_result"
    }
   ],
   "source": [
    "nucImage.shape"
   ],
   "metadata": {
    "collapsed": false,
    "pycharm": {
     "name": "#%%\n"
    }
   }
  },
  {
   "cell_type": "code",
   "execution_count": 137,
   "outputs": [],
   "source": [
    "blueImage = skimage.io.imread(bluePath)"
   ],
   "metadata": {
    "collapsed": false,
    "pycharm": {
     "name": "#%%\n"
    }
   }
  },
  {
   "cell_type": "code",
   "execution_count": 138,
   "outputs": [
    {
     "data": {
      "text/plain": "(1305, 1393)"
     },
     "execution_count": 138,
     "metadata": {},
     "output_type": "execute_result"
    }
   ],
   "source": [
    "blueImage.shape"
   ],
   "metadata": {
    "collapsed": false,
    "pycharm": {
     "name": "#%%\n"
    }
   }
  },
  {
   "cell_type": "code",
   "execution_count": 142,
   "outputs": [],
   "source": [
    "threshold = 1900\n",
    "positive = 0\n",
    "for c in np.unique(nucImage):\n",
    "    if c!=0:\n",
    "        nucCoord = np.where(nucImage== c)\n",
    "        meanIntensity = np.mean(blueImage[nucCoord])\n",
    "        if meanIntensity > threshold:\n",
    "            positive += 1"
   ],
   "metadata": {
    "collapsed": false,
    "pycharm": {
     "name": "#%%\n"
    }
   }
  },
  {
   "cell_type": "code",
   "execution_count": 143,
   "outputs": [
    {
     "data": {
      "text/plain": "1774"
     },
     "execution_count": 143,
     "metadata": {},
     "output_type": "execute_result"
    }
   ],
   "source": [
    "positive"
   ],
   "metadata": {
    "collapsed": false,
    "pycharm": {
     "name": "#%%\n"
    }
   }
  },
  {
   "cell_type": "code",
   "execution_count": 141,
   "outputs": [
    {
     "data": {
      "text/plain": "13747"
     },
     "execution_count": 141,
     "metadata": {},
     "output_type": "execute_result"
    }
   ],
   "source": [
    "len(np.unique(nucImage))"
   ],
   "metadata": {
    "collapsed": false,
    "pycharm": {
     "name": "#%%\n"
    }
   }
  },
  {
   "cell_type": "code",
   "execution_count": null,
   "outputs": [],
   "source": [],
   "metadata": {
    "collapsed": false,
    "pycharm": {
     "name": "#%%\n"
    }
   }
  }
 ],
 "metadata": {
  "kernelspec": {
   "display_name": "Python 3",
   "language": "python",
   "name": "python3"
  },
  "language_info": {
   "codemirror_mode": {
    "name": "ipython",
    "version": 2
   },
   "file_extension": ".py",
   "mimetype": "text/x-python",
   "name": "python",
   "nbconvert_exporter": "python",
   "pygments_lexer": "ipython2",
   "version": "2.7.6"
  }
 },
 "nbformat": 4,
 "nbformat_minor": 0
}
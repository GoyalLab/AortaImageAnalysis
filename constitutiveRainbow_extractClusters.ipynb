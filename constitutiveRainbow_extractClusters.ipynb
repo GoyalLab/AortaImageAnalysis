{
 "cells": [
  {
   "cell_type": "code",
   "execution_count": null,
   "outputs": [],
   "source": [
    "#merge clusters; If function works, then delete code below"
   ],
   "metadata": {
    "collapsed": false,
    "pycharm": {
     "name": "#%%\n"
    }
   }
  },
  {
   "cell_type": "code",
   "execution_count": 1,
   "outputs": [],
   "source": [
    "import numpy as np\n",
    "import os\n",
    "from os import listdir\n",
    "from os.path import isfile, join\n",
    "from skimage.measure import regionprops_table\n",
    "import matplotlib.pyplot as plt\n",
    "import pandas as pd\n",
    "from createStatistics import createMaskRegionprops, mergeClusters\n",
    "from PIL import Image\n",
    "from plotSegmentations import plotImage_Numbers"
   ],
   "metadata": {
    "collapsed": false,
    "pycharm": {
     "name": "#%%\n"
    }
   }
  },
  {
   "cell_type": "code",
   "execution_count": 130,
   "outputs": [],
   "source": [
    "df = pd.DataFrame()"
   ],
   "metadata": {
    "collapsed": false,
    "pycharm": {
     "name": "#%%\n"
    }
   }
  },
  {
   "cell_type": "code",
   "execution_count": null,
   "outputs": [],
   "source": [
    "inputPath = '/Users/jones/Library/CloudStorage/GoogleDrive-jonasbraunnu@gmail.com/.shortcut-targets-by-id/1D_bPjhT95POOAirSmkzFskKPd4RlOOwP/LuisaLab/data/segmentations/rainbow/P5/blue/aorta6'\n",
    "\n",
    "saveName = '/Users/jones/Downloads/P30_Aortas_ClusterSize.csv'\n",
    "\n",
    "age = 'P9'\n",
    "aortaName = 'aorta2'"
   ],
   "metadata": {
    "collapsed": false,
    "pycharm": {
     "name": "#%%\n"
    }
   }
  },
  {
   "cell_type": "code",
   "execution_count": 181,
   "outputs": [],
   "source": [
    "os.chdir(inputPath)\n",
    "files = [f for f in listdir(inputPath) if isfile(join(inputPath, f))]\n",
    "files = sorted(files)\n",
    "dataFolder = [np.load(f, allow_pickle = True).item() for f in files]\n",
    "\n",
    "clusterAll = []\n",
    "for i in range(len(dataFolder)):\n",
    "    clusters = mergeClusters(dataFolder[i])\n",
    "    for j in range(len(clusters)):\n",
    "        clusterAll.append(len(clusters[j]))\n",
    "clusterAllArray = np.asarray(clusterAll)\n",
    "df_help = pd.DataFrame()\n",
    "df_help['age'] = age\n",
    "df_help['name'] = aortaName\n",
    "df_help['clusterSize'] = clusterAllArray\n",
    "df = pd.concat((df, df_help), axis = 0, ignore_index=True)"
   ],
   "metadata": {
    "collapsed": false,
    "pycharm": {
     "name": "#%%\n"
    }
   }
  },
  {
   "cell_type": "code",
   "execution_count": 178,
   "outputs": [],
   "source": [
    "df.to_csv(saveName, index=False)"
   ],
   "metadata": {
    "collapsed": false,
    "pycharm": {
     "name": "#%%\n"
    }
   }
  },
  {
   "cell_type": "code",
   "execution_count": 29,
   "outputs": [],
   "source": [],
   "metadata": {
    "collapsed": false,
    "pycharm": {
     "name": "#%%\n"
    }
   }
  },
  {
   "cell_type": "code",
   "execution_count": 92,
   "outputs": [
    {
     "name": "stdout",
     "output_type": "stream",
     "text": [
      "cluster\n",
      "[]\n",
      "1\n",
      "cluster\n",
      "[1]\n",
      "2\n",
      "Here\n",
      "{5}\n",
      "Here\n",
      "{6}\n",
      "cluster\n",
      "[2, 5, 6]\n",
      "3\n",
      "cluster\n",
      "[3]\n",
      "4\n",
      "cluster\n",
      "[4]\n",
      "cluster\n",
      "[]\n",
      "cluster\n",
      "[]\n",
      "7\n",
      "Here\n",
      "{11}\n",
      "Here\n",
      "{13}\n",
      "Here\n",
      "{9}\n",
      "cluster\n",
      "[7, 11, 13, 9]\n",
      "8\n",
      "Here\n",
      "{14}\n",
      "Here\n",
      "{17, 15}\n",
      "Here\n",
      "{17}\n",
      "cluster\n",
      "[8, 14, 15, 17]\n",
      "cluster\n",
      "[]\n",
      "10\n",
      "Here\n",
      "{12}\n",
      "cluster\n",
      "[10, 12]\n",
      "cluster\n",
      "[]\n",
      "cluster\n",
      "[]\n",
      "cluster\n",
      "[]\n",
      "cluster\n",
      "[]\n",
      "cluster\n",
      "[]\n",
      "16\n",
      "Here\n",
      "{20}\n",
      "Here\n",
      "{19}\n",
      "cluster\n",
      "[16, 20, 19]\n",
      "cluster\n",
      "[]\n",
      "18\n",
      "cluster\n",
      "[18]\n",
      "cluster\n",
      "[]\n",
      "cluster\n",
      "[]\n",
      "21\n",
      "Here\n",
      "{24}\n",
      "Here\n",
      "{29}\n",
      "cluster\n",
      "[21, 24, 29]\n",
      "22\n",
      "Here\n",
      "{30}\n",
      "cluster\n",
      "[22, 30]\n",
      "23\n",
      "cluster\n",
      "[23]\n",
      "cluster\n",
      "[]\n",
      "25\n",
      "Here\n",
      "{32}\n",
      "cluster\n",
      "[25, 32]\n",
      "26\n",
      "Here\n",
      "{31}\n",
      "Here\n",
      "{27}\n",
      "cluster\n",
      "[26, 31, 27]\n",
      "cluster\n",
      "[]\n",
      "28\n",
      "cluster\n",
      "[28]\n",
      "cluster\n",
      "[]\n",
      "cluster\n",
      "[]\n",
      "cluster\n",
      "[]\n",
      "cluster\n",
      "[]\n",
      "33\n",
      "Here\n",
      "{34, 35}\n",
      "Here\n",
      "{34}\n",
      "cluster\n",
      "[33, 34, 34, 35]\n",
      "cluster\n",
      "[]\n",
      "cluster\n",
      "[]\n",
      "36\n",
      "cluster\n",
      "[36]\n",
      "37\n",
      "cluster\n",
      "[37]\n",
      "38\n",
      "Here\n",
      "{42}\n",
      "cluster\n",
      "[38, 42]\n",
      "39\n",
      "cluster\n",
      "[39]\n",
      "40\n",
      "cluster\n",
      "[40]\n",
      "41\n",
      "Here\n",
      "{48, 47}\n",
      "Here\n",
      "{48, 52, 46}\n",
      "Here\n",
      "{48, 52}\n",
      "Here\n",
      "{48}\n",
      "cluster\n",
      "[41, 47, 48, 46, 52]\n",
      "cluster\n",
      "[]\n",
      "43\n",
      "Here\n",
      "{49}\n",
      "Here\n",
      "{55}\n",
      "cluster\n",
      "[43, 49, 55]\n",
      "44\n",
      "cluster\n",
      "[44]\n",
      "45\n",
      "Here\n",
      "{51}\n",
      "cluster\n",
      "[45, 51]\n",
      "cluster\n",
      "[]\n",
      "cluster\n",
      "[]\n",
      "cluster\n",
      "[]\n",
      "cluster\n",
      "[]\n",
      "50\n",
      "cluster\n",
      "[50]\n",
      "cluster\n",
      "[]\n",
      "cluster\n",
      "[]\n",
      "53\n",
      "Here\n",
      "{57}\n",
      "cluster\n",
      "[53, 57]\n",
      "54\n",
      "Here\n",
      "{56}\n",
      "Here\n",
      "{58}\n",
      "cluster\n",
      "[54, 56, 58]\n",
      "cluster\n",
      "[]\n",
      "cluster\n",
      "[]\n",
      "cluster\n",
      "[]\n",
      "cluster\n",
      "[]\n",
      "59\n",
      "cluster\n",
      "[59]\n",
      "60\n",
      "cluster\n",
      "[60]\n",
      "61\n",
      "cluster\n",
      "[61]\n"
     ]
    }
   ],
   "source": [
    "clusters = []\n",
    "clusteredMasks = [0]\n",
    "uniqueMasks = np.unique(outlinesImage)\n",
    "for m in range(len(uniqueMasks)):\n",
    "    cluster = []\n",
    "    if m not in clusteredMasks:\n",
    "        outlines = np.where(outlinesImage == m)\n",
    "        print(m)\n",
    "        cluster.append(m)\n",
    "        for j in range(len(outlines[0])):\n",
    "            yvalue = outlines[0][j]\n",
    "            xvalue = outlines[1][j]\n",
    "            values = [0,m]\n",
    "            if ((yvalue != maskImage.shape[0] - 1)):\n",
    "                if ((maskImage[yvalue + 1, xvalue] not in values) & (maskImage[yvalue + 1, xvalue] not in cluster)):\n",
    "                    cluster.append(maskImage[yvalue + 1, xvalue])\n",
    "            if ((yvalue != 0)):\n",
    "                if ((maskImage[yvalue -1, xvalue] not in values) & (maskImage[yvalue -1, xvalue] not in cluster)):\n",
    "                    cluster.append(maskImage[yvalue - 1, xvalue])\n",
    "            if ((xvalue != maskImage.shape[1] - 1)):\n",
    "                if ((maskImage[yvalue, xvalue + 1] not in values) & (maskImage[yvalue, xvalue + 1] not in cluster)):\n",
    "                    cluster.append(maskImage[yvalue, xvalue + 1])\n",
    "            if ((xvalue != 0)):\n",
    "                if ((maskImage[yvalue, xvalue - 1] not in values) & (maskImage[yvalue, xvalue - 1] not in cluster)):\n",
    "                    cluster.append(maskImage[yvalue, xvalue - 1])\n",
    "                    cluster.append(maskImage[yvalue, xvalue - 1])\n",
    "        clusteredMasks.append(m)\n",
    "        while(len(set(cluster) - set(clusteredMasks)) > 0):\n",
    "            sample = set(cluster) - set(clusteredMasks)\n",
    "            print('Here')\n",
    "            print(sample)\n",
    "            for s in sample:\n",
    "                outlines = np.where(outlinesImage == s)\n",
    "                for j in range(len(outlines[0])):\n",
    "                    yvalue = outlines[0][j]\n",
    "                    xvalue = outlines[1][j]\n",
    "                    values = [0,s]\n",
    "                    if ((yvalue != maskImage.shape[0] - 1)):\n",
    "                        if ((maskImage[yvalue + 1, xvalue] not in values) & (maskImage[yvalue + 1, xvalue] not in cluster)):\n",
    "                            cluster.append(maskImage[yvalue + 1, xvalue])\n",
    "                    if ((yvalue != 0)):\n",
    "                        if ((maskImage[yvalue -1, xvalue] not in values) & (maskImage[yvalue -1, xvalue] not in cluster)):\n",
    "                            cluster.append(maskImage[yvalue - 1, xvalue])\n",
    "                    if ((xvalue != maskImage.shape[1] - 1)):\n",
    "                        if ((maskImage[yvalue, xvalue + 1] not in values) & (maskImage[yvalue, xvalue + 1] not in cluster)):\n",
    "                            cluster.append(maskImage[yvalue, xvalue + 1])\n",
    "                    if ((xvalue != 0)):\n",
    "                        if ((maskImage[yvalue, xvalue - 1] not in values) & (maskImage[yvalue, xvalue - 1] not in cluster)):\n",
    "                            cluster.append(maskImage[yvalue, xvalue - 1])\n",
    "            clusteredMasks.append(s)\n",
    "    print('cluster')\n",
    "    print(cluster)\n",
    "    if cluster:\n",
    "        clusters.append(cluster)"
   ],
   "metadata": {
    "collapsed": false,
    "pycharm": {
     "name": "#%%\n"
    }
   }
  },
  {
   "cell_type": "code",
   "execution_count": null,
   "outputs": [],
   "source": [],
   "metadata": {
    "collapsed": false,
    "pycharm": {
     "name": "#%%\n"
    }
   }
  },
  {
   "cell_type": "code",
   "execution_count": 48,
   "outputs": [],
   "source": [
    "cluster = []\n",
    "clusteredMasks = []\n",
    "for j in range(len(outlines[0])):\n",
    "    yvalue = outlines[0][j]\n",
    "    xvalue = outlines[1][j]\n",
    "    values = [0,3]\n",
    "    if (maskImage[yvalue + 1, xvalue] not in values):\n",
    "        if (maskImage[yvalue + 1, xvalue] not in cluster):\n",
    "            cluster.append(maskImage[yvalue + 1, xvalue])\n",
    "    elif (maskImage[yvalue - 1, xvalue] not in values):\n",
    "        if (maskImage[yvalue - 1, xvalue] not in cluster):\n",
    "            cluster.append(maskImage[yvalue - 1, xvalue])\n",
    "    elif (maskImage[yvalue, xvalue + 1 ] not in values):\n",
    "        if (maskImage[yvalue, xvalue + 1] not in cluster):\n",
    "            cluster.append(maskImage[yvalue, xvalue + 1])\n",
    "    elif (maskImage[yvalue , xvalue - 1] not in values):\n",
    "        if (maskImage[yvalue, xvalue - 1] not in cluster):\n",
    "            cluster.append(maskImage[yvalue, xvalue - 1])"
   ],
   "metadata": {
    "collapsed": false,
    "pycharm": {
     "name": "#%%\n"
    }
   }
  },
  {
   "cell_type": "code",
   "execution_count": 116,
   "outputs": [],
   "source": [
    "clusterDic = {}\n",
    "for i in range(len(dataFolder)):\n",
    "        data = dataFolder[i]\n",
    "        outlinesImage = data['outlines']\n",
    "        maskImage = data['masks']\n",
    "        clusters = []\n",
    "        clusteredMasks = []\n",
    "        uniqueMasks = np.unique(outlinesImage)\n",
    "        for m in range(len(uniqueMasks)):\n",
    "            if m not in clusteredMasks:\n",
    "                cluster = []\n",
    "                outlines = np.where(outlinesImage == m)\n",
    "                for j in range(len(outlines[0])):\n",
    "                    yvalue = outlines[0][j]\n",
    "                    xvalue = outlines[1][j]\n",
    "                    values = [0,7]\n",
    "                    if ((yvalue != maskImage.shape[0] - 1)):\n",
    "                        if ((maskImage[yvalue + 1, xvalue] not in values) & (maskImage[yvalue + 1, xvalue] not in cluster)):\n",
    "                            cluster.append(maskImage[yvalue + 1, xvalue])\n",
    "                    if ((yvalue != 0)):\n",
    "                        if ((maskImage[yvalue -1, xvalue] not in values) & (maskImage[yvalue -1, xvalue] not in cluster)):\n",
    "                            cluster.append(maskImage[yvalue - 1, xvalue])\n",
    "                    if ((xvalue != maskImage.shape[1] - 1)):\n",
    "                        if ((maskImage[yvalue, xvalue + 1] not in values) & (maskImage[yvalue, xvalue + 1] not in cluster)):\n",
    "                            cluster.append(maskImage[yvalue, xvalue + 1])\n",
    "                    if ((xvalue != 0)):\n",
    "                        if ((maskImage[yvalue, xvalue - 1] not in values) & (maskImage[yvalue, xvalue - 1] not in cluster)):\n",
    "                            cluster.append(maskImage[yvalue, xvalue - 1])\n",
    "                            cluster.append(maskImage[yvalue, xvalue - 1])\n",
    "                clusteredMasks.append(m)\n",
    "                while(len(set(cluster) - set(clusteredMasks)) > 0):\n",
    "                    sample = set(cluster) - set(clusteredMasks)\n",
    "                    for s in sample:\n",
    "                        outlines = np.where(outlinesImage == s)\n",
    "                        for j in range(len(outlines[0])):\n",
    "                            yvalue = outlines[0][j]\n",
    "                            xvalue = outlines[1][j]\n",
    "                            values = [0,7]\n",
    "                            if ((yvalue != maskImage.shape[0] - 1)):\n",
    "                                if ((maskImage[yvalue + 1, xvalue] not in values) & (maskImage[yvalue + 1, xvalue] not in cluster)):\n",
    "                                    cluster.append(maskImage[yvalue + 1, xvalue])\n",
    "                            if ((yvalue != 0)):\n",
    "                                if ((maskImage[yvalue -1, xvalue] not in values) & (maskImage[yvalue -1, xvalue] not in cluster)):\n",
    "                                    cluster.append(maskImage[yvalue - 1, xvalue])\n",
    "                            if ((xvalue != maskImage.shape[1] - 1)):\n",
    "                                if ((maskImage[yvalue, xvalue + 1] not in values) & (maskImage[yvalue, xvalue + 1] not in cluster)):\n",
    "                                    cluster.append(maskImage[yvalue, xvalue + 1])\n",
    "                            if ((xvalue != 0)):\n",
    "                                if ((maskImage[yvalue, xvalue - 1] not in values) & (maskImage[yvalue, xvalue - 1] not in cluster)):\n",
    "                                    cluster.append(maskImage[yvalue, xvalue - 1])\n",
    "                    clusteredMasks.append(s)\n",
    "        clusters.append(cluster)"
   ],
   "metadata": {
    "collapsed": false,
    "pycharm": {
     "name": "#%%\n"
    }
   }
  },
  {
   "cell_type": "code",
   "execution_count": 126,
   "outputs": [],
   "source": [
    "data = dataFolder[10]\n",
    "maskImage = data['masks']\n",
    "outlinesImage = data['outlines']\n",
    "clusters = []\n",
    "clusteredMasks = []\n",
    "uniqueMasks = np.unique(outlinesImage)"
   ],
   "metadata": {
    "collapsed": false,
    "pycharm": {
     "name": "#%%\n"
    }
   }
  },
  {
   "cell_type": "code",
   "execution_count": 127,
   "outputs": [],
   "source": [
    "for m in range(len(uniqueMasks)):\n",
    "    if m not in clusteredMasks:\n",
    "        cluster = []\n",
    "        outlines = np.where(outlinesImage == m)\n",
    "        for j in range(len(outlines[0])):\n",
    "            yvalue = outlines[0][j]\n",
    "            xvalue = outlines[1][j]\n",
    "            values = [0,m]\n",
    "            if ((yvalue != maskImage.shape[0] - 1)):\n",
    "                if ((maskImage[yvalue + 1, xvalue] not in values) & (maskImage[yvalue + 1, xvalue] not in cluster)):\n",
    "                    cluster.append(maskImage[yvalue + 1, xvalue])\n",
    "            if ((yvalue != 0)):\n",
    "                if ((maskImage[yvalue -1, xvalue] not in values) & (maskImage[yvalue -1, xvalue] not in cluster)):\n",
    "                    cluster.append(maskImage[yvalue - 1, xvalue])\n",
    "            if ((xvalue != maskImage.shape[1] - 1)):\n",
    "                if ((maskImage[yvalue, xvalue + 1] not in values) & (maskImage[yvalue, xvalue + 1] not in cluster)):\n",
    "                    cluster.append(maskImage[yvalue, xvalue + 1])\n",
    "            if ((xvalue != 0)):\n",
    "                if ((maskImage[yvalue, xvalue - 1] not in values) & (maskImage[yvalue, xvalue - 1] not in cluster)):\n",
    "                    cluster.append(maskImage[yvalue, xvalue - 1])\n",
    "                    cluster.append(maskImage[yvalue, xvalue - 1])\n",
    "        clusteredMasks.append(m)\n",
    "        while(len(set(cluster) - set(clusteredMasks)) > 0):\n",
    "            sample = set(cluster) - set(clusteredMasks)\n",
    "            for s in sample:\n",
    "                outlines = np.where(outlinesImage == s)\n",
    "                for j in range(len(outlines[0])):\n",
    "                    yvalue = outlines[0][j]\n",
    "                    xvalue = outlines[1][j]\n",
    "                    values = [0,7]\n",
    "                    if ((yvalue != maskImage.shape[0] - 1)):\n",
    "                        if ((maskImage[yvalue + 1, xvalue] not in values) & (maskImage[yvalue + 1, xvalue] not in cluster)):\n",
    "                            cluster.append(maskImage[yvalue + 1, xvalue])\n",
    "                    if ((yvalue != 0)):\n",
    "                        if ((maskImage[yvalue -1, xvalue] not in values) & (maskImage[yvalue -1, xvalue] not in cluster)):\n",
    "                            cluster.append(maskImage[yvalue - 1, xvalue])\n",
    "                    if ((xvalue != maskImage.shape[1] - 1)):\n",
    "                        if ((maskImage[yvalue, xvalue + 1] not in values) & (maskImage[yvalue, xvalue + 1] not in cluster)):\n",
    "                            cluster.append(maskImage[yvalue, xvalue + 1])\n",
    "                    if ((xvalue != 0)):\n",
    "                        if ((maskImage[yvalue, xvalue - 1] not in values) & (maskImage[yvalue, xvalue - 1] not in cluster)):\n",
    "                            cluster.append(maskImage[yvalue, xvalue - 1])\n",
    "            clusteredMasks.append(s)\n",
    "clusters.append(cluster)"
   ],
   "metadata": {
    "collapsed": false,
    "pycharm": {
     "name": "#%%\n"
    }
   }
  },
  {
   "cell_type": "code",
   "execution_count": 26,
   "outputs": [
    {
     "name": "stdout",
     "output_type": "stream",
     "text": [
      "(1231, 9)\n"
     ]
    },
    {
     "data": {
      "text/plain": "  picture_id label area  centroid-0  centroid-1 bbox-0 bbox-1 bbox-2 bbox-3\n0          0     1  233   70.133047  324.570815     66    301     76    348\n1          0     2  167   70.335329  471.712575     67    455     74    489\n2          0     3  162   76.654321  455.216049     70    441     83    474\n3          0     4  158   74.202532  417.930380     71    405     79    431\n4          0     5   64   74.765625  488.234375     71    481     80    493",
      "text/html": "<div>\n<style scoped>\n    .dataframe tbody tr th:only-of-type {\n        vertical-align: middle;\n    }\n\n    .dataframe tbody tr th {\n        vertical-align: top;\n    }\n\n    .dataframe thead th {\n        text-align: right;\n    }\n</style>\n<table border=\"1\" class=\"dataframe\">\n  <thead>\n    <tr style=\"text-align: right;\">\n      <th></th>\n      <th>picture_id</th>\n      <th>label</th>\n      <th>area</th>\n      <th>centroid-0</th>\n      <th>centroid-1</th>\n      <th>bbox-0</th>\n      <th>bbox-1</th>\n      <th>bbox-2</th>\n      <th>bbox-3</th>\n    </tr>\n  </thead>\n  <tbody>\n    <tr>\n      <th>0</th>\n      <td>0</td>\n      <td>1</td>\n      <td>233</td>\n      <td>70.133047</td>\n      <td>324.570815</td>\n      <td>66</td>\n      <td>301</td>\n      <td>76</td>\n      <td>348</td>\n    </tr>\n    <tr>\n      <th>1</th>\n      <td>0</td>\n      <td>2</td>\n      <td>167</td>\n      <td>70.335329</td>\n      <td>471.712575</td>\n      <td>67</td>\n      <td>455</td>\n      <td>74</td>\n      <td>489</td>\n    </tr>\n    <tr>\n      <th>2</th>\n      <td>0</td>\n      <td>3</td>\n      <td>162</td>\n      <td>76.654321</td>\n      <td>455.216049</td>\n      <td>70</td>\n      <td>441</td>\n      <td>83</td>\n      <td>474</td>\n    </tr>\n    <tr>\n      <th>3</th>\n      <td>0</td>\n      <td>4</td>\n      <td>158</td>\n      <td>74.202532</td>\n      <td>417.930380</td>\n      <td>71</td>\n      <td>405</td>\n      <td>79</td>\n      <td>431</td>\n    </tr>\n    <tr>\n      <th>4</th>\n      <td>0</td>\n      <td>5</td>\n      <td>64</td>\n      <td>74.765625</td>\n      <td>488.234375</td>\n      <td>71</td>\n      <td>481</td>\n      <td>80</td>\n      <td>493</td>\n    </tr>\n  </tbody>\n</table>\n</div>"
     },
     "execution_count": 26,
     "metadata": {},
     "output_type": "execute_result"
    }
   ],
   "source": [
    "df = pd.DataFrame(columns= ['picture_id', 'label','area', 'centroid-0', 'centroid-1', 'bbox-0', 'bbox-1', 'bbox-2', 'bbox-3'])\n",
    "for i in range(len(dataFolder)):\n",
    "    dat = dataFolder[i]\n",
    "    picture_id = i\n",
    "    img = dat['img']\n",
    "    masks = dat['masks']\n",
    "    flows = dat['flows']\n",
    "    masks_array = np.asarray(masks)\n",
    "    prop_dict = regionprops_table(masks_array, properties = ('label', 'area', 'centroid', 'bbox'))\n",
    "    df_help = pd.DataFrame(prop_dict, columns= ['label','area', 'centroid-0', 'centroid-1', 'bbox-0', 'bbox-1', 'bbox-2', 'bbox-3'])\n",
    "    df_help['picture_id'] = picture_id\n",
    "    df = df.append(df_help, ignore_index=True)\n",
    "print(df.shape)\n",
    "df.head(5)"
   ],
   "metadata": {
    "collapsed": false,
    "pycharm": {
     "name": "#%%\n"
    }
   }
  }
 ],
 "metadata": {
  "kernelspec": {
   "display_name": "Python 3",
   "language": "python",
   "name": "python3"
  },
  "language_info": {
   "codemirror_mode": {
    "name": "ipython",
    "version": 2
   },
   "file_extension": ".py",
   "mimetype": "text/x-python",
   "name": "python",
   "nbconvert_exporter": "python",
   "pygments_lexer": "ipython2",
   "version": "2.7.6"
  }
 },
 "nbformat": 4,
 "nbformat_minor": 0
}
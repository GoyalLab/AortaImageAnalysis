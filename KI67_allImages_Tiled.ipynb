{
 "cells": [
  {
   "cell_type": "code",
   "execution_count": null,
   "outputs": [],
   "source": [
    "#Extract KI67 signal from segmented tiled images"
   ],
   "metadata": {
    "collapsed": false,
    "pycharm": {
     "name": "#%%\n"
    }
   }
  },
  {
   "cell_type": "code",
   "execution_count": 1,
   "outputs": [],
   "source": [
    "import pandas as pd\n",
    "import numpy as np\n",
    "from os import listdir\n",
    "from os.path import isfile, join\n",
    "import os\n",
    "import fnmatch\n",
    "import skimage\n",
    "import cv2"
   ],
   "metadata": {
    "collapsed": false,
    "pycharm": {
     "name": "#%%\n"
    }
   }
  },
  {
   "cell_type": "code",
   "execution_count": 11,
   "outputs": [],
   "source": [
    "redPath = '/Volumes/Aortas/Aorta/preprocessedImages/KI67/maxIP/P7/aorta4'\n",
    "nucleiPath = '/Volumes/Aortas/Aorta/segmentations/KI67/tiled/nuclei/P7/aorta4'"
   ],
   "metadata": {
    "collapsed": false,
    "pycharm": {
     "name": "#%%\n"
    }
   }
  },
  {
   "cell_type": "code",
   "execution_count": 12,
   "outputs": [],
   "source": [
    "foldersRed = [x[0] for x in os.walk(redPath)]\n",
    "foldersRed = sorted(foldersRed)\n",
    "\n",
    "foldersNuclei = [x[0] for x in os.walk(nucleiPath)]\n",
    "foldersNuclei = sorted(foldersNuclei)"
   ],
   "metadata": {
    "collapsed": false,
    "pycharm": {
     "name": "#%%\n"
    }
   }
  },
  {
   "cell_type": "code",
   "execution_count": 13,
   "outputs": [
    {
     "ename": "OSError",
     "evalue": "Failed to interpret file '/Volumes/Aortas/Aorta/segmentations/KI67/tiled/nuclei/P7/aorta4/._220901_Ki67_P7 aorta 4-MaxIP_#4_Alx568_seg.npy' as a pickle",
     "output_type": "error",
     "traceback": [
      "\u001B[0;31m---------------------------------------------------------------------------\u001B[0m",
      "\u001B[0;31mUnpicklingError\u001B[0m                           Traceback (most recent call last)",
      "File \u001B[0;32m~/miniconda3/envs/luisaProject/lib/python3.8/site-packages/numpy/lib/npyio.py:448\u001B[0m, in \u001B[0;36mload\u001B[0;34m(file, mmap_mode, allow_pickle, fix_imports, encoding)\u001B[0m\n\u001B[1;32m    447\u001B[0m \u001B[38;5;28;01mtry\u001B[39;00m:\n\u001B[0;32m--> 448\u001B[0m     \u001B[38;5;28;01mreturn\u001B[39;00m \u001B[43mpickle\u001B[49m\u001B[38;5;241;43m.\u001B[39;49m\u001B[43mload\u001B[49m\u001B[43m(\u001B[49m\u001B[43mfid\u001B[49m\u001B[43m,\u001B[49m\u001B[43m \u001B[49m\u001B[38;5;241;43m*\u001B[39;49m\u001B[38;5;241;43m*\u001B[39;49m\u001B[43mpickle_kwargs\u001B[49m\u001B[43m)\u001B[49m\n\u001B[1;32m    449\u001B[0m \u001B[38;5;28;01mexcept\u001B[39;00m \u001B[38;5;167;01mException\u001B[39;00m \u001B[38;5;28;01mas\u001B[39;00m e:\n",
      "\u001B[0;31mUnpicklingError\u001B[0m: invalid load key, '\\x00'.",
      "\nThe above exception was the direct cause of the following exception:\n",
      "\u001B[0;31mOSError\u001B[0m                                   Traceback (most recent call last)",
      "Input \u001B[0;32mIn [13]\u001B[0m, in \u001B[0;36m<cell line: 2>\u001B[0;34m()\u001B[0m\n\u001B[1;32m      7\u001B[0m original \u001B[38;5;241m=\u001B[39m folder\u001B[38;5;241m.\u001B[39msplit(\u001B[38;5;124m\"\u001B[39m\u001B[38;5;124m/\u001B[39m\u001B[38;5;124m\"\u001B[39m)[\u001B[38;5;241m-\u001B[39m\u001B[38;5;241m3\u001B[39m]\n\u001B[1;32m      9\u001B[0m \u001B[38;5;28;01mfor\u001B[39;00m fileNuclei \u001B[38;5;129;01min\u001B[39;00m filesNuclei:\n\u001B[0;32m---> 10\u001B[0m     nuclei \u001B[38;5;241m=\u001B[39m \u001B[43mnp\u001B[49m\u001B[38;5;241;43m.\u001B[39;49m\u001B[43mload\u001B[49m\u001B[43m(\u001B[49m\u001B[43mjoin\u001B[49m\u001B[43m(\u001B[49m\u001B[43mfolder\u001B[49m\u001B[43m,\u001B[49m\u001B[43mfileNuclei\u001B[49m\u001B[43m)\u001B[49m\u001B[43m,\u001B[49m\u001B[43m \u001B[49m\u001B[43mallow_pickle\u001B[49m\u001B[43m \u001B[49m\u001B[38;5;241;43m=\u001B[39;49m\u001B[43m \u001B[49m\u001B[38;5;28;43;01mTrue\u001B[39;49;00m\u001B[43m)\u001B[49m\u001B[38;5;241m.\u001B[39mitem()\n\u001B[1;32m     12\u001B[0m     fileRed \u001B[38;5;241m=\u001B[39m fileNuclei\u001B[38;5;241m.\u001B[39msplit(\u001B[38;5;124m\"\u001B[39m\u001B[38;5;124m_Alx568_seg.npy\u001B[39m\u001B[38;5;124m\"\u001B[39m)[\u001B[38;5;241m0\u001B[39m] \u001B[38;5;241m+\u001B[39m \u001B[38;5;124m\"\u001B[39m\u001B[38;5;124m_Alx647_1.tif\u001B[39m\u001B[38;5;124m\"\u001B[39m\n\u001B[1;32m     13\u001B[0m     \u001B[38;5;66;03m#folderRed = join(redPath, original, age, aorta)\u001B[39;00m\n",
      "File \u001B[0;32m~/miniconda3/envs/luisaProject/lib/python3.8/site-packages/numpy/lib/npyio.py:450\u001B[0m, in \u001B[0;36mload\u001B[0;34m(file, mmap_mode, allow_pickle, fix_imports, encoding)\u001B[0m\n\u001B[1;32m    448\u001B[0m     \u001B[38;5;28;01mreturn\u001B[39;00m pickle\u001B[38;5;241m.\u001B[39mload(fid, \u001B[38;5;241m*\u001B[39m\u001B[38;5;241m*\u001B[39mpickle_kwargs)\n\u001B[1;32m    449\u001B[0m \u001B[38;5;28;01mexcept\u001B[39;00m \u001B[38;5;167;01mException\u001B[39;00m \u001B[38;5;28;01mas\u001B[39;00m e:\n\u001B[0;32m--> 450\u001B[0m     \u001B[38;5;28;01mraise\u001B[39;00m \u001B[38;5;167;01mIOError\u001B[39;00m(\n\u001B[1;32m    451\u001B[0m         \u001B[38;5;124m\"\u001B[39m\u001B[38;5;124mFailed to interpret file \u001B[39m\u001B[38;5;132;01m%s\u001B[39;00m\u001B[38;5;124m as a pickle\u001B[39m\u001B[38;5;124m\"\u001B[39m \u001B[38;5;241m%\u001B[39m \u001B[38;5;28mrepr\u001B[39m(file)) \u001B[38;5;28;01mfrom\u001B[39;00m \u001B[38;5;21;01me\u001B[39;00m\n",
      "\u001B[0;31mOSError\u001B[0m: Failed to interpret file '/Volumes/Aortas/Aorta/segmentations/KI67/tiled/nuclei/P7/aorta4/._220901_Ki67_P7 aorta 4-MaxIP_#4_Alx568_seg.npy' as a pickle"
     ]
    }
   ],
   "source": [
    "df = pd.DataFrame()\n",
    "for folder in foldersNuclei:\n",
    "    df = pd.DataFrame()\n",
    "    filesNuclei = [f for f in listdir(folder) if isfile(join(folder, f)) if \"_Alx568_seg.npy\" in f if \"._\" not in f]\n",
    "    aorta = folder.split(\"/\")[-1]\n",
    "    age = folder.split(\"/\")[-2]\n",
    "    original = folder.split(\"/\")[-3]\n",
    "\n",
    "    for fileNuclei in filesNuclei:\n",
    "        nuclei = np.load(join(folder,fileNuclei), allow_pickle = True).item()\n",
    "\n",
    "        fileRed = fileNuclei.split(\"_Alx568_seg.npy\")[0] + \"_Alx647_1.tif\"\n",
    "        #folderRed = join(redPath, original, age, aorta)\n",
    "        folderRed = join(redPath)\n",
    "        redImage = skimage.io.imread(join(folderRed, fileRed))\n",
    "        redImageNorm = cv2.normalize(redImage, None, alpha=0, beta=1, norm_type=cv2.NORM_MINMAX, dtype=cv2.CV_32F)\n",
    "\n",
    "        nucleiMasks = nuclei['masks']\n",
    "        nucleiMaskRedInt = np.where(nucleiMasks > 0, redImageNorm, 0 )\n",
    "        medianBackground = np.median(redImage[np.where(nucleiMasks == 0)])\n",
    "        medianBackgroundNorm = np.median(redImageNorm[np.where(nucleiMasks == 0)])\n",
    "        meanBackground = np.mean(redImage[np.where(nucleiMasks == 0)])\n",
    "        meanBackgroundNorm = np.mean(redImageNorm[np.where(nucleiMasks == 0)])\n",
    "\n",
    "        for i in np.unique(nucleiMasks):\n",
    "            if i != 0:\n",
    "                median = np.median(redImage[np.where(nucleiMasks == i)])\n",
    "                medianNorm = np.median(redImageNorm[np.where(nucleiMasks == i)])\n",
    "                mean = np.mean(redImage[np.where(nucleiMasks == i)])\n",
    "                meanNorm = np.mean(redImageNorm[np.where(nucleiMasks == i)])\n",
    "\n",
    "                dict = {'original': original, 'age': age, 'aorta': aorta, 'median': median, 'mean': mean, 'medianNorm': medianNorm, 'meanNorm': meanNorm, 'medianBackground': medianBackground, 'meanBackground': meanBackground, 'medianBackgroundNorm': medianBackgroundNorm, 'meanBackgroundNorm': meanBackgroundNorm,  'file': fileNuclei.split(\"c3_seg.npy\")[0]}\n",
    "                dfData = pd.DataFrame(dict, index= [0])\n",
    "                df = pd.concat((df, dfData), axis=0, ignore_index=True)\n",
    "\n",
    "    filename = \"coordinatesKI67Intensity_\" + original + \"_\" + age + \"_\" + aorta + \"_Tiled.csv\"\n",
    "    df.to_csv(join(\"/Volumes/Aortas/Aorta/results/KI67/coordinatesKI67\",filename), index = False)"
   ],
   "metadata": {
    "collapsed": false,
    "pycharm": {
     "name": "#%%\n"
    }
   }
  },
  {
   "cell_type": "code",
   "execution_count": null,
   "outputs": [],
   "source": [],
   "metadata": {
    "collapsed": false,
    "pycharm": {
     "name": "#%%\n"
    }
   }
  }
 ],
 "metadata": {
  "kernelspec": {
   "name": "luisaproject",
   "language": "python",
   "display_name": "LuisaProject"
  },
  "language_info": {
   "codemirror_mode": {
    "name": "ipython",
    "version": 2
   },
   "file_extension": ".py",
   "mimetype": "text/x-python",
   "name": "python",
   "nbconvert_exporter": "python",
   "pygments_lexer": "ipython2",
   "version": "2.7.6"
  }
 },
 "nbformat": 4,
 "nbformat_minor": 0
}
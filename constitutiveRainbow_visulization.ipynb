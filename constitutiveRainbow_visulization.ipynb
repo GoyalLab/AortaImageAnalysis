{
 "cells": [
  {
   "cell_type": "code",
   "execution_count": null,
   "metadata": {
    "collapsed": true,
    "pycharm": {
     "name": "#%%\n"
    }
   },
   "outputs": [],
   "source": [
    "import numpy as np\n",
    "import os\n",
    "from os import listdir\n",
    "from os.path import isfile, join\n",
    "import matplotlib.pyplot as plt\n",
    "from createStatistics import createMaskRegionprops, mergeClusters\n",
    "from PIL import Image\n",
    "from plotSegmentations import plotImage_Numbers"
   ]
  },
  {
   "cell_type": "code",
   "execution_count": null,
   "outputs": [],
   "source": [
    "inputPath = '/Users/jones/Library/CloudStorage/GoogleDrive-jonasbraunnu@gmail.com/.shortcut-targets-by-id/1D_bPjhT95POOAirSmkzFskKPd4RlOOwP/LuisaLab/data/segmentations/rainbow/P5/blue/aorta6'"
   ],
   "metadata": {
    "collapsed": false,
    "pycharm": {
     "name": "#%%\n"
    }
   }
  },
  {
   "cell_type": "code",
   "execution_count": null,
   "outputs": [],
   "source": [
    "os.chdir(inputPath)\n",
    "files = [f for f in listdir(inputPath) if isfile(join(inputPath, f))]\n",
    "files = sorted(files)\n",
    "dataFolder = [np.load(f, allow_pickle = True).item() for f in files]"
   ],
   "metadata": {
    "collapsed": false,
    "pycharm": {
     "name": "#%%\n"
    }
   }
  },
  {
   "cell_type": "code",
   "execution_count": null,
   "outputs": [],
   "source": [
    "columns = ['label','area', 'centroid-0', 'centroid-1', 'bbox-0', 'bbox-1', 'bbox-2', 'bbox-3']\n",
    "properties = ('label', 'area', 'centroid', 'bbox')\n",
    "df = createMaskRegionprops(dataFolder, columns = columns, properties =properties)"
   ],
   "metadata": {
    "collapsed": false,
    "pycharm": {
     "name": "#%%\n"
    }
   }
  },
  {
   "cell_type": "code",
   "execution_count": null,
   "outputs": [],
   "source": [
    "df_plot = df.loc[df['picture_id'] == imageId]\n",
    "df_plot = df_plot.reset_index()\n",
    "img = data['img']\n",
    "outlines = data ['outlines']\n",
    "plotImage_Numbers(img, df_plot, outlineImage = True, outlines = outlines, outlineColor = [255,255,255])"
   ],
   "metadata": {
    "collapsed": false,
    "pycharm": {
     "name": "#%%\n"
    }
   }
  },
  {
   "cell_type": "code",
   "execution_count": null,
   "outputs": [],
   "source": [
    "image_id = 9\n",
    "\n",
    "#overlay the outlines\n",
    "\n",
    "fig, ax = plt.subplots(figsize=(36,15))\n",
    "dat = dataFolder[image_id]\n",
    "img = dat['img']\n",
    "ax.imshow(img)\n",
    "df_plot = df.loc[df['picture_id'] == image_id]\n",
    "df_plot = df_plot.reset_index()\n",
    "for i in range(len(df_plot)):\n",
    "    ax.text(df_plot['centroid-1'][i], df_plot['centroid-0'][i], df_plot['label'][i], fontsize=13, color = 'red')\n",
    "\n",
    "plt.show()"
   ],
   "metadata": {
    "collapsed": false,
    "pycharm": {
     "name": "#%%\n"
    }
   }
  },
  {
   "cell_type": "code",
   "execution_count": null,
   "outputs": [],
   "source": [
    "outlines = dat['outlines']\n",
    "img = dat['img']\n",
    "outX, outY = np.nonzero(outlines)\n",
    "fig, ax = plt.subplots(figsize=(36,15))\n",
    "imgout = img.copy()\n",
    "imgout[outX, outY] = np.array([255,255,255])\n",
    "ax.imshow(imgout)\n",
    "\n",
    "df_plot = df.loc[df['picture_id'] == image_id]\n",
    "df_plot = df_plot.reset_index()\n",
    "for i in range(len(df_plot)):\n",
    "    ax.text(df_plot['centroid-1'][i], df_plot['centroid-0'][i], df_plot['label'][i], fontsize=18, color = 'red', fontweight = 'bold')\n",
    "\n",
    "plt.show()"
   ],
   "metadata": {
    "collapsed": false,
    "pycharm": {
     "name": "#%%\n"
    }
   }
  },
  {
   "cell_type": "code",
   "execution_count": null,
   "outputs": [],
   "source": [],
   "metadata": {
    "collapsed": false,
    "pycharm": {
     "name": "#%%\n"
    }
   }
  },
  {
   "cell_type": "code",
   "execution_count": null,
   "outputs": [],
   "source": [
    "img = Image.fromarray(img)\n",
    "imgGray = img.convert('L')\n",
    "imgGrayarray = np.asarray(imgGray)\n",
    "fig, ax = plt.subplots(figsize=(36,15))\n",
    "ax.imshow(imgGray, cmap = 'gray')"
   ],
   "metadata": {
    "collapsed": false,
    "pycharm": {
     "name": "#%%\n"
    }
   }
  },
  {
   "cell_type": "code",
   "execution_count": null,
   "outputs": [],
   "source": [],
   "metadata": {
    "collapsed": false,
    "pycharm": {
     "name": "#%%\n"
    }
   }
  },
  {
   "cell_type": "code",
   "execution_count": null,
   "outputs": [],
   "source": [
    "rgb = mask_overlay(imgGrayarray, masks, colors=None)\n",
    "fig, ax = plt.subplots(figsize=(36,15))\n",
    "ax.imshow(rgb)"
   ],
   "metadata": {
    "collapsed": false,
    "pycharm": {
     "name": "#%%\n"
    }
   }
  }
 ],
 "metadata": {
  "kernelspec": {
   "display_name": "Python 3",
   "language": "python",
   "name": "python3"
  },
  "language_info": {
   "codemirror_mode": {
    "name": "ipython",
    "version": 2
   },
   "file_extension": ".py",
   "mimetype": "text/x-python",
   "name": "python",
   "nbconvert_exporter": "python",
   "pygments_lexer": "ipython2",
   "version": "2.7.6"
  }
 },
 "nbformat": 4,
 "nbformat_minor": 0
}
{
 "cells": [
  {
   "cell_type": "code",
   "execution_count": 1,
   "outputs": [],
   "source": [
    "import pandas as pd\n",
    "from inducedRainbow.spatial import kNNDistance\n",
    "from utils import nucStitch\n",
    "from os.path import isfile, join\n",
    "from skimage.measure import regionprops_table\n",
    "from random import seed\n",
    "import numpy as np\n",
    "from scipy.spatial import ConvexHull, convex_hull_plot_2d\n",
    "from scipy.spatial import Delaunay"
   ],
   "metadata": {
    "collapsed": false,
    "pycharm": {
     "name": "#%%\n"
    }
   }
  },
  {
   "cell_type": "code",
   "execution_count": 2,
   "outputs": [],
   "source": [
    "df = pd.read_csv(\"/Volumes/Aortas/Aorta/results/inducedRainbow/allClusterSizesRed.csv\")\n",
    "nucleiPath = '/Volumes/Aortas/Aorta/segmentations/inducedRainbow/final/nuclei'"
   ],
   "metadata": {
    "collapsed": false,
    "pycharm": {
     "name": "#%%\n"
    }
   }
  },
  {
   "cell_type": "code",
   "execution_count": 3,
   "outputs": [
    {
     "data": {
      "text/plain": "      age    aorta    1    2   3   4   5   6  7  8  9  10  11  12  13  14  15\n0    P0-5  aorta01  409   71  27  11   3   2  1  0  0   0   0   0   0   0   0\n1    P0-5  aorta02  327   58  20   9   4   2  1  0  0   0   0   0   0   0   0\n2    P0-5  aorta03  270   61  31  16   6   2  3  1  0   0   0   0   0   0   0\n3    P0-5  aorta04  315  104  33  14  14   2  0  2  0   0   0   1   0   0   0\n4    P0-5  aorta05  228   71  25   2   7   4  0  0  0   0   0   0   0   0   0\n..    ...      ...  ...  ...  ..  ..  ..  .. .. .. ..  ..  ..  ..  ..  ..  ..\n56  P5-60  aorta04  237  167  58  32  16  10  8  2  2   1   1   1   0   0   0\n57  P5-60  aorta05  192  142  38  29  14   5  3  1  1   0   0   0   0   0   0\n58  P5-60  aorta06  207  173  51  34   8   9  7  0  1   1   1   0   0   0   0\n59  P5-60  aorta07  147   73  15   7   2   1  0  1  1   0   0   0   0   0   0\n60  P5-60  aorta08  226  125  35  16   7   4  1  0  1   0   1   0   0   0   0\n\n[61 rows x 17 columns]",
      "text/html": "<div>\n<style scoped>\n    .dataframe tbody tr th:only-of-type {\n        vertical-align: middle;\n    }\n\n    .dataframe tbody tr th {\n        vertical-align: top;\n    }\n\n    .dataframe thead th {\n        text-align: right;\n    }\n</style>\n<table border=\"1\" class=\"dataframe\">\n  <thead>\n    <tr style=\"text-align: right;\">\n      <th></th>\n      <th>age</th>\n      <th>aorta</th>\n      <th>1</th>\n      <th>2</th>\n      <th>3</th>\n      <th>4</th>\n      <th>5</th>\n      <th>6</th>\n      <th>7</th>\n      <th>8</th>\n      <th>9</th>\n      <th>10</th>\n      <th>11</th>\n      <th>12</th>\n      <th>13</th>\n      <th>14</th>\n      <th>15</th>\n    </tr>\n  </thead>\n  <tbody>\n    <tr>\n      <th>0</th>\n      <td>P0-5</td>\n      <td>aorta01</td>\n      <td>409</td>\n      <td>71</td>\n      <td>27</td>\n      <td>11</td>\n      <td>3</td>\n      <td>2</td>\n      <td>1</td>\n      <td>0</td>\n      <td>0</td>\n      <td>0</td>\n      <td>0</td>\n      <td>0</td>\n      <td>0</td>\n      <td>0</td>\n      <td>0</td>\n    </tr>\n    <tr>\n      <th>1</th>\n      <td>P0-5</td>\n      <td>aorta02</td>\n      <td>327</td>\n      <td>58</td>\n      <td>20</td>\n      <td>9</td>\n      <td>4</td>\n      <td>2</td>\n      <td>1</td>\n      <td>0</td>\n      <td>0</td>\n      <td>0</td>\n      <td>0</td>\n      <td>0</td>\n      <td>0</td>\n      <td>0</td>\n      <td>0</td>\n    </tr>\n    <tr>\n      <th>2</th>\n      <td>P0-5</td>\n      <td>aorta03</td>\n      <td>270</td>\n      <td>61</td>\n      <td>31</td>\n      <td>16</td>\n      <td>6</td>\n      <td>2</td>\n      <td>3</td>\n      <td>1</td>\n      <td>0</td>\n      <td>0</td>\n      <td>0</td>\n      <td>0</td>\n      <td>0</td>\n      <td>0</td>\n      <td>0</td>\n    </tr>\n    <tr>\n      <th>3</th>\n      <td>P0-5</td>\n      <td>aorta04</td>\n      <td>315</td>\n      <td>104</td>\n      <td>33</td>\n      <td>14</td>\n      <td>14</td>\n      <td>2</td>\n      <td>0</td>\n      <td>2</td>\n      <td>0</td>\n      <td>0</td>\n      <td>0</td>\n      <td>1</td>\n      <td>0</td>\n      <td>0</td>\n      <td>0</td>\n    </tr>\n    <tr>\n      <th>4</th>\n      <td>P0-5</td>\n      <td>aorta05</td>\n      <td>228</td>\n      <td>71</td>\n      <td>25</td>\n      <td>2</td>\n      <td>7</td>\n      <td>4</td>\n      <td>0</td>\n      <td>0</td>\n      <td>0</td>\n      <td>0</td>\n      <td>0</td>\n      <td>0</td>\n      <td>0</td>\n      <td>0</td>\n      <td>0</td>\n    </tr>\n    <tr>\n      <th>...</th>\n      <td>...</td>\n      <td>...</td>\n      <td>...</td>\n      <td>...</td>\n      <td>...</td>\n      <td>...</td>\n      <td>...</td>\n      <td>...</td>\n      <td>...</td>\n      <td>...</td>\n      <td>...</td>\n      <td>...</td>\n      <td>...</td>\n      <td>...</td>\n      <td>...</td>\n      <td>...</td>\n      <td>...</td>\n    </tr>\n    <tr>\n      <th>56</th>\n      <td>P5-60</td>\n      <td>aorta04</td>\n      <td>237</td>\n      <td>167</td>\n      <td>58</td>\n      <td>32</td>\n      <td>16</td>\n      <td>10</td>\n      <td>8</td>\n      <td>2</td>\n      <td>2</td>\n      <td>1</td>\n      <td>1</td>\n      <td>1</td>\n      <td>0</td>\n      <td>0</td>\n      <td>0</td>\n    </tr>\n    <tr>\n      <th>57</th>\n      <td>P5-60</td>\n      <td>aorta05</td>\n      <td>192</td>\n      <td>142</td>\n      <td>38</td>\n      <td>29</td>\n      <td>14</td>\n      <td>5</td>\n      <td>3</td>\n      <td>1</td>\n      <td>1</td>\n      <td>0</td>\n      <td>0</td>\n      <td>0</td>\n      <td>0</td>\n      <td>0</td>\n      <td>0</td>\n    </tr>\n    <tr>\n      <th>58</th>\n      <td>P5-60</td>\n      <td>aorta06</td>\n      <td>207</td>\n      <td>173</td>\n      <td>51</td>\n      <td>34</td>\n      <td>8</td>\n      <td>9</td>\n      <td>7</td>\n      <td>0</td>\n      <td>1</td>\n      <td>1</td>\n      <td>1</td>\n      <td>0</td>\n      <td>0</td>\n      <td>0</td>\n      <td>0</td>\n    </tr>\n    <tr>\n      <th>59</th>\n      <td>P5-60</td>\n      <td>aorta07</td>\n      <td>147</td>\n      <td>73</td>\n      <td>15</td>\n      <td>7</td>\n      <td>2</td>\n      <td>1</td>\n      <td>0</td>\n      <td>1</td>\n      <td>1</td>\n      <td>0</td>\n      <td>0</td>\n      <td>0</td>\n      <td>0</td>\n      <td>0</td>\n      <td>0</td>\n    </tr>\n    <tr>\n      <th>60</th>\n      <td>P5-60</td>\n      <td>aorta08</td>\n      <td>226</td>\n      <td>125</td>\n      <td>35</td>\n      <td>16</td>\n      <td>7</td>\n      <td>4</td>\n      <td>1</td>\n      <td>0</td>\n      <td>1</td>\n      <td>0</td>\n      <td>1</td>\n      <td>0</td>\n      <td>0</td>\n      <td>0</td>\n      <td>0</td>\n    </tr>\n  </tbody>\n</table>\n<p>61 rows × 17 columns</p>\n</div>"
     },
     "execution_count": 3,
     "metadata": {},
     "output_type": "execute_result"
    }
   ],
   "source": [
    "df"
   ],
   "metadata": {
    "collapsed": false,
    "pycharm": {
     "name": "#%%\n"
    }
   }
  },
  {
   "cell_type": "code",
   "execution_count": 4,
   "outputs": [],
   "source": [
    "dfMarked1NN = pd.DataFrame(columns= ['age', 'aorta', 'value'])\n",
    "dfMarked2NN = pd.DataFrame(columns= ['age', 'aorta', 'value'])\n",
    "dfMarked3NN = pd.DataFrame(columns= ['age', 'aorta','value'])\n",
    "dfMarked4NN = pd.DataFrame(columns= ['age', 'aorta', 'value'])\n",
    "dfMarked5NN = pd.DataFrame(columns= ['age', 'aorta', 'value'])\n",
    "\n",
    "dfDivided1NN = pd.DataFrame(columns= ['age', 'aorta', 'value'])\n",
    "dfDivided2NN = pd.DataFrame(columns= ['age', 'aorta', 'value'])\n",
    "dfDivided3NN = pd.DataFrame(columns= ['age', 'aorta','value'])\n",
    "dfDivided4NN = pd.DataFrame(columns= ['age', 'aorta', 'value'])\n",
    "dfDivided5NN = pd.DataFrame(columns= ['age', 'aorta', 'value'])"
   ],
   "metadata": {
    "collapsed": false,
    "pycharm": {
     "name": "#%%\n"
    }
   }
  },
  {
   "cell_type": "code",
   "execution_count": 5,
   "outputs": [
    {
     "name": "stdout",
     "output_type": "stream",
     "text": [
      "21-30\n",
      "aorta04\n",
      "21-30\n",
      "aorta05\n"
     ]
    }
   ],
   "source": [
    "simulationNumber = 1000\n",
    "for index, row in df.iterrows():\n",
    "    marked = df.iloc[index, 2:].to_numpy().sum()\n",
    "    divided = df.iloc[index, 3:].to_numpy().sum()\n",
    "    markedRandomBasis = []\n",
    "    dividedRandomBasis = []\n",
    "    age = row[\"age\"].split(\"P\")[-1]\n",
    "    aorta = row[\"aorta\"]\n",
    "    nucImage = nucStitch.fullNucImage16(join(nucleiPath, age, aorta))\n",
    "    prop_dict = regionprops_table(nucImage, properties = ('label', 'centroid'))\n",
    "    dfNuc = pd.DataFrame(prop_dict)\n",
    "    nucIDs = dfNuc['label'].tolist()\n",
    "    seed(42)\n",
    "    for _ in range(simulationNumber):\n",
    "        markedRandomBasis.append(np.asarray(kNNDistance.randomkNNDistances(nucIDs,marked, dfNuc)))\n",
    "        if divided > 7:\n",
    "            dividedRandomBasis.append(np.asarray(kNNDistance.randomkNNDistances(nucIDs,divided, dfNuc)))\n",
    "\n",
    "    markedRandomTest = np.asarray(kNNDistance.randomkNNDistances(nucIDs,marked, dfNuc))\n",
    "    if divided > 7:\n",
    "        dividedRandomTest = np.asarray(kNNDistance.randomkNNDistances(nucIDs,divided, dfNuc))\n",
    "    markedRandomBasis = np.asarray(markedRandomBasis)\n",
    "    markedRandomTest = np.asarray(markedRandomTest)\n",
    "    dividedRandomBasis = np.asarray(dividedRandomBasis)\n",
    "    dividedRandomTest = np.asarray(dividedRandomTest)\n",
    "\n",
    "    dfMarked1NN = pd.concat([dfMarked1NN,pd.DataFrame({\"age\": age, \"aorta\": aorta, \"value\": markedRandomTest[:,1].flatten()/np.mean(markedRandomBasis[:,:,1].flatten()) -1})])\n",
    "    dfMarked2NN = pd.concat([dfMarked2NN,pd.DataFrame({\"age\": age, \"aorta\": aorta, \"value\": markedRandomTest[:,2].flatten()/np.mean(markedRandomBasis[:,:,2].flatten()) -1})])\n",
    "    dfMarked3NN = pd.concat([dfMarked3NN,pd.DataFrame({\"age\": age, \"aorta\": aorta, \"value\": markedRandomTest[:,3].flatten()/np.mean(markedRandomBasis[:,:,3].flatten()) -1})])\n",
    "    dfMarked4NN = pd.concat([dfMarked4NN,pd.DataFrame({\"age\": age, \"aorta\": aorta, \"value\": markedRandomTest[:,4].flatten()/np.mean(markedRandomBasis[:,:,4].flatten()) -1})])\n",
    "    dfMarked5NN = pd.concat([dfMarked5NN,pd.DataFrame({\"age\": age, \"aorta\": aorta, \"value\": markedRandomTest[:,5].flatten()/np.mean(markedRandomBasis[:,:,5].flatten()) -1})])\n",
    "\n",
    "    if divided > 7:\n",
    "        dfDivided1NN = pd.concat([dfDivided1NN,pd.DataFrame({\"age\": age, \"aorta\": aorta, \"value\": dividedRandomTest[:,1].flatten()/np.mean(dividedRandomBasis[:,:,1].flatten()) -1})])\n",
    "        dfDivided2NN = pd.concat([dfDivided2NN,pd.DataFrame({\"age\": age, \"aorta\": aorta, \"value\": dividedRandomTest[:,2].flatten()/np.mean(dividedRandomBasis[:,:,2].flatten()) -1})])\n",
    "        dfDivided3NN = pd.concat([dfDivided3NN,pd.DataFrame({\"age\": age, \"aorta\": aorta, \"value\": dividedRandomTest[:,3].flatten()/np.mean(dividedRandomBasis[:,:,3].flatten()) -1})])\n",
    "        dfDivided4NN = pd.concat([dfDivided4NN,pd.DataFrame({\"age\": age, \"aorta\": aorta, \"value\": dividedRandomTest[:,4].flatten()/np.mean(dividedRandomBasis[:,:,4].flatten()) -1})])\n",
    "        dfDivided5NN =pd.concat([dfDivided5NN,pd.DataFrame({\"age\": age, \"aorta\": aorta, \"value\": dividedRandomTest[:,5].flatten()/np.mean(dividedRandomBasis[:,:,5].flatten()) -1})])\n",
    "    else:\n",
    "        print(age)\n",
    "        print(aorta)\n"
   ],
   "metadata": {
    "collapsed": false,
    "pycharm": {
     "name": "#%%\n"
    }
   }
  },
  {
   "cell_type": "code",
   "execution_count": null,
   "outputs": [],
   "source": [],
   "metadata": {
    "collapsed": false,
    "pycharm": {
     "name": "#%%\n"
    }
   }
  },
  {
   "cell_type": "code",
   "execution_count": 6,
   "outputs": [],
   "source": [
    "dfMarked1NN['kNNType'] = \"1NN\"\n",
    "dfMarked2NN['kNNType'] = \"2NN\"\n",
    "dfMarked3NN['kNNType'] = \"3NN\"\n",
    "dfMarked4NN['kNNType'] = \"4NN\"\n",
    "dfMarked5NN['kNNType'] = \"5NN\"\n",
    "dfMarkedAll = pd.concat([dfMarked1NN, dfMarked2NN, dfMarked3NN, dfMarked4NN, dfMarked5NN])"
   ],
   "metadata": {
    "collapsed": false,
    "pycharm": {
     "name": "#%%\n"
    }
   }
  },
  {
   "cell_type": "code",
   "execution_count": 7,
   "outputs": [],
   "source": [
    "dfDivided1NN['kNNType'] = \"1NN\"\n",
    "dfDivided2NN['kNNType'] = \"2NN\"\n",
    "dfDivided3NN['kNNType'] = \"3NN\"\n",
    "dfDivided4NN['kNNType'] = \"4NN\"\n",
    "dfDivided5NN['kNNType'] = \"5NN\"\n",
    "dfDividedAll = pd.concat([dfDivided1NN, dfDivided2NN, dfDivided3NN, dfDivided4NN, dfDivided5NN])"
   ],
   "metadata": {
    "collapsed": false,
    "pycharm": {
     "name": "#%%\n"
    }
   }
  },
  {
   "cell_type": "code",
   "execution_count": 9,
   "outputs": [
    {
     "data": {
      "text/plain": "               value  kNNType\nage   aorta                  \n0-10  aorta01   1665     1665\n      aorta02   1495     1495\n      aorta03    890      890\n      aorta04    640      640\n      aorta05    775      775\n      aorta06    530      530\n0-5   aorta01    575      575\n      aorta02    470      470\n      aorta03    600      600\n      aorta04    850      850\n      aorta05    545      545\n      aorta06    565      565\n10-21 aorta01    785      785\n      aorta02    305      305\n      aorta03    615      615\n      aorta04    385      385\n      aorta05    690      690\n10-30 aorta01    990      990\n      aorta02   1220     1220\n      aorta03    575      575\n      aorta04    715      715\n      aorta05    635      635\n      aorta06    800      800\n      aorta07    865      865\n10-60 aorta01    540      540\n      aorta02    930      930\n      aorta03   1040     1040\n      aorta04   1180     1180\n      aorta05    455      455\n      aorta06   1265     1265\n21-30 aorta01    135      135\n      aorta02     80       80\n      aorta03    100      100\n30-60 aorta01    275      275\n      aorta02    125      125\n      aorta03    225      225\n      aorta04    230      230\n      aorta05     80       80\n5-10  aorta01   1180     1180\n      aorta02    595      595\n      aorta03    445      445\n      aorta04    945      945\n      aorta06    480      480\n      aorta07    665      665\n      aorta08    680      680\n5-30  aorta01   1215     1215\n      aorta02    940      940\n      aorta03    560      560\n      aorta04    915      915\n      aorta05    650      650\n      aorta06   1140     1140\n5-60  aorta01    685      685\n      aorta02   1275     1275\n      aorta03    675      675\n      aorta04   1490     1490\n      aorta05   1165     1165\n      aorta06   1425     1425\n      aorta07    500      500\n      aorta08    950      950",
      "text/html": "<div>\n<style scoped>\n    .dataframe tbody tr th:only-of-type {\n        vertical-align: middle;\n    }\n\n    .dataframe tbody tr th {\n        vertical-align: top;\n    }\n\n    .dataframe thead th {\n        text-align: right;\n    }\n</style>\n<table border=\"1\" class=\"dataframe\">\n  <thead>\n    <tr style=\"text-align: right;\">\n      <th></th>\n      <th></th>\n      <th>value</th>\n      <th>kNNType</th>\n    </tr>\n    <tr>\n      <th>age</th>\n      <th>aorta</th>\n      <th></th>\n      <th></th>\n    </tr>\n  </thead>\n  <tbody>\n    <tr>\n      <th rowspan=\"6\" valign=\"top\">0-10</th>\n      <th>aorta01</th>\n      <td>1665</td>\n      <td>1665</td>\n    </tr>\n    <tr>\n      <th>aorta02</th>\n      <td>1495</td>\n      <td>1495</td>\n    </tr>\n    <tr>\n      <th>aorta03</th>\n      <td>890</td>\n      <td>890</td>\n    </tr>\n    <tr>\n      <th>aorta04</th>\n      <td>640</td>\n      <td>640</td>\n    </tr>\n    <tr>\n      <th>aorta05</th>\n      <td>775</td>\n      <td>775</td>\n    </tr>\n    <tr>\n      <th>aorta06</th>\n      <td>530</td>\n      <td>530</td>\n    </tr>\n    <tr>\n      <th rowspan=\"6\" valign=\"top\">0-5</th>\n      <th>aorta01</th>\n      <td>575</td>\n      <td>575</td>\n    </tr>\n    <tr>\n      <th>aorta02</th>\n      <td>470</td>\n      <td>470</td>\n    </tr>\n    <tr>\n      <th>aorta03</th>\n      <td>600</td>\n      <td>600</td>\n    </tr>\n    <tr>\n      <th>aorta04</th>\n      <td>850</td>\n      <td>850</td>\n    </tr>\n    <tr>\n      <th>aorta05</th>\n      <td>545</td>\n      <td>545</td>\n    </tr>\n    <tr>\n      <th>aorta06</th>\n      <td>565</td>\n      <td>565</td>\n    </tr>\n    <tr>\n      <th rowspan=\"5\" valign=\"top\">10-21</th>\n      <th>aorta01</th>\n      <td>785</td>\n      <td>785</td>\n    </tr>\n    <tr>\n      <th>aorta02</th>\n      <td>305</td>\n      <td>305</td>\n    </tr>\n    <tr>\n      <th>aorta03</th>\n      <td>615</td>\n      <td>615</td>\n    </tr>\n    <tr>\n      <th>aorta04</th>\n      <td>385</td>\n      <td>385</td>\n    </tr>\n    <tr>\n      <th>aorta05</th>\n      <td>690</td>\n      <td>690</td>\n    </tr>\n    <tr>\n      <th rowspan=\"7\" valign=\"top\">10-30</th>\n      <th>aorta01</th>\n      <td>990</td>\n      <td>990</td>\n    </tr>\n    <tr>\n      <th>aorta02</th>\n      <td>1220</td>\n      <td>1220</td>\n    </tr>\n    <tr>\n      <th>aorta03</th>\n      <td>575</td>\n      <td>575</td>\n    </tr>\n    <tr>\n      <th>aorta04</th>\n      <td>715</td>\n      <td>715</td>\n    </tr>\n    <tr>\n      <th>aorta05</th>\n      <td>635</td>\n      <td>635</td>\n    </tr>\n    <tr>\n      <th>aorta06</th>\n      <td>800</td>\n      <td>800</td>\n    </tr>\n    <tr>\n      <th>aorta07</th>\n      <td>865</td>\n      <td>865</td>\n    </tr>\n    <tr>\n      <th rowspan=\"6\" valign=\"top\">10-60</th>\n      <th>aorta01</th>\n      <td>540</td>\n      <td>540</td>\n    </tr>\n    <tr>\n      <th>aorta02</th>\n      <td>930</td>\n      <td>930</td>\n    </tr>\n    <tr>\n      <th>aorta03</th>\n      <td>1040</td>\n      <td>1040</td>\n    </tr>\n    <tr>\n      <th>aorta04</th>\n      <td>1180</td>\n      <td>1180</td>\n    </tr>\n    <tr>\n      <th>aorta05</th>\n      <td>455</td>\n      <td>455</td>\n    </tr>\n    <tr>\n      <th>aorta06</th>\n      <td>1265</td>\n      <td>1265</td>\n    </tr>\n    <tr>\n      <th rowspan=\"3\" valign=\"top\">21-30</th>\n      <th>aorta01</th>\n      <td>135</td>\n      <td>135</td>\n    </tr>\n    <tr>\n      <th>aorta02</th>\n      <td>80</td>\n      <td>80</td>\n    </tr>\n    <tr>\n      <th>aorta03</th>\n      <td>100</td>\n      <td>100</td>\n    </tr>\n    <tr>\n      <th rowspan=\"5\" valign=\"top\">30-60</th>\n      <th>aorta01</th>\n      <td>275</td>\n      <td>275</td>\n    </tr>\n    <tr>\n      <th>aorta02</th>\n      <td>125</td>\n      <td>125</td>\n    </tr>\n    <tr>\n      <th>aorta03</th>\n      <td>225</td>\n      <td>225</td>\n    </tr>\n    <tr>\n      <th>aorta04</th>\n      <td>230</td>\n      <td>230</td>\n    </tr>\n    <tr>\n      <th>aorta05</th>\n      <td>80</td>\n      <td>80</td>\n    </tr>\n    <tr>\n      <th rowspan=\"7\" valign=\"top\">5-10</th>\n      <th>aorta01</th>\n      <td>1180</td>\n      <td>1180</td>\n    </tr>\n    <tr>\n      <th>aorta02</th>\n      <td>595</td>\n      <td>595</td>\n    </tr>\n    <tr>\n      <th>aorta03</th>\n      <td>445</td>\n      <td>445</td>\n    </tr>\n    <tr>\n      <th>aorta04</th>\n      <td>945</td>\n      <td>945</td>\n    </tr>\n    <tr>\n      <th>aorta06</th>\n      <td>480</td>\n      <td>480</td>\n    </tr>\n    <tr>\n      <th>aorta07</th>\n      <td>665</td>\n      <td>665</td>\n    </tr>\n    <tr>\n      <th>aorta08</th>\n      <td>680</td>\n      <td>680</td>\n    </tr>\n    <tr>\n      <th rowspan=\"6\" valign=\"top\">5-30</th>\n      <th>aorta01</th>\n      <td>1215</td>\n      <td>1215</td>\n    </tr>\n    <tr>\n      <th>aorta02</th>\n      <td>940</td>\n      <td>940</td>\n    </tr>\n    <tr>\n      <th>aorta03</th>\n      <td>560</td>\n      <td>560</td>\n    </tr>\n    <tr>\n      <th>aorta04</th>\n      <td>915</td>\n      <td>915</td>\n    </tr>\n    <tr>\n      <th>aorta05</th>\n      <td>650</td>\n      <td>650</td>\n    </tr>\n    <tr>\n      <th>aorta06</th>\n      <td>1140</td>\n      <td>1140</td>\n    </tr>\n    <tr>\n      <th rowspan=\"8\" valign=\"top\">5-60</th>\n      <th>aorta01</th>\n      <td>685</td>\n      <td>685</td>\n    </tr>\n    <tr>\n      <th>aorta02</th>\n      <td>1275</td>\n      <td>1275</td>\n    </tr>\n    <tr>\n      <th>aorta03</th>\n      <td>675</td>\n      <td>675</td>\n    </tr>\n    <tr>\n      <th>aorta04</th>\n      <td>1490</td>\n      <td>1490</td>\n    </tr>\n    <tr>\n      <th>aorta05</th>\n      <td>1165</td>\n      <td>1165</td>\n    </tr>\n    <tr>\n      <th>aorta06</th>\n      <td>1425</td>\n      <td>1425</td>\n    </tr>\n    <tr>\n      <th>aorta07</th>\n      <td>500</td>\n      <td>500</td>\n    </tr>\n    <tr>\n      <th>aorta08</th>\n      <td>950</td>\n      <td>950</td>\n    </tr>\n  </tbody>\n</table>\n</div>"
     },
     "execution_count": 9,
     "metadata": {},
     "output_type": "execute_result"
    }
   ],
   "source": [
    "dfDividedAll.groupby([\"age\", \"aorta\"]).count()"
   ],
   "metadata": {
    "collapsed": false,
    "pycharm": {
     "name": "#%%\n"
    }
   }
  },
  {
   "cell_type": "code",
   "execution_count": 10,
   "outputs": [
    {
     "data": {
      "text/plain": "      age    aorta     value kNNType\n0     0-5  aorta01  0.125844     1NN\n1     0-5  aorta01 -0.059619     1NN\n2     0-5  aorta01 -0.059619     1NN\n3     0-5  aorta01  0.503637     1NN\n4     0-5  aorta01  -0.63214     1NN\n..    ...      ...       ...     ...\n185  5-60  aorta08 -0.133059     5NN\n186  5-60  aorta08 -0.304341     5NN\n187  5-60  aorta08 -0.029726     5NN\n188  5-60  aorta08  0.096297     5NN\n189  5-60  aorta08  0.142287     5NN\n\n[43415 rows x 4 columns]",
      "text/html": "<div>\n<style scoped>\n    .dataframe tbody tr th:only-of-type {\n        vertical-align: middle;\n    }\n\n    .dataframe tbody tr th {\n        vertical-align: top;\n    }\n\n    .dataframe thead th {\n        text-align: right;\n    }\n</style>\n<table border=\"1\" class=\"dataframe\">\n  <thead>\n    <tr style=\"text-align: right;\">\n      <th></th>\n      <th>age</th>\n      <th>aorta</th>\n      <th>value</th>\n      <th>kNNType</th>\n    </tr>\n  </thead>\n  <tbody>\n    <tr>\n      <th>0</th>\n      <td>0-5</td>\n      <td>aorta01</td>\n      <td>0.125844</td>\n      <td>1NN</td>\n    </tr>\n    <tr>\n      <th>1</th>\n      <td>0-5</td>\n      <td>aorta01</td>\n      <td>-0.059619</td>\n      <td>1NN</td>\n    </tr>\n    <tr>\n      <th>2</th>\n      <td>0-5</td>\n      <td>aorta01</td>\n      <td>-0.059619</td>\n      <td>1NN</td>\n    </tr>\n    <tr>\n      <th>3</th>\n      <td>0-5</td>\n      <td>aorta01</td>\n      <td>0.503637</td>\n      <td>1NN</td>\n    </tr>\n    <tr>\n      <th>4</th>\n      <td>0-5</td>\n      <td>aorta01</td>\n      <td>-0.63214</td>\n      <td>1NN</td>\n    </tr>\n    <tr>\n      <th>...</th>\n      <td>...</td>\n      <td>...</td>\n      <td>...</td>\n      <td>...</td>\n    </tr>\n    <tr>\n      <th>185</th>\n      <td>5-60</td>\n      <td>aorta08</td>\n      <td>-0.133059</td>\n      <td>5NN</td>\n    </tr>\n    <tr>\n      <th>186</th>\n      <td>5-60</td>\n      <td>aorta08</td>\n      <td>-0.304341</td>\n      <td>5NN</td>\n    </tr>\n    <tr>\n      <th>187</th>\n      <td>5-60</td>\n      <td>aorta08</td>\n      <td>-0.029726</td>\n      <td>5NN</td>\n    </tr>\n    <tr>\n      <th>188</th>\n      <td>5-60</td>\n      <td>aorta08</td>\n      <td>0.096297</td>\n      <td>5NN</td>\n    </tr>\n    <tr>\n      <th>189</th>\n      <td>5-60</td>\n      <td>aorta08</td>\n      <td>0.142287</td>\n      <td>5NN</td>\n    </tr>\n  </tbody>\n</table>\n<p>43415 rows × 4 columns</p>\n</div>"
     },
     "execution_count": 10,
     "metadata": {},
     "output_type": "execute_result"
    }
   ],
   "source": [
    "dfDividedAll"
   ],
   "metadata": {
    "collapsed": false,
    "pycharm": {
     "name": "#%%\n"
    }
   }
  },
  {
   "cell_type": "code",
   "execution_count": 11,
   "outputs": [],
   "source": [
    "savePath = \"/Users/jones/Downloads\"\n",
    "dfMarkedAll.to_csv(join(savePath, \"markedNegativeControlkNN1Run_v2.csv\"), index=False)\n",
    "dfDividedAll.to_csv(join(savePath, \"dividedNegativeControlkNN1Run_2.csv\"), index=False)"
   ],
   "metadata": {
    "collapsed": false,
    "pycharm": {
     "name": "#%%\n"
    }
   }
  },
  {
   "cell_type": "code",
   "execution_count": 11,
   "outputs": [],
   "source": [],
   "metadata": {
    "collapsed": false,
    "pycharm": {
     "name": "#%%\n"
    }
   }
  },
  {
   "cell_type": "code",
   "execution_count": 15,
   "outputs": [],
   "source": [
    "dfMarked1NNMid = pd.DataFrame(columns= ['age', 'aorta', 'value'])\n",
    "dfMarked2NNMid = pd.DataFrame(columns= ['age', 'aorta', 'value'])\n",
    "dfMarked3NNMid = pd.DataFrame(columns= ['age', 'aorta','value'])\n",
    "dfMarked4NNMid = pd.DataFrame(columns= ['age', 'aorta', 'value'])\n",
    "dfMarked5NNMid = pd.DataFrame(columns= ['age', 'aorta', 'value'])\n",
    "\n",
    "dfDivided1NNMid = pd.DataFrame(columns= ['age', 'aorta', 'value'])\n",
    "dfDivided2NNMid = pd.DataFrame(columns= ['age', 'aorta', 'value'])\n",
    "dfDivided3NNMid = pd.DataFrame(columns= ['age', 'aorta','value'])\n",
    "dfDivided4NNMid = pd.DataFrame(columns= ['age', 'aorta', 'value'])\n",
    "dfDivided5NNMid = pd.DataFrame(columns= ['age', 'aorta', 'value'])\n",
    "\n",
    "dfMarked1NNOut = pd.DataFrame(columns= ['age', 'aorta', 'value'])\n",
    "dfMarked2NNOut = pd.DataFrame(columns= ['age', 'aorta', 'value'])\n",
    "dfMarked3NNOut = pd.DataFrame(columns= ['age', 'aorta','value'])\n",
    "dfMarked4NNOut = pd.DataFrame(columns= ['age', 'aorta', 'value'])\n",
    "dfMarked5NNOut = pd.DataFrame(columns= ['age', 'aorta', 'value'])\n",
    "\n",
    "dfDivided1NNOut = pd.DataFrame(columns= ['age', 'aorta', 'value'])\n",
    "dfDivided2NNOut = pd.DataFrame(columns= ['age', 'aorta', 'value'])\n",
    "dfDivided3NNOut = pd.DataFrame(columns= ['age', 'aorta','value'])\n",
    "dfDivided4NNOut = pd.DataFrame(columns= ['age', 'aorta', 'value'])\n",
    "dfDivided5NNOut = pd.DataFrame(columns= ['age', 'aorta', 'value'])"
   ],
   "metadata": {
    "collapsed": false,
    "pycharm": {
     "name": "#%%\n"
    }
   }
  },
  {
   "cell_type": "code",
   "execution_count": 16,
   "outputs": [],
   "source": [
    "##clusters only in middle of image (positive control)\n",
    "\n",
    "simulationNumber = 1000\n",
    "for index, row in df.iterrows():\n",
    "    marked = df.iloc[index, 2:].to_numpy().sum()\n",
    "    divided = df.iloc[index, 3:].to_numpy().sum()\n",
    "    markedRandomBasis = []\n",
    "    dividedRandomBasis = []\n",
    "    age = row[\"age\"].split(\"P\")[-1]\n",
    "    aorta = row[\"aorta\"]\n",
    "    nucImage = nucStitch.fullNucImage16(join(nucleiPath, age, aorta))\n",
    "    midNucImage = nucStitch.middleNucImage(join(nucleiPath, age, aorta)).astype(int)\n",
    "    outNucImage = nucStitch.outsideNucImage(join(nucleiPath, age, aorta)).astype(int)\n",
    "    prop_dict = regionprops_table(nucImage, properties = ('label', 'centroid'))\n",
    "    dfNuc = pd.DataFrame(prop_dict)\n",
    "    nucIDs = dfNuc['label'].tolist()\n",
    "    seed(42)\n",
    "    for _ in range(simulationNumber):\n",
    "        markedRandomBasis.append(np.asarray(kNNDistance.randomkNNDistances(nucIDs,marked, dfNuc)))\n",
    "        if divided > 7:\n",
    "            dividedRandomBasis.append(np.asarray(kNNDistance.randomkNNDistances(nucIDs,divided, dfNuc)))\n",
    "\n",
    "    prop_dictMid = regionprops_table(midNucImage, properties = ('label', 'centroid'))\n",
    "    dfNucMid = pd.DataFrame(prop_dictMid)\n",
    "    nucIDsMid = dfNucMid['label'].tolist()\n",
    "    markedMid = np.asarray(kNNDistance.randomkNNDistances(nucIDsMid,marked, dfNucMid))\n",
    "    if divided > 7:\n",
    "        dividedMid = np.asarray(kNNDistance.randomkNNDistances(nucIDsMid,divided, dfNucMid))\n",
    "\n",
    "\n",
    "    prop_dictOut = regionprops_table(outNucImage, properties = ('label', 'centroid'))\n",
    "    dfNucOut = pd.DataFrame(prop_dictOut)\n",
    "    nucIDsOut = dfNucOut['label'].tolist()\n",
    "    markedOut = np.asarray(kNNDistance.randomkNNDistances(nucIDsOut,marked, dfNucOut))\n",
    "    if divided > 7:\n",
    "        dividedOut = np.asarray(kNNDistance.randomkNNDistances(nucIDsOut,divided, dfNucOut))\n",
    "\n",
    "\n",
    "\n",
    "    markedRandomBasis = np.asarray(markedRandomBasis)\n",
    "    markedMid = np.asarray(markedMid)\n",
    "    markedOut = np.asarray(markedOut)\n",
    "    dividedRandomBasis = np.asarray(dividedRandomBasis)\n",
    "    dividedMid = np.asarray(dividedMid)\n",
    "    dividedOut = np.asarray(dividedOut)\n",
    "\n",
    "    dfMarked1NNMid = pd.concat([dfMarked1NNMid,pd.DataFrame({\"age\": age, \"aorta\": aorta, \"value\": markedMid[:,1].flatten()/np.mean(markedRandomBasis[:,:,1].flatten()) -1})])\n",
    "    dfMarked2NNMid = pd.concat([dfMarked2NNMid,pd.DataFrame({\"age\": age, \"aorta\": aorta, \"value\": markedMid[:,2].flatten()/np.mean(markedRandomBasis[:,:,2].flatten()) -1})])\n",
    "    dfMarked3NNMid = pd.concat([dfMarked3NNMid,pd.DataFrame({\"age\": age, \"aorta\": aorta, \"value\": markedMid[:,3].flatten()/np.mean(markedRandomBasis[:,:,3].flatten()) -1})])\n",
    "    dfMarked4NNMid = pd.concat([dfMarked4NNMid,pd.DataFrame({\"age\": age, \"aorta\": aorta, \"value\": markedMid[:,4].flatten()/np.mean(markedRandomBasis[:,:,4].flatten()) -1})])\n",
    "    dfMarked5NNMid = pd.concat([dfMarked5NNMid,pd.DataFrame({\"age\": age, \"aorta\": aorta, \"value\": markedMid[:,5].flatten()/np.mean(markedRandomBasis[:,:,5].flatten()) -1})])\n",
    "\n",
    "    dfMarked1NNOut = pd.concat([dfMarked1NNOut,pd.DataFrame({\"age\": age, \"aorta\": aorta, \"value\": markedOut[:,1].flatten()/np.mean(markedRandomBasis[:,:,1].flatten()) -1})])\n",
    "    dfMarked2NNOut = pd.concat([dfMarked2NNOut,pd.DataFrame({\"age\": age, \"aorta\": aorta, \"value\": markedOut[:,2].flatten()/np.mean(markedRandomBasis[:,:,2].flatten()) -1})])\n",
    "    dfMarked3NNOut = pd.concat([dfMarked3NNOut,pd.DataFrame({\"age\": age, \"aorta\": aorta, \"value\": markedOut[:,3].flatten()/np.mean(markedRandomBasis[:,:,3].flatten()) -1})])\n",
    "    dfMarked4NNOut = pd.concat([dfMarked4NNOut,pd.DataFrame({\"age\": age, \"aorta\": aorta, \"value\": markedOut[:,4].flatten()/np.mean(markedRandomBasis[:,:,4].flatten()) -1})])\n",
    "    dfMarked5NNOut = pd.concat([dfMarked5NNOut,pd.DataFrame({\"age\": age, \"aorta\": aorta, \"value\": markedOut[:,5].flatten()/np.mean(markedRandomBasis[:,:,5].flatten()) -1})])\n",
    "\n",
    "    if divided > 7:\n",
    "        dfDivided1NNMid = pd.concat([dfDivided1NNMid,pd.DataFrame({\"age\": age, \"aorta\": aorta, \"value\": dividedMid[:,1].flatten()/np.mean(dividedRandomBasis[:,:,1].flatten()) -1})])\n",
    "        dfDivided2NNMid = pd.concat([dfDivided2NNMid,pd.DataFrame({\"age\": age, \"aorta\": aorta, \"value\": dividedMid[:,2].flatten()/np.mean(dividedRandomBasis[:,:,2].flatten()) -1})])\n",
    "        dfDivided3NNMid = pd.concat([dfDivided3NNMid,pd.DataFrame({\"age\": age, \"aorta\": aorta, \"value\": dividedMid[:,3].flatten()/np.mean(dividedRandomBasis[:,:,3].flatten()) -1})])\n",
    "        dfDivided4NNMid = pd.concat([dfDivided4NNMid,pd.DataFrame({\"age\": age, \"aorta\": aorta, \"value\": dividedMid[:,4].flatten()/np.mean(dividedRandomBasis[:,:,4].flatten()) -1})])\n",
    "        dfDivided5NNMid = pd.concat([dfDivided5NNMid,pd.DataFrame({\"age\": age, \"aorta\": aorta, \"value\": dividedMid[:,5].flatten()/np.mean(dividedRandomBasis[:,:,5].flatten()) -1})])\n",
    "\n",
    "        dfDivided1NNOut = pd.concat([dfDivided1NNOut,pd.DataFrame({\"age\": age, \"aorta\": aorta, \"value\": dividedOut[:,1].flatten()/np.mean(dividedRandomBasis[:,:,1].flatten()) -1})])\n",
    "        dfDivided2NNOut = pd.concat([dfDivided2NNOut,pd.DataFrame({\"age\": age, \"aorta\": aorta, \"value\": dividedOut[:,2].flatten()/np.mean(dividedRandomBasis[:,:,2].flatten()) -1})])\n",
    "        dfDivided3NNOut = pd.concat([dfDivided3NNOut,pd.DataFrame({\"age\": age, \"aorta\": aorta, \"value\": dividedOut[:,3].flatten()/np.mean(dividedRandomBasis[:,:,3].flatten()) -1})])\n",
    "        dfDivided4NNOut = pd.concat([dfDivided4NNOut,pd.DataFrame({\"age\": age, \"aorta\": aorta, \"value\": dividedOut[:,4].flatten()/np.mean(dividedRandomBasis[:,:,4].flatten()) -1})])\n",
    "        dfDivided5NNOut = pd.concat([dfDivided5NNOut,pd.DataFrame({\"age\": age, \"aorta\": aorta, \"value\": dividedOut[:,5].flatten()/np.mean(dividedRandomBasis[:,:,5].flatten()) -1})])\n"
   ],
   "metadata": {
    "collapsed": false,
    "pycharm": {
     "name": "#%%\n"
    }
   }
  },
  {
   "cell_type": "code",
   "execution_count": 16,
   "outputs": [],
   "source": [],
   "metadata": {
    "collapsed": false,
    "pycharm": {
     "name": "#%%\n"
    }
   }
  },
  {
   "cell_type": "code",
   "execution_count": 17,
   "outputs": [],
   "source": [
    "dfMarked1NNMid['kNNType'] = \"1NN\"\n",
    "dfMarked2NNMid['kNNType'] = \"2NN\"\n",
    "dfMarked3NNMid['kNNType'] = \"3NN\"\n",
    "dfMarked4NNMid['kNNType'] = \"4NN\"\n",
    "dfMarked5NNMid['kNNType'] = \"5NN\"\n",
    "dfMarkedAllMid = pd.concat([dfMarked1NNMid, dfMarked2NNMid, dfMarked3NNMid, dfMarked4NNMid, dfMarked5NNMid])\n",
    "\n",
    "dfMarked1NNOut['kNNType'] = \"1NN\"\n",
    "dfMarked2NNOut['kNNType'] = \"2NN\"\n",
    "dfMarked3NNOut['kNNType'] = \"3NN\"\n",
    "dfMarked4NNOut['kNNType'] = \"4NN\"\n",
    "dfMarked5NNOut['kNNType'] = \"5NN\"\n",
    "dfMarkedAllOut = pd.concat([dfMarked1NNOut, dfMarked2NNOut, dfMarked3NNOut, dfMarked4NNOut, dfMarked5NNOut])"
   ],
   "metadata": {
    "collapsed": false,
    "pycharm": {
     "name": "#%%\n"
    }
   }
  },
  {
   "cell_type": "code",
   "execution_count": 18,
   "outputs": [],
   "source": [
    "dfDivided1NNMid['kNNType'] = \"1NN\"\n",
    "dfDivided2NNMid['kNNType'] = \"2NN\"\n",
    "dfDivided3NNMid['kNNType'] = \"3NN\"\n",
    "dfDivided4NNMid['kNNType'] = \"4NN\"\n",
    "dfDivided5NNMid['kNNType'] = \"5NN\"\n",
    "dfDividedAllMid = pd.concat([dfDivided1NNMid, dfDivided2NNMid, dfDivided3NNMid, dfDivided4NNMid, dfDivided5NNMid])\n",
    "\n",
    "dfDivided1NNOut['kNNType'] = \"1NN\"\n",
    "dfDivided2NNOut['kNNType'] = \"2NN\"\n",
    "dfDivided3NNOut['kNNType'] = \"3NN\"\n",
    "dfDivided4NNOut['kNNType'] = \"4NN\"\n",
    "dfDivided5NNOut['kNNType'] = \"5NN\"\n",
    "dfDividedAllOut = pd.concat([dfDivided1NNOut, dfDivided2NNOut, dfDivided3NNOut, dfDivided4NNOut, dfDivided5NNOut])"
   ],
   "metadata": {
    "collapsed": false,
    "pycharm": {
     "name": "#%%\n"
    }
   }
  },
  {
   "cell_type": "code",
   "execution_count": 23,
   "outputs": [
    {
     "data": {
      "text/plain": "      age    aorta     value kNNType\n0     0-5  aorta01 -0.700787     1NN\n1     0-5  aorta01 -0.700787     1NN\n2     0-5  aorta01 -0.397508     1NN\n3     0-5  aorta01 -0.134617     1NN\n4     0-5  aorta01 -0.397508     1NN\n..    ...      ...       ...     ...\n185  5-60  aorta08 -0.542828     5NN\n186  5-60  aorta08 -0.193931     5NN\n187  5-60  aorta08 -0.394591     5NN\n188  5-60  aorta08 -0.465423     5NN\n189  5-60  aorta08 -0.385758     5NN\n\n[43415 rows x 4 columns]",
      "text/html": "<div>\n<style scoped>\n    .dataframe tbody tr th:only-of-type {\n        vertical-align: middle;\n    }\n\n    .dataframe tbody tr th {\n        vertical-align: top;\n    }\n\n    .dataframe thead th {\n        text-align: right;\n    }\n</style>\n<table border=\"1\" class=\"dataframe\">\n  <thead>\n    <tr style=\"text-align: right;\">\n      <th></th>\n      <th>age</th>\n      <th>aorta</th>\n      <th>value</th>\n      <th>kNNType</th>\n    </tr>\n  </thead>\n  <tbody>\n    <tr>\n      <th>0</th>\n      <td>0-5</td>\n      <td>aorta01</td>\n      <td>-0.700787</td>\n      <td>1NN</td>\n    </tr>\n    <tr>\n      <th>1</th>\n      <td>0-5</td>\n      <td>aorta01</td>\n      <td>-0.700787</td>\n      <td>1NN</td>\n    </tr>\n    <tr>\n      <th>2</th>\n      <td>0-5</td>\n      <td>aorta01</td>\n      <td>-0.397508</td>\n      <td>1NN</td>\n    </tr>\n    <tr>\n      <th>3</th>\n      <td>0-5</td>\n      <td>aorta01</td>\n      <td>-0.134617</td>\n      <td>1NN</td>\n    </tr>\n    <tr>\n      <th>4</th>\n      <td>0-5</td>\n      <td>aorta01</td>\n      <td>-0.397508</td>\n      <td>1NN</td>\n    </tr>\n    <tr>\n      <th>...</th>\n      <td>...</td>\n      <td>...</td>\n      <td>...</td>\n      <td>...</td>\n    </tr>\n    <tr>\n      <th>185</th>\n      <td>5-60</td>\n      <td>aorta08</td>\n      <td>-0.542828</td>\n      <td>5NN</td>\n    </tr>\n    <tr>\n      <th>186</th>\n      <td>5-60</td>\n      <td>aorta08</td>\n      <td>-0.193931</td>\n      <td>5NN</td>\n    </tr>\n    <tr>\n      <th>187</th>\n      <td>5-60</td>\n      <td>aorta08</td>\n      <td>-0.394591</td>\n      <td>5NN</td>\n    </tr>\n    <tr>\n      <th>188</th>\n      <td>5-60</td>\n      <td>aorta08</td>\n      <td>-0.465423</td>\n      <td>5NN</td>\n    </tr>\n    <tr>\n      <th>189</th>\n      <td>5-60</td>\n      <td>aorta08</td>\n      <td>-0.385758</td>\n      <td>5NN</td>\n    </tr>\n  </tbody>\n</table>\n<p>43415 rows × 4 columns</p>\n</div>"
     },
     "execution_count": 23,
     "metadata": {},
     "output_type": "execute_result"
    }
   ],
   "source": [
    "dfDividedAllOut"
   ],
   "metadata": {
    "collapsed": false,
    "pycharm": {
     "name": "#%%\n"
    }
   }
  },
  {
   "cell_type": "code",
   "execution_count": 24,
   "outputs": [],
   "source": [
    "savePath = \"/Users/jones/Downloads\"\n",
    "dfMarkedAllMid.to_csv(join(savePath, \"markedPositiveControlMidkNN1Run.csv\"), index=False)\n",
    "dfMarkedAllOut.to_csv(join(savePath, \"markedPositiveControlOutkNN1Run.csv\"), index=False)\n",
    "dfDividedAllMid.to_csv(join(savePath, \"dividedPositiveControlMidkNN1Run.csv\"), index=False)\n",
    "dfDividedAllOut.to_csv(join(savePath, \"dividedPositiveControlOutkNN1Run.csv\"), index=False)"
   ],
   "metadata": {
    "collapsed": false,
    "pycharm": {
     "name": "#%%\n"
    }
   }
  },
  {
   "cell_type": "code",
   "execution_count": 1,
   "outputs": [
    {
     "ename": "NameError",
     "evalue": "name 'dfMarked5NNOut' is not defined",
     "output_type": "error",
     "traceback": [
      "\u001B[0;31m---------------------------------------------------------------------------\u001B[0m",
      "\u001B[0;31mNameError\u001B[0m                                 Traceback (most recent call last)",
      "Input \u001B[0;32mIn [1]\u001B[0m, in \u001B[0;36m<cell line: 1>\u001B[0;34m()\u001B[0m\n\u001B[0;32m----> 1\u001B[0m \u001B[43mdfMarked5NNOut\u001B[49m[\u001B[38;5;124m\"\u001B[39m\u001B[38;5;124mvalue\u001B[39m\u001B[38;5;124m\"\u001B[39m]\u001B[38;5;241m.\u001B[39mmax()\n",
      "\u001B[0;31mNameError\u001B[0m: name 'dfMarked5NNOut' is not defined"
     ]
    }
   ],
   "source": [
    "dfMarked5NNOut[\"value\"].max()"
   ],
   "metadata": {
    "collapsed": false,
    "pycharm": {
     "name": "#%%\n"
    }
   }
  },
  {
   "cell_type": "code",
   "execution_count": null,
   "outputs": [],
   "source": [],
   "metadata": {
    "collapsed": false,
    "pycharm": {
     "name": "#%%\n"
    }
   }
  },
  {
   "cell_type": "code",
   "execution_count": null,
   "outputs": [],
   "source": [],
   "metadata": {
    "collapsed": false,
    "pycharm": {
     "name": "#%%\n"
    }
   }
  },
  {
   "cell_type": "code",
   "execution_count": 33,
   "outputs": [],
   "source": [
    "prop_dict = regionprops_table(nucImage, properties = ('label', 'centroid'))\n",
    "dfNuc = pd.DataFrame(prop_dict)\n",
    "nucIDs = dfNuc['label'].tolist()"
   ],
   "metadata": {
    "collapsed": false,
    "pycharm": {
     "name": "#%%\n"
    }
   }
  },
  {
   "cell_type": "code",
   "execution_count": 34,
   "outputs": [],
   "source": [
    "points = dfNuc.iloc[:,1:]"
   ],
   "metadata": {
    "collapsed": false,
    "pycharm": {
     "name": "#%%\n"
    }
   }
  },
  {
   "cell_type": "code",
   "execution_count": 37,
   "outputs": [],
   "source": [
    "hull = ConvexHull(points)"
   ],
   "metadata": {
    "collapsed": false,
    "pycharm": {
     "name": "#%%\n"
    }
   }
  },
  {
   "cell_type": "code",
   "execution_count": 38,
   "outputs": [
    {
     "data": {
      "text/plain": "<scipy.spatial._qhull.ConvexHull at 0x7ff770d6d310>"
     },
     "execution_count": 38,
     "metadata": {},
     "output_type": "execute_result"
    }
   ],
   "source": [
    "hull"
   ],
   "metadata": {
    "collapsed": false,
    "pycharm": {
     "name": "#%%\n"
    }
   }
  },
  {
   "cell_type": "code",
   "execution_count": 39,
   "outputs": [
    {
     "data": {
      "text/plain": "array([[ 3093,     5],\n       [13103, 11288],\n       [13103, 13101],\n       [ 9642, 13101],\n       [10183, 10172],\n       [ 3128,  3093],\n       [ 3128,  9642],\n       [   39,   263],\n       [ 7234, 10172],\n       [11285, 11288],\n       [11285, 10183],\n       [    0,     5],\n       [    0,    39],\n       [  310,   263],\n       [  310,  7234]], dtype=int32)"
     },
     "execution_count": 39,
     "metadata": {},
     "output_type": "execute_result"
    }
   ],
   "source": [
    "hull.simplices"
   ],
   "metadata": {
    "collapsed": false,
    "pycharm": {
     "name": "#%%\n"
    }
   }
  },
  {
   "cell_type": "code",
   "execution_count": null,
   "outputs": [],
   "source": [],
   "metadata": {
    "collapsed": false,
    "pycharm": {
     "name": "#%%\n"
    }
   }
  },
  {
   "cell_type": "code",
   "execution_count": 48,
   "outputs": [
    {
     "data": {
      "text/plain": "<Figure size 432x288 with 1 Axes>",
      "image/png": "[encoded data removed]"
     },
     "metadata": {
      "needs_background": "light"
     },
     "output_type": "display_data"
    }
   ],
   "source": [
    "import matplotlib.pyplot as plt\n",
    "#plt.plot(pointsNP[:,0], pointsNP[:,1], 'o')\n",
    "for simplex in hull.simplices:\n",
    "    plt.plot(pointsNP[simplex, 0], pointsNP[simplex, 1], 'ro')\n",
    "#plt.plot(pointsNP[hull.vertices,0], pointsNP[hull.vertices,1], 'r--', lw=2)\n",
    "plt.plot(pointsNP[hull.vertices[0],0], pointsNP[hull.vertices[0],1], 'ro')\n",
    "plt.show()"
   ],
   "metadata": {
    "collapsed": false,
    "pycharm": {
     "name": "#%%\n"
    }
   }
  },
  {
   "cell_type": "code",
   "execution_count": 57,
   "outputs": [],
   "source": [
    "hullPoints = []\n",
    "for simplex in hull.simplices:\n",
    "    hullPoints.append([pointsNP[simplex, 0], pointsNP[simplex, 1]])"
   ],
   "metadata": {
    "collapsed": false,
    "pycharm": {
     "name": "#%%\n"
    }
   }
  },
  {
   "cell_type": "code",
   "execution_count": 58,
   "outputs": [
    {
     "data": {
      "text/plain": "[[array([1.26666667, 1.1875    ]), array([1294.06666667,  274.1875    ])],\n [array([1852.66666667, 1853.08695652]),\n  array([1287.38095238,  658.08695652])],\n [array([1852.66666667, 1851.88888889]),\n  array([1287.38095238, 1626.05555556])],\n [array([1208.2       , 1851.88888889]),\n  array([1535.66666667, 1626.05555556])],\n [array([1847.25      , 1829.95454545]), array([249.22727273, 175.25      ])],\n [array([118.56521739,   1.26666667]), array([1324.30434783, 1294.06666667])],\n [array([ 118.56521739, 1208.2       ]),\n  array([1324.30434783, 1535.66666667])],\n [array([ 22.26086957, 132.47368421]), array([27.04347826, 19.42105263])],\n [array([1373.38888889, 1829.95454545]), array([117.27777778, 175.25      ])],\n [array([1851.4       , 1853.08695652]), array([455.73333333, 658.08695652])],\n [array([1851.4 , 1847.25]), array([455.73333333, 249.22727273])],\n [array([1.8   , 1.1875]), array([121.93333333, 274.1875    ])],\n [array([ 1.8       , 22.26086957]), array([121.93333333,  27.04347826])],\n [array([155.06666667, 132.47368421]), array([19.4       , 19.42105263])],\n [array([ 155.06666667, 1373.38888889]), array([ 19.4       , 117.27777778])]]"
     },
     "execution_count": 58,
     "metadata": {},
     "output_type": "execute_result"
    }
   ],
   "source": [
    "hullPoints"
   ],
   "metadata": {
    "collapsed": false,
    "pycharm": {
     "name": "#%%\n"
    }
   }
  },
  {
   "cell_type": "code",
   "execution_count": 42,
   "outputs": [],
   "source": [
    "pointsNP = points.to_numpy()"
   ],
   "metadata": {
    "collapsed": false,
    "pycharm": {
     "name": "#%%\n"
    }
   }
  },
  {
   "cell_type": "code",
   "execution_count": 51,
   "outputs": [],
   "source": [
    "def in_hull(p, hull):\n",
    "    \"\"\"\n",
    "    Test if points in `p` are in `hull`\n",
    "\n",
    "    `p` should be a `NxK` coordinates of `N` points in `K` dimensions\n",
    "    `hull` is either a scipy.spatial.Delaunay object or the `MxK` array of the\n",
    "    coordinates of `M` points in `K`dimensions for which Delaunay triangulation\n",
    "    will be computed\n",
    "    \"\"\"\n",
    "    from scipy.spatial import Delaunay\n",
    "    if not isinstance(hull,Delaunay):\n",
    "        hull = Delaunay(hull)\n",
    "\n",
    "    return hull.find_simplex(p)>=0"
   ],
   "metadata": {
    "collapsed": false,
    "pycharm": {
     "name": "#%%\n"
    }
   }
  }
 ],
 "metadata": {
  "kernelspec": {
   "name": "luisaproject",
   "language": "python",
   "display_name": "LuisaProject"
  },
  "language_info": {
   "codemirror_mode": {
    "name": "ipython",
    "version": 2
   },
   "file_extension": ".py",
   "mimetype": "text/x-python",
   "name": "python",
   "nbconvert_exporter": "python",
   "pygments_lexer": "ipython2",
   "version": "2.7.6"
  }
 },
 "nbformat": 4,
 "nbformat_minor": 0
}
{
 "cells": [
  {
   "cell_type": "code",
   "execution_count": 1,
   "outputs": [],
   "source": [
    "import numpy as np\n",
    "from random import seed\n",
    "from random import sample\n",
    "import pandas as pd\n",
    "from sklearn.neighbors import NearestNeighbors\n",
    "from skimage.measure import regionprops_table\n",
    "import matplotlib.pyplot as plt\n",
    "import os\n",
    "from os import listdir\n",
    "from os.path import isfile, join\n",
    "from skimage.measure import regionprops_table"
   ],
   "metadata": {
    "collapsed": false,
    "pycharm": {
     "name": "#%%\n"
    }
   }
  },
  {
   "cell_type": "code",
   "execution_count": 25,
   "outputs": [],
   "source": [
    "nucleiPath = '/Volumes/Aortas/Aorta/segmentations/inducedRainbow/final/nuclei'\n",
    "clusterPath = '/Volumes/Aortas/Aorta/segmentations/inducedRainbow/final/red/0-10'"
   ],
   "metadata": {
    "collapsed": false,
    "pycharm": {
     "name": "#%%\n"
    }
   }
  },
  {
   "cell_type": "code",
   "execution_count": 26,
   "outputs": [],
   "source": [
    "clusterFolders = [\"/Volumes/Aortas/Aorta/segmentations/inducedRainbow/final/red/5-60/aorta04\", \"/Volumes/Aortas/Aorta/segmentations/inducedRainbow/final/red/5-60/aorta05\", \"/Volumes/Aortas/Aorta/segmentations/inducedRainbow/final/red/5-60/aorta06\"]\n",
    "clusterFolders2 = [\"/Volumes/Aortas/Aorta/segmentations/inducedRainbow/final/red/5-60/aorta07\", \"/Volumes/Aortas/Aorta/segmentations/inducedRainbow/final/red/5-60/aorta08\"]"
   ],
   "metadata": {
    "collapsed": false,
    "pycharm": {
     "name": "#%%\n"
    }
   }
  },
  {
   "cell_type": "code",
   "execution_count": 26,
   "outputs": [],
   "source": [
    "clusterFolders = [x[0] for x in os.walk(clusterPath)]\n",
    "clusterFolders = sorted(clusterFolders)"
   ],
   "metadata": {
    "collapsed": false,
    "pycharm": {
     "name": "#%%\n"
    }
   }
  },
  {
   "cell_type": "code",
   "execution_count": 27,
   "outputs": [
    {
     "data": {
      "text/plain": "['/Volumes/Aortas/Aorta/segmentations/inducedRainbow/final/red/0-10',\n '/Volumes/Aortas/Aorta/segmentations/inducedRainbow/final/red/0-10/aorta01',\n '/Volumes/Aortas/Aorta/segmentations/inducedRainbow/final/red/0-10/aorta02',\n '/Volumes/Aortas/Aorta/segmentations/inducedRainbow/final/red/0-10/aorta03',\n '/Volumes/Aortas/Aorta/segmentations/inducedRainbow/final/red/0-10/aorta04',\n '/Volumes/Aortas/Aorta/segmentations/inducedRainbow/final/red/0-10/aorta05',\n '/Volumes/Aortas/Aorta/segmentations/inducedRainbow/final/red/0-10/aorta06']"
     },
     "execution_count": 27,
     "metadata": {},
     "output_type": "execute_result"
    }
   ],
   "source": [
    "clusterFolders"
   ],
   "metadata": {
    "collapsed": false,
    "pycharm": {
     "name": "#%%\n"
    }
   }
  },
  {
   "cell_type": "code",
   "execution_count": 28,
   "outputs": [],
   "source": [
    "def fullNucImage(nucPath):\n",
    "    scalingFactor = 10000\n",
    "    for i in range(4):\n",
    "        #build row block\n",
    "        nuc1 =np.load(join(nucPath, \"Cropped_IMG-\" + str(4*i +1) + '_seg.npy'), allow_pickle=True).item()['masks']\n",
    "        nuc2 =np.load(join(nucPath, \"Cropped_IMG-\" + str(4*i +2) + '_seg.npy'), allow_pickle=True).item()['masks']\n",
    "        nuc3 =np.load(join(nucPath, \"Cropped_IMG-\" + str(4*i +3) + '_seg.npy'), allow_pickle=True).item()['masks']\n",
    "        nuc4 =np.load(join(nucPath, \"Cropped_IMG-\" + str(4*i +4) + '_seg.npy'), allow_pickle=True).item()['masks']\n",
    "        nuc1 = nuc1 + scalingFactor *(4*i +1)\n",
    "        nuc1[nuc1 == (scalingFactor *(4*i +1))] = 0\n",
    "        nuc2 = nuc2 + scalingFactor *(4*i +2)\n",
    "        nuc2[nuc2 == (scalingFactor *(4*i +2))] = 0\n",
    "        nuc3 = nuc3 + scalingFactor *(4*i +3)\n",
    "        nuc3[nuc3 == (scalingFactor *(4*i +3))] = 0\n",
    "        nuc4 = nuc4 + scalingFactor *(4*i +4)\n",
    "        nuc4[nuc4 == (scalingFactor *(4*i +4))] = 0\n",
    "\n",
    "        row = np.concatenate((nuc1, nuc2, nuc3, nuc4), axis = 1)\n",
    "        if i == 0:\n",
    "            nucImage = row\n",
    "        else:\n",
    "            nucImage = np.concatenate((nucImage, row), axis = 0)\n",
    "    return nucImage"
   ],
   "metadata": {
    "collapsed": false,
    "pycharm": {
     "name": "#%%\n"
    }
   }
  },
  {
   "cell_type": "code",
   "execution_count": 29,
   "outputs": [],
   "source": [
    "def clusterSize(masks, nucImage):\n",
    "    accuracy_value = 0.8\n",
    "    clusters = list()\n",
    "    dic = {}\n",
    "    dicNot = list()\n",
    "    dividedOnly = masks.copy()\n",
    "    marked = masks.copy()\n",
    "    for mask in np.unique(masks):\n",
    "        if mask != 0:\n",
    "            cluster = list()\n",
    "            coord = np.where(masks == mask)\n",
    "            segmentationNuc = np.unique(nucImage[coord])\n",
    "            for j in segmentationNuc:\n",
    "                if j != 0:\n",
    "                    #occurence of nucleus pixel in\n",
    "                    nucOccur = np.bincount(nucImage[coord])[j]\n",
    "                    #How many pixels does this nucleus have:\n",
    "                    coordLen = len(np.where(nucImage == j)[0])\n",
    "                    #check if most of nuclei values are in segmentation\n",
    "                    if(nucOccur >= accuracy_value*coordLen):\n",
    "                        cluster.append(j)\n",
    "            if cluster:\n",
    "                dic[mask] = cluster\n",
    "                clusters.append(cluster)\n",
    "            else:\n",
    "                dicNot.append(mask)\n",
    "                dividedOnly = np.where(dividedOnly == mask, 0, dividedOnly)\n",
    "            if len(cluster) == 1:\n",
    "                dividedOnly = np.where(dividedOnly == mask, 0, dividedOnly)\n",
    "\n",
    "    clusterSize = []\n",
    "    for key in dic:\n",
    "        clusterSize.append(len(dic[key]))\n",
    "    return clusterSize, dicNot, marked, dividedOnly"
   ],
   "metadata": {
    "collapsed": false,
    "pycharm": {
     "name": "#%%\n"
    }
   }
  },
  {
   "cell_type": "code",
   "execution_count": 30,
   "outputs": [],
   "source": [
    "def dataFrameHelp(age, aorta, values):\n",
    "    df_help = pd.DataFrame(columns= ['age', 'aorta', 'value'])\n",
    "    df_help['value'] = values\n",
    "    df_help['age'] = age\n",
    "    df_help['aorta'] = aorta\n",
    "    return df_help"
   ],
   "metadata": {
    "collapsed": false,
    "pycharm": {
     "name": "#%%\n"
    }
   }
  },
  {
   "cell_type": "code",
   "execution_count": 31,
   "outputs": [],
   "source": [
    "def kNN(array, neighbor):\n",
    "    nbrs = NearestNeighbors(n_neighbors=neighbor, algorithm='ball_tree').fit(array)\n",
    "    distances, indices = nbrs.kneighbors(array)\n",
    "    return nbrs, distances, indices"
   ],
   "metadata": {
    "collapsed": false,
    "pycharm": {
     "name": "#%%\n"
    }
   }
  },
  {
   "cell_type": "code",
   "execution_count": 32,
   "outputs": [],
   "source": [
    "def randomkNNDistances(nucIDs,len, df):\n",
    "    selectedRandom = sample(nucIDs, len)\n",
    "    dfRandom = df[df['label'].isin(selectedRandom)]\n",
    "    nucCoordRandom = dfRandom[['centroid-0', 'centroid-1']].to_numpy()\n",
    "    nbrsRandom = NearestNeighbors(n_neighbors=6, algorithm='ball_tree').fit(nucCoordRandom)\n",
    "    distancesRand, indicesRandom = nbrsRandom.kneighbors(nucCoordRandom)\n",
    "    return distancesRand"
   ],
   "metadata": {
    "collapsed": false,
    "pycharm": {
     "name": "#%%\n"
    }
   }
  },
  {
   "cell_type": "code",
   "execution_count": 33,
   "outputs": [],
   "source": [
    "def randomkNNCluster(nucIDs,lens, df, simulationNumber):\n",
    "    seed(42)\n",
    "    markedRandom = []\n",
    "    dividedRandom = []\n",
    "    for _ in range(simulationNumber):\n",
    "        if lens[0] > 7:\n",
    "            markedRandom.append(np.asarray(randomkNNDistances(nucIDs,lens[0], df)))\n",
    "        if lens[1] > 7:\n",
    "            dividedRandom.append(np.asarray(randomkNNDistances(nucIDs, lens[1], df)))\n",
    "    return np.asarray(markedRandom) , np.asarray(dividedRandom)"
   ],
   "metadata": {
    "collapsed": false,
    "pycharm": {
     "name": "#%%\n"
    }
   }
  },
  {
   "cell_type": "code",
   "execution_count": 34,
   "outputs": [],
   "source": [
    "dfMarked1NN = pd.DataFrame(columns= ['age', 'aorta', 'value'])\n",
    "dfMarked2NN = pd.DataFrame(columns= ['age', 'aorta', 'value'])\n",
    "dfMarked3NN = pd.DataFrame(columns= ['age', 'aorta','value'])\n",
    "dfMarked4NN = pd.DataFrame(columns= ['age', 'aorta', 'value'])\n",
    "dfMarked5NN = pd.DataFrame(columns= ['age', 'aorta', 'value'])\n",
    "\n",
    "dfDivided1NN = pd.DataFrame(columns= ['age', 'aorta', 'value'])\n",
    "dfDivided2NN = pd.DataFrame(columns= ['age', 'aorta', 'value'])\n",
    "dfDivided3NN = pd.DataFrame(columns= ['age', 'aorta','value'])\n",
    "dfDivided4NN = pd.DataFrame(columns= ['age', 'aorta', 'value'])\n",
    "dfDivided5NN = pd.DataFrame(columns= ['age', 'aorta', 'value'])"
   ],
   "metadata": {
    "collapsed": false,
    "pycharm": {
     "name": "#%%\n"
    }
   }
  },
  {
   "cell_type": "code",
   "execution_count": 34,
   "outputs": [],
   "source": [
    "dfMarkedResult = pd.DataFrame()"
   ],
   "metadata": {
    "collapsed": false,
    "pycharm": {
     "name": "#%%\n"
    }
   }
  },
  {
   "cell_type": "code",
   "execution_count": 35,
   "outputs": [
    {
     "name": "stdout",
     "output_type": "stream",
     "text": [
      "0-10\n",
      "aorta01\n",
      "634\n",
      "633\n",
      "0-10\n",
      "aorta02\n",
      "563\n",
      "562\n",
      "0-10\n",
      "aorta03\n",
      "426\n",
      "425\n",
      "0-10\n",
      "aorta04\n",
      "348\n",
      "347\n",
      "0-10\n",
      "aorta05\n",
      "412\n",
      "411\n",
      "0-10\n",
      "aorta06\n",
      "279\n",
      "278\n"
     ]
    }
   ],
   "source": [
    "for folder in clusterFolders:\n",
    "    os.chdir(folder)\n",
    "    files = [f for f in listdir(folder) if isfile(join(folder, f)) if \".DS_Store\" not in f if \".npy\" in f if \"._\" not in f]\n",
    "    for file in files:\n",
    "        aorta = folder.split(\"/\")[-1]\n",
    "        age = folder.split(\"/\")[-2]\n",
    "        print(age)\n",
    "        print(aorta)\n",
    "        nucPath = join(nucleiPath, age, aorta)\n",
    "        nucImage = fullNucImage(nucPath)\n",
    "        masks = np.load(join(folder, file), allow_pickle=True).item()['masks']\n",
    "\n",
    "        clusterSizes, dicNot, marked, dividedOnly = clusterSize(masks, nucImage)\n",
    "\n",
    "        unique, counts = np.unique(clusterSizes, return_counts=True)\n",
    "        numberMarked = counts.sum() + len(dicNot)\n",
    "        numberDivided = counts[1:].sum()\n",
    "        print(len(np.unique(marked)))\n",
    "        print(numberMarked)\n",
    "\n",
    "        prop_Marked = regionprops_table(marked, properties = ('label', 'centroid'))\n",
    "        dfMarked = pd.DataFrame(prop_Marked)\n",
    "\n",
    "        nbrs, distancesMarked, indices = kNN(dfMarked.iloc[:,1:],6)\n",
    "        dfHelp = pd.DataFrame(distancesMarked)\n",
    "        dfHelp[\"age\"] = age\n",
    "        dfHelp[\"aorta\"] = aorta\n",
    "        dfMarkedResult = pd.concat([dfMarkedResult, dfHelp])\n",
    "\n",
    "        #prop_Divided = regionprops_table(dividedOnly, properties = ('label', 'centroid'))\n",
    "        #dfDivided = pd.DataFrame(prop_Divided)\n",
    "        #nbrs, distancesDivided, indices = kNN(dfDivided.iloc[:,1:],6)\n",
    "\n",
    "        #prop_nuc = regionprops_table(nucImage, properties = ('label', 'centroid'))\n",
    "        #dfNuc = pd.DataFrame(prop_nuc)\n",
    "        #nucIDs = dfNuc['label'].tolist()\n",
    "        #lens = [numberMarked, numberDivided]\n",
    "        #markedRandom, dividedRandom =  randomkNNCluster(nucIDs,lens, dfNuc, 1000)\n",
    "\n",
    "        age = nucPath.split(\"/\")[-2]\n",
    "        aorta = nucPath.split(\"/\")[-1]\n",
    "\n",
    "        #dfMarked1NN = dfMarked1NN.append(dataFrameHelp(age, aorta, distancesMarked[:,1]/np.mean(markedRandom[:,:,1].flatten()) -1 ))\n",
    "        #dfMarked2NN = dfMarked2NN.append(dataFrameHelp(age, aorta, distancesMarked[:,2]/np.mean(markedRandom[:,:,2].flatten()) -1 ))\n",
    "        #dfMarked3NN = dfMarked3NN.append(dataFrameHelp(age, aorta, distancesMarked[:,3]/np.mean(markedRandom[:,:,3].flatten()) -1 ))\n",
    "        #dfMarked4NN = dfMarked4NN.append(dataFrameHelp(age, aorta, distancesMarked[:,4]/np.mean(markedRandom[:,:,4].flatten()) -1 ))\n",
    "        #dfMarked5NN = dfMarked5NN.append(dataFrameHelp(age, aorta, distancesMarked[:,5]/np.mean(markedRandom[:,:,5].flatten()) -1 ))\n",
    "\n",
    "        #dfDivided1NN = dfDivided1NN.append(dataFrameHelp(age, aorta, distancesDivided[:,1]/np.mean(dividedRandom[:,:,1].flatten()) -1 ))\n",
    "        #dfDivided2NN = dfDivided2NN.append(dataFrameHelp(age, aorta, distancesDivided[:,1]/np.mean(dividedRandom[:,:,1].flatten()) -1 ))\n",
    "        #dfDivided3NN = dfDivided3NN.append(dataFrameHelp(age, aorta, distancesDivided[:,1]/np.mean(dividedRandom[:,:,1].flatten()) -1 ))\n",
    "        #dfDivided4NN = dfDivided4NN.append(dataFrameHelp(age, aorta, distancesDivided[:,1]/np.mean(dividedRandom[:,:,1].flatten()) -1 ))\n",
    "        #dfDivided5NN = dfDivided5NN.append(dataFrameHelp(age, aorta, distancesDivided[:,1]/np.mean(dividedRandom[:,:,1].flatten()) -1 ))"
   ],
   "metadata": {
    "collapsed": false,
    "pycharm": {
     "name": "#%%\n"
    }
   }
  },
  {
   "cell_type": "code",
   "execution_count": 36,
   "outputs": [
    {
     "data": {
      "text/plain": "       0          1           2           3           4           5   age  \\\n0    0.0  45.071287   61.416105   65.382754   65.419472   68.097205  0-10   \n1    0.0  50.160017   57.688693   60.235186   60.606848   62.787766  0-10   \n2    0.0  41.433286   49.582140   51.324984   55.377924   74.504462  0-10   \n3    0.0  26.402508   44.747515   46.714342   57.974775   61.101135  0-10   \n4    0.0  17.882815   32.898724   39.322564   47.061509   65.420026  0-10   \n..   ...        ...         ...         ...         ...         ...   ...   \n273  0.0  19.333887  100.354670  148.374319  170.702293  184.603020  0-10   \n274  0.0  56.953549   58.417655   61.472491   62.569630   93.500582  0-10   \n275  0.0  33.117730   33.440292   50.191174   65.633712   68.776118  0-10   \n276  0.0  36.546462   49.248244   53.232130   70.126903   71.989638  0-10   \n277  0.0  34.612635   50.016608   51.011242   68.591710   86.292474  0-10   \n\n       aorta  \n0    aorta01  \n1    aorta01  \n2    aorta01  \n3    aorta01  \n4    aorta01  \n..       ...  \n273  aorta06  \n274  aorta06  \n275  aorta06  \n276  aorta06  \n277  aorta06  \n\n[2656 rows x 8 columns]",
      "text/html": "<div>\n<style scoped>\n    .dataframe tbody tr th:only-of-type {\n        vertical-align: middle;\n    }\n\n    .dataframe tbody tr th {\n        vertical-align: top;\n    }\n\n    .dataframe thead th {\n        text-align: right;\n    }\n</style>\n<table border=\"1\" class=\"dataframe\">\n  <thead>\n    <tr style=\"text-align: right;\">\n      <th></th>\n      <th>0</th>\n      <th>1</th>\n      <th>2</th>\n      <th>3</th>\n      <th>4</th>\n      <th>5</th>\n      <th>age</th>\n      <th>aorta</th>\n    </tr>\n  </thead>\n  <tbody>\n    <tr>\n      <th>0</th>\n      <td>0.0</td>\n      <td>45.071287</td>\n      <td>61.416105</td>\n      <td>65.382754</td>\n      <td>65.419472</td>\n      <td>68.097205</td>\n      <td>0-10</td>\n      <td>aorta01</td>\n    </tr>\n    <tr>\n      <th>1</th>\n      <td>0.0</td>\n      <td>50.160017</td>\n      <td>57.688693</td>\n      <td>60.235186</td>\n      <td>60.606848</td>\n      <td>62.787766</td>\n      <td>0-10</td>\n      <td>aorta01</td>\n    </tr>\n    <tr>\n      <th>2</th>\n      <td>0.0</td>\n      <td>41.433286</td>\n      <td>49.582140</td>\n      <td>51.324984</td>\n      <td>55.377924</td>\n      <td>74.504462</td>\n      <td>0-10</td>\n      <td>aorta01</td>\n    </tr>\n    <tr>\n      <th>3</th>\n      <td>0.0</td>\n      <td>26.402508</td>\n      <td>44.747515</td>\n      <td>46.714342</td>\n      <td>57.974775</td>\n      <td>61.101135</td>\n      <td>0-10</td>\n      <td>aorta01</td>\n    </tr>\n    <tr>\n      <th>4</th>\n      <td>0.0</td>\n      <td>17.882815</td>\n      <td>32.898724</td>\n      <td>39.322564</td>\n      <td>47.061509</td>\n      <td>65.420026</td>\n      <td>0-10</td>\n      <td>aorta01</td>\n    </tr>\n    <tr>\n      <th>...</th>\n      <td>...</td>\n      <td>...</td>\n      <td>...</td>\n      <td>...</td>\n      <td>...</td>\n      <td>...</td>\n      <td>...</td>\n      <td>...</td>\n    </tr>\n    <tr>\n      <th>273</th>\n      <td>0.0</td>\n      <td>19.333887</td>\n      <td>100.354670</td>\n      <td>148.374319</td>\n      <td>170.702293</td>\n      <td>184.603020</td>\n      <td>0-10</td>\n      <td>aorta06</td>\n    </tr>\n    <tr>\n      <th>274</th>\n      <td>0.0</td>\n      <td>56.953549</td>\n      <td>58.417655</td>\n      <td>61.472491</td>\n      <td>62.569630</td>\n      <td>93.500582</td>\n      <td>0-10</td>\n      <td>aorta06</td>\n    </tr>\n    <tr>\n      <th>275</th>\n      <td>0.0</td>\n      <td>33.117730</td>\n      <td>33.440292</td>\n      <td>50.191174</td>\n      <td>65.633712</td>\n      <td>68.776118</td>\n      <td>0-10</td>\n      <td>aorta06</td>\n    </tr>\n    <tr>\n      <th>276</th>\n      <td>0.0</td>\n      <td>36.546462</td>\n      <td>49.248244</td>\n      <td>53.232130</td>\n      <td>70.126903</td>\n      <td>71.989638</td>\n      <td>0-10</td>\n      <td>aorta06</td>\n    </tr>\n    <tr>\n      <th>277</th>\n      <td>0.0</td>\n      <td>34.612635</td>\n      <td>50.016608</td>\n      <td>51.011242</td>\n      <td>68.591710</td>\n      <td>86.292474</td>\n      <td>0-10</td>\n      <td>aorta06</td>\n    </tr>\n  </tbody>\n</table>\n<p>2656 rows × 8 columns</p>\n</div>"
     },
     "execution_count": 36,
     "metadata": {},
     "output_type": "execute_result"
    }
   ],
   "source": [
    "dfMarkedResult"
   ],
   "metadata": {
    "collapsed": false,
    "pycharm": {
     "name": "#%%\n"
    }
   }
  },
  {
   "cell_type": "code",
   "execution_count": 24,
   "outputs": [],
   "source": [
    "savePath = \"/Users/jones/Downloads\"\n",
    "dfMarkedResult.to_csv(join(savePath, \"markedkNN_0-10.csv\"), index=False)"
   ],
   "metadata": {
    "collapsed": false,
    "pycharm": {
     "name": "#%%\n"
    }
   }
  },
  {
   "cell_type": "code",
   "execution_count": 35,
   "outputs": [],
   "source": [],
   "metadata": {
    "collapsed": false,
    "pycharm": {
     "name": "#%%\n"
    }
   }
  },
  {
   "cell_type": "code",
   "execution_count": 36,
   "outputs": [],
   "source": [
    "dfMarked1NN['kNNType'] = \"1NN\"\n",
    "dfMarked2NN['kNNType'] = \"2NN\"\n",
    "dfMarked3NN['kNNType'] = \"3NN\"\n",
    "dfMarked4NN['kNNType'] = \"4NN\"\n",
    "dfMarked5NN['kNNType'] = \"5NN\"\n",
    "dfMarkedAll = pd.concat([dfMarked1NN, dfMarked2NN, dfMarked3NN, dfMarked4NN, dfMarked5NN])"
   ],
   "metadata": {
    "collapsed": false,
    "pycharm": {
     "name": "#%%\n"
    }
   }
  },
  {
   "cell_type": "code",
   "execution_count": 37,
   "outputs": [],
   "source": [
    "dfDivided1NN['kNNType'] = \"1NN\"\n",
    "dfDivided2NN['kNNType'] = \"2NN\"\n",
    "dfDivided3NN['kNNType'] = \"3NN\"\n",
    "dfDivided4NN['kNNType'] = \"4NN\"\n",
    "dfDivided5NN['kNNType'] = \"5NN\"\n",
    "dfDividedAll = pd.concat([dfDivided1NN, dfDivided2NN, dfDivided3NN, dfDivided4NN, dfDivided5NN])"
   ],
   "metadata": {
    "collapsed": false,
    "pycharm": {
     "name": "#%%\n"
    }
   }
  },
  {
   "cell_type": "code",
   "execution_count": 38,
   "outputs": [],
   "source": [
    "savePath = \"/Users/jones/Downloads\"\n",
    "dfMarkedAll.to_csv(join(savePath, \"markedClustersRedkNN_5-60_1.csv\"), index=False)\n",
    "dfDividedAll.to_csv(join(savePath, \"dividedClustersRedkNN_5-60_1.csv\"), index=False)"
   ],
   "metadata": {
    "collapsed": false,
    "pycharm": {
     "name": "#%%\n"
    }
   }
  },
  {
   "cell_type": "code",
   "execution_count": 38,
   "outputs": [],
   "source": [],
   "metadata": {
    "collapsed": false,
    "pycharm": {
     "name": "#%%\n"
    }
   }
  },
  {
   "cell_type": "code",
   "execution_count": 41,
   "outputs": [],
   "source": [
    "def clusterSize5_60_A78(masks, nucImage):\n",
    "    accuracy_value = 0.8\n",
    "    clusters = list()\n",
    "    dic = {}\n",
    "    dicNot = list()\n",
    "    dividedOnly = masks.copy()\n",
    "    marked = masks.copy()\n",
    "    for mask in np.unique(masks):\n",
    "        if mask != 0:\n",
    "            cluster = list()\n",
    "            coord = np.where(masks == mask)\n",
    "            segmentationNuc = np.unique(nucImage[coord])\n",
    "            for j in segmentationNuc:\n",
    "                if j != 0:\n",
    "                    #occurence of nucleus pixel in\n",
    "                    nucOccur = np.bincount(nucImage[coord])[j]\n",
    "                    #How many pixels does this nucleus have:\n",
    "                    coordLen = len(np.where(nucImage == j)[0])\n",
    "                    #check if most of nuclei values are in segmentation\n",
    "                    if(nucOccur >= accuracy_value*coordLen):\n",
    "                        cluster.append(j)\n",
    "            if cluster:\n",
    "                dic[mask] = cluster\n",
    "                clusters.append(cluster)\n",
    "            else:\n",
    "                dicNot.append(mask)\n",
    "                dividedOnly = np.where(dividedOnly == mask, 0, dividedOnly)\n",
    "                marked = np.where(marked == mask, 0, marked)\n",
    "            if len(cluster) == 1:\n",
    "                dividedOnly = np.where(dividedOnly == mask, 0, dividedOnly)\n",
    "\n",
    "    clusterSize = []\n",
    "    for key in dic:\n",
    "        clusterSize.append(len(dic[key]))\n",
    "    return clusterSize, dicNot, marked, dividedOnly"
   ],
   "metadata": {
    "collapsed": false,
    "pycharm": {
     "name": "#%%\n"
    }
   }
  },
  {
   "cell_type": "code",
   "execution_count": 42,
   "outputs": [
    {
     "name": "stdout",
     "output_type": "stream",
     "text": [
      "5-60\n",
      "aorta07\n",
      "248\n",
      "247\n"
     ]
    },
    {
     "name": "stderr",
     "output_type": "stream",
     "text": [
      "/var/folders/6r/4p5g0w_j4jv11sr24nv1b0140000gn/T/ipykernel_35215/252534.py:51: FutureWarning: The frame.append method is deprecated and will be removed from pandas in a future version. Use pandas.concat instead.\n",
      "  dfMarked1NN = dfMarked1NN.append(dataFrameHelp(age, aorta, distancesMarked[:,1]/np.mean(markedRandom[:,:,1].flatten()) -1 ))\n",
      "/var/folders/6r/4p5g0w_j4jv11sr24nv1b0140000gn/T/ipykernel_35215/252534.py:52: FutureWarning: The frame.append method is deprecated and will be removed from pandas in a future version. Use pandas.concat instead.\n",
      "  dfMarked2NN = dfMarked2NN.append(dataFrameHelp(age, aorta, distancesMarked[:,2]/np.mean(markedRandom[:,:,2].flatten()) -1 ))\n",
      "/var/folders/6r/4p5g0w_j4jv11sr24nv1b0140000gn/T/ipykernel_35215/252534.py:53: FutureWarning: The frame.append method is deprecated and will be removed from pandas in a future version. Use pandas.concat instead.\n",
      "  dfMarked3NN = dfMarked3NN.append(dataFrameHelp(age, aorta, distancesMarked[:,3]/np.mean(markedRandom[:,:,3].flatten()) -1 ))\n",
      "/var/folders/6r/4p5g0w_j4jv11sr24nv1b0140000gn/T/ipykernel_35215/252534.py:54: FutureWarning: The frame.append method is deprecated and will be removed from pandas in a future version. Use pandas.concat instead.\n",
      "  dfMarked4NN = dfMarked4NN.append(dataFrameHelp(age, aorta, distancesMarked[:,4]/np.mean(markedRandom[:,:,4].flatten()) -1 ))\n",
      "/var/folders/6r/4p5g0w_j4jv11sr24nv1b0140000gn/T/ipykernel_35215/252534.py:55: FutureWarning: The frame.append method is deprecated and will be removed from pandas in a future version. Use pandas.concat instead.\n",
      "  dfMarked5NN = dfMarked5NN.append(dataFrameHelp(age, aorta, distancesMarked[:,5]/np.mean(markedRandom[:,:,5].flatten()) -1 ))\n",
      "/var/folders/6r/4p5g0w_j4jv11sr24nv1b0140000gn/T/ipykernel_35215/252534.py:57: FutureWarning: The frame.append method is deprecated and will be removed from pandas in a future version. Use pandas.concat instead.\n",
      "  dfDivided1NN = dfDivided1NN.append(dataFrameHelp(age, aorta, distancesDivided[:,1]/np.mean(dividedRandom[:,:,1].flatten()) -1 ))\n",
      "/var/folders/6r/4p5g0w_j4jv11sr24nv1b0140000gn/T/ipykernel_35215/252534.py:58: FutureWarning: The frame.append method is deprecated and will be removed from pandas in a future version. Use pandas.concat instead.\n",
      "  dfDivided2NN = dfDivided2NN.append(dataFrameHelp(age, aorta, distancesDivided[:,1]/np.mean(dividedRandom[:,:,1].flatten()) -1 ))\n",
      "/var/folders/6r/4p5g0w_j4jv11sr24nv1b0140000gn/T/ipykernel_35215/252534.py:59: FutureWarning: The frame.append method is deprecated and will be removed from pandas in a future version. Use pandas.concat instead.\n",
      "  dfDivided3NN = dfDivided3NN.append(dataFrameHelp(age, aorta, distancesDivided[:,1]/np.mean(dividedRandom[:,:,1].flatten()) -1 ))\n",
      "/var/folders/6r/4p5g0w_j4jv11sr24nv1b0140000gn/T/ipykernel_35215/252534.py:60: FutureWarning: The frame.append method is deprecated and will be removed from pandas in a future version. Use pandas.concat instead.\n",
      "  dfDivided4NN = dfDivided4NN.append(dataFrameHelp(age, aorta, distancesDivided[:,1]/np.mean(dividedRandom[:,:,1].flatten()) -1 ))\n",
      "/var/folders/6r/4p5g0w_j4jv11sr24nv1b0140000gn/T/ipykernel_35215/252534.py:61: FutureWarning: The frame.append method is deprecated and will be removed from pandas in a future version. Use pandas.concat instead.\n",
      "  dfDivided5NN = dfDivided5NN.append(dataFrameHelp(age, aorta, distancesDivided[:,1]/np.mean(dividedRandom[:,:,1].flatten()) -1 ))\n"
     ]
    },
    {
     "name": "stdout",
     "output_type": "stream",
     "text": [
      "5-60\n",
      "aorta08\n",
      "417\n",
      "416\n"
     ]
    },
    {
     "name": "stderr",
     "output_type": "stream",
     "text": [
      "/var/folders/6r/4p5g0w_j4jv11sr24nv1b0140000gn/T/ipykernel_35215/252534.py:51: FutureWarning: The frame.append method is deprecated and will be removed from pandas in a future version. Use pandas.concat instead.\n",
      "  dfMarked1NN = dfMarked1NN.append(dataFrameHelp(age, aorta, distancesMarked[:,1]/np.mean(markedRandom[:,:,1].flatten()) -1 ))\n",
      "/var/folders/6r/4p5g0w_j4jv11sr24nv1b0140000gn/T/ipykernel_35215/252534.py:52: FutureWarning: The frame.append method is deprecated and will be removed from pandas in a future version. Use pandas.concat instead.\n",
      "  dfMarked2NN = dfMarked2NN.append(dataFrameHelp(age, aorta, distancesMarked[:,2]/np.mean(markedRandom[:,:,2].flatten()) -1 ))\n",
      "/var/folders/6r/4p5g0w_j4jv11sr24nv1b0140000gn/T/ipykernel_35215/252534.py:53: FutureWarning: The frame.append method is deprecated and will be removed from pandas in a future version. Use pandas.concat instead.\n",
      "  dfMarked3NN = dfMarked3NN.append(dataFrameHelp(age, aorta, distancesMarked[:,3]/np.mean(markedRandom[:,:,3].flatten()) -1 ))\n",
      "/var/folders/6r/4p5g0w_j4jv11sr24nv1b0140000gn/T/ipykernel_35215/252534.py:54: FutureWarning: The frame.append method is deprecated and will be removed from pandas in a future version. Use pandas.concat instead.\n",
      "  dfMarked4NN = dfMarked4NN.append(dataFrameHelp(age, aorta, distancesMarked[:,4]/np.mean(markedRandom[:,:,4].flatten()) -1 ))\n",
      "/var/folders/6r/4p5g0w_j4jv11sr24nv1b0140000gn/T/ipykernel_35215/252534.py:55: FutureWarning: The frame.append method is deprecated and will be removed from pandas in a future version. Use pandas.concat instead.\n",
      "  dfMarked5NN = dfMarked5NN.append(dataFrameHelp(age, aorta, distancesMarked[:,5]/np.mean(markedRandom[:,:,5].flatten()) -1 ))\n",
      "/var/folders/6r/4p5g0w_j4jv11sr24nv1b0140000gn/T/ipykernel_35215/252534.py:57: FutureWarning: The frame.append method is deprecated and will be removed from pandas in a future version. Use pandas.concat instead.\n",
      "  dfDivided1NN = dfDivided1NN.append(dataFrameHelp(age, aorta, distancesDivided[:,1]/np.mean(dividedRandom[:,:,1].flatten()) -1 ))\n",
      "/var/folders/6r/4p5g0w_j4jv11sr24nv1b0140000gn/T/ipykernel_35215/252534.py:58: FutureWarning: The frame.append method is deprecated and will be removed from pandas in a future version. Use pandas.concat instead.\n",
      "  dfDivided2NN = dfDivided2NN.append(dataFrameHelp(age, aorta, distancesDivided[:,1]/np.mean(dividedRandom[:,:,1].flatten()) -1 ))\n",
      "/var/folders/6r/4p5g0w_j4jv11sr24nv1b0140000gn/T/ipykernel_35215/252534.py:59: FutureWarning: The frame.append method is deprecated and will be removed from pandas in a future version. Use pandas.concat instead.\n",
      "  dfDivided3NN = dfDivided3NN.append(dataFrameHelp(age, aorta, distancesDivided[:,1]/np.mean(dividedRandom[:,:,1].flatten()) -1 ))\n",
      "/var/folders/6r/4p5g0w_j4jv11sr24nv1b0140000gn/T/ipykernel_35215/252534.py:60: FutureWarning: The frame.append method is deprecated and will be removed from pandas in a future version. Use pandas.concat instead.\n",
      "  dfDivided4NN = dfDivided4NN.append(dataFrameHelp(age, aorta, distancesDivided[:,1]/np.mean(dividedRandom[:,:,1].flatten()) -1 ))\n",
      "/var/folders/6r/4p5g0w_j4jv11sr24nv1b0140000gn/T/ipykernel_35215/252534.py:61: FutureWarning: The frame.append method is deprecated and will be removed from pandas in a future version. Use pandas.concat instead.\n",
      "  dfDivided5NN = dfDivided5NN.append(dataFrameHelp(age, aorta, distancesDivided[:,1]/np.mean(dividedRandom[:,:,1].flatten()) -1 ))\n"
     ]
    }
   ],
   "source": [
    "dfMarked1NN = pd.DataFrame(columns= ['age', 'aorta', 'value'])\n",
    "dfMarked2NN = pd.DataFrame(columns= ['age', 'aorta', 'value'])\n",
    "dfMarked3NN = pd.DataFrame(columns= ['age', 'aorta','value'])\n",
    "dfMarked4NN = pd.DataFrame(columns= ['age', 'aorta', 'value'])\n",
    "dfMarked5NN = pd.DataFrame(columns= ['age', 'aorta', 'value'])\n",
    "\n",
    "dfDivided1NN = pd.DataFrame(columns= ['age', 'aorta', 'value'])\n",
    "dfDivided2NN = pd.DataFrame(columns= ['age', 'aorta', 'value'])\n",
    "dfDivided3NN = pd.DataFrame(columns= ['age', 'aorta','value'])\n",
    "dfDivided4NN = pd.DataFrame(columns= ['age', 'aorta', 'value'])\n",
    "dfDivided5NN = pd.DataFrame(columns= ['age', 'aorta', 'value'])\n",
    "\n",
    "for folder in clusterFolders2:\n",
    "    os.chdir(folder)\n",
    "    files = [f for f in listdir(folder) if isfile(join(folder, f)) if \".DS_Store\" not in f if \".npy\" in f if \"._\" not in f]\n",
    "    for file in files:\n",
    "        aorta = folder.split(\"/\")[-1]\n",
    "        age = folder.split(\"/\")[-2]\n",
    "        print(age)\n",
    "        print(aorta)\n",
    "        nucPath = join(nucleiPath, age, aorta)\n",
    "        nucImage = fullNucImage(nucPath)\n",
    "        masks = np.load(join(folder, file), allow_pickle=True).item()['masks']\n",
    "\n",
    "        clusterSizes, dicNot, marked, dividedOnly = clusterSize5_60_A78(masks, nucImage)\n",
    "\n",
    "        unique, counts = np.unique(clusterSizes, return_counts=True)\n",
    "        numberMarked = counts.sum()\n",
    "        numberDivided = counts[1:].sum()\n",
    "        print(len(np.unique(marked)))\n",
    "        print(numberMarked)\n",
    "\n",
    "        prop_Marked = regionprops_table(marked, properties = ('label', 'centroid'))\n",
    "        dfMarked = pd.DataFrame(prop_Marked)\n",
    "\n",
    "        nbrs, distancesMarked, indices = kNN(dfMarked.iloc[:,1:],6)\n",
    "\n",
    "        prop_Divided = regionprops_table(dividedOnly, properties = ('label', 'centroid'))\n",
    "        dfDivided = pd.DataFrame(prop_Divided)\n",
    "        nbrs, distancesDivided, indices = kNN(dfDivided.iloc[:,1:],6)\n",
    "\n",
    "        prop_nuc = regionprops_table(nucImage, properties = ('label', 'centroid'))\n",
    "        dfNuc = pd.DataFrame(prop_nuc)\n",
    "        nucIDs = dfNuc['label'].tolist()\n",
    "        lens = [numberMarked, numberDivided]\n",
    "        markedRandom, dividedRandom =  randomkNNCluster(nucIDs,lens, dfNuc, 1000)\n",
    "\n",
    "        age = nucPath.split(\"/\")[-2]\n",
    "        aorta = nucPath.split(\"/\")[-1]\n",
    "\n",
    "        dfMarked1NN = dfMarked1NN.append(dataFrameHelp(age, aorta, distancesMarked[:,1]/np.mean(markedRandom[:,:,1].flatten()) -1 ))\n",
    "        dfMarked2NN = dfMarked2NN.append(dataFrameHelp(age, aorta, distancesMarked[:,2]/np.mean(markedRandom[:,:,2].flatten()) -1 ))\n",
    "        dfMarked3NN = dfMarked3NN.append(dataFrameHelp(age, aorta, distancesMarked[:,3]/np.mean(markedRandom[:,:,3].flatten()) -1 ))\n",
    "        dfMarked4NN = dfMarked4NN.append(dataFrameHelp(age, aorta, distancesMarked[:,4]/np.mean(markedRandom[:,:,4].flatten()) -1 ))\n",
    "        dfMarked5NN = dfMarked5NN.append(dataFrameHelp(age, aorta, distancesMarked[:,5]/np.mean(markedRandom[:,:,5].flatten()) -1 ))\n",
    "\n",
    "        dfDivided1NN = dfDivided1NN.append(dataFrameHelp(age, aorta, distancesDivided[:,1]/np.mean(dividedRandom[:,:,1].flatten()) -1 ))\n",
    "        dfDivided2NN = dfDivided2NN.append(dataFrameHelp(age, aorta, distancesDivided[:,1]/np.mean(dividedRandom[:,:,1].flatten()) -1 ))\n",
    "        dfDivided3NN = dfDivided3NN.append(dataFrameHelp(age, aorta, distancesDivided[:,1]/np.mean(dividedRandom[:,:,1].flatten()) -1 ))\n",
    "        dfDivided4NN = dfDivided4NN.append(dataFrameHelp(age, aorta, distancesDivided[:,1]/np.mean(dividedRandom[:,:,1].flatten()) -1 ))\n",
    "        dfDivided5NN = dfDivided5NN.append(dataFrameHelp(age, aorta, distancesDivided[:,1]/np.mean(dividedRandom[:,:,1].flatten()) -1 ))"
   ],
   "metadata": {
    "collapsed": false,
    "pycharm": {
     "name": "#%%\n"
    }
   }
  },
  {
   "cell_type": "code",
   "execution_count": 43,
   "outputs": [],
   "source": [
    "dfMarked1NN['kNNType'] = \"1NN\"\n",
    "dfMarked2NN['kNNType'] = \"2NN\"\n",
    "dfMarked3NN['kNNType'] = \"3NN\"\n",
    "dfMarked4NN['kNNType'] = \"4NN\"\n",
    "dfMarked5NN['kNNType'] = \"5NN\"\n",
    "dfMarkedAll = pd.concat([dfMarked1NN, dfMarked2NN, dfMarked3NN, dfMarked4NN, dfMarked5NN])\n",
    "\n",
    "dfDivided1NN['kNNType'] = \"1NN\"\n",
    "dfDivided2NN['kNNType'] = \"2NN\"\n",
    "dfDivided3NN['kNNType'] = \"3NN\"\n",
    "dfDivided4NN['kNNType'] = \"4NN\"\n",
    "dfDivided5NN['kNNType'] = \"5NN\"\n",
    "dfDividedAll = pd.concat([dfDivided1NN, dfDivided2NN, dfDivided3NN, dfDivided4NN, dfDivided5NN])"
   ],
   "metadata": {
    "collapsed": false,
    "pycharm": {
     "name": "#%%\n"
    }
   }
  },
  {
   "cell_type": "code",
   "execution_count": 44,
   "outputs": [],
   "source": [
    "savePath = \"/Users/jones/Downloads\"\n",
    "dfMarkedAll.to_csv(join(savePath, \"markedClustersRedkNN_5-60_2.csv\"), index=False)\n",
    "dfDividedAll.to_csv(join(savePath, \"dividedClustersRedkNN_5-60_2.csv\"), index=False)"
   ],
   "metadata": {
    "collapsed": false,
    "pycharm": {
     "name": "#%%\n"
    }
   }
  },
  {
   "cell_type": "code",
   "execution_count": null,
   "outputs": [],
   "source": [],
   "metadata": {
    "collapsed": false,
    "pycharm": {
     "name": "#%%\n"
    }
   }
  },
  {
   "cell_type": "code",
   "execution_count": null,
   "outputs": [],
   "source": [],
   "metadata": {
    "collapsed": false,
    "pycharm": {
     "name": "#%%\n"
    }
   }
  },
  {
   "cell_type": "code",
   "execution_count": 45,
   "outputs": [],
   "source": [
    "#combine dfs\n",
    "dfMarked1 = pd.read_csv(\"/Users/jones/Downloads/markedClustersRedkNN_3.csv\")\n",
    "dfMarked2 = pd.read_csv(\"/Volumes/Aortas/Aorta/results/inducedRainbow/spatialPattern/markedClustersRedkNN_0-5.csv\")\n",
    "dfMarked3 = pd.read_csv(\"/Volumes/Aortas/Aorta/results/inducedRainbow/spatialPattern/markedClustersRedkNN_0-10.csv\")\n",
    "dfMarked4 = pd.read_csv(\"/Users/jones/Downloads/markedClustersRedkNN_5-60_1.csv\")\n",
    "dfMarked5 = pd.read_csv(\"/Users/jones/Downloads/markedClustersRedkNN_5-60_2.csv\")\n",
    "\n",
    "dfMarkedAllNow = pd.concat([dfMarked1, dfMarked2, dfMarked3, dfMarked4, dfMarked5])"
   ],
   "metadata": {
    "collapsed": false,
    "pycharm": {
     "name": "#%%\n"
    }
   }
  },
  {
   "cell_type": "code",
   "execution_count": 46,
   "outputs": [
    {
     "data": {
      "text/plain": "        age    aorta     value kNNType\n0     10-21  aorta01  0.538041     1NN\n1     10-21  aorta01 -0.102917     1NN\n2     10-21  aorta01  0.054030     1NN\n3     10-21  aorta01 -0.065480     1NN\n4     10-21  aorta01  0.943803     1NN\n...     ...      ...       ...     ...\n3310   5-60  aorta08  0.217698     5NN\n3311   5-60  aorta08 -0.146573     5NN\n3312   5-60  aorta08  0.002059     5NN\n3313   5-60  aorta08  0.099470     5NN\n3314   5-60  aorta08  0.081323     5NN\n\n[122780 rows x 4 columns]",
      "text/html": "<div>\n<style scoped>\n    .dataframe tbody tr th:only-of-type {\n        vertical-align: middle;\n    }\n\n    .dataframe tbody tr th {\n        vertical-align: top;\n    }\n\n    .dataframe thead th {\n        text-align: right;\n    }\n</style>\n<table border=\"1\" class=\"dataframe\">\n  <thead>\n    <tr style=\"text-align: right;\">\n      <th></th>\n      <th>age</th>\n      <th>aorta</th>\n      <th>value</th>\n      <th>kNNType</th>\n    </tr>\n  </thead>\n  <tbody>\n    <tr>\n      <th>0</th>\n      <td>10-21</td>\n      <td>aorta01</td>\n      <td>0.538041</td>\n      <td>1NN</td>\n    </tr>\n    <tr>\n      <th>1</th>\n      <td>10-21</td>\n      <td>aorta01</td>\n      <td>-0.102917</td>\n      <td>1NN</td>\n    </tr>\n    <tr>\n      <th>2</th>\n      <td>10-21</td>\n      <td>aorta01</td>\n      <td>0.054030</td>\n      <td>1NN</td>\n    </tr>\n    <tr>\n      <th>3</th>\n      <td>10-21</td>\n      <td>aorta01</td>\n      <td>-0.065480</td>\n      <td>1NN</td>\n    </tr>\n    <tr>\n      <th>4</th>\n      <td>10-21</td>\n      <td>aorta01</td>\n      <td>0.943803</td>\n      <td>1NN</td>\n    </tr>\n    <tr>\n      <th>...</th>\n      <td>...</td>\n      <td>...</td>\n      <td>...</td>\n      <td>...</td>\n    </tr>\n    <tr>\n      <th>3310</th>\n      <td>5-60</td>\n      <td>aorta08</td>\n      <td>0.217698</td>\n      <td>5NN</td>\n    </tr>\n    <tr>\n      <th>3311</th>\n      <td>5-60</td>\n      <td>aorta08</td>\n      <td>-0.146573</td>\n      <td>5NN</td>\n    </tr>\n    <tr>\n      <th>3312</th>\n      <td>5-60</td>\n      <td>aorta08</td>\n      <td>0.002059</td>\n      <td>5NN</td>\n    </tr>\n    <tr>\n      <th>3313</th>\n      <td>5-60</td>\n      <td>aorta08</td>\n      <td>0.099470</td>\n      <td>5NN</td>\n    </tr>\n    <tr>\n      <th>3314</th>\n      <td>5-60</td>\n      <td>aorta08</td>\n      <td>0.081323</td>\n      <td>5NN</td>\n    </tr>\n  </tbody>\n</table>\n<p>122780 rows × 4 columns</p>\n</div>"
     },
     "execution_count": 46,
     "metadata": {},
     "output_type": "execute_result"
    }
   ],
   "source": [
    "dfMarkedAllNow"
   ],
   "metadata": {
    "collapsed": false,
    "pycharm": {
     "name": "#%%\n"
    }
   }
  },
  {
   "cell_type": "code",
   "execution_count": 47,
   "outputs": [],
   "source": [
    "dfMarkedAllNow.to_csv(join(savePath, \"markedClustersRedkNN_ALL_v3.csv\"), index=False)"
   ],
   "metadata": {
    "collapsed": false,
    "pycharm": {
     "name": "#%%\n"
    }
   }
  },
  {
   "cell_type": "code",
   "execution_count": null,
   "outputs": [],
   "source": [],
   "metadata": {
    "collapsed": false,
    "pycharm": {
     "name": "#%%\n"
    }
   }
  },
  {
   "cell_type": "code",
   "execution_count": 48,
   "outputs": [],
   "source": [
    "#combine dfs\n",
    "dfDivided1 = pd.read_csv(\"/Users/jones/Downloads/dividedClustersRedkNN_3.csv\")\n",
    "dfDivided2 = pd.read_csv(\"/Volumes/Aortas/Aorta/results/inducedRainbow/spatialPattern/dividedClustersRedkNN_0-5.csv\")\n",
    "dfDivided3 = pd.read_csv(\"/Volumes/Aortas/Aorta/results/inducedRainbow/spatialPattern/dividedClustersRedkNN_0-10.csv\")\n",
    "dfDivided4 = pd.read_csv(\"/Users/jones/Downloads/dividedClustersRedkNN_5-60_1.csv\")\n",
    "dfDivided5 = pd.read_csv(\"/Users/jones/Downloads/dividedClustersRedkNN_5-60_2.csv\")\n",
    "\n",
    "dfDividedAllNow = pd.concat([dfDivided1, dfDivided2, dfDivided3, dfDivided4, dfDivided5])"
   ],
   "metadata": {
    "collapsed": false,
    "pycharm": {
     "name": "#%%\n"
    }
   }
  },
  {
   "cell_type": "code",
   "execution_count": 70,
   "outputs": [],
   "source": [
    "dfDividedAllNow.to_csv(join(savePath, \"dividedClustersRedkNN_ALL_v3.csv\"), index=False)"
   ],
   "metadata": {
    "collapsed": false,
    "pycharm": {
     "name": "#%%\n"
    }
   }
  },
  {
   "cell_type": "code",
   "execution_count": 51,
   "outputs": [
    {
     "data": {
      "text/plain": "        age    aorta     value kNNType\n0     10-21  aorta01  0.082806     1NN\n1     10-21  aorta01  0.082806     1NN\n2     10-21  aorta01  0.145923     1NN\n3     10-21  aorta01  0.751155     1NN\n4     10-21  aorta01 -0.099933     1NN\n...     ...      ...       ...     ...\n1445   5-60  aorta08  0.818402     5NN\n1446   5-60  aorta08  0.570465     5NN\n1447   5-60  aorta08 -0.110917     5NN\n1448   5-60  aorta08 -0.058467     5NN\n1449   5-60  aorta08 -0.049157     5NN\n\n[43420 rows x 4 columns]",
      "text/html": "<div>\n<style scoped>\n    .dataframe tbody tr th:only-of-type {\n        vertical-align: middle;\n    }\n\n    .dataframe tbody tr th {\n        vertical-align: top;\n    }\n\n    .dataframe thead th {\n        text-align: right;\n    }\n</style>\n<table border=\"1\" class=\"dataframe\">\n  <thead>\n    <tr style=\"text-align: right;\">\n      <th></th>\n      <th>age</th>\n      <th>aorta</th>\n      <th>value</th>\n      <th>kNNType</th>\n    </tr>\n  </thead>\n  <tbody>\n    <tr>\n      <th>0</th>\n      <td>10-21</td>\n      <td>aorta01</td>\n      <td>0.082806</td>\n      <td>1NN</td>\n    </tr>\n    <tr>\n      <th>1</th>\n      <td>10-21</td>\n      <td>aorta01</td>\n      <td>0.082806</td>\n      <td>1NN</td>\n    </tr>\n    <tr>\n      <th>2</th>\n      <td>10-21</td>\n      <td>aorta01</td>\n      <td>0.145923</td>\n      <td>1NN</td>\n    </tr>\n    <tr>\n      <th>3</th>\n      <td>10-21</td>\n      <td>aorta01</td>\n      <td>0.751155</td>\n      <td>1NN</td>\n    </tr>\n    <tr>\n      <th>4</th>\n      <td>10-21</td>\n      <td>aorta01</td>\n      <td>-0.099933</td>\n      <td>1NN</td>\n    </tr>\n    <tr>\n      <th>...</th>\n      <td>...</td>\n      <td>...</td>\n      <td>...</td>\n      <td>...</td>\n    </tr>\n    <tr>\n      <th>1445</th>\n      <td>5-60</td>\n      <td>aorta08</td>\n      <td>0.818402</td>\n      <td>5NN</td>\n    </tr>\n    <tr>\n      <th>1446</th>\n      <td>5-60</td>\n      <td>aorta08</td>\n      <td>0.570465</td>\n      <td>5NN</td>\n    </tr>\n    <tr>\n      <th>1447</th>\n      <td>5-60</td>\n      <td>aorta08</td>\n      <td>-0.110917</td>\n      <td>5NN</td>\n    </tr>\n    <tr>\n      <th>1448</th>\n      <td>5-60</td>\n      <td>aorta08</td>\n      <td>-0.058467</td>\n      <td>5NN</td>\n    </tr>\n    <tr>\n      <th>1449</th>\n      <td>5-60</td>\n      <td>aorta08</td>\n      <td>-0.049157</td>\n      <td>5NN</td>\n    </tr>\n  </tbody>\n</table>\n<p>43420 rows × 4 columns</p>\n</div>"
     },
     "execution_count": 51,
     "metadata": {},
     "output_type": "execute_result"
    }
   ],
   "source": [
    "dfDividedAllNow"
   ],
   "metadata": {
    "collapsed": false,
    "pycharm": {
     "name": "#%%\n"
    }
   }
  },
  {
   "cell_type": "code",
   "execution_count": 50,
   "outputs": [
    {
     "data": {
      "text/plain": "               value  kNNType\nage   aorta                  \n0-10  aorta01   1665     1665\n      aorta02   1495     1495\n      aorta03    890      890\n      aorta04    640      640\n      aorta05    775      775\n      aorta06    530      530\n0-5   aorta01    575      575\n      aorta02    470      470\n      aorta03    600      600\n      aorta04    850      850\n      aorta05    545      545\n      aorta06    565      565\n10-21 aorta01    785      785\n      aorta02    305      305\n      aorta03    615      615\n      aorta04    385      385\n      aorta05    690      690\n10-30 aorta01    990      990\n      aorta02   1220     1220\n      aorta03    575      575\n      aorta04    715      715\n      aorta05    635      635\n      aorta06    800      800\n      aorta07    865      865\n10-60 aorta01    540      540\n      aorta02    930      930\n      aorta03   1040     1040\n      aorta04   1180     1180\n      aorta05    455      455\n      aorta06   1265     1265\n21-30 aorta01    135      135\n      aorta02     80       80\n      aorta03    100      100\n30-60 aorta01    275      275\n      aorta02    125      125\n      aorta03    225      225\n      aorta04    230      230\n      aorta05     80       80\n5-10  aorta01   1180     1180\n      aorta02    600      600\n      aorta03    445      445\n      aorta04    945      945\n      aorta06    480      480\n      aorta07    665      665\n      aorta08    680      680\n5-30  aorta01   1215     1215\n      aorta02    940      940\n      aorta03    560      560\n      aorta04    915      915\n      aorta05    650      650\n      aorta06   1140     1140\n5-60  aorta01    685      685\n      aorta02   1275     1275\n      aorta03    675      675\n      aorta04   1490     1490\n      aorta05   1165     1165\n      aorta06   1425     1425\n      aorta07    500      500\n      aorta08    950      950",
      "text/html": "<div>\n<style scoped>\n    .dataframe tbody tr th:only-of-type {\n        vertical-align: middle;\n    }\n\n    .dataframe tbody tr th {\n        vertical-align: top;\n    }\n\n    .dataframe thead th {\n        text-align: right;\n    }\n</style>\n<table border=\"1\" class=\"dataframe\">\n  <thead>\n    <tr style=\"text-align: right;\">\n      <th></th>\n      <th></th>\n      <th>value</th>\n      <th>kNNType</th>\n    </tr>\n    <tr>\n      <th>age</th>\n      <th>aorta</th>\n      <th></th>\n      <th></th>\n    </tr>\n  </thead>\n  <tbody>\n    <tr>\n      <th rowspan=\"6\" valign=\"top\">0-10</th>\n      <th>aorta01</th>\n      <td>1665</td>\n      <td>1665</td>\n    </tr>\n    <tr>\n      <th>aorta02</th>\n      <td>1495</td>\n      <td>1495</td>\n    </tr>\n    <tr>\n      <th>aorta03</th>\n      <td>890</td>\n      <td>890</td>\n    </tr>\n    <tr>\n      <th>aorta04</th>\n      <td>640</td>\n      <td>640</td>\n    </tr>\n    <tr>\n      <th>aorta05</th>\n      <td>775</td>\n      <td>775</td>\n    </tr>\n    <tr>\n      <th>aorta06</th>\n      <td>530</td>\n      <td>530</td>\n    </tr>\n    <tr>\n      <th rowspan=\"6\" valign=\"top\">0-5</th>\n      <th>aorta01</th>\n      <td>575</td>\n      <td>575</td>\n    </tr>\n    <tr>\n      <th>aorta02</th>\n      <td>470</td>\n      <td>470</td>\n    </tr>\n    <tr>\n      <th>aorta03</th>\n      <td>600</td>\n      <td>600</td>\n    </tr>\n    <tr>\n      <th>aorta04</th>\n      <td>850</td>\n      <td>850</td>\n    </tr>\n    <tr>\n      <th>aorta05</th>\n      <td>545</td>\n      <td>545</td>\n    </tr>\n    <tr>\n      <th>aorta06</th>\n      <td>565</td>\n      <td>565</td>\n    </tr>\n    <tr>\n      <th rowspan=\"5\" valign=\"top\">10-21</th>\n      <th>aorta01</th>\n      <td>785</td>\n      <td>785</td>\n    </tr>\n    <tr>\n      <th>aorta02</th>\n      <td>305</td>\n      <td>305</td>\n    </tr>\n    <tr>\n      <th>aorta03</th>\n      <td>615</td>\n      <td>615</td>\n    </tr>\n    <tr>\n      <th>aorta04</th>\n      <td>385</td>\n      <td>385</td>\n    </tr>\n    <tr>\n      <th>aorta05</th>\n      <td>690</td>\n      <td>690</td>\n    </tr>\n    <tr>\n      <th rowspan=\"7\" valign=\"top\">10-30</th>\n      <th>aorta01</th>\n      <td>990</td>\n      <td>990</td>\n    </tr>\n    <tr>\n      <th>aorta02</th>\n      <td>1220</td>\n      <td>1220</td>\n    </tr>\n    <tr>\n      <th>aorta03</th>\n      <td>575</td>\n      <td>575</td>\n    </tr>\n    <tr>\n      <th>aorta04</th>\n      <td>715</td>\n      <td>715</td>\n    </tr>\n    <tr>\n      <th>aorta05</th>\n      <td>635</td>\n      <td>635</td>\n    </tr>\n    <tr>\n      <th>aorta06</th>\n      <td>800</td>\n      <td>800</td>\n    </tr>\n    <tr>\n      <th>aorta07</th>\n      <td>865</td>\n      <td>865</td>\n    </tr>\n    <tr>\n      <th rowspan=\"6\" valign=\"top\">10-60</th>\n      <th>aorta01</th>\n      <td>540</td>\n      <td>540</td>\n    </tr>\n    <tr>\n      <th>aorta02</th>\n      <td>930</td>\n      <td>930</td>\n    </tr>\n    <tr>\n      <th>aorta03</th>\n      <td>1040</td>\n      <td>1040</td>\n    </tr>\n    <tr>\n      <th>aorta04</th>\n      <td>1180</td>\n      <td>1180</td>\n    </tr>\n    <tr>\n      <th>aorta05</th>\n      <td>455</td>\n      <td>455</td>\n    </tr>\n    <tr>\n      <th>aorta06</th>\n      <td>1265</td>\n      <td>1265</td>\n    </tr>\n    <tr>\n      <th rowspan=\"3\" valign=\"top\">21-30</th>\n      <th>aorta01</th>\n      <td>135</td>\n      <td>135</td>\n    </tr>\n    <tr>\n      <th>aorta02</th>\n      <td>80</td>\n      <td>80</td>\n    </tr>\n    <tr>\n      <th>aorta03</th>\n      <td>100</td>\n      <td>100</td>\n    </tr>\n    <tr>\n      <th rowspan=\"5\" valign=\"top\">30-60</th>\n      <th>aorta01</th>\n      <td>275</td>\n      <td>275</td>\n    </tr>\n    <tr>\n      <th>aorta02</th>\n      <td>125</td>\n      <td>125</td>\n    </tr>\n    <tr>\n      <th>aorta03</th>\n      <td>225</td>\n      <td>225</td>\n    </tr>\n    <tr>\n      <th>aorta04</th>\n      <td>230</td>\n      <td>230</td>\n    </tr>\n    <tr>\n      <th>aorta05</th>\n      <td>80</td>\n      <td>80</td>\n    </tr>\n    <tr>\n      <th rowspan=\"7\" valign=\"top\">5-10</th>\n      <th>aorta01</th>\n      <td>1180</td>\n      <td>1180</td>\n    </tr>\n    <tr>\n      <th>aorta02</th>\n      <td>600</td>\n      <td>600</td>\n    </tr>\n    <tr>\n      <th>aorta03</th>\n      <td>445</td>\n      <td>445</td>\n    </tr>\n    <tr>\n      <th>aorta04</th>\n      <td>945</td>\n      <td>945</td>\n    </tr>\n    <tr>\n      <th>aorta06</th>\n      <td>480</td>\n      <td>480</td>\n    </tr>\n    <tr>\n      <th>aorta07</th>\n      <td>665</td>\n      <td>665</td>\n    </tr>\n    <tr>\n      <th>aorta08</th>\n      <td>680</td>\n      <td>680</td>\n    </tr>\n    <tr>\n      <th rowspan=\"6\" valign=\"top\">5-30</th>\n      <th>aorta01</th>\n      <td>1215</td>\n      <td>1215</td>\n    </tr>\n    <tr>\n      <th>aorta02</th>\n      <td>940</td>\n      <td>940</td>\n    </tr>\n    <tr>\n      <th>aorta03</th>\n      <td>560</td>\n      <td>560</td>\n    </tr>\n    <tr>\n      <th>aorta04</th>\n      <td>915</td>\n      <td>915</td>\n    </tr>\n    <tr>\n      <th>aorta05</th>\n      <td>650</td>\n      <td>650</td>\n    </tr>\n    <tr>\n      <th>aorta06</th>\n      <td>1140</td>\n      <td>1140</td>\n    </tr>\n    <tr>\n      <th rowspan=\"8\" valign=\"top\">5-60</th>\n      <th>aorta01</th>\n      <td>685</td>\n      <td>685</td>\n    </tr>\n    <tr>\n      <th>aorta02</th>\n      <td>1275</td>\n      <td>1275</td>\n    </tr>\n    <tr>\n      <th>aorta03</th>\n      <td>675</td>\n      <td>675</td>\n    </tr>\n    <tr>\n      <th>aorta04</th>\n      <td>1490</td>\n      <td>1490</td>\n    </tr>\n    <tr>\n      <th>aorta05</th>\n      <td>1165</td>\n      <td>1165</td>\n    </tr>\n    <tr>\n      <th>aorta06</th>\n      <td>1425</td>\n      <td>1425</td>\n    </tr>\n    <tr>\n      <th>aorta07</th>\n      <td>500</td>\n      <td>500</td>\n    </tr>\n    <tr>\n      <th>aorta08</th>\n      <td>950</td>\n      <td>950</td>\n    </tr>\n  </tbody>\n</table>\n</div>"
     },
     "execution_count": 50,
     "metadata": {},
     "output_type": "execute_result"
    }
   ],
   "source": [
    "dfDividedAllNow.groupby([\"age\", \"aorta\"]).count()"
   ],
   "metadata": {
    "collapsed": false,
    "pycharm": {
     "name": "#%%\n"
    }
   }
  },
  {
   "cell_type": "code",
   "execution_count": 53,
   "outputs": [
    {
     "data": {
      "text/plain": "        age    aorta     value kNNType\n0     10-21  aorta01  0.082806     1NN\n1     10-21  aorta01  0.082806     1NN\n2     10-21  aorta01  0.145923     1NN\n3     10-21  aorta01  0.751155     1NN\n4     10-21  aorta01 -0.099933     1NN\n...     ...      ...       ...     ...\n1445   5-60  aorta08  0.818402     5NN\n1446   5-60  aorta08  0.570465     5NN\n1447   5-60  aorta08 -0.110917     5NN\n1448   5-60  aorta08 -0.058467     5NN\n1449   5-60  aorta08 -0.049157     5NN\n\n[43420 rows x 4 columns]",
      "text/html": "<div>\n<style scoped>\n    .dataframe tbody tr th:only-of-type {\n        vertical-align: middle;\n    }\n\n    .dataframe tbody tr th {\n        vertical-align: top;\n    }\n\n    .dataframe thead th {\n        text-align: right;\n    }\n</style>\n<table border=\"1\" class=\"dataframe\">\n  <thead>\n    <tr style=\"text-align: right;\">\n      <th></th>\n      <th>age</th>\n      <th>aorta</th>\n      <th>value</th>\n      <th>kNNType</th>\n    </tr>\n  </thead>\n  <tbody>\n    <tr>\n      <th>0</th>\n      <td>10-21</td>\n      <td>aorta01</td>\n      <td>0.082806</td>\n      <td>1NN</td>\n    </tr>\n    <tr>\n      <th>1</th>\n      <td>10-21</td>\n      <td>aorta01</td>\n      <td>0.082806</td>\n      <td>1NN</td>\n    </tr>\n    <tr>\n      <th>2</th>\n      <td>10-21</td>\n      <td>aorta01</td>\n      <td>0.145923</td>\n      <td>1NN</td>\n    </tr>\n    <tr>\n      <th>3</th>\n      <td>10-21</td>\n      <td>aorta01</td>\n      <td>0.751155</td>\n      <td>1NN</td>\n    </tr>\n    <tr>\n      <th>4</th>\n      <td>10-21</td>\n      <td>aorta01</td>\n      <td>-0.099933</td>\n      <td>1NN</td>\n    </tr>\n    <tr>\n      <th>...</th>\n      <td>...</td>\n      <td>...</td>\n      <td>...</td>\n      <td>...</td>\n    </tr>\n    <tr>\n      <th>1445</th>\n      <td>5-60</td>\n      <td>aorta08</td>\n      <td>0.818402</td>\n      <td>5NN</td>\n    </tr>\n    <tr>\n      <th>1446</th>\n      <td>5-60</td>\n      <td>aorta08</td>\n      <td>0.570465</td>\n      <td>5NN</td>\n    </tr>\n    <tr>\n      <th>1447</th>\n      <td>5-60</td>\n      <td>aorta08</td>\n      <td>-0.110917</td>\n      <td>5NN</td>\n    </tr>\n    <tr>\n      <th>1448</th>\n      <td>5-60</td>\n      <td>aorta08</td>\n      <td>-0.058467</td>\n      <td>5NN</td>\n    </tr>\n    <tr>\n      <th>1449</th>\n      <td>5-60</td>\n      <td>aorta08</td>\n      <td>-0.049157</td>\n      <td>5NN</td>\n    </tr>\n  </tbody>\n</table>\n<p>43420 rows × 4 columns</p>\n</div>"
     },
     "execution_count": 53,
     "metadata": {},
     "output_type": "execute_result"
    }
   ],
   "source": [
    "dfDividedAllNow"
   ],
   "metadata": {
    "collapsed": false,
    "pycharm": {
     "name": "#%%\n"
    }
   }
  },
  {
   "cell_type": "code",
   "execution_count": 59,
   "outputs": [],
   "source": [
    "dfDividedAllNow = dfDividedAllNow.reset_index(drop=True)"
   ],
   "metadata": {
    "collapsed": false,
    "pycharm": {
     "name": "#%%\n"
    }
   }
  },
  {
   "cell_type": "code",
   "execution_count": 68,
   "outputs": [],
   "source": [
    "dfDividedAllNow = dfDividedAllNow.drop(index=[3284,8942,14600,20258,25916]).reset_index(drop=True)"
   ],
   "metadata": {
    "collapsed": false,
    "pycharm": {
     "name": "#%%\n"
    }
   }
  },
  {
   "cell_type": "code",
   "execution_count": 69,
   "outputs": [
    {
     "data": {
      "text/plain": "         age    aorta     value kNNType\n0      10-21  aorta01  0.082806     1NN\n1      10-21  aorta01  0.082806     1NN\n2      10-21  aorta01  0.145923     1NN\n3      10-21  aorta01  0.751155     1NN\n4      10-21  aorta01 -0.099933     1NN\n...      ...      ...       ...     ...\n43410   5-60  aorta08  0.818402     5NN\n43411   5-60  aorta08  0.570465     5NN\n43412   5-60  aorta08 -0.110917     5NN\n43413   5-60  aorta08 -0.058467     5NN\n43414   5-60  aorta08 -0.049157     5NN\n\n[43415 rows x 4 columns]",
      "text/html": "<div>\n<style scoped>\n    .dataframe tbody tr th:only-of-type {\n        vertical-align: middle;\n    }\n\n    .dataframe tbody tr th {\n        vertical-align: top;\n    }\n\n    .dataframe thead th {\n        text-align: right;\n    }\n</style>\n<table border=\"1\" class=\"dataframe\">\n  <thead>\n    <tr style=\"text-align: right;\">\n      <th></th>\n      <th>age</th>\n      <th>aorta</th>\n      <th>value</th>\n      <th>kNNType</th>\n    </tr>\n  </thead>\n  <tbody>\n    <tr>\n      <th>0</th>\n      <td>10-21</td>\n      <td>aorta01</td>\n      <td>0.082806</td>\n      <td>1NN</td>\n    </tr>\n    <tr>\n      <th>1</th>\n      <td>10-21</td>\n      <td>aorta01</td>\n      <td>0.082806</td>\n      <td>1NN</td>\n    </tr>\n    <tr>\n      <th>2</th>\n      <td>10-21</td>\n      <td>aorta01</td>\n      <td>0.145923</td>\n      <td>1NN</td>\n    </tr>\n    <tr>\n      <th>3</th>\n      <td>10-21</td>\n      <td>aorta01</td>\n      <td>0.751155</td>\n      <td>1NN</td>\n    </tr>\n    <tr>\n      <th>4</th>\n      <td>10-21</td>\n      <td>aorta01</td>\n      <td>-0.099933</td>\n      <td>1NN</td>\n    </tr>\n    <tr>\n      <th>...</th>\n      <td>...</td>\n      <td>...</td>\n      <td>...</td>\n      <td>...</td>\n    </tr>\n    <tr>\n      <th>43410</th>\n      <td>5-60</td>\n      <td>aorta08</td>\n      <td>0.818402</td>\n      <td>5NN</td>\n    </tr>\n    <tr>\n      <th>43411</th>\n      <td>5-60</td>\n      <td>aorta08</td>\n      <td>0.570465</td>\n      <td>5NN</td>\n    </tr>\n    <tr>\n      <th>43412</th>\n      <td>5-60</td>\n      <td>aorta08</td>\n      <td>-0.110917</td>\n      <td>5NN</td>\n    </tr>\n    <tr>\n      <th>43413</th>\n      <td>5-60</td>\n      <td>aorta08</td>\n      <td>-0.058467</td>\n      <td>5NN</td>\n    </tr>\n    <tr>\n      <th>43414</th>\n      <td>5-60</td>\n      <td>aorta08</td>\n      <td>-0.049157</td>\n      <td>5NN</td>\n    </tr>\n  </tbody>\n</table>\n<p>43415 rows × 4 columns</p>\n</div>"
     },
     "execution_count": 69,
     "metadata": {},
     "output_type": "execute_result"
    }
   ],
   "source": [
    "dfDividedAllNow"
   ],
   "metadata": {
    "collapsed": false,
    "pycharm": {
     "name": "#%%\n"
    }
   }
  },
  {
   "cell_type": "code",
   "execution_count": 106,
   "outputs": [],
   "source": [
    "testPath = \"/Volumes/Aortas/Aorta/segmentations/inducedRainbow/final/red/0-5/aorta01/cellposeSegm_RedP0-5_aorta01_50Thre_finalNew_seg.npy\"\n",
    "test = np.load(testPath, allow_pickle=True).item()['masks']\n",
    "nucPath = \"/Volumes/Aortas/Aorta/segmentations/inducedRainbow/final/nuclei/0-5/aorta01\""
   ],
   "metadata": {
    "collapsed": false,
    "pycharm": {
     "name": "#%%\n"
    }
   }
  },
  {
   "cell_type": "code",
   "execution_count": 9,
   "outputs": [],
   "source": [
    "nucImage =  fullNucImage(\"/Volumes/Aortas/Aorta/segmentations/inducedRainbow/final/nuclei/0-5/aorta01\")"
   ],
   "metadata": {
    "collapsed": false,
    "pycharm": {
     "name": "#%%\n"
    }
   }
  },
  {
   "cell_type": "code",
   "execution_count": 59,
   "outputs": [],
   "source": [
    "clusterSizes, dicNot, marked, dividedOnly = clusterSizes(test, nucImage)"
   ],
   "metadata": {
    "collapsed": false,
    "pycharm": {
     "name": "#%%\n"
    }
   }
  },
  {
   "cell_type": "code",
   "execution_count": 60,
   "outputs": [],
   "source": [
    "unique, counts = np.unique(clusterSizes, return_counts=True)"
   ],
   "metadata": {
    "collapsed": false,
    "pycharm": {
     "name": "#%%\n"
    }
   }
  },
  {
   "cell_type": "code",
   "execution_count": 61,
   "outputs": [],
   "source": [
    "numberMarked = counts.sum() + len(dicNot)\n",
    "numberDivided = counts[1:].sum()"
   ],
   "metadata": {
    "collapsed": false,
    "pycharm": {
     "name": "#%%\n"
    }
   }
  },
  {
   "cell_type": "code",
   "execution_count": 62,
   "outputs": [
    {
     "data": {
      "text/plain": "524"
     },
     "execution_count": 62,
     "metadata": {},
     "output_type": "execute_result"
    }
   ],
   "source": [
    "numberMarked"
   ],
   "metadata": {
    "collapsed": false,
    "pycharm": {
     "name": "#%%\n"
    }
   }
  },
  {
   "cell_type": "code",
   "execution_count": 63,
   "outputs": [
    {
     "data": {
      "text/plain": "116"
     },
     "execution_count": 63,
     "metadata": {},
     "output_type": "execute_result"
    }
   ],
   "source": [
    "len(np.unique(dividedOnly))"
   ],
   "metadata": {
    "collapsed": false,
    "pycharm": {
     "name": "#%%\n"
    }
   }
  },
  {
   "cell_type": "code",
   "execution_count": 68,
   "outputs": [],
   "source": [
    "prop_dict = regionprops_table(marked, properties = ('label', 'centroid'))\n",
    "df_help = pd.DataFrame(prop_dict)"
   ],
   "metadata": {
    "collapsed": false,
    "pycharm": {
     "name": "#%%\n"
    }
   }
  },
  {
   "cell_type": "code",
   "execution_count": 69,
   "outputs": [
    {
     "data": {
      "text/plain": "     label   centroid-0  centroid-1\n0       11    11.282759  602.696552\n1       12    18.978495  764.903226\n2       14    25.281106  710.414747\n3       16    26.205882  810.470588\n4       17    22.235294  732.176471\n..     ...          ...         ...\n519    918  1082.463415  840.473171\n520    919   933.735395  829.109966\n521    920   962.668394  825.238342\n522    921   466.717277  750.785340\n523    922   492.532609  744.804348\n\n[524 rows x 3 columns]",
      "text/html": "<div>\n<style scoped>\n    .dataframe tbody tr th:only-of-type {\n        vertical-align: middle;\n    }\n\n    .dataframe tbody tr th {\n        vertical-align: top;\n    }\n\n    .dataframe thead th {\n        text-align: right;\n    }\n</style>\n<table border=\"1\" class=\"dataframe\">\n  <thead>\n    <tr style=\"text-align: right;\">\n      <th></th>\n      <th>label</th>\n      <th>centroid-0</th>\n      <th>centroid-1</th>\n    </tr>\n  </thead>\n  <tbody>\n    <tr>\n      <th>0</th>\n      <td>11</td>\n      <td>11.282759</td>\n      <td>602.696552</td>\n    </tr>\n    <tr>\n      <th>1</th>\n      <td>12</td>\n      <td>18.978495</td>\n      <td>764.903226</td>\n    </tr>\n    <tr>\n      <th>2</th>\n      <td>14</td>\n      <td>25.281106</td>\n      <td>710.414747</td>\n    </tr>\n    <tr>\n      <th>3</th>\n      <td>16</td>\n      <td>26.205882</td>\n      <td>810.470588</td>\n    </tr>\n    <tr>\n      <th>4</th>\n      <td>17</td>\n      <td>22.235294</td>\n      <td>732.176471</td>\n    </tr>\n    <tr>\n      <th>...</th>\n      <td>...</td>\n      <td>...</td>\n      <td>...</td>\n    </tr>\n    <tr>\n      <th>519</th>\n      <td>918</td>\n      <td>1082.463415</td>\n      <td>840.473171</td>\n    </tr>\n    <tr>\n      <th>520</th>\n      <td>919</td>\n      <td>933.735395</td>\n      <td>829.109966</td>\n    </tr>\n    <tr>\n      <th>521</th>\n      <td>920</td>\n      <td>962.668394</td>\n      <td>825.238342</td>\n    </tr>\n    <tr>\n      <th>522</th>\n      <td>921</td>\n      <td>466.717277</td>\n      <td>750.785340</td>\n    </tr>\n    <tr>\n      <th>523</th>\n      <td>922</td>\n      <td>492.532609</td>\n      <td>744.804348</td>\n    </tr>\n  </tbody>\n</table>\n<p>524 rows × 3 columns</p>\n</div>"
     },
     "execution_count": 69,
     "metadata": {},
     "output_type": "execute_result"
    }
   ],
   "source": [
    "df_help"
   ],
   "metadata": {
    "collapsed": false,
    "pycharm": {
     "name": "#%%\n"
    }
   }
  },
  {
   "cell_type": "code",
   "execution_count": 70,
   "outputs": [],
   "source": [],
   "metadata": {
    "collapsed": false,
    "pycharm": {
     "name": "#%%\n"
    }
   }
  },
  {
   "cell_type": "code",
   "execution_count": 81,
   "outputs": [],
   "source": [
    "nbrs, distances, indices = kNN(df_help.iloc[:,1:],6)"
   ],
   "metadata": {
    "collapsed": false,
    "pycharm": {
     "name": "#%%\n"
    }
   }
  },
  {
   "cell_type": "code",
   "execution_count": 82,
   "outputs": [
    {
     "data": {
      "text/plain": "array([[ 0.        , 27.07602602, 38.64095015, 55.21295917, 57.00141225,\n        59.18617971],\n       [ 0.        , 32.88840601, 38.11990579, 43.07848539, 46.13696622,\n        48.76343817],\n       [ 0.        , 21.97383907, 34.79342903, 54.85177556, 72.78755393,\n        77.23105475],\n       ...,\n       [ 0.        , 29.19088689, 31.57916987, 40.41094645, 40.74168706,\n        47.795374  ],\n       [ 0.        , 12.75242949, 17.56221096, 26.49912445, 30.81518012,\n        46.27179345],\n       [ 0.        , 26.288571  , 26.49912445, 32.09216127, 32.69117356,\n        34.13697575]])"
     },
     "execution_count": 82,
     "metadata": {},
     "output_type": "execute_result"
    }
   ],
   "source": [
    "distances"
   ],
   "metadata": {
    "collapsed": false,
    "pycharm": {
     "name": "#%%\n"
    }
   }
  },
  {
   "cell_type": "code",
   "execution_count": 83,
   "outputs": [],
   "source": [],
   "metadata": {
    "collapsed": false,
    "pycharm": {
     "name": "#%%\n"
    }
   }
  },
  {
   "cell_type": "code",
   "execution_count": 87,
   "outputs": [],
   "source": [],
   "metadata": {
    "collapsed": false,
    "pycharm": {
     "name": "#%%\n"
    }
   }
  },
  {
   "cell_type": "code",
   "execution_count": null,
   "outputs": [],
   "source": [],
   "metadata": {
    "collapsed": false,
    "pycharm": {
     "name": "#%%\n"
    }
   }
  },
  {
   "cell_type": "code",
   "execution_count": 85,
   "outputs": [],
   "source": [
    "prop_nuc = regionprops_table(nucImage, properties = ('label', 'centroid'))\n",
    "dfNuc = pd.DataFrame(prop_nuc)\n",
    "nucIDs = dfNuc['label'].tolist()"
   ],
   "metadata": {
    "collapsed": false,
    "pycharm": {
     "name": "#%%\n"
    }
   }
  },
  {
   "cell_type": "code",
   "execution_count": 88,
   "outputs": [],
   "source": [
    "lens = [numberMarked, numberDivided]\n",
    "markedRandom, dividedRandom =  randomkNNCluster(nucIDs,lens, dfNuc, 1000)"
   ],
   "metadata": {
    "collapsed": false,
    "pycharm": {
     "name": "#%%\n"
    }
   }
  },
  {
   "cell_type": "code",
   "execution_count": 103,
   "outputs": [
    {
     "data": {
      "text/plain": "array([ 1.13371873e-02, -1.66760236e-01,  3.19676959e-01, -1.34089302e-01,\n        3.55342074e-02,  3.67551412e-01,  6.99998152e-02,  1.48735483e-01,\n       -4.90623955e-02, -3.38015704e-01, -8.11036834e-02,  6.18061453e-02,\n       -2.08671586e-01, -1.13073632e-01,  6.92814555e-02, -2.50457871e-01,\n       -3.31706072e-01, -1.66760236e-01, -3.11044831e-02, -2.93880724e-01,\n       -2.51307042e-01, -8.69034404e-02, -2.94595195e-02,  9.11123040e-02,\n       -2.70684428e-01,  2.47943324e-01, -3.31706072e-01, -1.08784440e-01,\n        1.25738460e-02, -4.37331433e-02, -3.55203143e-01, -2.61183145e-01,\n        1.78130574e-01, -1.42790553e-01, -6.83479208e-02, -1.92683977e-01,\n       -1.42790553e-01,  8.15371662e-02,  1.75979576e-02,  1.14121971e-01,\n        2.91563984e-01, -2.92295467e-01, -1.02792009e-01,  4.79348871e-02,\n        2.61658386e-01, -1.48594921e-01,  1.75353982e-01,  1.81968086e-01,\n        7.15158767e-02, -1.62388767e-01,  6.86492890e-02, -2.83035623e-01,\n        6.45674185e-02,  6.45674185e-02,  1.87706135e-01,  5.86363750e-02,\n       -2.41160653e-01, -2.73901939e-01,  3.16791192e-01,  3.96095309e-01,\n        8.71283692e-02, -1.38958806e-01,  3.91077177e-01,  3.10298626e-01,\n       -3.47827713e-01, -2.41160653e-01,  2.19757964e-01,  4.20119199e-02,\n       -1.03949336e-01, -1.16258847e-01,  5.24339171e-01,  1.56552003e-01,\n        3.11032811e-04, -3.12374874e-01,  1.22016541e-01,  2.37028558e-01,\n        1.68393874e-01, -1.39655798e-01, -7.03202446e-02,  3.79584702e-01,\n        5.86363750e-02, -2.55617988e-01, -6.26950822e-02, -3.13311276e-01,\n       -1.38958806e-01, -2.57295650e-02,  9.29231198e-02, -1.12416118e-01,\n        5.86945541e-01, -1.20456212e-01,  1.08029147e-01, -6.51543633e-02,\n        1.97893684e-01,  4.52563221e-01,  1.46801960e-01,  3.92426757e-01,\n        1.87547070e-01, -1.11663561e-01, -2.47649678e-01,  1.07718637e-01,\n        2.73726145e-01,  5.75562081e-02,  3.79584702e-01, -1.33954677e-01,\n        4.97931972e-02,  9.84190496e-02,  2.25366566e-01, -1.72805552e-01,\n       -3.20677954e-02,  1.07718637e-01,  5.75562081e-02,  2.29112975e-01,\n       -8.52578836e-02, -4.17546367e-01, -2.37302150e-01,  4.59477348e-02,\n       -1.46268194e-01, -2.38009322e-01, -1.48012118e-01, -1.48012118e-01,\n       -4.38749545e-02,  2.16388721e-02, -5.18588500e-02, -1.78829578e-01,\n       -2.60788251e-01, -2.73659059e-01,  2.22951948e-01,  4.53590313e-01,\n       -1.80822965e-01,  6.88922351e-02, -8.09514592e-02,  4.18153143e-02,\n       -9.47120181e-02,  2.79374287e-01, -2.18353309e-01,  2.73458074e-01,\n       -1.94891324e-01, -3.37891751e-01,  1.02012536e-01, -1.27275007e-01,\n        1.84566338e-02,  1.01532992e-01,  4.01811041e-02, -6.25633011e-02,\n        1.62789252e-01, -3.03543592e-02,  9.00568569e-02, -3.27396124e-02,\n        7.31345543e-02, -6.76123252e-02,  3.48862407e-01,  3.87711331e-01,\n       -9.97863149e-02, -4.14780603e-02,  7.34433244e-02,  1.04741359e-01,\n        1.09153074e-02, -2.03098822e-01,  1.17141695e-01,  1.18114977e-01,\n        1.60611515e-01, -1.82802495e-01, -3.03543592e-02,  3.32428952e-01,\n       -6.93608077e-02,  1.11241656e-01,  1.46877636e-01,  7.53292241e-02,\n        1.36100316e-01,  2.39546200e-01,  6.10932024e-02,  6.86145330e-02,\n       -2.03098822e-01, -3.26443567e-01,  2.04814971e-02, -6.21692966e-02,\n       -1.83469821e-01, -1.30613385e-01,  6.80817076e-03,  1.83951308e-02,\n       -2.03867906e-01,  6.61142856e-02, -8.86047136e-02, -6.21692966e-02,\n        6.10932024e-02, -1.94489633e-01,  1.83951308e-02,  6.83891885e-02,\n        4.60370215e-02, -1.53907601e-01, -4.01925136e-02, -1.95300316e-01,\n       -2.48734209e-01,  1.46877636e-01, -1.23343946e-01,  3.21792029e-02,\n        1.00260053e-01, -2.48734209e-01,  5.61979952e-02, -4.02131227e-01,\n        2.45136400e-01, -9.08987137e-02, -3.00952878e-01,  4.00118986e-03,\n        1.07561717e-01, -3.42035260e-02, -5.45418456e-02, -1.24081671e-01,\n       -3.16014895e-01, -3.35960918e-01, -3.24497946e-01, -2.24327985e-01,\n       -8.85992306e-02,  5.12937650e-02,  1.84144814e-02,  6.05383739e-03,\n       -2.24327985e-01, -7.55426042e-03, -1.10731462e-01,  1.84144814e-02,\n       -1.09313444e-01,  9.22097939e-01,  5.78201423e-02,  2.06414078e-01,\n        3.46056058e-01,  6.05383739e-03,  2.39529246e-01,  1.65350651e-01,\n        5.71272268e-01,  1.91146015e-01,  1.53629011e-01,  7.62879019e-02,\n       -1.99840827e-01, -3.28745065e-03, -1.96412083e-02,  2.24591751e-01,\n        8.57609821e-02,  1.43701719e-02,  1.84859647e-01,  2.39529246e-01,\n        4.35180242e-01,  6.24244713e-02, -3.32588947e-02,  3.42290717e-01,\n        5.28894473e-01,  8.07938845e-02,  2.45020866e-01,  3.38932466e-01,\n        2.25473002e-01,  1.70326325e-01,  7.78138077e-02,  4.94245768e-01,\n        1.28253148e-01,  5.02159163e-01,  1.88582883e-01, -3.35262940e-02,\n        8.27622974e-02,  1.28253148e-01, -2.43847069e-02, -2.68328851e-01,\n        2.06966460e-01,  1.45597149e-01, -1.32982754e-01,  6.49540473e-01,\n       -2.90940665e-01,  1.13660798e-01, -3.18635886e-02,  4.81250512e-01,\n        2.00381829e-01,  7.23506684e-02,  2.31347982e-01, -3.35262940e-02,\n        3.22550373e-01, -2.12901223e-01,  1.28444759e-02,  3.99005538e-01,\n        1.77665527e-01,  1.02732422e-01,  1.89125768e-02,  1.36696986e-02,\n        2.01424020e-02,  7.50220646e-02, -9.41365876e-02,  1.57950212e-02,\n        2.20414777e-01,  3.54327923e-01, -1.03537500e-01,  1.05689562e-01,\n        8.86728644e-02, -1.45188458e-01, -9.74214289e-02, -1.08142443e-01,\n       -8.12016850e-02, -2.18864154e-01, -2.86098848e-01, -1.03537500e-01,\n        4.23632109e-02, -9.20839340e-03,  1.50694340e-01, -2.71441655e-01,\n        4.53091157e-01, -1.26847345e-01, -2.79590693e-01,  7.74866106e-02,\n       -3.37465231e-01, -3.18207231e-01,  9.41926218e-02, -1.36765391e-01,\n       -2.85841760e-01,  2.77520333e-02,  1.19767534e-01,  1.15138622e-02,\n        3.07548380e-01, -1.93955130e-01,  9.95289765e-02, -5.39521136e-03,\n       -9.59046087e-02, -2.53914867e-01,  4.22469043e-03, -1.36531334e-01,\n       -1.41271594e-01, -1.87143117e-02,  1.72311863e-01, -5.95504981e-02,\n        2.75749527e-01,  1.95181887e-01,  5.20758778e-01, -9.59046087e-02,\n        5.85268784e-03,  9.32009357e-02, -1.99035902e-01,  4.11506842e-02,\n       -4.43705163e-03,  1.61221881e-01,  5.81515454e-01,  3.71293431e-01,\n       -1.75667749e-01, -1.27084868e-01, -2.63323498e-01, -2.34199382e-01,\n        4.22526845e-01,  2.71703769e-01, -3.83825860e-02, -2.34314766e-01,\n        2.06916605e-01, -1.27084868e-01,  1.34868091e-01,  9.74661185e-02,\n        3.85774119e-01, -2.86258323e-01, -7.05781957e-02,  3.71293431e-01,\n        1.52851610e-02, -1.68840886e-01,  1.55942132e-01,  3.29283401e-01,\n        2.37872522e-02, -2.06587569e-02,  4.18464770e-02,  1.51476027e-01,\n        1.04549651e-01,  9.75444943e-02,  1.40029146e-01, -1.19300851e-01,\n        1.18227933e-01, -1.11054332e-01,  2.81672878e-01,  2.84194653e-01,\n        2.17003243e-01,  3.98689992e-01,  5.19924876e-01,  3.38281007e-01,\n        6.43377114e-01,  5.09839935e-01,  2.46559075e-01, -2.94601897e-01,\n       -4.54627533e-01, -4.99712755e-01, -1.64851874e-01, -2.61183145e-01,\n       -2.64646151e-01, -2.83760505e-01,  6.28887285e-02,  4.99477062e-01,\n        4.84012483e-01, -4.26640937e-01, -2.51326215e-01,  2.79698852e-01,\n        4.56779872e-01, -1.93626847e-01, -6.52229233e-02,  1.66145562e-02,\n        1.93940954e-01,  1.10762320e-01,  1.33435330e-01, -2.26830523e-02,\n        3.58436380e-02,  1.41386408e-01,  1.35279723e-01, -1.55387647e-01,\n       -5.70159352e-02, -6.51543633e-02, -9.66647198e-02, -9.66647198e-02,\n       -1.25930466e-01, -2.25419410e-01, -1.78046259e-02, -3.76761086e-01,\n       -3.02014847e-01, -2.18353309e-01,  1.04741359e-01,  1.03920027e-01,\n       -2.04557630e-01, -2.31094486e-01, -1.48570125e-01, -3.37891751e-01,\n       -4.41393250e-01, -4.73449076e-01, -3.41038026e-01,  4.56395161e-01,\n        3.99498544e-01, -1.76477217e-01, -4.07024527e-01, -2.55295323e-01,\n       -9.65069100e-02, -1.68058937e-02, -9.26123953e-02, -2.15948111e-01,\n       -1.99840827e-01, -3.40122902e-01, -3.76814910e-01, -2.47670585e-01,\n        2.03404991e-01,  6.81309841e-02,  5.80422032e-02,  5.16479725e-02,\n        7.62879019e-02,  4.55459364e-02,  6.18971456e-02, -2.60580190e-01,\n       -2.71869174e-01, -3.00240187e-01,  3.67536358e-01, -2.45804246e-01,\n        1.50936732e-02, -4.60714804e-02, -1.53730619e-01, -1.63247977e-01,\n        7.23506684e-02, -5.42875739e-02,  1.35995017e-01,  6.92427976e-02,\n        1.24288291e-01,  1.78142750e-01, -1.29317176e-01, -1.44263143e-01,\n        6.25991134e-03, -3.10968632e-01, -1.93232852e-01, -2.86098848e-01,\n        1.61361302e-01,  4.81250512e-01,  6.25780617e-02,  4.72705445e-01,\n        4.40324290e-02,  4.25197871e-02, -1.14825386e-01, -1.94413971e-01,\n       -1.90480237e-01, -1.83301924e-01, -1.28687202e-01, -2.62486807e-01,\n       -2.35285140e-01, -1.51218117e-01, -1.67388929e-01,  5.92522823e-02,\n       -3.10346562e-01, -3.37465231e-01, -1.75667749e-01, -8.41043617e-02,\n        1.10420169e-01,  1.08348161e-02, -1.99035902e-01, -2.34314766e-01,\n       -3.51467356e-01, -2.85919538e-01,  1.77486695e-01, -2.85529417e-01,\n       -2.75279612e-01, -3.35339174e-01, -2.85529417e-01, -1.23378612e-01,\n       -7.69505475e-02, -3.67000401e-02,  7.75000763e-02,  2.17911522e-01,\n        1.56066038e-01,  1.52851610e-02,  2.01203028e-01, -4.01403292e-01,\n        4.60267395e-01, -1.70830623e-01,  1.22932723e+00,  4.33015551e-02,\n       -1.75441728e-01, -1.67364204e-01, -3.34264823e-01, -1.75441728e-01,\n       -1.76485897e-01,  4.57026232e-02, -4.29840940e-01, -3.06330553e-01,\n       -1.54025022e-01, -1.02792009e-01,  2.15294839e-02, -7.26482419e-03,\n       -8.58439288e-02, -2.71065324e-01, -1.93955130e-01, -3.23725988e-02,\n       -3.35708108e-02, -1.83301924e-01, -2.09335935e-01, -4.16688267e-01])"
     },
     "execution_count": 103,
     "metadata": {},
     "output_type": "execute_result"
    }
   ],
   "source": [
    "distances[:,5]/(np.mean(markedRandom[:,:,5].flatten())) -1"
   ],
   "metadata": {
    "collapsed": false,
    "pycharm": {
     "name": "#%%\n"
    }
   }
  },
  {
   "cell_type": "code",
   "execution_count": 91,
   "outputs": [
    {
     "data": {
      "text/plain": "array([[ 0.        , 12.57026172, 28.99427622, 39.20935268, 51.37525051,\n        59.40196081],\n       [ 0.        , 12.57026172, 25.17282016, 47.60136667, 48.70116634,\n        49.75317313],\n       [ 0.        , 28.09990988, 37.14072569, 37.84169871, 39.20935268,\n        47.60136667],\n       ...,\n       [ 0.        , 21.43994843, 49.65600843, 55.71730045, 57.59672404,\n        70.19662121],\n       [ 0.        , 21.43994843, 30.426473  , 36.20560879, 38.2190552 ,\n        50.45459182],\n       [ 0.        , 17.71642057, 21.89951268, 24.82980346, 36.20560879,\n        57.59672404]])"
     },
     "execution_count": 91,
     "metadata": {},
     "output_type": "execute_result"
    }
   ],
   "source": [
    "markedRandom[0]"
   ],
   "metadata": {
    "collapsed": false,
    "pycharm": {
     "name": "#%%\n"
    }
   }
  },
  {
   "cell_type": "code",
   "execution_count": null,
   "outputs": [],
   "source": [],
   "metadata": {
    "collapsed": false,
    "pycharm": {
     "name": "#%%\n"
    }
   }
  }
 ],
 "metadata": {
  "kernelspec": {
   "name": "luisaproject",
   "language": "python",
   "display_name": "LuisaProject"
  },
  "language_info": {
   "codemirror_mode": {
    "name": "ipython",
    "version": 2
   },
   "file_extension": ".py",
   "mimetype": "text/x-python",
   "name": "python",
   "nbconvert_exporter": "python",
   "pygments_lexer": "ipython2",
   "version": "2.7.6"
  }
 },
 "nbformat": 4,
 "nbformat_minor": 0
}
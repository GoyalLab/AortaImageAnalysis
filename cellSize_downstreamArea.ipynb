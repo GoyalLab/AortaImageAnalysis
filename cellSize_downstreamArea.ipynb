{
 "cells": [
  {
   "cell_type": "code",
   "execution_count": 6,
   "outputs": [],
   "source": [
    "import cv2\n",
    "import numpy as np\n",
    "import matplotlib.pyplot as plt\n",
    "import pandas as pd\n",
    "from skimage import filters, measure, morphology\n",
    "import math\n",
    "from skimage.measure import label, regionprops_table\n",
    "from PIL import Image\n",
    "import colorsys\n",
    "from skimage import img_as_ubyte, exposure\n",
    "from os import listdir\n",
    "from os.path import isfile, join\n",
    "import os"
   ],
   "metadata": {
    "collapsed": false,
    "pycharm": {
     "name": "#%%\n"
    }
   }
  },
  {
   "cell_type": "code",
   "execution_count": 40,
   "outputs": [],
   "source": [
    "path = \"/Volumes/Aortas/Aorta/segmentations/cellSize/tiles/tilesCellSize/tissueAnalyzer/P03\"\n",
    "folders = [x[0] for x in os.walk(path)]\n",
    "folders = sorted(folders)"
   ],
   "metadata": {
    "collapsed": false,
    "pycharm": {
     "name": "#%%\n"
    }
   }
  },
  {
   "cell_type": "code",
   "execution_count": 41,
   "outputs": [],
   "source": [
    "df = pd.DataFrame()\n",
    "for folder in folders:\n",
    "    os.chdir(folder)\n",
    "    files = [f for f in listdir(folder) if isfile(join(folder, f)) if \".DS_Store\" not in f if \"_seg.npy\" in f if \"._\" not in f]\n",
    "    for file in files:\n",
    "        aorta = folder.split(\"/\")[-1]\n",
    "        age = folder.split(\"/\")[-2]\n",
    "        masks = np.load(join(folder, file), allow_pickle=True).item()['masks']\n",
    "        prop_dict = regionprops_table(masks, properties = ['label','area', 'centroid', 'major_axis_length', 'minor_axis_length', \"orientation\"])\n",
    "        df_help = pd.DataFrame(prop_dict)\n",
    "        df_help['age'] = age\n",
    "        df_help['aorta'] = aorta\n",
    "        df_help['file'] = file\n",
    "        df = pd.concat((df, df_help), axis=0, ignore_index=True)"
   ],
   "metadata": {
    "collapsed": false,
    "pycharm": {
     "name": "#%%\n"
    }
   }
  },
  {
   "cell_type": "code",
   "execution_count": null,
   "outputs": [],
   "source": [
    "df.to_csv(\"/Volumes/Aortas/Aorta/results/cellSize/cellArea.csv\")"
   ],
   "metadata": {
    "collapsed": false,
    "pycharm": {
     "name": "#%%\n"
    }
   }
  }
 ],
 "metadata": {
  "kernelspec": {
   "name": "luisaproject",
   "language": "python",
   "display_name": "LuisaProject"
  },
  "language_info": {
   "codemirror_mode": {
    "name": "ipython",
    "version": 2
   },
   "file_extension": ".py",
   "mimetype": "text/x-python",
   "name": "python",
   "nbconvert_exporter": "python",
   "pygments_lexer": "ipython2",
   "version": "2.7.6"
  }
 },
 "nbformat": 4,
 "nbformat_minor": 0
}
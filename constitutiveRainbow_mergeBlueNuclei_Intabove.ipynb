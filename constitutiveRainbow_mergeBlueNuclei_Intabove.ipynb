{
 "cells": [
  {
   "cell_type": "code",
   "execution_count": null,
   "outputs": [],
   "source": [
    "#Merge cre channel with nuclei segmentation"
   ],
   "metadata": {
    "collapsed": false,
    "pycharm": {
     "name": "#%%\n"
    }
   }
  },
  {
   "cell_type": "code",
   "execution_count": 1,
   "outputs": [],
   "source": [
    "import numpy as np\n",
    "import skimage\n",
    "from skimage import img_as_ubyte, exposure\n",
    "import cv2\n",
    "import os\n",
    "from os import listdir\n",
    "from os.path import isfile, join\n",
    "from PIL import Image\n",
    "import fnmatch"
   ],
   "metadata": {
    "collapsed": false,
    "pycharm": {
     "name": "#%%\n"
    }
   }
  },
  {
   "cell_type": "code",
   "execution_count": 15,
   "id": "56504c69",
   "metadata": {
    "pycharm": {
     "name": "#%%\n"
    }
   },
   "outputs": [],
   "source": [
    "bluePath = '/Users/jbj7388/Library/CloudStorage/GoogleDrive-jonasbraunnu@gmail.com/.shortcut-targets-by-id/1D_bPjhT95POOAirSmkzFskKPd4RlOOwP/LuisaLab/data/croppedImages/rainbow'\n",
    "nucleiPath = '/Users/jbj7388/Library/CloudStorage/GoogleDrive-jonasbraunnu@gmail.com/.shortcut-targets-by-id/1D_bPjhT95POOAirSmkzFskKPd4RlOOwP/LuisaLab/data/segmentations/rainbow'\n",
    "savePath = '/Users/jbj7388/Library/CloudStorage/GoogleDrive-jonasbraunnu@gmail.com/.shortcut-targets-by-id/1D_bPjhT95POOAirSmkzFskKPd4RlOOwP/LuisaLab/data/mergedImages/rainbow'\n",
    "\n",
    "maturities = ['8mo']"
   ]
  },
  {
   "cell_type": "code",
   "execution_count": 4,
   "outputs": [],
   "source": [
    "nucleiFolders = [x[0] for x in os.walk(nucleiPath)]\n",
    "nucleiFolders = sorted(nucleiFolders)\n",
    "\n",
    "blueFolders = [x[0] for x in os.walk(bluePath)]\n",
    "blueFolders = sorted(blueFolders)\n",
    "\n",
    "nucleiFolders = fnmatch.filter(nucleiFolders, '*nuclei/*')\n",
    "blueFolders = fnmatch.filter(blueFolders, '*orange/*')\n",
    "\n",
    "pattern = \"*notPerfect*\"\n",
    "foldersWrong = fnmatch.filter(nucleiFolders, pattern)\n",
    "s = set(nucleiFolders) - set(foldersWrong)"
   ],
   "metadata": {
    "collapsed": false,
    "pycharm": {
     "name": "#%%\n"
    }
   }
  },
  {
   "cell_type": "code",
   "execution_count": 23,
   "outputs": [
    {
     "name": "stdout",
     "output_type": "stream",
     "text": [
      "['/Users/jbj7388/Library/CloudStorage/GoogleDrive-jonasbraunnu@gmail.com/.shortcut-targets-by-id/1D_bPjhT95POOAirSmkzFskKPd4RlOOwP/LuisaLab/data/croppedImages/rainbow/8mo/orange/BVRB459']\n",
      "['Cropped_IMG-8.tif', 'Cropped_IMG-12.tif', 'Cropped_IMG-13.tif', 'Cropped_IMG-9.tif', 'Cropped_IMG-11.tif', 'Cropped_IMG-10.tif', 'Cropped_IMG-14.tif', 'Cropped_IMG-15.tif', 'Cropped_IMG-16.tif', 'Cropped_IMG-1.tif', 'Cropped_IMG-2.tif', 'Cropped_IMG-3.tif', 'Cropped_IMG-7.tif', 'Cropped_IMG-6.tif', 'Cropped_IMG-4.tif', 'Cropped_IMG-5.tif']\n"
     ]
    },
    {
     "ename": "ValueError",
     "evalue": "operands could not be broadcast together with shapes (488,506) (112,556) () ",
     "output_type": "error",
     "traceback": [
      "\u001B[0;31m---------------------------------------------------------------------------\u001B[0m",
      "\u001B[0;31mValueError\u001B[0m                                Traceback (most recent call last)",
      "Input \u001B[0;32mIn [23]\u001B[0m, in \u001B[0;36m<cell line: 1>\u001B[0;34m()\u001B[0m\n\u001B[1;32m     18\u001B[0m nuclei \u001B[38;5;241m=\u001B[39m np\u001B[38;5;241m.\u001B[39mload(join(nucleiFoldersAge[a],nucleiFile[\u001B[38;5;241m0\u001B[39m]), allow_pickle\u001B[38;5;241m=\u001B[39m\u001B[38;5;28;01mTrue\u001B[39;00m)\u001B[38;5;241m.\u001B[39mitem()\n\u001B[1;32m     19\u001B[0m nucleiMasks \u001B[38;5;241m=\u001B[39m nuclei[\u001B[38;5;124m'\u001B[39m\u001B[38;5;124mmasks\u001B[39m\u001B[38;5;124m'\u001B[39m]\n\u001B[0;32m---> 20\u001B[0m nucleiMaskBlueInt \u001B[38;5;241m=\u001B[39m \u001B[43mnp\u001B[49m\u001B[38;5;241;43m.\u001B[39;49m\u001B[43mwhere\u001B[49m\u001B[43m(\u001B[49m\u001B[43mnucleiMasks\u001B[49m\u001B[43m \u001B[49m\u001B[38;5;241;43m>\u001B[39;49m\u001B[43m \u001B[49m\u001B[38;5;241;43m0\u001B[39;49m\u001B[43m,\u001B[49m\u001B[43m \u001B[49m\u001B[43mblueImage\u001B[49m\u001B[43m,\u001B[49m\u001B[43m \u001B[49m\u001B[38;5;241;43m0\u001B[39;49m\u001B[43m \u001B[49m\u001B[43m)\u001B[49m\n\u001B[1;32m     21\u001B[0m nucleiMaskOnlyBlue \u001B[38;5;241m=\u001B[39m np\u001B[38;5;241m.\u001B[39mwhere(nucleiMaskBlueInt \u001B[38;5;241m>\u001B[39m np\u001B[38;5;241m.\u001B[39mquantile(blueImage, \u001B[38;5;241m0.95\u001B[39m), nucleiMaskBlueInt, \u001B[38;5;241m0\u001B[39m)\n\u001B[1;32m     22\u001B[0m zeros \u001B[38;5;241m=\u001B[39m np\u001B[38;5;241m.\u001B[39mzeros(blueImage\u001B[38;5;241m.\u001B[39mshape, dtype\u001B[38;5;241m=\u001B[39m\u001B[38;5;124m\"\u001B[39m\u001B[38;5;124muint8\u001B[39m\u001B[38;5;124m\"\u001B[39m)\n",
      "\u001B[0;31mValueError\u001B[0m: operands could not be broadcast together with shapes (488,506) (112,556) () "
     ]
    }
   ],
   "source": [
    "for m in maturities:\n",
    "        age = \"*\" + m + \"*\"\n",
    "        nucleiFoldersAge = fnmatch.filter(s, age)\n",
    "        blueFoldersAge = fnmatch.filter(blueFolders, age)\n",
    "        for a in range(len(nucleiFoldersAge)):\n",
    "                nucleifiles = [f for f in listdir(nucleiFoldersAge[a]) if isfile(join(nucleiFoldersAge[a], f))]\n",
    "                aortaName = nucleiFoldersAge[a].split(\"/\")[-1]\n",
    "                bluefolder = fnmatch.filter(blueFoldersAge, '*/'+ aortaName)\n",
    "                print(bluefolder)\n",
    "                bluefiles = [f for f in listdir(bluefolder[0]) if isfile(join(bluefolder[0], f))]\n",
    "                print(bluefiles)\n",
    "                for i in range(len(bluefiles)):\n",
    "                        patternBlue = \"*-\" + str(i+1) + '.tif'\n",
    "                        patternNuclei = \"*-\" + str(i+1) + '_seg.npy'\n",
    "                        blueFile = fnmatch.filter(bluefiles, patternBlue)\n",
    "                        nucleiFile = fnmatch.filter(nucleifiles, patternNuclei)\n",
    "                        blueImage = skimage.io.imread(join(bluefolder[0],blueFile[0]))\n",
    "                        nuclei = np.load(join(nucleiFoldersAge[a],nucleiFile[0]), allow_pickle=True).item()\n",
    "                        nucleiMasks = nuclei['masks']\n",
    "                        nucleiMaskBlueInt = np.where(nucleiMasks > 0, blueImage, 0 )\n",
    "                        nucleiMaskOnlyBlue = np.where(nucleiMaskBlueInt > np.quantile(blueImage, 0.95), nucleiMaskBlueInt, 0)\n",
    "                        zeros = np.zeros(blueImage.shape, dtype=\"uint8\")\n",
    "                        dapi8bitNormalized= img_as_ubyte(exposure.rescale_intensity(nucleiMaskOnlyBlue))\n",
    "                        blueChannel8bitNormalized = img_as_ubyte(exposure.rescale_intensity(blueImage))\n",
    "                        merged8bitNormalized = cv2.merge([zeros, dapi8bitNormalized,blueChannel8bitNormalized])\n",
    "                        im = Image.fromarray(merged8bitNormalized)\n",
    "                        path_to_save = join(savePath, m, \"orange\")\n",
    "                        os.chdir(path_to_save)\n",
    "                        if not os.path.exists(aortaName):\n",
    "                                os.makedirs(aortaName)\n",
    "                        path_to_save = join(savePath, m, \"orange\", aortaName)\n",
    "                        filename = 'mergedOrangeNuclei95' + str(i+1) + '.tif'\n",
    "                        im.save(join(path_to_save,filename))\n",
    "                        print(\"Done!\")"
   ],
   "metadata": {
    "collapsed": false,
    "pycharm": {
     "name": "#%%\n"
    }
   }
  }
 ],
 "metadata": {
  "kernelspec": {
   "name": "luisajupyter",
   "language": "python",
   "display_name": "LuisaJupyter"
  },
  "language_info": {
   "codemirror_mode": {
    "name": "ipython",
    "version": 3
   },
   "file_extension": ".py",
   "mimetype": "text/x-python",
   "name": "python",
   "nbconvert_exporter": "python",
   "pygments_lexer": "ipython3",
   "version": "3.7.11"
  }
 },
 "nbformat": 4,
 "nbformat_minor": 5
}
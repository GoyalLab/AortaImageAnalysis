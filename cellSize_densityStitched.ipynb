{
 "cells": [
  {
   "cell_type": "code",
   "execution_count": 1,
   "outputs": [],
   "source": [
    "import numpy as np\n",
    "import pandas as pd\n",
    "import os\n",
    "from os import listdir\n",
    "from os.path import isfile, join\n",
    "from PIL import Image"
   ],
   "metadata": {
    "collapsed": false,
    "pycharm": {
     "name": "#%%\n"
    }
   }
  },
  {
   "cell_type": "code",
   "execution_count": 2,
   "outputs": [],
   "source": [],
   "metadata": {
    "collapsed": false,
    "pycharm": {
     "name": "#%%\n"
    }
   }
  },
  {
   "cell_type": "code",
   "execution_count": 55,
   "outputs": [],
   "source": [
    "imgPath = \"/Volumes/Aortas/Aorta/preprocessedImages/cellSize/stitched/cropped1-8/nuclei\"\n",
    "segmPath = \"/Volumes/Aortas/Aorta/segmentations/cellSize/stitchCyto\"\n",
    "saveName = \"/Volumes/Aortas/Aorta/results/density/densityStitched.csv\""
   ],
   "metadata": {
    "collapsed": false,
    "pycharm": {
     "name": "#%%\n"
    }
   }
  },
  {
   "cell_type": "code",
   "execution_count": null,
   "outputs": [],
   "source": [
    "#hand measured\n",
    "areaPath = \"/Users/jones/Downloads/areasStitched\""
   ],
   "metadata": {
    "collapsed": false,
    "pycharm": {
     "name": "#%%\n"
    }
   }
  },
  {
   "cell_type": "code",
   "execution_count": 56,
   "outputs": [],
   "source": [
    "folders = [x[0] for x in os.walk(segmPath)]\n",
    "folders = sorted(folders)"
   ],
   "metadata": {
    "collapsed": false,
    "pycharm": {
     "name": "#%%\n"
    }
   }
  },
  {
   "cell_type": "code",
   "execution_count": 58,
   "outputs": [
    {
     "ename": "KeyboardInterrupt",
     "evalue": "",
     "output_type": "error",
     "traceback": [
      "\u001B[0;31m---------------------------------------------------------------------------\u001B[0m",
      "\u001B[0;31mKeyboardInterrupt\u001B[0m                         Traceback (most recent call last)",
      "Input \u001B[0;32mIn [58]\u001B[0m, in \u001B[0;36m<cell line: 2>\u001B[0;34m()\u001B[0m\n\u001B[1;32m     39\u001B[0m \u001B[38;5;28;01mfor\u001B[39;00m j \u001B[38;5;129;01min\u001B[39;00m \u001B[38;5;28mrange\u001B[39m(cropping_parameter_width):\n\u001B[1;32m     40\u001B[0m     \u001B[38;5;28;01mif\u001B[39;00m test[i,j] \u001B[38;5;241m==\u001B[39m \u001B[38;5;241m1\u001B[39m:\n\u001B[0;32m---> 41\u001B[0m         masks \u001B[38;5;241m=\u001B[39m \u001B[43mnp\u001B[49m\u001B[38;5;241;43m.\u001B[39;49m\u001B[43mload\u001B[49m\u001B[43m(\u001B[49m\u001B[43mjoin\u001B[49m\u001B[43m(\u001B[49m\u001B[43msegmPath\u001B[49m\u001B[43m,\u001B[49m\u001B[43m \u001B[49m\u001B[43mage\u001B[49m\u001B[43m,\u001B[49m\u001B[43m \u001B[49m\u001B[43maorta\u001B[49m\u001B[43m,\u001B[49m\u001B[43m \u001B[49m\u001B[38;5;124;43m\"\u001B[39;49m\u001B[38;5;124;43mCropped_IMG-\u001B[39;49m\u001B[38;5;124;43m\"\u001B[39;49m\u001B[43m \u001B[49m\u001B[38;5;241;43m+\u001B[39;49m\u001B[43m \u001B[49m\u001B[38;5;28;43mstr\u001B[39;49m\u001B[43m(\u001B[49m\u001B[43m(\u001B[49m\u001B[43mi\u001B[49m\u001B[38;5;241;43m*\u001B[39;49m\u001B[43mcropping_parameter_width\u001B[49m\u001B[43m)\u001B[49m\u001B[43m \u001B[49m\u001B[38;5;241;43m+\u001B[39;49m\u001B[43m \u001B[49m\u001B[43mj\u001B[49m\u001B[43m \u001B[49m\u001B[38;5;241;43m+\u001B[39;49m\u001B[43m \u001B[49m\u001B[38;5;241;43m1\u001B[39;49m\u001B[43m)\u001B[49m\u001B[43m \u001B[49m\u001B[38;5;241;43m+\u001B[39;49m\u001B[43m \u001B[49m\u001B[38;5;124;43m\"\u001B[39;49m\u001B[38;5;124;43m_seg.npy\u001B[39;49m\u001B[38;5;124;43m\"\u001B[39;49m\u001B[43m)\u001B[49m\u001B[43m,\u001B[49m\u001B[43m \u001B[49m\u001B[43mallow_pickle\u001B[49m\u001B[38;5;241;43m=\u001B[39;49m\u001B[38;5;28;43;01mTrue\u001B[39;49;00m\u001B[43m)\u001B[49m\u001B[38;5;241m.\u001B[39mitem()[\u001B[38;5;124m'\u001B[39m\u001B[38;5;124mmasks\u001B[39m\u001B[38;5;124m'\u001B[39m]\n\u001B[1;32m     42\u001B[0m         nuclei \u001B[38;5;241m=\u001B[39m \u001B[38;5;28mlen\u001B[39m(np\u001B[38;5;241m.\u001B[39munique(masks)) \u001B[38;5;241m-\u001B[39m\u001B[38;5;241m1\u001B[39m\n\u001B[1;32m     43\u001B[0m         density \u001B[38;5;241m=\u001B[39m nuclei\u001B[38;5;241m/\u001B[39m(\u001B[38;5;28mlen\u001B[39m(masks)\u001B[38;5;241m*\u001B[39m\u001B[38;5;28mlen\u001B[39m(masks[\u001B[38;5;241m0\u001B[39m]))\n",
      "File \u001B[0;32m~/miniconda3/envs/luisaProject/lib/python3.8/site-packages/numpy/lib/npyio.py:440\u001B[0m, in \u001B[0;36mload\u001B[0;34m(file, mmap_mode, allow_pickle, fix_imports, encoding)\u001B[0m\n\u001B[1;32m    438\u001B[0m         \u001B[38;5;28;01mreturn\u001B[39;00m \u001B[38;5;28mformat\u001B[39m\u001B[38;5;241m.\u001B[39mopen_memmap(file, mode\u001B[38;5;241m=\u001B[39mmmap_mode)\n\u001B[1;32m    439\u001B[0m     \u001B[38;5;28;01melse\u001B[39;00m:\n\u001B[0;32m--> 440\u001B[0m         \u001B[38;5;28;01mreturn\u001B[39;00m \u001B[38;5;28;43mformat\u001B[39;49m\u001B[38;5;241;43m.\u001B[39;49m\u001B[43mread_array\u001B[49m\u001B[43m(\u001B[49m\u001B[43mfid\u001B[49m\u001B[43m,\u001B[49m\u001B[43m \u001B[49m\u001B[43mallow_pickle\u001B[49m\u001B[38;5;241;43m=\u001B[39;49m\u001B[43mallow_pickle\u001B[49m\u001B[43m,\u001B[49m\n\u001B[1;32m    441\u001B[0m \u001B[43m                                 \u001B[49m\u001B[43mpickle_kwargs\u001B[49m\u001B[38;5;241;43m=\u001B[39;49m\u001B[43mpickle_kwargs\u001B[49m\u001B[43m)\u001B[49m\n\u001B[1;32m    442\u001B[0m \u001B[38;5;28;01melse\u001B[39;00m:\n\u001B[1;32m    443\u001B[0m     \u001B[38;5;66;03m# Try a pickle\u001B[39;00m\n\u001B[1;32m    444\u001B[0m     \u001B[38;5;28;01mif\u001B[39;00m \u001B[38;5;129;01mnot\u001B[39;00m allow_pickle:\n",
      "File \u001B[0;32m~/miniconda3/envs/luisaProject/lib/python3.8/site-packages/numpy/lib/format.py:748\u001B[0m, in \u001B[0;36mread_array\u001B[0;34m(fp, allow_pickle, pickle_kwargs)\u001B[0m\n\u001B[1;32m    746\u001B[0m     pickle_kwargs \u001B[38;5;241m=\u001B[39m {}\n\u001B[1;32m    747\u001B[0m \u001B[38;5;28;01mtry\u001B[39;00m:\n\u001B[0;32m--> 748\u001B[0m     array \u001B[38;5;241m=\u001B[39m \u001B[43mpickle\u001B[49m\u001B[38;5;241;43m.\u001B[39;49m\u001B[43mload\u001B[49m\u001B[43m(\u001B[49m\u001B[43mfp\u001B[49m\u001B[43m,\u001B[49m\u001B[43m \u001B[49m\u001B[38;5;241;43m*\u001B[39;49m\u001B[38;5;241;43m*\u001B[39;49m\u001B[43mpickle_kwargs\u001B[49m\u001B[43m)\u001B[49m\n\u001B[1;32m    749\u001B[0m \u001B[38;5;28;01mexcept\u001B[39;00m \u001B[38;5;167;01mUnicodeError\u001B[39;00m \u001B[38;5;28;01mas\u001B[39;00m err:\n\u001B[1;32m    750\u001B[0m     \u001B[38;5;66;03m# Friendlier error message\u001B[39;00m\n\u001B[1;32m    751\u001B[0m     \u001B[38;5;28;01mraise\u001B[39;00m \u001B[38;5;167;01mUnicodeError\u001B[39;00m(\u001B[38;5;124m\"\u001B[39m\u001B[38;5;124mUnpickling a python object failed: \u001B[39m\u001B[38;5;132;01m%r\u001B[39;00m\u001B[38;5;130;01m\\n\u001B[39;00m\u001B[38;5;124m\"\u001B[39m\n\u001B[1;32m    752\u001B[0m                        \u001B[38;5;124m\"\u001B[39m\u001B[38;5;124mYou may need to pass the encoding= option \u001B[39m\u001B[38;5;124m\"\u001B[39m\n\u001B[1;32m    753\u001B[0m                        \u001B[38;5;124m\"\u001B[39m\u001B[38;5;124mto numpy.load\u001B[39m\u001B[38;5;124m\"\u001B[39m \u001B[38;5;241m%\u001B[39m (err,)) \u001B[38;5;28;01mfrom\u001B[39;00m \u001B[38;5;21;01merr\u001B[39;00m\n",
      "\u001B[0;31mKeyboardInterrupt\u001B[0m: "
     ]
    }
   ],
   "source": [
    "dfResultsAfterP7 = pd.DataFrame()\n",
    "for folder in folders:\n",
    "    os.chdir(folder)\n",
    "    files = [f for f in listdir(folder) if isfile(join(folder, f)) if \".DS_Store\" not in f if \".npy\" in f if \"._\" not in f]\n",
    "    if files:\n",
    "        age = folder.split(\"/\")[-2]\n",
    "        if (age != \"P03\") and (age != \"P05\") and (age != \"P07\"):\n",
    "            #for P3, P5, P7 too few results => hand measurements of area\n",
    "            aorta = folder.split(\"/\")[-1]\n",
    "            imagePath = join(imgPath, age, aorta)\n",
    "            fileImage = [f for f in listdir(imagePath) if isfile(join(imagePath, f)) if \".DS_Store\" not in f if \"._\" not in f]\n",
    "            im = Image.open(join(imagePath,fileImage[0]) )\n",
    "            cropping_parameter_width = int(im.size[0]/550)\n",
    "            cropping_parameter_height = int(im.size[1]/550)\n",
    "            crop_width = im.size[0]/cropping_parameter_width\n",
    "            crop_height = im.size[1]/cropping_parameter_height\n",
    "            field = np.zeros((cropping_parameter_height, cropping_parameter_width))\n",
    "            for i in range(cropping_parameter_height):\n",
    "                for j in range(cropping_parameter_width):\n",
    "                    if isfile(join(segmPath,age, aorta, \"Cropped_IMG-\" + str((i*cropping_parameter_width) + j + 1) + \"_seg.npy\")):\n",
    "                        field[i,j] = 1\n",
    "            for j in range(cropping_parameter_width):\n",
    "                excludeUpper = False\n",
    "                excludeLower = False\n",
    "                i = 0\n",
    "                while((excludeUpper == False) and (i<cropping_parameter_height)):\n",
    "                    if(field[i,j] == 1):\n",
    "                        field[i,j] = 0\n",
    "                        excludeUpper = True\n",
    "                    else:\n",
    "                        i += 1\n",
    "                i = cropping_parameter_height -1\n",
    "                while((excludeLower == False) and (i>0)):\n",
    "                    if(field[i,j] == 1):\n",
    "                        field[i,j] = 0\n",
    "                        excludeLower = True\n",
    "                    else:\n",
    "                        i -= 1\n",
    "            for i in range(cropping_parameter_height):\n",
    "                for j in range(cropping_parameter_width):\n",
    "                    if field[i,j] == 1:\n",
    "                        masks = np.load(join(segmPath, age, aorta, \"Cropped_IMG-\" + str((i*cropping_parameter_width) + j + 1) + \"_seg.npy\"), allow_pickle=True).item()['masks']\n",
    "                        nuclei = len(np.unique(masks)) -1\n",
    "                        density = nuclei/(len(masks)*len(masks[0]))\n",
    "                        field[i,j] = density\n",
    "\n",
    "            densities = []\n",
    "            position = []\n",
    "            imageNumber = []\n",
    "            for i in range(cropping_parameter_height):\n",
    "                for j in range(cropping_parameter_width):\n",
    "                    if field[i,j] != 0:\n",
    "                        densities.append(field[i,j])\n",
    "                        position.append(j/(cropping_parameter_width-1))\n",
    "                        imageNumber.append((i*cropping_parameter_width) + j + 1)\n",
    "\n",
    "            dfResult = pd.DataFrame({\"density\": densities, \"position\": position, \"imageNumber\": imageNumber})\n",
    "            dfResult[\"age\"] = age\n",
    "            dfResult[\"aorta\"] = aorta\n",
    "            os.chdir(savePath)\n",
    "            #if not os.path.exists(join(savePath, age)):\n",
    "                #os.mkdir(age)\n",
    "            #os.chdir(join(savePath, age))\n",
    "            #if not os.path.exists(join(savePath, age, aorta)):\n",
    "                #os.mkdir(aorta)\n",
    "            #os.chdir(join(savePath,age, aorta))\n",
    "            #dfResult.to_csv((join(savePath,age, aorta,\"density.csv\")))\n",
    "            dfResultsAfterP7 = pd.concat([dfResultsAfterP7, dfResult])\n"
   ],
   "metadata": {
    "collapsed": false,
    "pycharm": {
     "name": "#%%\n"
    }
   }
  },
  {
   "cell_type": "code",
   "execution_count": null,
   "outputs": [],
   "source": [
    "#hand measured areas"
   ],
   "metadata": {
    "collapsed": false,
    "pycharm": {
     "name": "#%%\n"
    }
   }
  },
  {
   "cell_type": "code",
   "execution_count": null,
   "outputs": [],
   "source": [
    "folders = [x[0] for x in os.walk(areaPath)]\n",
    "folders = sorted(folders)"
   ],
   "metadata": {
    "collapsed": false,
    "pycharm": {
     "name": "#%%\n"
    }
   }
  },
  {
   "cell_type": "code",
   "execution_count": 65,
   "outputs": [],
   "source": [
    "dfCroppingParam = pd.read_csv(\"/Volumes/Aortas/Aorta/results/croppingParam_P03_P05_P07.csv\")\n",
    "dfResultsP3_5_7 = pd.DataFrame()\n",
    "for folder in folders:\n",
    "    os.chdir(folder)\n",
    "    files = [f for f in listdir(folder) if isfile(join(folder, f)) if \".DS_Store\" not in f if \".csv\" in f if \"._\" not in f]\n",
    "    for file in files:\n",
    "        aorta = folder.split(\"/\")[-1]\n",
    "        age = folder.split(\"/\")[-2]\n",
    "        cropping_parameter_width = dfCroppingParam.loc[(dfCroppingParam.age == age) & (dfCroppingParam.aorta == aorta)][\"cropping_parameter_width\"].values[0]\n",
    "        cropping_parameter_height = dfCroppingParam.loc[(dfCroppingParam.age == age) & (dfCroppingParam.aorta == aorta)][\"cropping_parameter_height\"].values[0]\n",
    "        field = np.zeros((cropping_parameter_height, cropping_parameter_width))\n",
    "        dfArea = pd.read_csv(join(folder, file))\n",
    "\n",
    "        densities = []\n",
    "        position = []\n",
    "        imageNumbers = []\n",
    "        for index, row in dfArea.iterrows():\n",
    "            area = row[\"Area\"]\n",
    "            imageNumber = int(row[\"Label\"].split(\".tif\")[0].split(\"-\")[-1])\n",
    "            segmFile = row[\"Label\"].split(\".tif\")[0] + \"_seg.npy\"\n",
    "            masks = np.load(join(segmPath, age, aorta, segmFile), allow_pickle = True).item()['masks']\n",
    "            numberNuclei = len(np.unique(masks)) - 1\n",
    "            i = int((imageNumber-1)/cropping_parameter_width)\n",
    "            j = int((imageNumber-1)%cropping_parameter_width)\n",
    "            densities.append(numberNuclei/area)\n",
    "            position.append(j/(cropping_parameter_width-1))\n",
    "            imageNumbers.append(imageNumber)\n",
    "\n",
    "        dfResult = pd.DataFrame({\"density\": densities, \"position\": position, \"imageNumber\": imageNumbers})\n",
    "        dfResult[\"age\"] = age\n",
    "        dfResult[\"aorta\"] = aorta\n",
    "        dfResultsP3_5_7 = pd.concat([dfResultsP3_5_7, dfResult])\n",
    "\n",
    "dfResultsP3_5_7[\"positionPlot\"] = np.round(dfResultsP3_5_7[\"position\"], decimals = 1)\n",
    "dfResultsAll = pd.concat([dfResultsAfterP7, dfResultsP3_5_7], ignore_index = True)\n",
    "dfResultsAll[\"densityMicro\"] = dfResultsAll[\"density\"] *1.162803946*1.162803946\n",
    "dfResultsAll.to_csv(saveName)"
   ],
   "metadata": {
    "collapsed": false,
    "pycharm": {
     "name": "#%%\n"
    }
   }
  }
 ],
 "metadata": {
  "kernelspec": {
   "display_name": "Python 3",
   "language": "python",
   "name": "python3"
  },
  "language_info": {
   "codemirror_mode": {
    "name": "ipython",
    "version": 2
   },
   "file_extension": ".py",
   "mimetype": "text/x-python",
   "name": "python",
   "nbconvert_exporter": "python",
   "pygments_lexer": "ipython2",
   "version": "2.7.6"
  }
 },
 "nbformat": 4,
 "nbformat_minor": 0
}
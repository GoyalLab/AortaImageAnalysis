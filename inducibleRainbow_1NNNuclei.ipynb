{
 "cells": [
  {
   "cell_type": "code",
   "execution_count": 1,
   "outputs": [],
   "source": [
    "import pandas as pd\n",
    "import numpy as np\n",
    "from utils.nucStitch import fullNucImage16\n",
    "import os\n",
    "from os.path import isfile, join\n",
    "from skimage.measure import regionprops_table\n",
    "from utils.nucStitch import fullNucImage16\n",
    "from os import listdir\n",
    "from inducedRainbow.spatial.kNNDistance import kNN"
   ],
   "metadata": {
    "collapsed": false,
    "pycharm": {
     "name": "#%%\n"
    }
   }
  },
  {
   "cell_type": "code",
   "execution_count": 9,
   "outputs": [],
   "source": [
    "nucPath = \"/Volumes/Aortas/Aorta/segmentations/inducedRainbow/final/nuclei\""
   ],
   "metadata": {
    "collapsed": false,
    "pycharm": {
     "name": "#%%\n"
    }
   }
  },
  {
   "cell_type": "code",
   "execution_count": 10,
   "outputs": [],
   "source": [
    "folders = [x[0] for x in os.walk(nucPath)]\n",
    "folders = sorted(folders)"
   ],
   "metadata": {
    "collapsed": false,
    "pycharm": {
     "name": "#%%\n"
    }
   }
  },
  {
   "cell_type": "code",
   "execution_count": 57,
   "outputs": [],
   "source": [
    "dfNucDistancs = pd.DataFrame()\n",
    "for folder in folders:\n",
    "    os.chdir(folder)\n",
    "    files = [f for f in listdir(folder) if isfile(join(folder, f)) if \".DS_Store\" not in f if \".npy\" in f if \"._\" not in f]\n",
    "    if files:\n",
    "        aorta = folder.split(\"/\")[-1]\n",
    "        age = folder.split(\"/\")[-2]\n",
    "        nucImage = fullNucImage16(folder)\n",
    "        prop_dict = regionprops_table(nucImage, properties = ('label', 'centroid'))\n",
    "        dfNuc = pd.DataFrame(prop_dict)\n",
    "        nbrsNuc, distancesNuc, indicesNuc = kNN(dfNuc.iloc[:,1:3], 6)\n",
    "        dfHelp = pd.DataFrame(distancesNuc)\n",
    "        dfHelp[\"age\"] = age\n",
    "        dfHelp[\"aorta\"] = aorta\n",
    "        dfNucDistancs = pd.concat([dfNucDistancs, dfHelp])"
   ],
   "metadata": {
    "collapsed": false,
    "pycharm": {
     "name": "#%%\n"
    }
   }
  },
  {
   "cell_type": "code",
   "execution_count": 82,
   "outputs": [
    {
     "data": {
      "text/plain": "7.365613110704396"
     },
     "execution_count": 82,
     "metadata": {},
     "output_type": "execute_result"
    }
   ],
   "source": [
    "dfNucDistancs.loc[(dfNucDistancs[\"age\"] == \"10-21\") & (dfNucDistancs[\"aorta\"] == \"aorta01\")][1].median()"
   ],
   "metadata": {
    "collapsed": false,
    "pycharm": {
     "name": "#%%\n"
    }
   }
  },
  {
   "cell_type": "code",
   "execution_count": 94,
   "outputs": [],
   "source": [
    "savePath = \"/Volumes/Aortas/Aorta/results/inducedRainbow/spatialPattern/nearestNeigbourNucleiComparison\"\n",
    "dfNucDistancs.to_csv(join(savePath, \"nucleiNN.csv\"), index=False)"
   ],
   "metadata": {
    "collapsed": false,
    "pycharm": {
     "name": "#%%\n"
    }
   }
  },
  {
   "cell_type": "code",
   "execution_count": 2,
   "outputs": [],
   "source": [],
   "metadata": {
    "collapsed": false,
    "pycharm": {
     "name": "#%%\n"
    }
   }
  },
  {
   "cell_type": "code",
   "execution_count": 4,
   "outputs": [],
   "source": [
    "#Nearest neighbour marked cells, not cellPose"
   ],
   "metadata": {
    "collapsed": false,
    "pycharm": {
     "name": "#%%\n"
    }
   }
  },
  {
   "cell_type": "code",
   "execution_count": 26,
   "outputs": [],
   "source": [
    "nucleiPath = '/Volumes/Aortas/Aorta/segmentations/inducedRainbow/final/nuclei'\n",
    "clusterPath = '/Volumes/Aortas/Aorta/segmentations/inducedRainbow/final/red'\n",
    "savePath = \"/Volumes/Aortas/Aorta/results/inducedRainbow/spatialPattern/nearestNeigbourNucleiComparison/marked\""
   ],
   "metadata": {
    "collapsed": false,
    "pycharm": {
     "name": "#%%\n"
    }
   }
  },
  {
   "cell_type": "code",
   "execution_count": 29,
   "outputs": [],
   "source": [
    "clusterFolders = [x[0] for x in os.walk(clusterPath)]\n",
    "clusterFolders = sorted(clusterFolders)"
   ],
   "metadata": {
    "collapsed": false,
    "pycharm": {
     "name": "#%%\n"
    }
   }
  },
  {
   "cell_type": "code",
   "execution_count": 31,
   "outputs": [
    {
     "name": "stdout",
     "output_type": "stream",
     "text": [
      "10-21\n",
      "aorta01\n",
      "10-21\n",
      "aorta02\n",
      "10-21\n",
      "aorta03\n",
      "10-21\n",
      "aorta04\n",
      "10-21\n",
      "aorta05\n",
      "10-30\n",
      "aorta01\n",
      "10-30\n",
      "aorta02\n",
      "10-30\n",
      "aorta03\n",
      "10-30\n",
      "aorta04\n",
      "10-30\n",
      "aorta05\n",
      "10-30\n",
      "aorta06\n",
      "10-30\n",
      "aorta07\n",
      "10-60\n",
      "aorta01\n",
      "10-60\n",
      "aorta02\n",
      "10-60\n",
      "aorta03\n",
      "10-60\n",
      "aorta04\n",
      "10-60\n",
      "aorta05\n",
      "10-60\n",
      "aorta06\n",
      "21-30\n",
      "aorta01\n",
      "21-30\n",
      "aorta02\n",
      "21-30\n",
      "aorta03\n",
      "21-30\n",
      "aorta04\n",
      "21-30\n",
      "aorta05\n",
      "30-60\n",
      "aorta01\n",
      "30-60\n",
      "aorta02\n",
      "30-60\n",
      "aorta03\n",
      "30-60\n",
      "aorta04\n",
      "30-60\n",
      "aorta05\n",
      "5-10\n",
      "aorta01\n",
      "5-10\n",
      "aorta02\n",
      "5-10\n",
      "aorta03\n",
      "5-10\n",
      "aorta04\n",
      "5-10\n",
      "aorta06\n",
      "5-10\n",
      "aorta07\n",
      "5-10\n",
      "aorta08\n",
      "5-30\n",
      "aorta01\n",
      "5-30\n",
      "aorta02\n",
      "5-30\n",
      "aorta03\n",
      "5-30\n",
      "aorta04\n",
      "5-30\n",
      "aorta05\n",
      "5-30\n",
      "aorta06\n",
      "5-60\n",
      "aorta01\n",
      "5-60\n",
      "aorta02\n",
      "5-60\n",
      "aorta03\n"
     ]
    }
   ],
   "source": [
    "for folder in clusterFolders:\n",
    "    files = [f for f in listdir(folder) if isfile(join(folder, f)) if \".DS_Store\" not in f if \".npy\" in f if \"._\" not in f if \"clusterSize\" in f]\n",
    "    for file in files:\n",
    "        aorta = folder.split(\"/\")[-1]\n",
    "        age = folder.split(\"/\")[-2]\n",
    "        nucPath = join(nucleiPath, age, aorta)\n",
    "        nucImage = fullNucImage16(nucPath)\n",
    "        prop_dict = regionprops_table(nucImage, properties = ('label', 'centroid'))\n",
    "        df = pd.DataFrame(prop_dict)\n",
    "        clusters = np.load(join(folder,file), allow_pickle=True).item()\n",
    "        dfNucLabels = pd.DataFrame()\n",
    "        for index in clusters:\n",
    "            dfHelp = pd.DataFrame({\"label\": clusters[index], \"cluster\": np.full(len(clusters[index]),index)})\n",
    "            dfNucLabels = pd.concat([dfNucLabels, dfHelp], ignore_index= True)\n",
    "        dfMerged = df.merge(dfNucLabels, on=\"label\", how=\"left\")\n",
    "        dfMerged['cluster'] = dfMerged['cluster'].fillna(0)\n",
    "\n",
    "        dfFiltered = dfMerged.loc[dfMerged[\"cluster\"] > 0]\n",
    "        dfFiltered = dfFiltered.reset_index(drop=True)\n",
    "        dfFiltered = dfFiltered.reset_index(drop=False)\n",
    "        nbrsNuc, distancesNuc, indicesNuc = kNN(dfFiltered.iloc[:,2:4], 17)\n",
    "\n",
    "        distances = []\n",
    "        for i in range(len(indicesNuc)):\n",
    "            same = True\n",
    "            j = 1\n",
    "            while(same == True):\n",
    "                if dfFiltered.loc[dfFiltered[\"index\"] == indicesNuc[i,0]][\"cluster\"].values != dfFiltered.loc[dfFiltered[\"index\"] == indicesNuc[i,j]][\"cluster\"].values:\n",
    "                    distances.append(distancesNuc[i,j])\n",
    "                    same = False\n",
    "                else:\n",
    "                    j += 1\n",
    "\n",
    "        dfFiltered[\"1NNdifferentCluster\"] = distances\n",
    "        filename = \"markedNN_noCellpose_\" + age + \"_\" + aorta + \".csv\"\n",
    "        os.chdir(savePath)\n",
    "        if not os.path.exists(join(savePath, age)):\n",
    "            os.mkdir(age)\n",
    "        os.chdir(join(savePath, age))\n",
    "        if not os.path.exists(join(savePath, age, aorta)):\n",
    "            os.mkdir(aorta)\n",
    "        os.chdir(join(savePath,age, aorta))\n",
    "\n",
    "        dfFiltered.to_csv(join(savePath, age, aorta, filename), index=False)"
   ],
   "metadata": {
    "collapsed": false,
    "pycharm": {
     "name": "#%%\n"
    }
   }
  },
  {
   "cell_type": "code",
   "execution_count": null,
   "outputs": [],
   "source": [],
   "metadata": {
    "collapsed": false,
    "pycharm": {
     "name": "#%%\n"
    }
   }
  },
  {
   "cell_type": "code",
   "execution_count": null,
   "outputs": [],
   "source": [
    "#Nearest neighbour marked cells, cellPose"
   ],
   "metadata": {
    "collapsed": false,
    "pycharm": {
     "name": "#%%\n"
    }
   }
  },
  {
   "cell_type": "code",
   "execution_count": 68,
   "outputs": [
    {
     "name": "stdout",
     "output_type": "stream",
     "text": [
      "0-10\n",
      "aorta01\n",
      "0-10\n",
      "aorta02\n",
      "0-10\n",
      "aorta03\n",
      "0-10\n",
      "aorta04\n",
      "0-10\n",
      "aorta05\n",
      "0-10\n",
      "aorta06\n",
      "0-5\n",
      "aorta01\n",
      "0-5\n",
      "aorta02\n",
      "0-5\n",
      "aorta03\n",
      "0-5\n",
      "aorta04\n",
      "0-5\n",
      "aorta05\n",
      "0-5\n",
      "aorta06\n",
      "5-60\n",
      "aorta04\n",
      "5-60\n",
      "aorta05\n",
      "5-60\n",
      "aorta06\n",
      "5-60\n",
      "aorta07\n",
      "5-60\n",
      "aorta08\n"
     ]
    }
   ],
   "source": [
    "accuracy_value = 0.8\n",
    "\n",
    "for folder in clusterFolders:\n",
    "    files = [f for f in listdir(folder) if isfile(join(folder, f)) if \".DS_Store\" not in f if \".npy\" in f if \"._\" not in f if \"cellposeSegm\" in f]\n",
    "    for file in files:\n",
    "        aorta = folder.split(\"/\")[-1]\n",
    "        age = folder.split(\"/\")[-2]\n",
    "        print(age)\n",
    "        print(aorta)\n",
    "        nucPath = join(nucleiPath, age, aorta)\n",
    "        nucImage = fullNucImage16(nucPath)\n",
    "        prop_dict = regionprops_table(nucImage, properties = ('label', 'centroid'))\n",
    "        df = pd.DataFrame(prop_dict)\n",
    "        masks = np.load(join(folder,file), allow_pickle=True).item()[\"masks\"]\n",
    "        dfNucLabels = pd.DataFrame()\n",
    "        for mask in np.unique(masks):\n",
    "            if mask != 0:\n",
    "                coord = np.where(mask == masks)\n",
    "                segmentationNuc = np.unique(nucImage[coord])\n",
    "                cluster = list()\n",
    "                for j in segmentationNuc:\n",
    "                    if j != 0:\n",
    "                        #occurence of nucleus pixel in\n",
    "                        nucOccur = np.bincount(nucImage[coord])[j]\n",
    "                        #How many pixels does this nucleus have:\n",
    "                        coordLen = len(np.where(nucImage == j)[0])\n",
    "                        #check if most of nuclei values are in segmentation\n",
    "                        if(nucOccur >= accuracy_value*coordLen):\n",
    "                            cluster.append(j)\n",
    "\n",
    "                if len(cluster) > 0:\n",
    "                    dfHelp = pd.DataFrame({\"label\": cluster, \"cluster\": np.full(len(cluster),mask)})\n",
    "                    dfNucLabels = pd.concat([dfNucLabels, dfHelp], ignore_index= True)\n",
    "\n",
    "        dfMerged = df.merge(dfNucLabels, on=\"label\", how=\"left\")\n",
    "        dfMerged['cluster'] = dfMerged['cluster'].fillna(0)\n",
    "\n",
    "        dfFiltered = dfMerged.loc[dfMerged[\"cluster\"] > 0]\n",
    "        dfFiltered = dfFiltered.reset_index(drop=True)\n",
    "        dfFiltered = dfFiltered.reset_index(drop=False)\n",
    "        nbrsNuc, distancesNuc, indicesNuc = kNN(dfFiltered.iloc[:,2:4], 17)\n",
    "\n",
    "        distances = []\n",
    "        for i in range(len(indicesNuc)):\n",
    "            same = True\n",
    "            j = 1\n",
    "            while(same == True):\n",
    "                if dfFiltered.loc[dfFiltered[\"index\"] == indicesNuc[i,0]][\"cluster\"].values != dfFiltered.loc[dfFiltered[\"index\"] == indicesNuc[i,j]][\"cluster\"].values:\n",
    "                    distances.append(distancesNuc[i,j])\n",
    "                    same = False\n",
    "                else:\n",
    "                    j += 1\n",
    "\n",
    "        dfFiltered[\"1NNdifferentCluster\"] = distances\n",
    "        filename = \"markedNN_cellpose_\" + age + \"_\" + aorta + \".csv\"\n",
    "        os.chdir(savePath)\n",
    "        if not os.path.exists(join(savePath, age)):\n",
    "            os.mkdir(age)\n",
    "        os.chdir(join(savePath, age))\n",
    "        if not os.path.exists(join(savePath, age, aorta)):\n",
    "            os.mkdir(aorta)\n",
    "        os.chdir(join(savePath,age, aorta))\n",
    "\n",
    "        dfFiltered.to_csv(join(savePath, age, aorta, filename), index=False)"
   ],
   "metadata": {
    "collapsed": false,
    "pycharm": {
     "name": "#%%\n"
    }
   }
  },
  {
   "cell_type": "code",
   "execution_count": null,
   "outputs": [],
   "source": [],
   "metadata": {
    "collapsed": false,
    "pycharm": {
     "name": "#%%\n"
    }
   }
  },
  {
   "cell_type": "code",
   "execution_count": null,
   "outputs": [],
   "source": [],
   "metadata": {
    "collapsed": false,
    "pycharm": {
     "name": "#%%\n"
    }
   }
  },
  {
   "cell_type": "code",
   "execution_count": 43,
   "outputs": [
    {
     "data": {
      "text/plain": "array([   0,   15,   16,   19,   24,   27,   28,   29,   31,   42,   44,\n         45,   47,   52,   54,   55,   58,   64,   69,   70,   72,   73,\n         75,   78,   89,   90,   94,   96,   98,  105,  108,  119,  121,\n        129,  133,  136,  138,  144,  145,  151,  153,  155,  166,  168,\n        169,  174,  178,  186,  188,  189,  204,  212,  217,  225,  235,\n        236,  237,  240,  242,  246,  251,  256,  257,  264,  265,  266,\n        277,  278,  279,  280,  288,  300,  304,  306,  307,  308,  312,\n        317,  318,  321,  322,  324,  325,  329,  330,  331,  332,  339,\n        341,  343,  347,  348,  350,  359,  363,  369,  370,  372,  373,\n        375,  376,  378,  379,  381,  382,  384,  385,  386,  387,  388,\n        389,  391,  392,  393,  398,  399,  400,  401,  405,  409,  414,\n        417,  418,  425,  426,  427,  428,  432,  434,  437,  438,  441,\n        442,  447,  449,  453,  456,  457,  458,  459,  461,  462,  463,\n        466,  471,  473,  474,  479,  481,  484,  489,  490,  491,  494,\n        510,  519,  524,  530,  542,  549,  554,  555,  558,  562,  563,\n        565,  568,  571,  572,  573,  575,  576,  579,  587,  588,  590,\n        592,  593,  596,  598,  599,  600,  601,  602,  606,  607,  613,\n        616,  617,  623,  626,  628,  629,  631,  632,  634,  635,  636,\n        639,  643,  644,  645,  658,  660,  663,  665,  666,  668,  673,\n        677,  679,  681,  683,  686,  690,  692,  694,  695,  700,  702,\n        705,  707,  708,  711,  714,  717,  718,  720,  721,  722,  723,\n        725,  726,  727,  729,  731,  739,  746,  748,  749,  750,  751,\n        754,  757,  758,  760,  764,  769,  771,  772,  773,  778,  779,\n        784,  785,  788,  790,  792,  799,  803,  804,  807,  808,  809,\n        811,  812,  814,  815,  818,  822,  824,  825,  826,  827,  832,\n        833,  835,  836,  839,  840,  842,  843,  846,  848,  850,  852,\n        854,  856,  861,  862,  866,  869,  872,  875,  877,  878,  879,\n        882,  884,  891,  897,  898,  899,  905,  907,  909,  912,  915,\n        917,  920,  921,  933,  934,  935,  937,  938,  939,  942,  944,\n        949,  954,  956,  957,  961,  964,  970,  973,  975,  977,  978,\n        979,  980,  982,  984,  986,  989,  997,  999, 1000, 1007, 1009,\n       1013, 1019, 1020, 1027, 1028, 1030, 1032, 1038, 1043, 1050, 1051,\n       1053, 1054, 1065, 1068, 1072, 1076, 1078, 1079, 1080, 1105, 1108,\n       1114, 1121, 1122, 1124, 1127, 1128, 1129, 1131, 1137, 1138, 1140,\n       1142, 1146, 1147, 1148, 1152, 1153, 1155, 1156, 1158, 1161, 1163,\n       1165, 1166, 1168, 1169, 1173, 1174, 1175, 1180, 1187, 1188, 1189,\n       1190, 1191, 1192, 1193, 1194, 1195, 1196, 1197, 1198, 1199, 1200,\n       1201, 1202, 1203, 1204, 1205, 1206, 1207, 1208, 1209, 1210, 1211,\n       1212, 1213, 1214, 1215, 1216, 1217, 1218, 1219, 1220, 1221, 1222,\n       1223, 1224, 1225, 1226, 1227, 1228, 1229, 1230, 1231, 1232, 1233,\n       1234, 1235, 1236, 1237, 1238, 1239, 1240, 1241, 1242, 1243, 1244,\n       1245, 1246, 1247, 1248, 1249, 1250, 1251, 1252, 1253, 1254, 1255,\n       1256, 1257, 1258, 1259, 1260, 1261, 1262, 1263, 1264, 1265, 1266,\n       1267, 1268, 1269, 1270, 1271, 1272, 1273, 1274, 1275, 1276, 1277,\n       1278, 1279, 1280, 1281, 1282, 1283, 1284, 1285, 1286, 1287, 1288,\n       1289, 1290, 1291, 1292, 1293, 1294, 1295, 1296, 1297, 1298, 1299,\n       1300, 1301, 1302, 1303, 1304, 1305, 1306, 1307, 1308, 1309, 1310,\n       1311, 1312, 1313, 1314, 1315, 1316, 1317, 1318, 1319, 1320, 1321],\n      dtype=int32)"
     },
     "execution_count": 43,
     "metadata": {},
     "output_type": "execute_result"
    }
   ],
   "source": [
    "np.unique(masks)"
   ],
   "metadata": {
    "collapsed": false,
    "pycharm": {
     "name": "#%%\n"
    }
   }
  },
  {
   "cell_type": "code",
   "execution_count": 51,
   "outputs": [],
   "source": [
    "accuracy_value = 0.8\n",
    "dfNucLabels = pd.DataFrame()\n",
    "for mask in np.unique(masks):\n",
    "    if mask != 0:\n",
    "        coord = np.where(mask == masks)\n",
    "        segmentationNuc = np.unique(nucImage[coord])\n",
    "        cluster = list()\n",
    "        for j in segmentationNuc:\n",
    "            if j != 0:\n",
    "                #occurence of nucleus pixel in\n",
    "                nucOccur = np.bincount(nucImage[coord])[j]\n",
    "                #How many pixels does this nucleus have:\n",
    "                coordLen = len(np.where(nucImage == j)[0])\n",
    "                #check if most of nuclei values are in segmentation\n",
    "                if(nucOccur >= accuracy_value*coordLen):\n",
    "                    cluster.append(j)\n",
    "\n",
    "        if len(cluster) > 0:\n",
    "            dfHelp = pd.DataFrame({\"label\": cluster, \"cluster\": np.full(len(cluster),mask)})\n",
    "            dfNucLabels = pd.concat([dfNucLabels, dfHelp], ignore_index= True)"
   ],
   "metadata": {
    "collapsed": false,
    "pycharm": {
     "name": "#%%\n"
    }
   }
  },
  {
   "cell_type": "code",
   "execution_count": 52,
   "outputs": [
    {
     "data": {
      "text/plain": "      label  cluster\n0     10084       15\n1     30025       16\n2     10033       19\n3     10062       19\n4     20120       24\n..      ...      ...\n726  150936     1315\n727  150969     1315\n728  151019     1315\n729  100816     1318\n730   20629     1319\n\n[731 rows x 2 columns]",
      "text/html": "<div>\n<style scoped>\n    .dataframe tbody tr th:only-of-type {\n        vertical-align: middle;\n    }\n\n    .dataframe tbody tr th {\n        vertical-align: top;\n    }\n\n    .dataframe thead th {\n        text-align: right;\n    }\n</style>\n<table border=\"1\" class=\"dataframe\">\n  <thead>\n    <tr style=\"text-align: right;\">\n      <th></th>\n      <th>label</th>\n      <th>cluster</th>\n    </tr>\n  </thead>\n  <tbody>\n    <tr>\n      <th>0</th>\n      <td>10084</td>\n      <td>15</td>\n    </tr>\n    <tr>\n      <th>1</th>\n      <td>30025</td>\n      <td>16</td>\n    </tr>\n    <tr>\n      <th>2</th>\n      <td>10033</td>\n      <td>19</td>\n    </tr>\n    <tr>\n      <th>3</th>\n      <td>10062</td>\n      <td>19</td>\n    </tr>\n    <tr>\n      <th>4</th>\n      <td>20120</td>\n      <td>24</td>\n    </tr>\n    <tr>\n      <th>...</th>\n      <td>...</td>\n      <td>...</td>\n    </tr>\n    <tr>\n      <th>726</th>\n      <td>150936</td>\n      <td>1315</td>\n    </tr>\n    <tr>\n      <th>727</th>\n      <td>150969</td>\n      <td>1315</td>\n    </tr>\n    <tr>\n      <th>728</th>\n      <td>151019</td>\n      <td>1315</td>\n    </tr>\n    <tr>\n      <th>729</th>\n      <td>100816</td>\n      <td>1318</td>\n    </tr>\n    <tr>\n      <th>730</th>\n      <td>20629</td>\n      <td>1319</td>\n    </tr>\n  </tbody>\n</table>\n<p>731 rows × 2 columns</p>\n</div>"
     },
     "execution_count": 52,
     "metadata": {},
     "output_type": "execute_result"
    }
   ],
   "source": [
    "dfNucLabels"
   ],
   "metadata": {
    "collapsed": false,
    "pycharm": {
     "name": "#%%\n"
    }
   }
  },
  {
   "cell_type": "code",
   "execution_count": 53,
   "outputs": [
    {
     "data": {
      "text/plain": "'5-60'"
     },
     "execution_count": 53,
     "metadata": {},
     "output_type": "execute_result"
    }
   ],
   "source": [
    "age"
   ],
   "metadata": {
    "collapsed": false,
    "pycharm": {
     "name": "#%%\n"
    }
   }
  },
  {
   "cell_type": "code",
   "execution_count": 54,
   "outputs": [
    {
     "data": {
      "text/plain": "'aorta08'"
     },
     "execution_count": 54,
     "metadata": {},
     "output_type": "execute_result"
    }
   ],
   "source": [
    "aorta"
   ],
   "metadata": {
    "collapsed": false,
    "pycharm": {
     "name": "#%%\n"
    }
   }
  },
  {
   "cell_type": "code",
   "execution_count": 62,
   "outputs": [
    {
     "data": {
      "text/plain": "        label   centroid-0   centroid-1  cluster\n0       10001     1.800000   121.933333      0.0\n1       10002     3.518519   178.703704      0.0\n2       10003     2.461538   200.846154      0.0\n3       10004     2.190476   264.571429      0.0\n4       10005     2.157895   270.000000      0.0\n...       ...          ...          ...      ...\n13099  160725  1850.533333  1383.133333      0.0\n13100  160726  1851.529412  1573.411765      0.0\n13101  160727  1851.888889  1626.055556      0.0\n13102  160728  1851.388889  1566.777778      0.0\n13103  160729  1852.666667  1287.380952      0.0\n\n[13104 rows x 4 columns]",
      "text/html": "<div>\n<style scoped>\n    .dataframe tbody tr th:only-of-type {\n        vertical-align: middle;\n    }\n\n    .dataframe tbody tr th {\n        vertical-align: top;\n    }\n\n    .dataframe thead th {\n        text-align: right;\n    }\n</style>\n<table border=\"1\" class=\"dataframe\">\n  <thead>\n    <tr style=\"text-align: right;\">\n      <th></th>\n      <th>label</th>\n      <th>centroid-0</th>\n      <th>centroid-1</th>\n      <th>cluster</th>\n    </tr>\n  </thead>\n  <tbody>\n    <tr>\n      <th>0</th>\n      <td>10001</td>\n      <td>1.800000</td>\n      <td>121.933333</td>\n      <td>0.0</td>\n    </tr>\n    <tr>\n      <th>1</th>\n      <td>10002</td>\n      <td>3.518519</td>\n      <td>178.703704</td>\n      <td>0.0</td>\n    </tr>\n    <tr>\n      <th>2</th>\n      <td>10003</td>\n      <td>2.461538</td>\n      <td>200.846154</td>\n      <td>0.0</td>\n    </tr>\n    <tr>\n      <th>3</th>\n      <td>10004</td>\n      <td>2.190476</td>\n      <td>264.571429</td>\n      <td>0.0</td>\n    </tr>\n    <tr>\n      <th>4</th>\n      <td>10005</td>\n      <td>2.157895</td>\n      <td>270.000000</td>\n      <td>0.0</td>\n    </tr>\n    <tr>\n      <th>...</th>\n      <td>...</td>\n      <td>...</td>\n      <td>...</td>\n      <td>...</td>\n    </tr>\n    <tr>\n      <th>13099</th>\n      <td>160725</td>\n      <td>1850.533333</td>\n      <td>1383.133333</td>\n      <td>0.0</td>\n    </tr>\n    <tr>\n      <th>13100</th>\n      <td>160726</td>\n      <td>1851.529412</td>\n      <td>1573.411765</td>\n      <td>0.0</td>\n    </tr>\n    <tr>\n      <th>13101</th>\n      <td>160727</td>\n      <td>1851.888889</td>\n      <td>1626.055556</td>\n      <td>0.0</td>\n    </tr>\n    <tr>\n      <th>13102</th>\n      <td>160728</td>\n      <td>1851.388889</td>\n      <td>1566.777778</td>\n      <td>0.0</td>\n    </tr>\n    <tr>\n      <th>13103</th>\n      <td>160729</td>\n      <td>1852.666667</td>\n      <td>1287.380952</td>\n      <td>0.0</td>\n    </tr>\n  </tbody>\n</table>\n<p>13104 rows × 4 columns</p>\n</div>"
     },
     "execution_count": 62,
     "metadata": {},
     "output_type": "execute_result"
    }
   ],
   "source": [
    "dfMerged"
   ],
   "metadata": {
    "collapsed": false,
    "pycharm": {
     "name": "#%%\n"
    }
   }
  },
  {
   "cell_type": "code",
   "execution_count": 60,
   "outputs": [],
   "source": [
    "dfMerged = df.merge(dfNucLabels, on=\"label\", how=\"left\")\n",
    "dfMerged['cluster'] = dfMerged['cluster'].fillna(0)"
   ],
   "metadata": {
    "collapsed": false,
    "pycharm": {
     "name": "#%%\n"
    }
   }
  },
  {
   "cell_type": "code",
   "execution_count": 63,
   "outputs": [],
   "source": [
    "dfFiltered = dfMerged.loc[dfMerged[\"cluster\"] > 0]\n",
    "dfFiltered = dfFiltered.reset_index(drop=True)\n",
    "dfFiltered = dfFiltered.reset_index(drop=False)\n",
    "nbrsNuc, distancesNuc, indicesNuc = kNN(dfFiltered.iloc[:,2:4], 17)"
   ],
   "metadata": {
    "collapsed": false,
    "pycharm": {
     "name": "#%%\n"
    }
   }
  },
  {
   "cell_type": "code",
   "execution_count": 64,
   "outputs": [],
   "source": [
    "distances = []\n",
    "for i in range(len(indicesNuc)):\n",
    "    same = True\n",
    "    j = 1\n",
    "    while(same == True):\n",
    "        if dfFiltered.loc[dfFiltered[\"index\"] == indicesNuc[i,0]][\"cluster\"].values != dfFiltered.loc[dfFiltered[\"index\"] == indicesNuc[i,j]][\"cluster\"].values:\n",
    "            distances.append(distancesNuc[i,j])\n",
    "            same = False\n",
    "        else:\n",
    "            j += 1"
   ],
   "metadata": {
    "collapsed": false,
    "pycharm": {
     "name": "#%%\n"
    }
   }
  },
  {
   "cell_type": "code",
   "execution_count": 65,
   "outputs": [
    {
     "data": {
      "text/plain": "     index   label   centroid-0   centroid-1  cluster\n0        0   10033    16.666667   251.066667     19.0\n1        1   10047    22.941176   164.882353   1189.0\n2        2   10052    25.931034   326.379310     27.0\n3        3   10062    32.607143   249.642857     19.0\n4        4   10076    37.388889    30.833333     55.0\n..     ...     ...          ...          ...      ...\n726    726  160589  1770.461538  1321.269231   1147.0\n727    727  160607  1777.800000  1430.040000   1153.0\n728    728  160621  1785.423077  1261.192308   1161.0\n729    729  160638  1793.806452  1439.548387   1153.0\n730    730  160644  1796.157895  1321.842105   1147.0\n\n[731 rows x 5 columns]",
      "text/html": "<div>\n<style scoped>\n    .dataframe tbody tr th:only-of-type {\n        vertical-align: middle;\n    }\n\n    .dataframe tbody tr th {\n        vertical-align: top;\n    }\n\n    .dataframe thead th {\n        text-align: right;\n    }\n</style>\n<table border=\"1\" class=\"dataframe\">\n  <thead>\n    <tr style=\"text-align: right;\">\n      <th></th>\n      <th>index</th>\n      <th>label</th>\n      <th>centroid-0</th>\n      <th>centroid-1</th>\n      <th>cluster</th>\n    </tr>\n  </thead>\n  <tbody>\n    <tr>\n      <th>0</th>\n      <td>0</td>\n      <td>10033</td>\n      <td>16.666667</td>\n      <td>251.066667</td>\n      <td>19.0</td>\n    </tr>\n    <tr>\n      <th>1</th>\n      <td>1</td>\n      <td>10047</td>\n      <td>22.941176</td>\n      <td>164.882353</td>\n      <td>1189.0</td>\n    </tr>\n    <tr>\n      <th>2</th>\n      <td>2</td>\n      <td>10052</td>\n      <td>25.931034</td>\n      <td>326.379310</td>\n      <td>27.0</td>\n    </tr>\n    <tr>\n      <th>3</th>\n      <td>3</td>\n      <td>10062</td>\n      <td>32.607143</td>\n      <td>249.642857</td>\n      <td>19.0</td>\n    </tr>\n    <tr>\n      <th>4</th>\n      <td>4</td>\n      <td>10076</td>\n      <td>37.388889</td>\n      <td>30.833333</td>\n      <td>55.0</td>\n    </tr>\n    <tr>\n      <th>...</th>\n      <td>...</td>\n      <td>...</td>\n      <td>...</td>\n      <td>...</td>\n      <td>...</td>\n    </tr>\n    <tr>\n      <th>726</th>\n      <td>726</td>\n      <td>160589</td>\n      <td>1770.461538</td>\n      <td>1321.269231</td>\n      <td>1147.0</td>\n    </tr>\n    <tr>\n      <th>727</th>\n      <td>727</td>\n      <td>160607</td>\n      <td>1777.800000</td>\n      <td>1430.040000</td>\n      <td>1153.0</td>\n    </tr>\n    <tr>\n      <th>728</th>\n      <td>728</td>\n      <td>160621</td>\n      <td>1785.423077</td>\n      <td>1261.192308</td>\n      <td>1161.0</td>\n    </tr>\n    <tr>\n      <th>729</th>\n      <td>729</td>\n      <td>160638</td>\n      <td>1793.806452</td>\n      <td>1439.548387</td>\n      <td>1153.0</td>\n    </tr>\n    <tr>\n      <th>730</th>\n      <td>730</td>\n      <td>160644</td>\n      <td>1796.157895</td>\n      <td>1321.842105</td>\n      <td>1147.0</td>\n    </tr>\n  </tbody>\n</table>\n<p>731 rows × 5 columns</p>\n</div>"
     },
     "execution_count": 65,
     "metadata": {},
     "output_type": "execute_result"
    }
   ],
   "source": [
    "dfFiltered"
   ],
   "metadata": {
    "collapsed": false,
    "pycharm": {
     "name": "#%%\n"
    }
   }
  },
  {
   "cell_type": "code",
   "execution_count": 67,
   "outputs": [
    {
     "data": {
      "text/plain": "[50.47453821744645,\n 85.30987034751097,\n 52.85873081873993,\n 36.70262150856659,\n 134.825353891417,\n 48.44916480492501,\n 83.96489134610007,\n 36.70262150856659,\n 50.82388810432371,\n 32.87226284636655,\n 21.447548029572836,\n 21.447548029572836,\n 25.500230626530097,\n 18.77132860981815,\n 12.000370364654966,\n 14.193582274315983,\n 49.87992402319968,\n 41.75151452580241,\n 32.71256978933668,\n 73.12401781100053,\n 32.71256978933668,\n 25.08646853192636,\n 25.08646853192636,\n 38.491691859102374,\n 51.62420306353257,\n 13.137695908443481,\n 13.137695908443481,\n 56.526358901794104,\n 39.696739300742486,\n 30.443379251945355,\n 23.6331464526306,\n 38.14988398473769,\n 17.225849497263326,\n 35.25423176116158,\n 35.25423176116158,\n 17.225849497263326,\n 42.11801546749021,\n 40.200123638453775,\n 53.84736546313336,\n 25.343970192661892,\n 30.110323060119146,\n 20.606860616654092,\n 20.606860616654092,\n 16.829034799043058,\n 42.172585980827016,\n 61.75814495901489,\n 16.829034799043058,\n 38.13414373387466,\n 53.51373822230425,\n 51.356104271871956,\n 46.78036798139328,\n 42.172585980827016,\n 34.65279635273136,\n 57.88801954301807,\n 50.502961637167566,\n 45.05784440650213,\n 36.022847229809436,\n 40.713419794362274,\n 54.81542370123858,\n 22.607676465433606,\n 36.24901636531006,\n 40.200249373711486,\n 32.68523257049357,\n 22.607676465433606,\n 20.136073541705148,\n 44.89966319013934,\n 21.2199992097367,\n 20.136073541705148,\n 29.869714853616685,\n 40.713419794362274,\n 19.980879749289215,\n 12.000370364654966,\n 19.545806070198957,\n 24.685268361961914,\n 31.685757769920485,\n 22.994173485170492,\n 15.373010259687117,\n 22.994173485170492,\n 37.07468974192764,\n 32.37607836260864,\n 45.18256290391866,\n 38.86529236329975,\n 37.40414252162156,\n 29.937610958038633,\n 31.42029175072441,\n 29.937610958038633,\n 20.944020773787454,\n 27.899649318562535,\n 18.625538562103205,\n 49.22326044282771,\n 51.72208412193651,\n 18.625538562103205,\n 24.960022975021097,\n 16.827731557081865,\n 32.72203204408471,\n 74.55745363476865,\n 16.827731557081865,\n 27.262745126684504,\n 27.262745126684504,\n 41.351668086242206,\n 42.38141134716701,\n 62.09184785013604,\n 48.35269770782966,\n 64.27538115190151,\n 37.915404860318475,\n 87.72861750153763,\n 79.596024001592,\n 91.0652452515973,\n 89.16238415342221,\n 67.82223992032888,\n 29.211751398248744,\n 29.211751398248744,\n 77.4566684043715,\n 43.78783513499892,\n 58.71162234826624,\n 35.26692824280643,\n 69.24257249088679,\n 58.01423721675576,\n 28.64965132418733,\n 59.20549650434941,\n 49.88075231763608,\n 28.64965132418733,\n 20.16606549963308,\n 20.16606549963308,\n 37.767821191860456,\n 36.26965521304767,\n 52.421433277157774,\n 53.25287730561164,\n 50.84609921113579,\n 48.64958263522635,\n 35.04850309848399,\n 31.32708217895687,\n 34.37317448189486,\n 35.04850309848399,\n 35.662574726330526,\n 29.004520804788303,\n 31.32708217895687,\n 29.004520804788303,\n 32.37607836260864,\n 22.013072267440478,\n 36.43769799207215,\n 22.013072267440478,\n 61.612588901223134,\n 38.543342305917285,\n 36.40361904098148,\n 36.43769799207215,\n 46.080941016867264,\n 34.11902957601787,\n 47.09384226727282,\n 45.57857445443493,\n 51.86377386367767,\n 21.1913478159756,\n 21.1913478159756,\n 15.354153727138787,\n 48.544396701128285,\n 15.354153727138787,\n 47.23985327056192,\n 23.86273270119223,\n 33.9400137764761,\n 27.801624060293403,\n 33.58392472597566,\n 33.58392472597566,\n 67.53639474671871,\n 75.8891033021209,\n 45.79479550464029,\n 51.71568883477554,\n 45.79479550464029,\n 52.977774095930215,\n 33.608811381814036,\n 54.02416856529711,\n 55.29228128207027,\n 50.82582323988943,\n 61.911550808042186,\n 15.93984447776415,\n 15.93984447776415,\n 56.654418066199895,\n 40.33421486639963,\n 58.69928782402422,\n 76.66634461995217,\n 77.2276916324403,\n 32.054701780706054,\n 25.180752818373005,\n 23.565698409852292,\n 23.565698409852292,\n 12.65219391386176,\n 12.65219391386176,\n 38.17490512567288,\n 32.68363663567642,\n 53.59982904836579,\n 34.98782587106083,\n 34.98782587106083,\n 43.48277492125593,\n 49.28418576534762,\n 51.02594807752902,\n 25.180888794755166,\n 25.180888794755166,\n 24.481269459341632,\n 29.600836215112274,\n 52.057190833138925,\n 25.600203871537158,\n 24.240372914052845,\n 24.481269459341632,\n 25.600203871537158,\n 29.954921092669206,\n 29.954921092669206,\n 38.94736379960489,\n 38.94736379960489,\n 62.39284127330906,\n 62.39284127330906,\n 59.83587999334607,\n 40.315807210245275,\n 40.315807210245275,\n 36.062056023541736,\n 43.61566343825284,\n 39.900750833874795,\n 39.667920672624795,\n 20.955758688776292,\n 20.955758688776292,\n 24.905744317325674,\n 39.900750833874795,\n 23.949565526098613,\n 17.039025447736584,\n 15.6827735989238,\n 50.07499565711594,\n 15.6827735989238,\n 14.551236980684484,\n 43.36106391755744,\n 14.551236980684484,\n 32.202885302396574,\n 23.949565526098613,\n 18.33489480054192,\n 32.66676601748043,\n 15.139640599609965,\n 39.53165819947353,\n 21.84062868198826,\n 37.275948940898175,\n 37.4011264934063,\n 28.927509265695917,\n 32.66676601748043,\n 16.05503428246189,\n 49.59654215853003,\n 18.826777901769855,\n 25.815154894406966,\n 16.05503428246189,\n 50.39317440922071,\n 16.41493222648211,\n 36.36042084577171,\n 13.467227591760091,\n 28.78803336547849,\n 13.467227591760091,\n 18.720168500313825,\n 11.502722310969395,\n 18.23708475618513,\n 18.23708475618513,\n 11.502722310969395,\n 18.66527037693719,\n 16.56406783357476,\n 16.56406783357476,\n 23.11855916310052,\n 26.159672742646777,\n 26.159672742646777,\n 31.288676422867237,\n 61.5377991411066,\n 59.403572657243885,\n 32.10256325146076,\n 58.2284343503535,\n 70.13385614507293,\n 32.78181093379635,\n 32.78181093379635,\n 37.19303138604788,\n 37.50000000000003,\n 34.4621112861826,\n 37.24276347737104,\n 26.971940151860675,\n 26.971940151860675,\n 26.225969564380943,\n 36.29336038192799,\n 30.941641643527092,\n 22.88102121730692,\n 26.225969564380943,\n 39.98959672670982,\n 20.00955235808607,\n 48.268867799192414,\n 22.88102121730692,\n 48.02996175138571,\n 35.27945594663564,\n 20.00955235808607,\n 29.83600140410854,\n 34.08212096305613,\n 29.83600140410854,\n 34.08212096305613,\n 44.654227123532216,\n 38.394281639470016,\n 50.00017487540229,\n 44.38521686492587,\n 36.767058283731366,\n 38.394281639470016,\n 36.767058283731366,\n 51.247575466317244,\n 66.23833078349018,\n 47.18145298920795,\n 45.019027315777954,\n 58.01430321188957,\n 42.52531316913649,\n 56.73399729344361,\n 44.11651317895243,\n 37.46159514904714,\n 30.01395173124277,\n 30.01395173124277,\n 40.76015434658517,\n 44.65810383553313,\n 42.52531316913649,\n 35.25206061747,\n 36.20570653357795,\n 49.314194222187105,\n 43.817141879329014,\n 26.9331603490018,\n 29.000604040644184,\n 23.73821341716425,\n 22.98658302304147,\n 27.508180850792947,\n 22.98658302304147,\n 20.934486739414776,\n 26.32110492050269,\n 21.328188987894126,\n 14.997419686200207,\n 15.461533810646925,\n 15.461533810646925,\n 14.997419686200207,\n 26.52167048265085,\n 26.862476696082815,\n 21.328188987894126,\n 13.785931347362384,\n 27.193565960869087,\n 13.785931347362384,\n 68.90323327359573,\n 37.62306774968443,\n 23.17088068869325,\n 37.62306774968443,\n 47.78390321279753,\n 40.70097655670878,\n 49.48550452113337,\n 46.48431819586508,\n 81.47894145872633,\n 10.923204944062892,\n 34.4621112861826,\n 10.923204944062892,\n 38.58028515427469,\n 60.17038564478352,\n 51.85520126742236,\n 41.00832134652359,\n 38.6621764966369,\n 49.9308390043953,\n 31.309604884518983,\n 60.15979362233353,\n 16.27303922306952,\n 16.27303922306952,\n 39.93071998931239,\n 20.139748056910623,\n 10.353039311325247,\n 10.353039311325247,\n 21.263644333503727,\n 49.9308390043953,\n 36.19705453997082,\n 22.55467531765436,\n 20.333683015531193,\n 15.058273548649359,\n 15.058273548649359,\n 36.19705453997082,\n 23.816670520190087,\n 24.172583167181177,\n 28.11499554513723,\n 13.968186190013922,\n 28.11499554513723,\n 13.968186190013922,\n 33.04247835363138,\n 15.109506943656834,\n 33.62066714174831,\n 47.996977785514915,\n 42.28950306117351,\n 122.09714165368493,\n 34.831916229689696,\n 34.831916229689696,\n 36.062056023541736,\n 41.110050869839675,\n 17.060225746066042,\n 43.5809766790601,\n 29.45741083289303,\n 100.84337535029654,\n 27.8003769570845,\n 35.26694565459184,\n 35.26694565459184,\n 36.31989982718568,\n 22.786800491600253,\n 52.400347826395354,\n 22.786800491600253,\n 22.11261830579833,\n 26.385464011669555,\n 22.11261830579833,\n 25.26151574584896,\n 25.26151574584896,\n 30.71312130082824,\n 21.422545493086403,\n 21.422545493086403,\n 94.20318151880261,\n 39.27285402397268,\n 38.92351763283341,\n 33.69709046632507,\n 52.124436803623475,\n 38.92351763283341,\n 49.12615863793025,\n 33.69709046632507,\n 56.38890893108676,\n 57.04780544739102,\n 41.49168573898916,\n 34.28509898578929,\n 41.49168573898916,\n 29.480940881009406,\n 17.060225746066042,\n 52.6385689262694,\n 31.055858258942806,\n 21.99410157616258,\n 34.48171119098846,\n 34.28446271416949,\n 29.480940881009406,\n 41.20657626073089,\n 21.99410157616258,\n 31.854651597052108,\n 56.413134351561496,\n 36.76837769626101,\n 39.65999615386459,\n 38.55960858106859,\n 25.119632045886007,\n 52.6385689262694,\n 27.114514345952866,\n 57.308364422765486,\n 31.510076943409423,\n 48.191874396131404,\n 17.694942784087228,\n 17.694942784087228,\n 19.488083072693733,\n 19.488083072693733,\n 19.123022773609815,\n 22.801436589950264,\n 19.123022773609815,\n 22.08223718547231,\n 18.33392630468289,\n 19.188017094009513,\n 18.33392630468289,\n 24.153236270479645,\n 26.765460605237404,\n 36.09490006428727,\n 22.08223718547231,\n 30.224657310241664,\n 24.153236270479645,\n 37.59486803400604,\n 34.74267009025064,\n 32.390767588928824,\n 28.10968832775397,\n 33.434983550167864,\n 32.390767588928824,\n 40.392398258474536,\n 73.17282518585034,\n 31.151955675591903,\n 38.412221364138006,\n 31.151955675591903,\n 43.75695991012968,\n 43.75695991012968,\n 29.550667380547655,\n 29.550667380547655,\n 77.62955569675701,\n 14.039607961781883,\n 14.039607961781883,\n 38.705953965585024,\n 27.35415873317986,\n 30.787485550896093,\n 24.172583167181177,\n 30.787485550896093,\n 49.668008996047014,\n 28.452331735730624,\n 36.91673659814864,\n 17.694017823076695,\n 23.206493228887517,\n 11.148189003401203,\n 31.42918965469485,\n 17.694017823076695,\n 11.148189003401203,\n 29.480357062949214,\n 23.206493228887517,\n 14.469894072422182,\n 28.529805932538515,\n 9.064872778637675,\n 14.469894072422182,\n 32.02865072275421,\n 42.931032887022546,\n 9.064872778637675,\n 14.999983539085571,\n 49.235158268780964,\n 17.642507261844916,\n 14.999983539085571,\n 41.73805819309385,\n 34.00143261174549,\n 23.54461223787934,\n 18.57252065707769,\n 47.34895591916404,\n 15.310152881339835,\n 31.266817696863384,\n 18.2444876092753,\n 27.20255298476382,\n 31.788350523815147,\n 19.37203023835026,\n 15.310152881339835,\n 18.57252065707769,\n 19.37203023835026,\n 23.19772498424033,\n 24.733317375568177,\n 24.488399713727492,\n 21.145563724343035,\n 25.441801161613252,\n 18.077405590663634,\n 24.926472119930587,\n 24.926472119930587,\n 18.077405590663634,\n 39.352939036819386,\n 41.606456922610654,\n 37.06101491501033,\n 26.009766056708543,\n 37.23062356536296,\n 23.27171655791386,\n 18.35187683099347,\n 20.258464355443166,\n 21.793558306836214,\n 20.258464355443166,\n 21.864131309472395,\n 18.35187683099347,\n 58.824500765915296,\n 39.352939036819386,\n 39.330999873133294,\n 58.13357069353805,\n 44.031887058254966,\n 27.04192936677319,\n 28.1223202795392,\n 23.28848775965316,\n 34.30698979222398,\n 46.31910692687536,\n 20.024806012081132,\n 19.101382109583213,\n 32.41974382291573,\n 27.393788285503085,\n 19.101382109583213,\n 20.024806012081132,\n 41.480846740020034,\n 52.67096360933188,\n 41.01458192495204,\n 27.512380389719997,\n 18.66456273862946,\n 23.103824436683787,\n 18.66456273862946,\n 80.38113030480594,\n 29.682668140427516,\n 33.73003734805421,\n 20.718130823063177,\n 20.718130823063177,\n 54.60880242026139,\n 45.205649002533505,\n 41.00011814025496,\n 47.185223391409885,\n 33.64022357201733,\n 33.64022357201733,\n 53.82050399796886,\n 24.111223758057346,\n 28.970725397488945,\n 25.858103158267856,\n 25.858103158267856,\n 69.92016772976388,\n 31.51189886198913,\n 29.22867567464851,\n 25.31062682376216,\n 25.31062682376216,\n 70.87137277695369,\n 23.56860547555783,\n 79.82711104985086,\n 23.56860547555783,\n 108.91362702035396,\n 60.2818033259721,\n 60.2818033259721,\n 70.12191311072341,\n 50.53020360730329,\n 41.80410941538924,\n 41.80410941538924,\n 56.487319673981986,\n 45.86245061141059,\n 43.03036017061883,\n 43.00177607597565,\n 32.922936801908115,\n 32.922936801908115,\n 32.3165159013158,\n 30.048898284107484,\n 24.068711939870017,\n 30.048898284107484,\n 26.971540882165023,\n 44.72048956326369,\n 38.569789968638126,\n 24.068711939870017,\n 32.58674091250982,\n 117.76761781606874,\n 20.240508903978665,\n 14.819459188063524,\n 14.819459188063524,\n 27.112577751972918,\n 84.12627035801934,\n 27.112577751972918,\n 72.51053575662509,\n 29.85747307370644,\n 29.85747307370644,\n 45.50474266423536,\n 49.04424017416108,\n 74.31910059434202,\n 33.97285701640932,\n 45.24625768735719,\n 42.31750943685458,\n 24.62144809809496,\n 18.426129885991312,\n 18.426129885991312,\n 22.97954823126581,\n 46.077799212277014,\n 41.93960809334434,\n 44.31903010890296,\n 38.1116472976509,\n 24.62144809809496,\n 29.322146645205795,\n 41.27917536079968,\n 29.322146645205795,\n 31.311708583394463,\n 42.47780168631118,\n 41.00011814025496,\n 42.697288967885264,\n 42.47780168631118,\n 30.62867937081199,\n 32.95292399772736,\n 33.67834780851199,\n 37.371606563587896,\n 33.67834780851199,\n 30.62867937081199,\n 17.497614550880353,\n 17.497614550880353,\n 65.48347888923155,\n 35.82185165380149,\n 23.413913705286713,\n 21.960187002321327,\n 15.056684308751816,\n 15.740163459922073,\n 18.54667491759979,\n 15.056684308751816,\n 85.43139380787993,\n 15.740163459922073,\n 83.48094335357591,\n 32.917410797482674,\n 45.23425574218696,\n 21.576075968892134,\n 58.48687180424972,\n 22.036756168932467,\n 15.543254275433675,\n 15.543254275433675,\n 47.79373007566815,\n 22.036756168932467,\n 15.849647094071608,\n 39.64386021835765,\n 24.455631672872013,\n 47.79373007566815,\n 66.39310905976843,\n 48.653168493458296,\n 37.064397084668734,\n 37.064397084668734,\n 48.653168493458296,\n 68.76648209260831,\n 50.963709270712954,\n 55.666025383548146,\n 46.224948542627835,\n 46.88153904323617,\n 37.36311103368804,\n 46.88153904323617,\n 50.752010249066316,\n 41.85517138778471,\n 51.963865984504594,\n 38.95779554588547,\n 23.475395264520774,\n 15.593565618886702,\n 33.35586168615089,\n 15.593565618886702,\n 33.07298579113819,\n 23.475395264520774,\n 33.07298579113819,\n 29.10031365548562,\n 45.49394228600366,\n 39.96319812461796,\n 39.96319812461796,\n 64.45752123937456,\n 54.116403039957994,\n 42.97818796990944,\n 27.979331192171475,\n 22.010668940172458,\n 17.629693536270615,\n 17.629693536270615,\n 14.644449025482206,\n 14.644449025482206,\n 21.29515201144506,\n 23.97900136322503,\n 29.40253945193651,\n 21.29515201144506,\n 25.968814188268958,\n 34.06324591436084,\n 44.12551588585373,\n 41.71923350739378,\n 95.37467304124905,\n 41.71923350739378,\n 95.9584851078712,\n 95.57092714659166,\n 86.16940034348364,\n 58.100914300623344,\n 90.04426467021648,\n 62.41738539862122,\n 58.100914300623344,\n 79.52646579994457,\n 36.088440118742945,\n 36.088440118742945,\n 47.855866563014544,\n 79.52646579994457,\n 44.24130309347,\n 98.09209349140349,\n 61.59248540917835]"
     },
     "execution_count": 67,
     "metadata": {},
     "output_type": "execute_result"
    }
   ],
   "source": [
    "distances"
   ],
   "metadata": {
    "collapsed": false,
    "pycharm": {
     "name": "#%%\n"
    }
   }
  },
  {
   "cell_type": "code",
   "execution_count": null,
   "outputs": [],
   "source": [],
   "metadata": {
    "collapsed": false,
    "pycharm": {
     "name": "#%%\n"
    }
   }
  },
  {
   "cell_type": "code",
   "execution_count": null,
   "outputs": [],
   "source": [],
   "metadata": {
    "collapsed": false,
    "pycharm": {
     "name": "#%%\n"
    }
   }
  },
  {
   "cell_type": "code",
   "execution_count": null,
   "outputs": [],
   "source": [],
   "metadata": {
    "collapsed": false,
    "pycharm": {
     "name": "#%%\n"
    }
   }
  },
  {
   "cell_type": "code",
   "execution_count": 16,
   "outputs": [],
   "source": [
    "dfFiltered = dfMerged.loc[dfMerged[\"cluster\"] > 0]\n",
    "dfFiltered = dfFiltered.reset_index(drop=True)\n",
    "dfFiltered = dfFiltered.reset_index(drop=False)\n",
    "nbrsNuc, distancesNuc, indicesNuc = kNN(dfFiltered.iloc[:,2:4], 17)"
   ],
   "metadata": {
    "collapsed": false,
    "pycharm": {
     "name": "#%%\n"
    }
   }
  },
  {
   "cell_type": "code",
   "execution_count": 17,
   "outputs": [],
   "source": [
    "distances = []\n",
    "for i in range(len(indicesNuc)):\n",
    "    same = True\n",
    "    j = 1\n",
    "    while(same == True):\n",
    "        if dfFiltered.loc[dfFiltered[\"index\"] == indicesNuc[i,0]][\"cluster\"].values != dfFiltered.loc[dfFiltered[\"index\"] == indicesNuc[i,j]][\"cluster\"].values:\n",
    "            distances.append(distancesNuc[i,j])\n",
    "            same = False\n",
    "        else:\n",
    "            j += 1"
   ],
   "metadata": {
    "collapsed": false,
    "pycharm": {
     "name": "#%%\n"
    }
   }
  },
  {
   "cell_type": "code",
   "execution_count": 21,
   "outputs": [
    {
     "data": {
      "text/plain": "[27.4505883361359,\n 14.372320619858158,\n 14.372320619858158,\n 32.502888989616174,\n 29.315984990465633,\n 28.705776880230523,\n 28.705776880230523,\n 60.68525517217918,\n 61.585938663917965,\n 65.88205378809822,\n 50.23060107672911,\n 50.23060107672911,\n 17.02095765486305,\n 16.156269908621333,\n 17.157221327240766,\n 16.156269908621333,\n 16.225328305575843,\n 55.11219134377937,\n 76.71606761028485,\n 55.11219134377937,\n 29.315984990465633,\n 76.68537097702307,\n 57.74939291690843,\n 30.368936280504254,\n 25.76130939467937,\n 42.95420817568404,\n 17.010390796854946,\n 17.010390796854946,\n 50.13608041078718,\n 36.20864896269725,\n 42.95420817568404,\n 27.0197494769995,\n 27.0197494769995,\n 31.755773733154207,\n 28.60005074286284,\n 29.647838556389882,\n 28.60005074286284,\n 19.50117735849164,\n 18.731085133965372,\n 18.731085133965372,\n 42.34553953833705,\n 89.0132265665093,\n 67.36278281164269,\n 40.772053314696244,\n 44.392715056790315,\n 34.482145532055085,\n 28.108588490238713,\n 17.479419326739606,\n 55.6993126968641,\n 17.479419326739606,\n 34.482145532055085,\n 51.212276919272355,\n 55.6993126968641,\n 55.77830699519305,\n 55.37199043464979,\n 38.050725622029724,\n 38.050725622029724,\n 40.834889313615136,\n 39.83763431026029,\n 54.89786030586774,\n 41.745827738745895,\n 48.015966837779,\n 62.266389268321774,\n 16.17000647107366,\n 16.17000647107366,\n 57.16499001547363,\n 41.83321535242771,\n 61.09617241979379,\n 46.03013214132841,\n 33.347963519343416,\n 28.177571596343974,\n 27.016650614590223,\n 45.14193537835555,\n 24.795580129346696,\n 23.099868483218195,\n 53.185765940990905,\n 23.099868483218195,\n 25.72523207573271,\n 27.377575924761267,\n 16.91150372991392,\n 16.91150372991392,\n 30.656926313791892,\n 45.540413700858686,\n 85.09359398821384,\n 74.13308718369024,\n 23.094172425094648,\n 23.86183608132491,\n 18.469472877526947,\n 18.469472877526947,\n 47.46733489102589,\n 44.45138779128256,\n 21.596622782386095,\n 28.150268113690515,\n 15.695105822201723,\n 21.596622782386095,\n 28.68269577153948,\n 15.695105822201723,\n 21.358881385947182,\n 31.04783672481384,\n 53.200869353799185,\n 31.04783672481384,\n 39.37849231915084,\n 53.200869353799185,\n 59.29894602773308,\n 58.859983325269766,\n 67.56808282159967,\n 31.39022612040976,\n 28.814297283105034,\n 15.022517112926367,\n 15.022517112926367,\n 34.51690283951696,\n 39.68207277852307,\n 60.22413235547536,\n 37.059316403320125,\n 19.493804193138896,\n 37.059316403320125,\n 19.493804193138896,\n 24.81116238099401,\n 52.91254905239608,\n 45.59339484027514,\n 57.11538461538461,\n 17.96567809934156,\n 17.96567809934156,\n 41.53496426752977,\n 36.87264568755551,\n 29.09580937964767,\n 29.09580937964767,\n 29.463342070300783,\n 30.269426327553784,\n 25.924616369042557,\n 55.18356611556063,\n 60.12342243079859,\n 25.696446827259837,\n 25.696446827259837,\n 21.039321211529444,\n 21.039321211529444,\n 29.94950979134683,\n 28.09258106475635,\n 35.13755780314898,\n 18.921623762378008,\n 40.324075354085984,\n 61.10542958999003,\n 18.921623762378008,\n 40.324075354085984,\n 23.386693866384807,\n 20.32023341084101,\n 20.32023341084101,\n 39.2677139743094,\n 60.88538198891674,\n 41.757173695149206,\n 34.11440419670463,\n 24.4575807921334,\n 24.4575807921334,\n 17.445930301857498,\n 34.11440419670463,\n 34.68721415657849,\n 17.445930301857498,\n 27.913068632963295,\n 13.673459209950916,\n 23.016850030920715,\n 11.30955976618969,\n 11.30955976618969,\n 15.027699692036249,\n 23.016850030920715,\n 19.364904142943114,\n 19.364904142943114,\n 29.422810021817334,\n 27.927825851471546,\n 18.784472220558598,\n 43.00603095319439,\n 25.669753688425562,\n 18.784472220558598,\n 30.63622437482532,\n 22.89667688770578,\n 26.772198333607125,\n 27.469579133612125,\n 30.63622437482532,\n 26.772198333607125,\n 45.90281585444622,\n 25.72523207573271,\n 48.38796401718507,\n 50.60575178655678,\n 70.60560866027808,\n 67.89497215923197,\n 66.48945263347284,\n 33.790097087120365,\n 28.636220939198758,\n 28.636220939198758,\n 45.95461081837932,\n 51.19368032287834,\n 43.46838779771758,\n 41.21427272186718,\n 61.65727878713782,\n 56.502469443860896,\n 41.21427272186718,\n 28.833098570224184,\n 42.47375758162322,\n 34.93330947836338,\n 31.23427085803446,\n 28.833098570224184,\n 35.1252909807448,\n 31.23427085803446,\n 37.51609787811096,\n 45.00163577273848,\n 33.14015631673898,\n 42.431960657749194,\n 15.9761508722913,\n 18.62924406982,\n 18.62924406982,\n 35.1252909807448,\n 25.038900320583327,\n 12.456702791848377,\n 27.381999699482957,\n 9.570561845962711,\n 27.01120138016822,\n 9.570561845962711,\n 32.27525036962715,\n 13.415810250649773,\n 37.5392323354474,\n 13.415810250649773,\n 36.29271621138329,\n 37.05349663195523,\n 33.14012344006057,\n 33.14012344006057,\n 54.547980414975406,\n 42.25805373044493,\n 19.139007673184228,\n 19.139007673184228,\n 50.99540167246,\n 56.79363520677299,\n 50.99540167246,\n 42.6708852081188,\n 48.14401295467064,\n 30.785457591092715,\n 30.785457591092715,\n 35.52128958651262,\n 35.52128958651262,\n 43.43101863008765,\n 48.341272353494865,\n 54.302830040683475,\n 53.26847110362208,\n 52.6469640882442,\n 52.45255674051345,\n 45.77615336752196,\n 39.58739667048486,\n 34.7384957873705,\n 39.41126402979609,\n 25.234180941278026,\n 28.539990640496598,\n 20.30916679202575,\n 24.134057097393583,\n 16.723003597393276,\n 16.723003597393276,\n 43.896627574633094,\n 35.648886792157484,\n 30.908287388248944,\n 30.908287388248944,\n 35.07409651815183,\n 40.776792150965186,\n 32.15141870104321,\n 41.41739381231123,\n 50.41339569052363,\n 31.105377366844174,\n 51.0734620004368,\n 53.973493459468614,\n 23.118103916443406,\n 50.77896855169907,\n 50.77896855169907,\n 23.118103916443406,\n 33.90110596390372,\n 47.58144613318282,\n 52.64009499131288,\n 33.90110596390372,\n 32.35597549099679,\n 25.924616369042557,\n 26.74154708246165,\n 33.080785575483496,\n 23.197493166131387,\n 23.197493166131387,\n 37.569900189118556,\n 31.043124756687817,\n 31.043124756687817,\n 43.58440243314458,\n 29.699074310086335,\n 42.29951115785485,\n 29.699074310086335,\n 57.23516385922019,\n 60.311696696219,\n 70.20209029747336,\n 64.68355304858866,\n 65.30954588866106,\n 45.44574664447688,\n 45.44574664447688,\n 41.857765109953036,\n 41.857765109953036,\n 42.10347584947904,\n 24.972535250700286,\n 99.11474807547367,\n 24.972535250700286,\n 20.28584339434119,\n 20.28584339434119,\n 22.698580163397633,\n 38.616502692858234,\n 18.733807823172434,\n 18.733807823172434,\n 14.549353025801093,\n 42.66291895475059,\n 49.675259233970664,\n 33.832946093573135,\n 73.6858980828402,\n 76.80903564701745,\n 85.21528858229172,\n 83.6647152657492,\n 70.2499408030367,\n 75.95562017275392,\n 54.79866103723883,\n 62.76806803375632,\n 54.79866103723883,\n 32.714951865822975,\n 19.436044618021146,\n 18.034936050970167,\n 18.034936050970167,\n 23.840105056191526,\n 42.49104335259687,\n 20.97947816689267,\n 18.327952209659067,\n 20.97947816689267,\n 21.67211409393576,\n 18.327952209659067,\n 27.56854966711019,\n 40.778508288400516,\n 14.549353025801093,\n 47.807810682701344,\n 33.65953043225156,\n 28.019245617967663,\n 40.318397403024335,\n 33.65953043225156,\n 34.87511300674154,\n 29.94396129274213,\n 45.93035387818552,\n 29.94396129274213,\n 44.73920573391352,\n 40.83982255002088,\n 34.06523101981704,\n 40.235106129732856,\n 42.25424016891633,\n 22.146231181751073,\n 22.146231181751073,\n 27.56311916773056,\n 21.687156725409917,\n 23.149124583839228,\n 21.687156725409917,\n 30.76529388984511,\n 23.149124583839228,\n 56.61802336371777,\n 26.370384519479725,\n 26.370384519479725,\n 23.750804079955817,\n 29.194080515685883,\n 28.23873764627009,\n 26.656219180113883,\n 23.750804079955817,\n 26.656219180113883,\n 29.231609428766024,\n 24.82372627409914,\n 64.0618351411769,\n 10.579941301028663,\n 10.579941301028663,\n 24.82372627409914,\n 28.651896970357807,\n 38.03327582953582,\n 31.850568819725915,\n 20.631340237609315,\n 27.003864125083126,\n 52.64009499131288,\n 45.309315022164924,\n 38.28780870623824,\n 20.371643126285555,\n 24.828317758521052,\n 24.828317758521052,\n 20.371643126285555,\n 31.11448394415552,\n 20.472471001153977,\n 39.74122597102226,\n 27.26054880899354,\n 34.893247594746505,\n 38.35545350705327,\n 38.50120119420135,\n 49.6900941453551,\n 41.210386450699026,\n 46.39208520196476,\n 39.76873405710578,\n 39.76873405710578,\n 20.63534795553604,\n 22.874458197482184,\n 20.63534795553604,\n 11.683601009411108,\n 11.683601009411108,\n 25.30826193815847,\n 32.743039942104936,\n 22.397314822152488,\n 48.46722878012524,\n 17.856967877418253,\n 36.08156443952712,\n 17.856967877418253,\n 20.972499013682178,\n 20.972499013682178,\n 31.58754576312432,\n 16.102247657346314,\n 16.877058537413753,\n 16.102247657346314,\n 13.195962365022538,\n 13.195962365022538,\n 23.467705557899162,\n 27.35572075181423,\n 19.63522466767907,\n 17.45152776944196,\n 17.45152776944196,\n 24.952128083960492,\n 25.77125550306154,\n 32.431268709112196,\n 40.26761036729986,\n 53.77045407604883,\n 43.83701030205213,\n 10.939699536149538,\n 10.939699536149538,\n 66.73126446896208,\n 15.892683059462627,\n 19.032321075279807,\n 13.006083312242776,\n 48.58866391074159,\n 13.006083312242776,\n 20.029557940959556,\n 29.380424492944847,\n 40.32545510100109,\n 24.15203937387393,\n 24.15203937387393,\n 26.150028033656284,\n 36.494511467153345,\n 26.150028033656284,\n 30.83658692981867,\n 22.085656816681386,\n 18.635796183911324,\n 22.1964765340705,\n 14.020716774338366,\n 19.362258618857673,\n 14.020716774338366,\n 23.396759953132797,\n 23.396759953132797,\n 15.511551802442032,\n 19.794253063610007,\n 27.95640078457145,\n 15.677642091158358,\n 15.076245739426279,\n 31.93663148030826,\n 15.076245739426279,\n 14.467165477287832,\n 14.467165477287832,\n 16.67803066663361,\n 42.157647381283326,\n 61.846725550305834,\n 64.58664465658966,\n 29.844065312965366,\n 29.844065312965366,\n 40.21752667427282,\n 31.719741704974897,\n 101.53611358088864,\n 30.62894751494359,\n 31.793700644219022,\n 39.08100288279176,\n 48.00761647561169,\n 46.429135393838685,\n 48.00761647561169,\n 42.54097163924363,\n 25.472133188270657,\n 42.54097163924363,\n 18.648977359119808,\n 18.648977359119808,\n 74.96377677784238,\n 36.921165931433826,\n 74.09764106551174,\n 44.497562116776834,\n 14.914054932815775,\n 14.914054932815775,\n 22.91997796488157,\n 23.122888028369562,\n 30.5393690377599,\n 54.52573869793559,\n 26.233958550893533,\n 10.032735481911201,\n 10.032735481911201,\n 30.5393690377599,\n 30.356162315922216,\n 30.356162315922216,\n 31.937653152492167,\n 37.520994123290585,\n 37.06291225599729,\n 20.631340237609315,\n 19.76619833225059,\n 19.76619833225059,\n 16.310972574704127,\n 16.310972574704127,\n 39.044737319460694,\n 43.0447529288566,\n 22.436766082085423,\n 45.8821528823249,\n 22.436766082085423,\n 43.289601663544644,\n 24.087851962936888,\n 20.045351359133363,\n 42.548810025286315,\n 14.546924073493948,\n 14.546924073493948,\n 23.661222639376064,\n 46.96316812239179,\n 33.44363496824258,\n 34.14565606929177,\n 44.94811275500546,\n 33.44363496824258,\n 50.3219624056167,\n 56.39249235663257,\n 52.72144517414142,\n 41.44766546660792,\n 38.47315523152982,\n 31.99981245658338,\n 33.48854898483732,\n 31.99981245658338,\n 45.90812697604832,\n 33.48854898483732,\n 28.962561274092423,\n 38.833970480136905,\n 44.87148191112293,\n 14.177521995607579,\n 28.962561274092423,\n 16.47170176217142,\n 14.177521995607579,\n 65.75245233447397,\n 35.31537986899364,\n 40.28990071965933,\n 35.31537986899364,\n 24.908384054757114,\n 49.942066437022746,\n 24.908384054757114,\n 38.00145637662802,\n 43.51604799976677,\n 12.413119622091951,\n 12.413119622091951,\n 24.01247908125277,\n 21.196298653102676,\n 21.196298653102676,\n 39.18465933979073,\n 54.630887764699416,\n 63.75908061233955,\n 57.974406244209895,\n 57.974406244209895,\n 60.696037976651404,\n 109.3753173632171,\n 24.676678248555294,\n 24.676678248555294,\n 40.9434446892572,\n 25.94156408737506,\n 26.817188816598417,\n 54.14065703149218,\n 54.14065703149218,\n 55.90940510913569,\n 53.37928204888407,\n 53.57978359303574,\n 36.87764664286027,\n 27.336402662524677,\n 13.567229046231594,\n 25.58486770055579,\n 13.567229046231594,\n 11.93120064422513,\n 33.23958308288178,\n 11.93120064422513,\n 33.23958308288178,\n 19.11580204145306,\n 31.281134581918078,\n 39.15264385642298,\n 37.44017881629201,\n 37.90992638301315,\n 55.138566172796274]"
     },
     "execution_count": 21,
     "metadata": {},
     "output_type": "execute_result"
    }
   ],
   "source": [
    "distances"
   ],
   "metadata": {
    "collapsed": false,
    "pycharm": {
     "name": "#%%\n"
    }
   }
  },
  {
   "cell_type": "code",
   "execution_count": 23,
   "outputs": [],
   "source": [
    "dfFiltered[\"distances\"] = distances"
   ],
   "metadata": {
    "collapsed": false,
    "pycharm": {
     "name": "#%%\n"
    }
   }
  },
  {
   "cell_type": "code",
   "execution_count": 24,
   "outputs": [
    {
     "data": {
      "text/plain": "     index   label   centroid-0   centroid-1  cluster  distances\n0        0   10028    17.280000   271.080000     17.0  27.450588\n1        1   10056    32.800000   272.560000     17.0  14.372321\n2        2   10070    41.500000   284.000000     20.0  14.372321\n3        3   10234   143.576923   320.153846     52.0  32.502889\n4        4   10263   163.789474   323.736842     52.0  29.315985\n..     ...     ...          ...          ...      ...        ...\n577    577  160707  1763.533333  1144.133333    716.0  31.281135\n578    578  160710  1764.739130  1134.782609    716.0  39.152644\n579    579  160726  1772.950000  1141.800000    716.0  37.440179\n580    580  160736  1781.393939  1178.757576    712.0  37.909926\n581    581  160769  1795.750000  1074.250000    743.0  55.138566\n\n[582 rows x 6 columns]",
      "text/html": "<div>\n<style scoped>\n    .dataframe tbody tr th:only-of-type {\n        vertical-align: middle;\n    }\n\n    .dataframe tbody tr th {\n        vertical-align: top;\n    }\n\n    .dataframe thead th {\n        text-align: right;\n    }\n</style>\n<table border=\"1\" class=\"dataframe\">\n  <thead>\n    <tr style=\"text-align: right;\">\n      <th></th>\n      <th>index</th>\n      <th>label</th>\n      <th>centroid-0</th>\n      <th>centroid-1</th>\n      <th>cluster</th>\n      <th>distances</th>\n    </tr>\n  </thead>\n  <tbody>\n    <tr>\n      <th>0</th>\n      <td>0</td>\n      <td>10028</td>\n      <td>17.280000</td>\n      <td>271.080000</td>\n      <td>17.0</td>\n      <td>27.450588</td>\n    </tr>\n    <tr>\n      <th>1</th>\n      <td>1</td>\n      <td>10056</td>\n      <td>32.800000</td>\n      <td>272.560000</td>\n      <td>17.0</td>\n      <td>14.372321</td>\n    </tr>\n    <tr>\n      <th>2</th>\n      <td>2</td>\n      <td>10070</td>\n      <td>41.500000</td>\n      <td>284.000000</td>\n      <td>20.0</td>\n      <td>14.372321</td>\n    </tr>\n    <tr>\n      <th>3</th>\n      <td>3</td>\n      <td>10234</td>\n      <td>143.576923</td>\n      <td>320.153846</td>\n      <td>52.0</td>\n      <td>32.502889</td>\n    </tr>\n    <tr>\n      <th>4</th>\n      <td>4</td>\n      <td>10263</td>\n      <td>163.789474</td>\n      <td>323.736842</td>\n      <td>52.0</td>\n      <td>29.315985</td>\n    </tr>\n    <tr>\n      <th>...</th>\n      <td>...</td>\n      <td>...</td>\n      <td>...</td>\n      <td>...</td>\n      <td>...</td>\n      <td>...</td>\n    </tr>\n    <tr>\n      <th>577</th>\n      <td>577</td>\n      <td>160707</td>\n      <td>1763.533333</td>\n      <td>1144.133333</td>\n      <td>716.0</td>\n      <td>31.281135</td>\n    </tr>\n    <tr>\n      <th>578</th>\n      <td>578</td>\n      <td>160710</td>\n      <td>1764.739130</td>\n      <td>1134.782609</td>\n      <td>716.0</td>\n      <td>39.152644</td>\n    </tr>\n    <tr>\n      <th>579</th>\n      <td>579</td>\n      <td>160726</td>\n      <td>1772.950000</td>\n      <td>1141.800000</td>\n      <td>716.0</td>\n      <td>37.440179</td>\n    </tr>\n    <tr>\n      <th>580</th>\n      <td>580</td>\n      <td>160736</td>\n      <td>1781.393939</td>\n      <td>1178.757576</td>\n      <td>712.0</td>\n      <td>37.909926</td>\n    </tr>\n    <tr>\n      <th>581</th>\n      <td>581</td>\n      <td>160769</td>\n      <td>1795.750000</td>\n      <td>1074.250000</td>\n      <td>743.0</td>\n      <td>55.138566</td>\n    </tr>\n  </tbody>\n</table>\n<p>582 rows × 6 columns</p>\n</div>"
     },
     "execution_count": 24,
     "metadata": {},
     "output_type": "execute_result"
    }
   ],
   "source": [
    "dfFiltered"
   ],
   "metadata": {
    "collapsed": false,
    "pycharm": {
     "name": "#%%\n"
    }
   }
  },
  {
   "cell_type": "code",
   "execution_count": null,
   "outputs": [],
   "source": [
    "savePath = \"/Volumes/Aortas/Aorta/results/inducedRainbow/spatialPattern/nearestNeigbourNucleiComparison\"\n",
    "dfMerged.to_csv(join(savePath, \"markedNN_noCellpose.csv\"), index=False)"
   ],
   "metadata": {
    "collapsed": false,
    "pycharm": {
     "name": "#%%\n"
    }
   }
  },
  {
   "cell_type": "code",
   "execution_count": null,
   "outputs": [],
   "source": [],
   "metadata": {
    "collapsed": false,
    "pycharm": {
     "name": "#%%\n"
    }
   }
  },
  {
   "cell_type": "code",
   "execution_count": null,
   "outputs": [],
   "source": [],
   "metadata": {
    "collapsed": false,
    "pycharm": {
     "name": "#%%\n"
    }
   }
  },
  {
   "cell_type": "code",
   "execution_count": null,
   "outputs": [],
   "source": [
    "nucleiPath = '/Volumes/Aortas/Aorta/segmentations/inducedRainbow/final/nuclei'\n",
    "clusterPath = '/Volumes/Aortas/Aorta/segmentations/inducedRainbow/final/red'"
   ],
   "metadata": {
    "collapsed": false,
    "pycharm": {
     "name": "#%%\n"
    }
   }
  },
  {
   "cell_type": "code",
   "execution_count": null,
   "outputs": [],
   "source": [
    "clusterFolders = [x[0] for x in os.walk(clusterPath)]\n",
    "clusterFolders = sorted(clusterFolders)"
   ],
   "metadata": {
    "collapsed": false,
    "pycharm": {
     "name": "#%%\n"
    }
   }
  },
  {
   "cell_type": "code",
   "execution_count": null,
   "outputs": [],
   "source": [
    "for folder in clusterFolders:\n",
    "    files = [f for f in listdir(folder) if isfile(join(folder, f)) if \".DS_Store\" not in f if \".npy\" in f if \"._\" not in f if \"cellposeSegm\" in f]\n",
    "    for file in files:\n",
    "        aorta = folder.split(\"/\")[-1]\n",
    "        age = folder.split(\"/\")[-2]\n",
    "        print(age)\n",
    "        print(aorta)\n",
    "        nucPath = join(nucleiPath, age, aorta)\n",
    "        nucImage = fullNucImage16(nucPath)\n",
    "        prop_dict = regionprops_table(nucImage, properties = ('label', 'centroid'))\n",
    "        df = pd.DataFrame(prop_dict)\n",
    "        clusters = np.load(join(folder,file), allow_pickle=True).item()\n",
    "        dfNucLabels = pd.DataFrame()\n",
    "        for index in clusters:\n",
    "            dfHelp = pd.DataFrame({\"label\": clusters[index], \"cluster\": np.full(len(clusters[index]),index)})\n",
    "            dfNucLabels = pd.concat([dfNucLabels, dfHelp], ignore_index= True)\n",
    "        dfMerged = df.merge(dfNucLabels, on=\"label\", how=\"left\")\n",
    "        dfMerged['cluster'] = dfMerged['cluster'].fillna(0)"
   ],
   "metadata": {
    "collapsed": false,
    "pycharm": {
     "name": "#%%\n"
    }
   }
  },
  {
   "cell_type": "code",
   "execution_count": null,
   "outputs": [],
   "source": [
    "savePath = \"/Volumes/Aortas/Aorta/results/inducedRainbow/spatialPattern/nearestNeigbourNucleiComparison\"\n",
    "dfMerged.to_csv(join(savePath, \"markedNNCellpose.csv\"), index=False)"
   ],
   "metadata": {
    "collapsed": false,
    "pycharm": {
     "name": "#%%\n"
    }
   }
  },
  {
   "cell_type": "code",
   "execution_count": null,
   "outputs": [],
   "source": [],
   "metadata": {
    "collapsed": false,
    "pycharm": {
     "name": "#%%\n"
    }
   }
  },
  {
   "cell_type": "code",
   "execution_count": 87,
   "outputs": [
    {
     "data": {
      "text/plain": "         0          1          2          3          4          5    age  \\\n0      0.0  11.108746  13.196975  14.654392  21.832795  24.908592  10-21   \n1      0.0  12.045796  16.176226  19.203140  19.700451  24.723267  10-21   \n2      0.0   5.050201   6.731002  17.604388  18.870817  19.015413  10-21   \n3      0.0   5.050201   8.921377  13.966375  15.604491  16.391696  10-21   \n4      0.0  10.122191  11.416479  13.712593  17.989195  18.628452  10-21   \n...    ...        ...        ...        ...        ...        ...    ...   \n12427  0.0   9.083812  14.377495  18.743684  19.294231  21.319348  10-21   \n12428  0.0   9.879728  15.329065  16.019129  22.128192  22.571276  10-21   \n12429  0.0   9.094910  11.121016  11.160162  12.085586  17.944487  10-21   \n12430  0.0   7.930138   9.052761  11.549145  16.914161  17.085431  10-21   \n12431  0.0   7.217263   9.373813  13.172281  15.115151  18.492306  10-21   \n\n         aorta  \n0      aorta01  \n1      aorta01  \n2      aorta01  \n3      aorta01  \n4      aorta01  \n...        ...  \n12427  aorta01  \n12428  aorta01  \n12429  aorta01  \n12430  aorta01  \n12431  aorta01  \n\n[12432 rows x 8 columns]",
      "text/html": "<div>\n<style scoped>\n    .dataframe tbody tr th:only-of-type {\n        vertical-align: middle;\n    }\n\n    .dataframe tbody tr th {\n        vertical-align: top;\n    }\n\n    .dataframe thead th {\n        text-align: right;\n    }\n</style>\n<table border=\"1\" class=\"dataframe\">\n  <thead>\n    <tr style=\"text-align: right;\">\n      <th></th>\n      <th>0</th>\n      <th>1</th>\n      <th>2</th>\n      <th>3</th>\n      <th>4</th>\n      <th>5</th>\n      <th>age</th>\n      <th>aorta</th>\n    </tr>\n  </thead>\n  <tbody>\n    <tr>\n      <th>0</th>\n      <td>0.0</td>\n      <td>11.108746</td>\n      <td>13.196975</td>\n      <td>14.654392</td>\n      <td>21.832795</td>\n      <td>24.908592</td>\n      <td>10-21</td>\n      <td>aorta01</td>\n    </tr>\n    <tr>\n      <th>1</th>\n      <td>0.0</td>\n      <td>12.045796</td>\n      <td>16.176226</td>\n      <td>19.203140</td>\n      <td>19.700451</td>\n      <td>24.723267</td>\n      <td>10-21</td>\n      <td>aorta01</td>\n    </tr>\n    <tr>\n      <th>2</th>\n      <td>0.0</td>\n      <td>5.050201</td>\n      <td>6.731002</td>\n      <td>17.604388</td>\n      <td>18.870817</td>\n      <td>19.015413</td>\n      <td>10-21</td>\n      <td>aorta01</td>\n    </tr>\n    <tr>\n      <th>3</th>\n      <td>0.0</td>\n      <td>5.050201</td>\n      <td>8.921377</td>\n      <td>13.966375</td>\n      <td>15.604491</td>\n      <td>16.391696</td>\n      <td>10-21</td>\n      <td>aorta01</td>\n    </tr>\n    <tr>\n      <th>4</th>\n      <td>0.0</td>\n      <td>10.122191</td>\n      <td>11.416479</td>\n      <td>13.712593</td>\n      <td>17.989195</td>\n      <td>18.628452</td>\n      <td>10-21</td>\n      <td>aorta01</td>\n    </tr>\n    <tr>\n      <th>...</th>\n      <td>...</td>\n      <td>...</td>\n      <td>...</td>\n      <td>...</td>\n      <td>...</td>\n      <td>...</td>\n      <td>...</td>\n      <td>...</td>\n    </tr>\n    <tr>\n      <th>12427</th>\n      <td>0.0</td>\n      <td>9.083812</td>\n      <td>14.377495</td>\n      <td>18.743684</td>\n      <td>19.294231</td>\n      <td>21.319348</td>\n      <td>10-21</td>\n      <td>aorta01</td>\n    </tr>\n    <tr>\n      <th>12428</th>\n      <td>0.0</td>\n      <td>9.879728</td>\n      <td>15.329065</td>\n      <td>16.019129</td>\n      <td>22.128192</td>\n      <td>22.571276</td>\n      <td>10-21</td>\n      <td>aorta01</td>\n    </tr>\n    <tr>\n      <th>12429</th>\n      <td>0.0</td>\n      <td>9.094910</td>\n      <td>11.121016</td>\n      <td>11.160162</td>\n      <td>12.085586</td>\n      <td>17.944487</td>\n      <td>10-21</td>\n      <td>aorta01</td>\n    </tr>\n    <tr>\n      <th>12430</th>\n      <td>0.0</td>\n      <td>7.930138</td>\n      <td>9.052761</td>\n      <td>11.549145</td>\n      <td>16.914161</td>\n      <td>17.085431</td>\n      <td>10-21</td>\n      <td>aorta01</td>\n    </tr>\n    <tr>\n      <th>12431</th>\n      <td>0.0</td>\n      <td>7.217263</td>\n      <td>9.373813</td>\n      <td>13.172281</td>\n      <td>15.115151</td>\n      <td>18.492306</td>\n      <td>10-21</td>\n      <td>aorta01</td>\n    </tr>\n  </tbody>\n</table>\n<p>12432 rows × 8 columns</p>\n</div>"
     },
     "execution_count": 87,
     "metadata": {},
     "output_type": "execute_result"
    }
   ],
   "source": [
    "dfNucDistancs.loc[(dfNucDistancs[\"age\"] == \"10-21\") & (dfNucDistancs[\"aorta\"] == \"aorta01\")]"
   ],
   "metadata": {
    "collapsed": false,
    "pycharm": {
     "name": "#%%\n"
    }
   }
  },
  {
   "cell_type": "code",
   "execution_count": 67,
   "outputs": [
    {
     "data": {
      "text/plain": "        label   centroid-0   centroid-1\n0       10001     2.812500   116.000000\n1       10002     3.347826   173.043478\n2       10003     3.782609   192.739130\n3       10004     4.481481   197.740741\n4       10005     1.400000   221.600000\n...       ...          ...          ...\n12427  160625  1487.625000  1143.875000\n12428  160626  1487.950000  1169.600000\n12429  160627  1488.150000  1060.450000\n12430  160628  1488.227273  1103.909091\n12431  160629  1488.000000  1122.400000\n\n[12432 rows x 3 columns]",
      "text/html": "<div>\n<style scoped>\n    .dataframe tbody tr th:only-of-type {\n        vertical-align: middle;\n    }\n\n    .dataframe tbody tr th {\n        vertical-align: top;\n    }\n\n    .dataframe thead th {\n        text-align: right;\n    }\n</style>\n<table border=\"1\" class=\"dataframe\">\n  <thead>\n    <tr style=\"text-align: right;\">\n      <th></th>\n      <th>label</th>\n      <th>centroid-0</th>\n      <th>centroid-1</th>\n    </tr>\n  </thead>\n  <tbody>\n    <tr>\n      <th>0</th>\n      <td>10001</td>\n      <td>2.812500</td>\n      <td>116.000000</td>\n    </tr>\n    <tr>\n      <th>1</th>\n      <td>10002</td>\n      <td>3.347826</td>\n      <td>173.043478</td>\n    </tr>\n    <tr>\n      <th>2</th>\n      <td>10003</td>\n      <td>3.782609</td>\n      <td>192.739130</td>\n    </tr>\n    <tr>\n      <th>3</th>\n      <td>10004</td>\n      <td>4.481481</td>\n      <td>197.740741</td>\n    </tr>\n    <tr>\n      <th>4</th>\n      <td>10005</td>\n      <td>1.400000</td>\n      <td>221.600000</td>\n    </tr>\n    <tr>\n      <th>...</th>\n      <td>...</td>\n      <td>...</td>\n      <td>...</td>\n    </tr>\n    <tr>\n      <th>12427</th>\n      <td>160625</td>\n      <td>1487.625000</td>\n      <td>1143.875000</td>\n    </tr>\n    <tr>\n      <th>12428</th>\n      <td>160626</td>\n      <td>1487.950000</td>\n      <td>1169.600000</td>\n    </tr>\n    <tr>\n      <th>12429</th>\n      <td>160627</td>\n      <td>1488.150000</td>\n      <td>1060.450000</td>\n    </tr>\n    <tr>\n      <th>12430</th>\n      <td>160628</td>\n      <td>1488.227273</td>\n      <td>1103.909091</td>\n    </tr>\n    <tr>\n      <th>12431</th>\n      <td>160629</td>\n      <td>1488.000000</td>\n      <td>1122.400000</td>\n    </tr>\n  </tbody>\n</table>\n<p>12432 rows × 3 columns</p>\n</div>"
     },
     "execution_count": 67,
     "metadata": {},
     "output_type": "execute_result"
    }
   ],
   "source": [
    "df"
   ],
   "metadata": {
    "collapsed": false,
    "pycharm": {
     "name": "#%%\n"
    }
   }
  },
  {
   "cell_type": "code",
   "execution_count": 68,
   "outputs": [
    {
     "data": {
      "text/plain": "{11: [30051],\n 13: [40042],\n 14: [10053],\n 15: [10052],\n 16: [20051],\n 20: [40057],\n 21: [20115],\n 22: [30096],\n 24: [30124, 30140, 30172],\n 26: [40077],\n 27: [20097],\n 28: [30109, 30179],\n 32: [10092],\n 33: [40078],\n 35: [10109],\n 36: [20122],\n 38: [20133],\n 41: [10100],\n 43: [30141],\n 44: [40086],\n 45: [40102],\n 46: [40099],\n 50: [40115],\n 51: [20153],\n 53: [30181, 30216],\n 54: [40120],\n 55: [30199],\n 56: [40125, 40153],\n 57: [30197],\n 58: [40135],\n 60: [30221],\n 61: [10152],\n 64: [20232],\n 65: [20241],\n 68: [30241],\n 70: [10172],\n 71: [30249],\n 73: [20274],\n 78: [20267],\n 79: [20293, 20314, 20321],\n 80: [40204],\n 82: [40194],\n 86: [30335],\n 87: [20317, 20327, 20351, 20368, 20372],\n 88: [30325, 30358, 30389],\n 90: [30363, 30403],\n 92: [20357],\n 93: [20379],\n 94: [30362],\n 96: [30372, 30387],\n 98: [40247],\n 99: [40255],\n 100: [20385],\n 101: [20373],\n 102: [30422],\n 104: [10275],\n 105: [10258],\n 106: [40284],\n 107: [30414],\n 108: [40276],\n 111: [30444, 30493],\n 112: [40297, 40339],\n 114: [30439],\n 115: [20428, 20488, 20500],\n 116: [40308],\n 117: [10292],\n 118: [20438],\n 119: [20436],\n 121: [40314],\n 122: [20465],\n 123: [20475],\n 126: [30485],\n 127: [30523],\n 128: [30504],\n 129: [10314, 10319],\n 130: [30520, 30569],\n 131: [40333],\n 132: [20521],\n 133: [10323, 10354, 10367],\n 134: [20532],\n 135: [20543],\n 136: [40370],\n 137: [20536],\n 138: [30543],\n 139: [10350],\n 140: [30571],\n 141: [40371],\n 142: [20541],\n 143: [20545],\n 144: [20565, 20616],\n 145: [40394, 40408],\n 146: [40385],\n 147: [30615],\n 148: [30622],\n 149: [40399],\n 150: [40437],\n 151: [30631],\n 152: [40413],\n 153: [30658],\n 154: [30641],\n 155: [30654],\n 156: [30628],\n 157: [40430, 40451],\n 158: [20604],\n 159: [40418],\n 160: [10382],\n 161: [20627],\n 162: [20668, 20722, 20752],\n 163: [30667, 30689],\n 164: [40440],\n 166: [30704, 30773],\n 167: [30705],\n 169: [10414],\n 170: [10406, 10441],\n 171: [20660],\n 172: [40454],\n 174: [20727],\n 176: [20698],\n 177: [20699],\n 178: [30734],\n 179: [40498],\n 180: [20688],\n 182: [20745, 20797, 20841],\n 184: [10439],\n 185: [20718, 20773],\n 187: [30756],\n 188: [20739, 20789],\n 190: [30799],\n 191: [30774, 30817, 30842],\n 192: [30767],\n 193: [10438],\n 194: [20758, 20851],\n 195: [20754],\n 196: [40549],\n 198: [10486],\n 199: [30837],\n 201: [30869],\n 202: [20834],\n 205: [30880, 30936, 30977],\n 206: [20833],\n 207: [40571],\n 208: [10499],\n 209: [20876],\n 211: [10521, 10559],\n 212: [30905],\n 213: [30896, 30935],\n 214: [40627],\n 215: [40620],\n 216: [10508],\n 217: [20897],\n 218: [20915],\n 220: [40615],\n 223: [40634, 40665],\n 224: [10510, 10538, 10550],\n 225: [30911],\n 226: [40636],\n 227: [10529],\n 229: [30953],\n 231: [10548],\n 232: [20930],\n 233: [20925],\n 234: [30984, 31014, 70020, 70056],\n 235: [20936, 20972],\n 236: [40673],\n 237: [10542],\n 238: [30989],\n 240: [40669],\n 241: [20971],\n 242: [40675, 40678],\n 243: [31008],\n 244: [80004],\n 245: [80023],\n 246: [60017],\n 247: [80032],\n 248: [70024, 70073],\n 249: [70059],\n 250: [70074],\n 251: [60151, 60152, 60068, 60069],\n 252: [70067, 70115],\n 255: [60077],\n 256: [80049, 80065],\n 257: [50055, 50063, 50090],\n 258: [70110],\n 259: [50041],\n 260: [60114, 60145, 60178],\n 264: [80082],\n 265: [80084],\n 266: [80076, 80092, 80113],\n 267: [70156],\n 268: [80087],\n 269: [70127, 70128, 70209, 70247, 70273],\n 270: [70170],\n 271: [60166],\n 272: [70165],\n 273: [60175, 60238],\n 275: [80127],\n 277: [70185],\n 280: [60197],\n 281: [70168, 70217, 70233],\n 282: [60194, 60263, 60317],\n 283: [70122],\n 284: [80144],\n 286: [60227, 60313],\n 289: [60241],\n 290: [70303],\n 291: [80162],\n 292: [60249],\n 293: [60247],\n 294: [70246],\n 295: [70278, 70309],\n 296: [70268],\n 297: [70255, 70271],\n 298: [60310, 60339],\n 299: [60309],\n 300: [80202],\n 302: [60328],\n 303: [60357, 60379],\n 304: [60319, 60333],\n 305: [70340, 70406],\n 306: [70358],\n 308: [80240],\n 310: [60350],\n 311: [80257, 80285],\n 312: [50163, 50176],\n 316: [70405, 70427, 70466],\n 319: [80262, 80282],\n 320: [50183],\n 321: [50199, 50233],\n 322: [60424],\n 323: [60405],\n 324: [80292, 80325],\n 325: [50202, 50208],\n 326: [80293],\n 328: [60437],\n 329: [60433],\n 330: [80286],\n 331: [60455],\n 332: [70467],\n 333: [60456],\n 334: [70473],\n 335: [50207],\n 336: [50218, 50272],\n 339: [60483],\n 340: [70530],\n 341: [50229, 50244, 50249, 50262],\n 342: [50245, 50265],\n 343: [60534, 60547],\n 344: [60528],\n 345: [70541, 70559],\n 346: [80348],\n 347: [60551],\n 349: [70547],\n 350: [80357, 80368, 80386],\n 352: [80367],\n 353: [80392],\n 354: [60556],\n 355: [70577],\n 356: [70578],\n 359: [80401],\n 361: [50296, 50329],\n 362: [80412],\n 363: [50328, 50349, 50351],\n 364: [60601],\n 365: [60620],\n 366: [50308],\n 368: [70691],\n 369: [60579, 60607, 60656, 60707, 60723, 60812],\n 372: [70690],\n 373: [80429],\n 374: [60622, 60654],\n 375: [70686],\n 378: [70704],\n 379: [60682],\n 380: [60715, 60764, 60838],\n 381: [80473],\n 382: [80493],\n 384: [70768],\n 385: [70747, 70784, 70685],\n 386: [80494],\n 387: [60741],\n 388: [60757],\n 389: [70766],\n 390: [50383, 50402],\n 391: [50389],\n 392: [80513],\n 394: [70783],\n 395: [70777],\n 397: [70837],\n 399: [80521],\n 400: [70823],\n 401: [50397],\n 402: [80534, 80564, 80592, 80594],\n 403: [60823],\n 405: [80546],\n 406: [60851],\n 407: [50430, 50445],\n 408: [50417],\n 409: [60866],\n 410: [70907],\n 411: [60883],\n 412: [50432],\n 413: [70899, 70910],\n 414: [60878],\n 415: [70883],\n 416: [60900],\n 417: [70927, 70988],\n 418: [50452, 50463, 50480],\n 419: [50458],\n 421: [50441, 50472, 50489],\n 422: [60907],\n 424: [70971],\n 426: [70967],\n 427: [60953],\n 428: [70977, 70993],\n 429: [60977],\n 433: [100026],\n 434: [71002],\n 435: [50490],\n 436: [71023],\n 439: [100031],\n 440: [100014],\n 441: [100016],\n 442: [90026],\n 443: [100024, 100044],\n 444: [120010],\n 445: [110049],\n 446: [120025],\n 447: [100067, 100072, 100166],\n 448: [100062],\n 449: [110046],\n 451: [100076],\n 452: [110076, 110143],\n 453: [90050],\n 454: [100103],\n 456: [120082],\n 458: [90080],\n 459: [90079],\n 460: [100145, 100199],\n 461: [110144],\n 463: [110138],\n 464: [90095],\n 466: [120083],\n 467: [120097],\n 468: [120085, 120090],\n 470: [100160],\n 471: [110183],\n 472: [110186],\n 473: [120096, 120151],\n 474: [100197],\n 475: [110162, 110261],\n 476: [110181],\n 477: [120116],\n 478: [90089, 90125],\n 479: [110189],\n 480: [110219],\n 481: [120125],\n 482: [90103],\n 483: [90123, 90135, 90164],\n 484: [100211, 100272],\n 485: [100291],\n 486: [110239],\n 487: [100226],\n 489: [120147],\n 491: [100261],\n 493: [100243],\n 494: [90126, 90152],\n 495: [100299],\n 496: [100268],\n 497: [90127],\n 499: [110271, 110354],\n 500: [120163, 120183],\n 501: [120174],\n 502: [110299, 110377],\n 503: [110330],\n 504: [100307],\n 505: [100287, 100318],\n 506: [90149],\n 508: [90163, 90165],\n 509: [110338],\n 511: [100320, 100367],\n 515: [110390],\n 516: [110358],\n 517: [110362, 110429, 110462, 110501, 110506],\n 518: [100364],\n 519: [120214],\n 520: [120216],\n 521: [90186],\n 522: [90182],\n 523: [100386],\n 525: [90205],\n 526: [90204],\n 527: [110460],\n 528: [90235],\n 529: [120259],\n 530: [110448, 110497],\n 531: [120278],\n 532: [120265],\n 533: [100450],\n 534: [90220, 90256, 90285],\n 535: [100432],\n 536: [120297],\n 537: [110494],\n 538: [110498],\n 539: [120283],\n 541: [90237],\n 542: [100486],\n 543: [100460],\n 544: [110530, 110590],\n 545: [90238],\n 546: [120295],\n 547: [110525],\n 548: [90250],\n 549: [120311],\n 551: [100510],\n 552: [90272],\n 553: [100499],\n 554: [110563, 110616],\n 555: [90258],\n 556: [120317],\n 557: [110528, 110583],\n 558: [90290],\n 559: [90278],\n 561: [110641],\n 562: [120350, 120372, 120409],\n 563: [120371],\n 565: [100593],\n 568: [100607],\n 569: [100626, 100672],\n 570: [110668],\n 571: [120389],\n 572: [100609],\n 573: [100614],\n 576: [100637],\n 577: [110695],\n 578: [110715, 110735],\n 579: [100650],\n 580: [110723],\n 581: [110757],\n 582: [120432, 120450, 120461],\n 584: [90364],\n 586: [120425],\n 588: [90363, 90434],\n 589: [110750],\n 590: [120445],\n 591: [110775],\n 592: [100701],\n 593: [110781, 110827],\n 596: [110804],\n 597: [100731],\n 598: [100730, 100776],\n 599: [120469],\n 600: [120474, 120535],\n 602: [100788, 100879],\n 603: [110879],\n 604: [120473],\n 605: [100773],\n 606: [100775],\n 609: [100814],\n 611: [110894],\n 612: [120519],\n 614: [110922],\n 615: [100825],\n 616: [100829],\n 617: [120542],\n 618: [120553, 120584],\n 619: [120563],\n 620: [90450],\n 621: [100860],\n 622: [100833],\n 623: [110956],\n 624: [90449],\n 625: [90428, 90441, 90442],\n 628: [110969, 111013, 111044],\n 629: [120574, 120595],\n 630: [120576],\n 631: [111022],\n 632: [111014],\n 633: [120589, 160003],\n 634: [111011, 150001],\n 636: [111025],\n 637: [150008],\n 638: [111034],\n 639: [120591],\n 640: [130007],\n 641: [130009],\n 643: [90489],\n 647: [150060],\n 648: [130021],\n 649: [150057],\n 650: [160028],\n 651: [160042],\n 652: [140001, 140039],\n 653: [140096],\n 654: [160047, 160083],\n 655: [130049],\n 656: [140088, 140157],\n 657: [150093, 150102],\n 658: [130017],\n 659: [140098],\n 660: [160058],\n 661: [130050],\n 662: [160082],\n 665: [140137],\n 666: [150118],\n 667: [150122],\n 668: [150132],\n 669: [130063, 130079],\n 670: [160081],\n 673: [160112],\n 674: [150161, 150165],\n 675: [150151],\n 677: [150189, 150223, 150237, 150278],\n 678: [140195],\n 680: [160123],\n 681: [140213, 140227],\n 682: [150222, 150259],\n 683: [150227],\n 684: [160128],\n 685: [160125, 160130],\n 686: [140231],\n 688: [130119, 130137],\n 689: [150226, 150267, 150268],\n 690: [140104, 140154, 140171],\n 691: [150225, 150254],\n 692: [140245],\n 693: [150248, 150321, 150340],\n 694: [150238, 150265],\n 695: [150261],\n 696: [130124],\n 697: [130127],\n 699: [150298, 150352],\n 700: [160158],\n 702: [160175],\n 703: [160185],\n 704: [160187],\n 705: [140278],\n 706: [150307],\n 707: [150331, 150396, 150459],\n 708: [140300],\n 710: [130151],\n 711: [160204],\n 712: [160218],\n 713: [160224],\n 714: [160207, 160228, 160268],\n 716: [150369],\n 717: [150378],\n 718: [150379],\n 719: [140335],\n 722: [150407, 150456],\n 724: [160259],\n 727: [160274],\n 728: [140437],\n 729: [140390],\n 730: [150416, 150474, 150485],\n 731: [150466, 150470, 150491],\n 733: [150499],\n 734: [160301],\n 735: [130211],\n 736: [130223, 130229, 130236, 130255, 130261],\n 737: [140406],\n 739: [150581],\n 742: [140469],\n 744: [150588],\n 745: [160308],\n 747: [150548],\n 748: [160370],\n 750: [160374, 160387],\n 751: [160397],\n 754: [150578],\n 755: [140510],\n 756: [150592],\n 758: [140520, 140564, 140581],\n 759: [140532, 140576, 140585, 140613],\n 761: [140548],\n 762: [150632, 150646],\n 763: [130289, 130310],\n 766: [150663],\n 767: [140603],\n 768: [130320],\n 769: [150700],\n 770: [160442],\n 772: [150715],\n 773: [150705],\n 774: [140626],\n 775: [160431],\n 776: [150706],\n 777: [160444],\n 778: [130326],\n 779: [150716],\n 780: [130334],\n 781: [150769],\n 782: [140688],\n 783: [140692],\n 785: [140703],\n 786: [140709],\n 788: [130364],\n 789: [160488, 160515],\n 790: [130354],\n 791: [140712],\n 792: [150815, 150869, 150932],\n 793: [160511],\n 795: [150827, 150863],\n 797: [160506],\n 798: [150833],\n 799: [150845, 150906, 150917],\n 800: [130374, 130382],\n 801: [140775],\n 802: [140752],\n 804: [160544],\n 805: [130388],\n 806: [140756],\n 807: [150919],\n 808: [150862],\n 809: [160552],\n 810: [160509, 160564],\n 811: [160568],\n 812: [160562],\n 813: [140797, 140820],\n 815: [140800],\n 816: [150947, 150951],\n 817: [140803],\n 818: [160587],\n 819: [130416],\n 820: [150942],\n 821: [150944],\n 822: [150940],\n 823: [160579],\n 824: [160589],\n 253: [60088, 60128],\n 738: [130200],\n 601: [100748, 100766, 100772],\n 383: [70638, 70687, 70742]}"
     },
     "execution_count": 68,
     "metadata": {},
     "output_type": "execute_result"
    }
   ],
   "source": [
    "clusters = np.load(join(folder,file), allow_pickle=True).item()\n",
    "clusters"
   ],
   "metadata": {
    "collapsed": false,
    "pycharm": {
     "name": "#%%\n"
    }
   }
  },
  {
   "cell_type": "code",
   "execution_count": 69,
   "outputs": [
    {
     "data": {
      "text/plain": "      label  cluster\n0     30051       11\n1     40042       13\n2     10053       14\n3     10052       15\n4     20051       16\n..      ...      ...\n853  100766      601\n854  100772      601\n855   70638      383\n856   70687      383\n857   70742      383\n\n[858 rows x 2 columns]",
      "text/html": "<div>\n<style scoped>\n    .dataframe tbody tr th:only-of-type {\n        vertical-align: middle;\n    }\n\n    .dataframe tbody tr th {\n        vertical-align: top;\n    }\n\n    .dataframe thead th {\n        text-align: right;\n    }\n</style>\n<table border=\"1\" class=\"dataframe\">\n  <thead>\n    <tr style=\"text-align: right;\">\n      <th></th>\n      <th>label</th>\n      <th>cluster</th>\n    </tr>\n  </thead>\n  <tbody>\n    <tr>\n      <th>0</th>\n      <td>30051</td>\n      <td>11</td>\n    </tr>\n    <tr>\n      <th>1</th>\n      <td>40042</td>\n      <td>13</td>\n    </tr>\n    <tr>\n      <th>2</th>\n      <td>10053</td>\n      <td>14</td>\n    </tr>\n    <tr>\n      <th>3</th>\n      <td>10052</td>\n      <td>15</td>\n    </tr>\n    <tr>\n      <th>4</th>\n      <td>20051</td>\n      <td>16</td>\n    </tr>\n    <tr>\n      <th>...</th>\n      <td>...</td>\n      <td>...</td>\n    </tr>\n    <tr>\n      <th>853</th>\n      <td>100766</td>\n      <td>601</td>\n    </tr>\n    <tr>\n      <th>854</th>\n      <td>100772</td>\n      <td>601</td>\n    </tr>\n    <tr>\n      <th>855</th>\n      <td>70638</td>\n      <td>383</td>\n    </tr>\n    <tr>\n      <th>856</th>\n      <td>70687</td>\n      <td>383</td>\n    </tr>\n    <tr>\n      <th>857</th>\n      <td>70742</td>\n      <td>383</td>\n    </tr>\n  </tbody>\n</table>\n<p>858 rows × 2 columns</p>\n</div>"
     },
     "execution_count": 69,
     "metadata": {},
     "output_type": "execute_result"
    }
   ],
   "source": [
    "dfNucLabels = pd.DataFrame()\n",
    "for index in clusters:\n",
    "    dfHelp = pd.DataFrame({\"label\": clusters[index], \"cluster\": np.full(len(clusters[index]),index)})\n",
    "    dfNucLabels = pd.concat([dfNucLabels, dfHelp], ignore_index= True)\n",
    "dfNucLabels"
   ],
   "metadata": {
    "collapsed": false,
    "pycharm": {
     "name": "#%%\n"
    }
   }
  },
  {
   "cell_type": "code",
   "execution_count": 70,
   "outputs": [
    {
     "data": {
      "text/plain": "        label   centroid-0   centroid-1  cluster\n0       10001     2.812500   116.000000      0.0\n1       10002     3.347826   173.043478      0.0\n2       10003     3.782609   192.739130      0.0\n3       10004     4.481481   197.740741      0.0\n4       10005     1.400000   221.600000      0.0\n...       ...          ...          ...      ...\n12427  160625  1487.625000  1143.875000      0.0\n12428  160626  1487.950000  1169.600000      0.0\n12429  160627  1488.150000  1060.450000      0.0\n12430  160628  1488.227273  1103.909091      0.0\n12431  160629  1488.000000  1122.400000      0.0\n\n[12432 rows x 4 columns]",
      "text/html": "<div>\n<style scoped>\n    .dataframe tbody tr th:only-of-type {\n        vertical-align: middle;\n    }\n\n    .dataframe tbody tr th {\n        vertical-align: top;\n    }\n\n    .dataframe thead th {\n        text-align: right;\n    }\n</style>\n<table border=\"1\" class=\"dataframe\">\n  <thead>\n    <tr style=\"text-align: right;\">\n      <th></th>\n      <th>label</th>\n      <th>centroid-0</th>\n      <th>centroid-1</th>\n      <th>cluster</th>\n    </tr>\n  </thead>\n  <tbody>\n    <tr>\n      <th>0</th>\n      <td>10001</td>\n      <td>2.812500</td>\n      <td>116.000000</td>\n      <td>0.0</td>\n    </tr>\n    <tr>\n      <th>1</th>\n      <td>10002</td>\n      <td>3.347826</td>\n      <td>173.043478</td>\n      <td>0.0</td>\n    </tr>\n    <tr>\n      <th>2</th>\n      <td>10003</td>\n      <td>3.782609</td>\n      <td>192.739130</td>\n      <td>0.0</td>\n    </tr>\n    <tr>\n      <th>3</th>\n      <td>10004</td>\n      <td>4.481481</td>\n      <td>197.740741</td>\n      <td>0.0</td>\n    </tr>\n    <tr>\n      <th>4</th>\n      <td>10005</td>\n      <td>1.400000</td>\n      <td>221.600000</td>\n      <td>0.0</td>\n    </tr>\n    <tr>\n      <th>...</th>\n      <td>...</td>\n      <td>...</td>\n      <td>...</td>\n      <td>...</td>\n    </tr>\n    <tr>\n      <th>12427</th>\n      <td>160625</td>\n      <td>1487.625000</td>\n      <td>1143.875000</td>\n      <td>0.0</td>\n    </tr>\n    <tr>\n      <th>12428</th>\n      <td>160626</td>\n      <td>1487.950000</td>\n      <td>1169.600000</td>\n      <td>0.0</td>\n    </tr>\n    <tr>\n      <th>12429</th>\n      <td>160627</td>\n      <td>1488.150000</td>\n      <td>1060.450000</td>\n      <td>0.0</td>\n    </tr>\n    <tr>\n      <th>12430</th>\n      <td>160628</td>\n      <td>1488.227273</td>\n      <td>1103.909091</td>\n      <td>0.0</td>\n    </tr>\n    <tr>\n      <th>12431</th>\n      <td>160629</td>\n      <td>1488.000000</td>\n      <td>1122.400000</td>\n      <td>0.0</td>\n    </tr>\n  </tbody>\n</table>\n<p>12432 rows × 4 columns</p>\n</div>"
     },
     "execution_count": 70,
     "metadata": {},
     "output_type": "execute_result"
    }
   ],
   "source": [
    "dfMerged = df.merge(dfNucLabels, on=\"label\", how=\"left\")\n",
    "dfMerged['cluster'] = dfMerged['cluster'].fillna(0)\n",
    "dfMerged"
   ],
   "metadata": {
    "collapsed": false,
    "pycharm": {
     "name": "#%%\n"
    }
   }
  },
  {
   "cell_type": "code",
   "execution_count": 71,
   "outputs": [
    {
     "data": {
      "text/plain": "     index   label   centroid-0   centroid-1  cluster\n0        0   10052    26.653846   311.307692     15.0\n1        1   10053    27.846154   181.461538     14.0\n2        2   10092    48.320000   240.000000     32.0\n3        3   10100    49.458333   321.750000     41.0\n4        4   10109    55.500000   175.500000     35.0\n..     ...     ...          ...          ...      ...\n853    853  160564  1453.444444  1233.740741    810.0\n854    854  160568  1457.029412  1196.676471    811.0\n855    855  160579  1462.962963  1160.111111    823.0\n856    856  160587  1467.000000  1061.080000    818.0\n857    857  160589  1467.000000  1178.000000    824.0\n\n[858 rows x 5 columns]",
      "text/html": "<div>\n<style scoped>\n    .dataframe tbody tr th:only-of-type {\n        vertical-align: middle;\n    }\n\n    .dataframe tbody tr th {\n        vertical-align: top;\n    }\n\n    .dataframe thead th {\n        text-align: right;\n    }\n</style>\n<table border=\"1\" class=\"dataframe\">\n  <thead>\n    <tr style=\"text-align: right;\">\n      <th></th>\n      <th>index</th>\n      <th>label</th>\n      <th>centroid-0</th>\n      <th>centroid-1</th>\n      <th>cluster</th>\n    </tr>\n  </thead>\n  <tbody>\n    <tr>\n      <th>0</th>\n      <td>0</td>\n      <td>10052</td>\n      <td>26.653846</td>\n      <td>311.307692</td>\n      <td>15.0</td>\n    </tr>\n    <tr>\n      <th>1</th>\n      <td>1</td>\n      <td>10053</td>\n      <td>27.846154</td>\n      <td>181.461538</td>\n      <td>14.0</td>\n    </tr>\n    <tr>\n      <th>2</th>\n      <td>2</td>\n      <td>10092</td>\n      <td>48.320000</td>\n      <td>240.000000</td>\n      <td>32.0</td>\n    </tr>\n    <tr>\n      <th>3</th>\n      <td>3</td>\n      <td>10100</td>\n      <td>49.458333</td>\n      <td>321.750000</td>\n      <td>41.0</td>\n    </tr>\n    <tr>\n      <th>4</th>\n      <td>4</td>\n      <td>10109</td>\n      <td>55.500000</td>\n      <td>175.500000</td>\n      <td>35.0</td>\n    </tr>\n    <tr>\n      <th>...</th>\n      <td>...</td>\n      <td>...</td>\n      <td>...</td>\n      <td>...</td>\n      <td>...</td>\n    </tr>\n    <tr>\n      <th>853</th>\n      <td>853</td>\n      <td>160564</td>\n      <td>1453.444444</td>\n      <td>1233.740741</td>\n      <td>810.0</td>\n    </tr>\n    <tr>\n      <th>854</th>\n      <td>854</td>\n      <td>160568</td>\n      <td>1457.029412</td>\n      <td>1196.676471</td>\n      <td>811.0</td>\n    </tr>\n    <tr>\n      <th>855</th>\n      <td>855</td>\n      <td>160579</td>\n      <td>1462.962963</td>\n      <td>1160.111111</td>\n      <td>823.0</td>\n    </tr>\n    <tr>\n      <th>856</th>\n      <td>856</td>\n      <td>160587</td>\n      <td>1467.000000</td>\n      <td>1061.080000</td>\n      <td>818.0</td>\n    </tr>\n    <tr>\n      <th>857</th>\n      <td>857</td>\n      <td>160589</td>\n      <td>1467.000000</td>\n      <td>1178.000000</td>\n      <td>824.0</td>\n    </tr>\n  </tbody>\n</table>\n<p>858 rows × 5 columns</p>\n</div>"
     },
     "execution_count": 71,
     "metadata": {},
     "output_type": "execute_result"
    }
   ],
   "source": [
    "dfFiltered = dfMerged.loc[dfMerged[\"cluster\"] > 0]\n",
    "dfFiltered = dfFiltered.reset_index(drop=True)\n",
    "dfFiltered = dfFiltered.reset_index(drop=False)\n",
    "dfFiltered"
   ],
   "metadata": {
    "collapsed": false,
    "pycharm": {
     "name": "#%%\n"
    }
   }
  },
  {
   "cell_type": "code",
   "execution_count": 88,
   "outputs": [
    {
     "data": {
      "text/plain": "      label   centroid-0\n0     10052    26.653846\n1     10053    27.846154\n2     10092    48.320000\n3     10100    49.458333\n4     10109    55.500000\n..      ...          ...\n853  160564  1453.444444\n854  160568  1457.029412\n855  160579  1462.962963\n856  160587  1467.000000\n857  160589  1467.000000\n\n[858 rows x 2 columns]",
      "text/html": "<div>\n<style scoped>\n    .dataframe tbody tr th:only-of-type {\n        vertical-align: middle;\n    }\n\n    .dataframe tbody tr th {\n        vertical-align: top;\n    }\n\n    .dataframe thead th {\n        text-align: right;\n    }\n</style>\n<table border=\"1\" class=\"dataframe\">\n  <thead>\n    <tr style=\"text-align: right;\">\n      <th></th>\n      <th>label</th>\n      <th>centroid-0</th>\n    </tr>\n  </thead>\n  <tbody>\n    <tr>\n      <th>0</th>\n      <td>10052</td>\n      <td>26.653846</td>\n    </tr>\n    <tr>\n      <th>1</th>\n      <td>10053</td>\n      <td>27.846154</td>\n    </tr>\n    <tr>\n      <th>2</th>\n      <td>10092</td>\n      <td>48.320000</td>\n    </tr>\n    <tr>\n      <th>3</th>\n      <td>10100</td>\n      <td>49.458333</td>\n    </tr>\n    <tr>\n      <th>4</th>\n      <td>10109</td>\n      <td>55.500000</td>\n    </tr>\n    <tr>\n      <th>...</th>\n      <td>...</td>\n      <td>...</td>\n    </tr>\n    <tr>\n      <th>853</th>\n      <td>160564</td>\n      <td>1453.444444</td>\n    </tr>\n    <tr>\n      <th>854</th>\n      <td>160568</td>\n      <td>1457.029412</td>\n    </tr>\n    <tr>\n      <th>855</th>\n      <td>160579</td>\n      <td>1462.962963</td>\n    </tr>\n    <tr>\n      <th>856</th>\n      <td>160587</td>\n      <td>1467.000000</td>\n    </tr>\n    <tr>\n      <th>857</th>\n      <td>160589</td>\n      <td>1467.000000</td>\n    </tr>\n  </tbody>\n</table>\n<p>858 rows × 2 columns</p>\n</div>"
     },
     "execution_count": 88,
     "metadata": {},
     "output_type": "execute_result"
    }
   ],
   "source": [
    "dfFiltered.iloc[:,1:3]"
   ],
   "metadata": {
    "collapsed": false,
    "pycharm": {
     "name": "#%%\n"
    }
   }
  },
  {
   "cell_type": "code",
   "execution_count": 89,
   "outputs": [],
   "source": [
    "nbrsNuc, distancesNuc, indicesNuc = kNN(dfFiltered.iloc[:,2:4], 17)"
   ],
   "metadata": {
    "collapsed": false,
    "pycharm": {
     "name": "#%%\n"
    }
   }
  },
  {
   "cell_type": "code",
   "execution_count": 90,
   "outputs": [
    {
     "data": {
      "text/plain": "array([[  0,   3,   2, ...,  11,  12,   8],\n       [  1,   4,   5, ...,  14,  10,  11],\n       [  2,   6,   1, ...,  13,  11,  14],\n       ...,\n       [855, 857, 851, ..., 842, 841, 852],\n       [856, 804, 850, ..., 857, 846, 793],\n       [857, 855, 854, ..., 852, 841, 856]])"
     },
     "execution_count": 90,
     "metadata": {},
     "output_type": "execute_result"
    }
   ],
   "source": [
    "indicesNuc"
   ],
   "metadata": {
    "collapsed": false,
    "pycharm": {
     "name": "#%%\n"
    }
   }
  },
  {
   "cell_type": "code",
   "execution_count": 35,
   "outputs": [
    {
     "name": "stdout",
     "output_type": "stream",
     "text": [
      "Yes\n"
     ]
    }
   ],
   "source": [
    "if dfFiltered.loc[dfFiltered[\"index\"] == indicesNuc[0,0]][\"cluster\"].values == dfFiltered.loc[dfFiltered[\"index\"] == indicesNuc[0,0]][\"cluster\"].values:\n",
    "    print(\"Yes\")\n",
    "else:\n",
    "    print(\"False\")"
   ],
   "metadata": {
    "collapsed": false,
    "pycharm": {
     "name": "#%%\n"
    }
   }
  },
  {
   "cell_type": "code",
   "execution_count": 92,
   "outputs": [],
   "source": [
    "distances = []\n",
    "for i in range(len(indicesNuc)):\n",
    "    same = True\n",
    "    j = 1\n",
    "    while(same == True):\n",
    "        if dfFiltered.loc[dfFiltered[\"index\"] == indicesNuc[i,0]][\"cluster\"].values != dfFiltered.loc[dfFiltered[\"index\"] == indicesNuc[i,j]][\"cluster\"].values:\n",
    "            distances.append(distancesNuc[i,j])\n",
    "            same = False\n",
    "        else:\n",
    "            j += 1"
   ],
   "metadata": {
    "collapsed": false,
    "pycharm": {
     "name": "#%%\n"
    }
   }
  },
  {
   "cell_type": "code",
   "execution_count": 91,
   "outputs": [
    {
     "data": {
      "text/plain": "array([[  0.        ,  25.08159535,  74.52656711, ..., 161.62021147,\n        168.41397154, 178.63528562],\n       [  0.        ,  28.2891348 ,  50.28547752, ..., 211.04704956,\n        216.44910166, 217.20055355],\n       [  0.        ,  41.16022641,  62.0155614 , ..., 164.17560115,\n        165.0061964 , 170.04118028],\n       ...,\n       [  0.        ,  18.33875715,  31.78424862, ..., 103.88782102,\n        111.8232518 , 119.91167303],\n       [  0.        ,  33.91955778,  56.05583288, ..., 116.92      ,\n        118.30891712, 119.93615811],\n       [  0.        ,  18.33875715,  21.17128204, ..., 102.57813777,\n        114.5010917 , 116.92      ]])"
     },
     "execution_count": 91,
     "metadata": {},
     "output_type": "execute_result"
    }
   ],
   "source": [
    "distancesNuc"
   ],
   "metadata": {
    "collapsed": false,
    "pycharm": {
     "name": "#%%\n"
    }
   }
  },
  {
   "cell_type": "code",
   "execution_count": 93,
   "outputs": [
    {
     "data": {
      "text/plain": "27.36296433161492"
     },
     "execution_count": 93,
     "metadata": {},
     "output_type": "execute_result"
    }
   ],
   "source": [
    "np.median(distances)"
   ],
   "metadata": {
    "collapsed": false,
    "pycharm": {
     "name": "#%%\n"
    }
   }
  },
  {
   "cell_type": "code",
   "execution_count": 78,
   "outputs": [
    {
     "data": {
      "text/plain": "     index   label   centroid-0   centroid-1  cluster\n0        0   10052    26.653846   311.307692     15.0\n1        1   10053    27.846154   181.461538     14.0\n2        2   10092    48.320000   240.000000     32.0\n3        3   10100    49.458333   321.750000     41.0\n4        4   10109    55.500000   175.500000     35.0\n..     ...     ...          ...          ...      ...\n853    853  160564  1453.444444  1233.740741    810.0\n854    854  160568  1457.029412  1196.676471    811.0\n855    855  160579  1462.962963  1160.111111    823.0\n856    856  160587  1467.000000  1061.080000    818.0\n857    857  160589  1467.000000  1178.000000    824.0\n\n[858 rows x 5 columns]",
      "text/html": "<div>\n<style scoped>\n    .dataframe tbody tr th:only-of-type {\n        vertical-align: middle;\n    }\n\n    .dataframe tbody tr th {\n        vertical-align: top;\n    }\n\n    .dataframe thead th {\n        text-align: right;\n    }\n</style>\n<table border=\"1\" class=\"dataframe\">\n  <thead>\n    <tr style=\"text-align: right;\">\n      <th></th>\n      <th>index</th>\n      <th>label</th>\n      <th>centroid-0</th>\n      <th>centroid-1</th>\n      <th>cluster</th>\n    </tr>\n  </thead>\n  <tbody>\n    <tr>\n      <th>0</th>\n      <td>0</td>\n      <td>10052</td>\n      <td>26.653846</td>\n      <td>311.307692</td>\n      <td>15.0</td>\n    </tr>\n    <tr>\n      <th>1</th>\n      <td>1</td>\n      <td>10053</td>\n      <td>27.846154</td>\n      <td>181.461538</td>\n      <td>14.0</td>\n    </tr>\n    <tr>\n      <th>2</th>\n      <td>2</td>\n      <td>10092</td>\n      <td>48.320000</td>\n      <td>240.000000</td>\n      <td>32.0</td>\n    </tr>\n    <tr>\n      <th>3</th>\n      <td>3</td>\n      <td>10100</td>\n      <td>49.458333</td>\n      <td>321.750000</td>\n      <td>41.0</td>\n    </tr>\n    <tr>\n      <th>4</th>\n      <td>4</td>\n      <td>10109</td>\n      <td>55.500000</td>\n      <td>175.500000</td>\n      <td>35.0</td>\n    </tr>\n    <tr>\n      <th>...</th>\n      <td>...</td>\n      <td>...</td>\n      <td>...</td>\n      <td>...</td>\n      <td>...</td>\n    </tr>\n    <tr>\n      <th>853</th>\n      <td>853</td>\n      <td>160564</td>\n      <td>1453.444444</td>\n      <td>1233.740741</td>\n      <td>810.0</td>\n    </tr>\n    <tr>\n      <th>854</th>\n      <td>854</td>\n      <td>160568</td>\n      <td>1457.029412</td>\n      <td>1196.676471</td>\n      <td>811.0</td>\n    </tr>\n    <tr>\n      <th>855</th>\n      <td>855</td>\n      <td>160579</td>\n      <td>1462.962963</td>\n      <td>1160.111111</td>\n      <td>823.0</td>\n    </tr>\n    <tr>\n      <th>856</th>\n      <td>856</td>\n      <td>160587</td>\n      <td>1467.000000</td>\n      <td>1061.080000</td>\n      <td>818.0</td>\n    </tr>\n    <tr>\n      <th>857</th>\n      <td>857</td>\n      <td>160589</td>\n      <td>1467.000000</td>\n      <td>1178.000000</td>\n      <td>824.0</td>\n    </tr>\n  </tbody>\n</table>\n<p>858 rows × 5 columns</p>\n</div>"
     },
     "execution_count": 78,
     "metadata": {},
     "output_type": "execute_result"
    }
   ],
   "source": [
    "dfFiltered"
   ],
   "metadata": {
    "collapsed": false,
    "pycharm": {
     "name": "#%%\n"
    }
   }
  },
  {
   "cell_type": "code",
   "execution_count": 79,
   "outputs": [
    {
     "data": {
      "text/plain": "array([     0,  10001,  10002, ..., 160627, 160628, 160629], dtype=uint32)"
     },
     "execution_count": 79,
     "metadata": {},
     "output_type": "execute_result"
    }
   ],
   "source": [],
   "metadata": {
    "collapsed": false,
    "pycharm": {
     "name": "#%%\n"
    }
   }
  },
  {
   "cell_type": "code",
   "execution_count": null,
   "outputs": [],
   "source": [],
   "metadata": {
    "collapsed": false,
    "pycharm": {
     "name": "#%%\n"
    }
   }
  }
 ],
 "metadata": {
  "kernelspec": {
   "name": "luisaproject",
   "language": "python",
   "display_name": "LuisaProject"
  },
  "language_info": {
   "codemirror_mode": {
    "name": "ipython",
    "version": 2
   },
   "file_extension": ".py",
   "mimetype": "text/x-python",
   "name": "python",
   "nbconvert_exporter": "python",
   "pygments_lexer": "ipython2",
   "version": "2.7.6"
  }
 },
 "nbformat": 4,
 "nbformat_minor": 0
}
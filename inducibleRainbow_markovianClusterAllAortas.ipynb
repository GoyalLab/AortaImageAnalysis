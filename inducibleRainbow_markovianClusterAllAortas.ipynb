{
 "cells": [
  {
   "cell_type": "code",
   "execution_count": 1,
   "outputs": [],
   "source": [
    "import numpy as np\n",
    "from os.path import join, isfile\n",
    "from skimage.measure import regionprops_table\n",
    "import pandas as pd\n",
    "from os.path import join\n",
    "import inducedRainbowAnalysis\n",
    "import os\n",
    "from os import listdir\n",
    "import random"
   ],
   "metadata": {
    "collapsed": false,
    "pycharm": {
     "name": "#%%\n"
    }
   }
  },
  {
   "cell_type": "code",
   "execution_count": 53,
   "outputs": [],
   "source": [
    "clusterPath = '/Volumes/Aortas/Aorta/results/inducedRainbow/allClusterSizesRed.csv'\n",
    "nucPath = \"/Volumes/Aortas/Aorta/segmentations/inducedRainbow/final/nuclei\""
   ],
   "metadata": {
    "collapsed": false,
    "pycharm": {
     "name": "#%%\n"
    }
   }
  },
  {
   "cell_type": "code",
   "execution_count": 3,
   "outputs": [],
   "source": [
    "dfResult = pd.read_csv(clusterPath)"
   ],
   "metadata": {
    "collapsed": false,
    "pycharm": {
     "name": "#%%\n"
    }
   }
  },
  {
   "cell_type": "code",
   "execution_count": 60,
   "outputs": [
    {
     "name": "stderr",
     "output_type": "stream",
     "text": [
      "/var/folders/6r/4p5g0w_j4jv11sr24nv1b0140000gn/T/ipykernel_1737/2847880887.py:29: RuntimeWarning: divide by zero encountered in double_scalars\n",
      "  cvCloneSizeWOSingletons = np.mean(clusterSizeWOSingletons)/np.std(clusterSizeWOSingletons)\n",
      "/var/folders/6r/4p5g0w_j4jv11sr24nv1b0140000gn/T/ipykernel_1737/2847880887.py:29: RuntimeWarning: divide by zero encountered in double_scalars\n",
      "  cvCloneSizeWOSingletons = np.mean(clusterSizeWOSingletons)/np.std(clusterSizeWOSingletons)\n",
      "/var/folders/6r/4p5g0w_j4jv11sr24nv1b0140000gn/T/ipykernel_1737/2847880887.py:29: RuntimeWarning: divide by zero encountered in double_scalars\n",
      "  cvCloneSizeWOSingletons = np.mean(clusterSizeWOSingletons)/np.std(clusterSizeWOSingletons)\n"
     ]
    }
   ],
   "source": [
    "dfStats = pd.DataFrame(columns = ['age', 'aorta', 'positiveCells', 'dividingCells', 'totalCells', 'dividingClusters', ])\n",
    "for index, row in dfResult.iterrows():\n",
    "    age = row[\"age\"]\n",
    "    aorta = row[\"aorta\"]\n",
    "    nucleiPath = join(nucPath, age.split(\"P\")[1], aorta)\n",
    "    positiveCells, dividedCells, positiveClusters, dividedClusters, nucNumber = 0,0,0,0,0\n",
    "    numberOfClusters = row[2:17].sum()\n",
    "    numberDivided = row[3:17].sum()\n",
    "    clusterSize = []\n",
    "    clusterSizeWOSingletons = []\n",
    "    clusterWOSingletons = []\n",
    "    files = [f for f in listdir(nucleiPath) if isfile(join(nucleiPath, f)) if \".DS_Store\" not in f if \"_seg.npy\" in f if \"._\" not in f]\n",
    "    for file in files:\n",
    "        nucNumber += len(np.unique(np.load(join(nucleiPath, file), allow_pickle=True).item()[\"masks\"])) -1\n",
    "    for i in range(2, 17):\n",
    "        cluster = np.full(row[i], i-1)\n",
    "        positiveCells += row[i] * (i-1)\n",
    "        positiveClusters += row[i]\n",
    "        dividedCells += row[i] * (i-2)\n",
    "        if i >2:\n",
    "            clusterWOSingletons = np.full(row[i], i-1)\n",
    "            dividedClusters += row[i]\n",
    "        clusterSize = np.concatenate([clusterSize, cluster])\n",
    "        clusterSizeWOSingletons = np.concatenate([clusterSizeWOSingletons, clusterWOSingletons])\n",
    "\n",
    "    avgCloneSizeWithSingletons = np.mean(clusterSize)\n",
    "    avgCloneSizeWOSingletons = np.mean(clusterSizeWOSingletons)\n",
    "    cvCloneSizeWithSingletons = np.mean(clusterSize)/np.std(clusterSize)\n",
    "    cvCloneSizeWOSingletons = np.mean(clusterSizeWOSingletons)/np.std(clusterSizeWOSingletons)\n",
    "    df_help = pd.DataFrame([[age, aorta, positiveCells, dividedClusters, positiveClusters, dividedCells, nucNumber, avgCloneSizeWithSingletons, avgCloneSizeWOSingletons, cvCloneSizeWithSingletons, cvCloneSizeWOSingletons ]],columns = ['age', 'aorta', 'positiveCells', 'dividingClusters', 'marked', 'dividingCells', 'totalCells', 'avgCloneSize', 'avgCloneSizeWOSingleton', 'cvCloneSize', 'cvCloneSizeWOSingleton'] )\n",
    "    dfStats = pd.concat([dfStats, df_help], axis=0)"
   ],
   "metadata": {
    "collapsed": false,
    "pycharm": {
     "name": "#%%\n"
    }
   }
  },
  {
   "cell_type": "code",
   "execution_count": 7,
   "outputs": [],
   "source": [
    "dfStats.to_csv(\"/Users/jones/Downloads/Stats.csv\")"
   ],
   "metadata": {
    "collapsed": false,
    "pycharm": {
     "name": "#%%\n"
    }
   }
  },
  {
   "cell_type": "code",
   "execution_count": 8,
   "outputs": [],
   "source": [
    "dfStats = pd.read_csv(\"/Users/jones/Downloads/Stats.csv\", index_col=0)"
   ],
   "metadata": {
    "collapsed": false,
    "pycharm": {
     "name": "#%%\n"
    }
   }
  },
  {
   "cell_type": "code",
   "execution_count": 9,
   "outputs": [
    {
     "data": {
      "text/plain": "      age    aorta  positiveCells  dividingCells  totalCells  \\\n0    P0-5  aorta01            710            186        9784   \n1    P0-5  aorta02            578            157        7741   \n2    P0-5  aorta03            620            230        6502   \n3    P0-5  aorta04            788            303        9045   \n4    P0-5  aorta05            512            175        6992   \n..    ...      ...            ...            ...         ...   \n56  P5-60  aorta04           1136            601       16476   \n57  P5-60  aorta05            844            419       13292   \n58  P5-60  aorta06           1015            523       14401   \n59  P5-60  aorta07            399            152       12499   \n60  P5-60  aorta08            731            315       13104   \n\n    dividingClusters  marked  avgCloneSize  avgCloneSizeWOSingleton  \\\n0                115   524.0      1.354962                 2.617391   \n1                 94   421.0      1.372922                 2.670213   \n2                120   390.0      1.589744                 2.916667   \n3                170   485.0      1.624742                 2.782353   \n4                109   337.0      1.519288                 2.605505   \n..               ...     ...           ...                      ...   \n56               298   535.0      2.123364                 3.016779   \n57               233   425.0      1.985882                 2.798283   \n58               285   492.0      2.063008                 2.835088   \n59               100   247.0      1.615385                 2.520000   \n60               190   416.0      1.757212                 2.657895   \n\n    cvCloneSize  cvCloneSizeWOSingleton  \n0      1.667512                2.662154  \n1      1.598785                2.505369  \n2      1.409164                2.310848  \n3      1.386804                2.044174  \n4      1.583751                2.482836  \n..          ...                     ...  \n56     1.344766                1.844783  \n57     1.534383                2.216047  \n58     1.463949                1.999020  \n59     1.538055                2.169192  \n60     1.485015                2.119586  \n\n[61 rows x 11 columns]",
      "text/html": "<div>\n<style scoped>\n    .dataframe tbody tr th:only-of-type {\n        vertical-align: middle;\n    }\n\n    .dataframe tbody tr th {\n        vertical-align: top;\n    }\n\n    .dataframe thead th {\n        text-align: right;\n    }\n</style>\n<table border=\"1\" class=\"dataframe\">\n  <thead>\n    <tr style=\"text-align: right;\">\n      <th></th>\n      <th>age</th>\n      <th>aorta</th>\n      <th>positiveCells</th>\n      <th>dividingCells</th>\n      <th>totalCells</th>\n      <th>dividingClusters</th>\n      <th>marked</th>\n      <th>avgCloneSize</th>\n      <th>avgCloneSizeWOSingleton</th>\n      <th>cvCloneSize</th>\n      <th>cvCloneSizeWOSingleton</th>\n    </tr>\n  </thead>\n  <tbody>\n    <tr>\n      <th>0</th>\n      <td>P0-5</td>\n      <td>aorta01</td>\n      <td>710</td>\n      <td>186</td>\n      <td>9784</td>\n      <td>115</td>\n      <td>524.0</td>\n      <td>1.354962</td>\n      <td>2.617391</td>\n      <td>1.667512</td>\n      <td>2.662154</td>\n    </tr>\n    <tr>\n      <th>1</th>\n      <td>P0-5</td>\n      <td>aorta02</td>\n      <td>578</td>\n      <td>157</td>\n      <td>7741</td>\n      <td>94</td>\n      <td>421.0</td>\n      <td>1.372922</td>\n      <td>2.670213</td>\n      <td>1.598785</td>\n      <td>2.505369</td>\n    </tr>\n    <tr>\n      <th>2</th>\n      <td>P0-5</td>\n      <td>aorta03</td>\n      <td>620</td>\n      <td>230</td>\n      <td>6502</td>\n      <td>120</td>\n      <td>390.0</td>\n      <td>1.589744</td>\n      <td>2.916667</td>\n      <td>1.409164</td>\n      <td>2.310848</td>\n    </tr>\n    <tr>\n      <th>3</th>\n      <td>P0-5</td>\n      <td>aorta04</td>\n      <td>788</td>\n      <td>303</td>\n      <td>9045</td>\n      <td>170</td>\n      <td>485.0</td>\n      <td>1.624742</td>\n      <td>2.782353</td>\n      <td>1.386804</td>\n      <td>2.044174</td>\n    </tr>\n    <tr>\n      <th>4</th>\n      <td>P0-5</td>\n      <td>aorta05</td>\n      <td>512</td>\n      <td>175</td>\n      <td>6992</td>\n      <td>109</td>\n      <td>337.0</td>\n      <td>1.519288</td>\n      <td>2.605505</td>\n      <td>1.583751</td>\n      <td>2.482836</td>\n    </tr>\n    <tr>\n      <th>...</th>\n      <td>...</td>\n      <td>...</td>\n      <td>...</td>\n      <td>...</td>\n      <td>...</td>\n      <td>...</td>\n      <td>...</td>\n      <td>...</td>\n      <td>...</td>\n      <td>...</td>\n      <td>...</td>\n    </tr>\n    <tr>\n      <th>56</th>\n      <td>P5-60</td>\n      <td>aorta04</td>\n      <td>1136</td>\n      <td>601</td>\n      <td>16476</td>\n      <td>298</td>\n      <td>535.0</td>\n      <td>2.123364</td>\n      <td>3.016779</td>\n      <td>1.344766</td>\n      <td>1.844783</td>\n    </tr>\n    <tr>\n      <th>57</th>\n      <td>P5-60</td>\n      <td>aorta05</td>\n      <td>844</td>\n      <td>419</td>\n      <td>13292</td>\n      <td>233</td>\n      <td>425.0</td>\n      <td>1.985882</td>\n      <td>2.798283</td>\n      <td>1.534383</td>\n      <td>2.216047</td>\n    </tr>\n    <tr>\n      <th>58</th>\n      <td>P5-60</td>\n      <td>aorta06</td>\n      <td>1015</td>\n      <td>523</td>\n      <td>14401</td>\n      <td>285</td>\n      <td>492.0</td>\n      <td>2.063008</td>\n      <td>2.835088</td>\n      <td>1.463949</td>\n      <td>1.999020</td>\n    </tr>\n    <tr>\n      <th>59</th>\n      <td>P5-60</td>\n      <td>aorta07</td>\n      <td>399</td>\n      <td>152</td>\n      <td>12499</td>\n      <td>100</td>\n      <td>247.0</td>\n      <td>1.615385</td>\n      <td>2.520000</td>\n      <td>1.538055</td>\n      <td>2.169192</td>\n    </tr>\n    <tr>\n      <th>60</th>\n      <td>P5-60</td>\n      <td>aorta08</td>\n      <td>731</td>\n      <td>315</td>\n      <td>13104</td>\n      <td>190</td>\n      <td>416.0</td>\n      <td>1.757212</td>\n      <td>2.657895</td>\n      <td>1.485015</td>\n      <td>2.119586</td>\n    </tr>\n  </tbody>\n</table>\n<p>61 rows × 11 columns</p>\n</div>"
     },
     "execution_count": 9,
     "metadata": {},
     "output_type": "execute_result"
    }
   ],
   "source": [
    "dfStats.reset_index(drop = True)"
   ],
   "metadata": {
    "collapsed": false,
    "pycharm": {
     "name": "#%%\n"
    }
   }
  },
  {
   "cell_type": "code",
   "execution_count": 10,
   "outputs": [],
   "source": [
    "savePath = '/Volumes/Aortas/Aorta/results/inducedRainbow/markovianClusterNew'"
   ],
   "metadata": {
    "collapsed": false,
    "pycharm": {
     "name": "#%%\n"
    }
   }
  },
  {
   "cell_type": "code",
   "execution_count": 12,
   "outputs": [],
   "source": [
    "for i, row in dfStats.iterrows():\n",
    "    aorta = row['aorta']\n",
    "    age = row['age']\n",
    "    divCells = int(dfStats[(dfStats.age == age) & (dfStats.aorta == aorta)]['dividingCells'])\n",
    "    marked = int(dfStats[(dfStats.age == age) & (dfStats.aorta == aorta)]['marked'])\n",
    "    random.seed(42)\n",
    "    start = list(range(1, marked + 1))\n",
    "    resultsRandomCluster = []\n",
    "    for i in range(1000):\n",
    "        randomCluster = start.copy()\n",
    "        for i in range(divCells):\n",
    "            randomCluster.append(random.randrange(1, marked + 1))\n",
    "        clusterSizesRandomCluster = []\n",
    "        for i in range(1,marked +1):\n",
    "            clusterSizesRandomCluster.append(randomCluster.count(i))\n",
    "        resultsRandomCluster.append(clusterSizesRandomCluster)\n",
    "\n",
    "    random.seed(42)\n",
    "    resultsRandomDivision = []\n",
    "    for i in range(1000):\n",
    "        randomDivision = start.copy()\n",
    "        for j in range(divCells):\n",
    "            randomDivision.append(random.choice(randomDivision))\n",
    "        clusterSizesRandomDivision = []\n",
    "        for i in range(1,marked + 1):\n",
    "            clusterSizesRandomDivision.append(randomDivision.count(i))\n",
    "        resultsRandomDivision.append(clusterSizesRandomDivision)\n",
    "\n",
    "    os.chdir(savePath)\n",
    "    if not os.path.exists(join(savePath, age)):\n",
    "        os.mkdir(age)\n",
    "    os.chdir(join(savePath, age))\n",
    "    if not os.path.exists(join(savePath, age, aorta)):\n",
    "        os.mkdir(aorta)\n",
    "    os.chdir(join(savePath, age, aorta))\n",
    "\n",
    "    filenameCluster = \"markovianCluster_\" + age + \"_\" + aorta + \".txt\"\n",
    "    filenameDivision = \"markovianDivision_\" + age + \"_\" + aorta + \".txt\"\n",
    "\n",
    "    np.savetxt(join(savePath, age, aorta, filenameCluster), resultsRandomCluster)\n",
    "    np.savetxt(join(savePath, age, aorta, filenameDivision), resultsRandomDivision)"
   ],
   "metadata": {
    "collapsed": false,
    "pycharm": {
     "name": "#%%\n"
    }
   }
  },
  {
   "cell_type": "code",
   "execution_count": null,
   "outputs": [],
   "source": [],
   "metadata": {
    "collapsed": false,
    "pycharm": {
     "name": "#%%\n"
    }
   }
  },
  {
   "cell_type": "code",
   "execution_count": 19,
   "outputs": [
    {
     "data": {
      "text/plain": "    age    aorta  positiveCells  dividingCells  totalCells  dividingClusters  \\\n0  P0-5  aorta01            710            186        9784               115   \n\n   marked  avgCloneSize  avgCloneSizeWOSingleton  cvCloneSize  \\\n0   524.0      1.354962                 2.617391     1.667512   \n\n   cvCloneSizeWOSingleton  \n0                2.662154  ",
      "text/html": "<div>\n<style scoped>\n    .dataframe tbody tr th:only-of-type {\n        vertical-align: middle;\n    }\n\n    .dataframe tbody tr th {\n        vertical-align: top;\n    }\n\n    .dataframe thead th {\n        text-align: right;\n    }\n</style>\n<table border=\"1\" class=\"dataframe\">\n  <thead>\n    <tr style=\"text-align: right;\">\n      <th></th>\n      <th>age</th>\n      <th>aorta</th>\n      <th>positiveCells</th>\n      <th>dividingCells</th>\n      <th>totalCells</th>\n      <th>dividingClusters</th>\n      <th>marked</th>\n      <th>avgCloneSize</th>\n      <th>avgCloneSizeWOSingleton</th>\n      <th>cvCloneSize</th>\n      <th>cvCloneSizeWOSingleton</th>\n    </tr>\n  </thead>\n  <tbody>\n    <tr>\n      <th>0</th>\n      <td>P0-5</td>\n      <td>aorta01</td>\n      <td>710</td>\n      <td>186</td>\n      <td>9784</td>\n      <td>115</td>\n      <td>524.0</td>\n      <td>1.354962</td>\n      <td>2.617391</td>\n      <td>1.667512</td>\n      <td>2.662154</td>\n    </tr>\n  </tbody>\n</table>\n</div>"
     },
     "execution_count": 19,
     "metadata": {},
     "output_type": "execute_result"
    }
   ],
   "source": [
    "dfCopy = dfStats.loc[(dfStats.age == \"P0-5\") & (dfStats.aorta == \"aorta01\")]\n",
    "dfCopy"
   ],
   "metadata": {
    "collapsed": false,
    "pycharm": {
     "name": "#%%\n"
    }
   }
  },
  {
   "cell_type": "code",
   "execution_count": 47,
   "outputs": [],
   "source": [
    "maxCluster, maxDiv = 15, 21\n",
    "dfDiv = pd.DataFrame()\n",
    "dfCluster = pd.DataFrame()\n",
    "\n",
    "for index, row in dfStats.iterrows():\n",
    "    aorta = row['aorta']\n",
    "    age = row['age']\n",
    "    divCells = int(dfStats[(dfStats.age == age) & (dfStats.aorta == aorta)]['dividingCells'])\n",
    "    marked = int(dfStats[(dfStats.age == age) & (dfStats.aorta == aorta)]['marked'])\n",
    "    random.seed(42)\n",
    "    start = list(range(1, marked + 1))\n",
    "    resultsRandomCluster = []\n",
    "    for i in range(1000):\n",
    "        randomCluster = start.copy()\n",
    "        for j in range(divCells):\n",
    "            randomCluster.append(random.randrange(1, marked + 1))\n",
    "        clusterSizesRandomCluster = []\n",
    "        for m in range(1,marked +1):\n",
    "            clusterSizesRandomCluster.append(randomCluster.count(m))\n",
    "        resultsRandomCluster.append(clusterSizesRandomCluster)\n",
    "\n",
    "        resultdic = {\"age\": age, \"aorta\": aorta, \"simulation\": i+1}\n",
    "        unique, counts = np.unique(clusterSizesRandomCluster, return_counts=True)\n",
    "        for m in range(1,maxCluster+1):\n",
    "            if m in unique:\n",
    "                resultdic[m] = counts[np.where(unique==m)][0]\n",
    "            else:\n",
    "                resultdic[m] = 0\n",
    "        dfHelp = pd.DataFrame(resultdic, index = [0])\n",
    "        dfCluster = pd.concat([dfCluster, dfHelp])\n",
    "\n",
    "    random.seed(42)\n",
    "    resultsRandomDivision = []\n",
    "    for i in range(1000):\n",
    "        randomDivision = start.copy()\n",
    "        for j in range(divCells):\n",
    "            randomDivision.append(random.choice(randomDivision))\n",
    "        clusterSizesRandomDivision = []\n",
    "        for m in range(1,marked + 1):\n",
    "            clusterSizesRandomDivision.append(randomDivision.count(m))\n",
    "        resultsRandomDivision.append(clusterSizesRandomDivision)\n",
    "\n",
    "        resultdic = {\"age\": age, \"aorta\": aorta, \"simulation\": i+1}\n",
    "        unique, counts = np.unique(clusterSizesRandomDivision, return_counts=True)\n",
    "        for m in range(1,maxDiv+1):\n",
    "            if m in unique:\n",
    "                resultdic[m] = counts[np.where(unique==m)][0]\n",
    "            else:\n",
    "                resultdic[m] = 0\n",
    "        dfHelp = pd.DataFrame(resultdic, index = [0])\n",
    "        dfDiv = pd.concat([dfDiv, dfHelp])"
   ],
   "metadata": {
    "collapsed": false,
    "pycharm": {
     "name": "#%%\n"
    }
   }
  },
  {
   "cell_type": "code",
   "execution_count": 50,
   "outputs": [
    {
     "data": {
      "text/plain": "      age    aorta  simulation    1    2   3   4  5  6  7  8  9  10  11  12  \\\n0    P0-5  aorta01           1  375  116  29   4  0  0  0  0  0   0   0   0   \n0    P0-5  aorta01           2  370  126  25   2  1  0  0  0  0   0   0   0   \n0    P0-5  aorta01           3  363  137  23   1  0  0  0  0  0   0   0   0   \n0    P0-5  aorta01           4  359  145  19   1  0  0  0  0  0   0   0   0   \n0    P0-5  aorta01           5  362  142  16   4  0  0  0  0  0   0   0   0   \n..    ...      ...         ...  ...  ...  ..  .. .. .. .. .. ..  ..  ..  ..   \n0   P5-60  aorta08         996  194  150  55  14  2  1  0  0  0   0   0   0   \n0   P5-60  aorta08         997  196  144  58  17  1  0  0  0  0   0   0   0   \n0   P5-60  aorta08         998  193  156  45  19  3  0  0  0  0   0   0   0   \n0   P5-60  aorta08         999  204  138  53  16  2  3  0  0  0   0   0   0   \n0   P5-60  aorta08        1000  185  162  56  11  2  0  0  0  0   0   0   0   \n\n    13  14  15  \n0    0   0   0  \n0    0   0   0  \n0    0   0   0  \n0    0   0   0  \n0    0   0   0  \n..  ..  ..  ..  \n0    0   0   0  \n0    0   0   0  \n0    0   0   0  \n0    0   0   0  \n0    0   0   0  \n\n[61000 rows x 18 columns]",
      "text/html": "<div>\n<style scoped>\n    .dataframe tbody tr th:only-of-type {\n        vertical-align: middle;\n    }\n\n    .dataframe tbody tr th {\n        vertical-align: top;\n    }\n\n    .dataframe thead th {\n        text-align: right;\n    }\n</style>\n<table border=\"1\" class=\"dataframe\">\n  <thead>\n    <tr style=\"text-align: right;\">\n      <th></th>\n      <th>age</th>\n      <th>aorta</th>\n      <th>simulation</th>\n      <th>1</th>\n      <th>2</th>\n      <th>3</th>\n      <th>4</th>\n      <th>5</th>\n      <th>6</th>\n      <th>7</th>\n      <th>8</th>\n      <th>9</th>\n      <th>10</th>\n      <th>11</th>\n      <th>12</th>\n      <th>13</th>\n      <th>14</th>\n      <th>15</th>\n    </tr>\n  </thead>\n  <tbody>\n    <tr>\n      <th>0</th>\n      <td>P0-5</td>\n      <td>aorta01</td>\n      <td>1</td>\n      <td>375</td>\n      <td>116</td>\n      <td>29</td>\n      <td>4</td>\n      <td>0</td>\n      <td>0</td>\n      <td>0</td>\n      <td>0</td>\n      <td>0</td>\n      <td>0</td>\n      <td>0</td>\n      <td>0</td>\n      <td>0</td>\n      <td>0</td>\n      <td>0</td>\n    </tr>\n    <tr>\n      <th>0</th>\n      <td>P0-5</td>\n      <td>aorta01</td>\n      <td>2</td>\n      <td>370</td>\n      <td>126</td>\n      <td>25</td>\n      <td>2</td>\n      <td>1</td>\n      <td>0</td>\n      <td>0</td>\n      <td>0</td>\n      <td>0</td>\n      <td>0</td>\n      <td>0</td>\n      <td>0</td>\n      <td>0</td>\n      <td>0</td>\n      <td>0</td>\n    </tr>\n    <tr>\n      <th>0</th>\n      <td>P0-5</td>\n      <td>aorta01</td>\n      <td>3</td>\n      <td>363</td>\n      <td>137</td>\n      <td>23</td>\n      <td>1</td>\n      <td>0</td>\n      <td>0</td>\n      <td>0</td>\n      <td>0</td>\n      <td>0</td>\n      <td>0</td>\n      <td>0</td>\n      <td>0</td>\n      <td>0</td>\n      <td>0</td>\n      <td>0</td>\n    </tr>\n    <tr>\n      <th>0</th>\n      <td>P0-5</td>\n      <td>aorta01</td>\n      <td>4</td>\n      <td>359</td>\n      <td>145</td>\n      <td>19</td>\n      <td>1</td>\n      <td>0</td>\n      <td>0</td>\n      <td>0</td>\n      <td>0</td>\n      <td>0</td>\n      <td>0</td>\n      <td>0</td>\n      <td>0</td>\n      <td>0</td>\n      <td>0</td>\n      <td>0</td>\n    </tr>\n    <tr>\n      <th>0</th>\n      <td>P0-5</td>\n      <td>aorta01</td>\n      <td>5</td>\n      <td>362</td>\n      <td>142</td>\n      <td>16</td>\n      <td>4</td>\n      <td>0</td>\n      <td>0</td>\n      <td>0</td>\n      <td>0</td>\n      <td>0</td>\n      <td>0</td>\n      <td>0</td>\n      <td>0</td>\n      <td>0</td>\n      <td>0</td>\n      <td>0</td>\n    </tr>\n    <tr>\n      <th>...</th>\n      <td>...</td>\n      <td>...</td>\n      <td>...</td>\n      <td>...</td>\n      <td>...</td>\n      <td>...</td>\n      <td>...</td>\n      <td>...</td>\n      <td>...</td>\n      <td>...</td>\n      <td>...</td>\n      <td>...</td>\n      <td>...</td>\n      <td>...</td>\n      <td>...</td>\n      <td>...</td>\n      <td>...</td>\n      <td>...</td>\n    </tr>\n    <tr>\n      <th>0</th>\n      <td>P5-60</td>\n      <td>aorta08</td>\n      <td>996</td>\n      <td>194</td>\n      <td>150</td>\n      <td>55</td>\n      <td>14</td>\n      <td>2</td>\n      <td>1</td>\n      <td>0</td>\n      <td>0</td>\n      <td>0</td>\n      <td>0</td>\n      <td>0</td>\n      <td>0</td>\n      <td>0</td>\n      <td>0</td>\n      <td>0</td>\n    </tr>\n    <tr>\n      <th>0</th>\n      <td>P5-60</td>\n      <td>aorta08</td>\n      <td>997</td>\n      <td>196</td>\n      <td>144</td>\n      <td>58</td>\n      <td>17</td>\n      <td>1</td>\n      <td>0</td>\n      <td>0</td>\n      <td>0</td>\n      <td>0</td>\n      <td>0</td>\n      <td>0</td>\n      <td>0</td>\n      <td>0</td>\n      <td>0</td>\n      <td>0</td>\n    </tr>\n    <tr>\n      <th>0</th>\n      <td>P5-60</td>\n      <td>aorta08</td>\n      <td>998</td>\n      <td>193</td>\n      <td>156</td>\n      <td>45</td>\n      <td>19</td>\n      <td>3</td>\n      <td>0</td>\n      <td>0</td>\n      <td>0</td>\n      <td>0</td>\n      <td>0</td>\n      <td>0</td>\n      <td>0</td>\n      <td>0</td>\n      <td>0</td>\n      <td>0</td>\n    </tr>\n    <tr>\n      <th>0</th>\n      <td>P5-60</td>\n      <td>aorta08</td>\n      <td>999</td>\n      <td>204</td>\n      <td>138</td>\n      <td>53</td>\n      <td>16</td>\n      <td>2</td>\n      <td>3</td>\n      <td>0</td>\n      <td>0</td>\n      <td>0</td>\n      <td>0</td>\n      <td>0</td>\n      <td>0</td>\n      <td>0</td>\n      <td>0</td>\n      <td>0</td>\n    </tr>\n    <tr>\n      <th>0</th>\n      <td>P5-60</td>\n      <td>aorta08</td>\n      <td>1000</td>\n      <td>185</td>\n      <td>162</td>\n      <td>56</td>\n      <td>11</td>\n      <td>2</td>\n      <td>0</td>\n      <td>0</td>\n      <td>0</td>\n      <td>0</td>\n      <td>0</td>\n      <td>0</td>\n      <td>0</td>\n      <td>0</td>\n      <td>0</td>\n      <td>0</td>\n    </tr>\n  </tbody>\n</table>\n<p>61000 rows × 18 columns</p>\n</div>"
     },
     "execution_count": 50,
     "metadata": {},
     "output_type": "execute_result"
    }
   ],
   "source": [
    "dfCluster"
   ],
   "metadata": {
    "collapsed": false,
    "pycharm": {
     "name": "#%%\n"
    }
   }
  },
  {
   "cell_type": "code",
   "execution_count": 53,
   "outputs": [],
   "source": [
    "dfClusterSum = dfCluster.groupby([\"age\", \"aorta\"]).sum()\n",
    "dfDivSum = dfDiv.groupby([\"age\", \"aorta\"]).sum()"
   ],
   "metadata": {
    "collapsed": false,
    "pycharm": {
     "name": "#%%\n"
    }
   }
  },
  {
   "cell_type": "code",
   "execution_count": 54,
   "outputs": [],
   "source": [
    "dfCluster.to_csv(\"/Users/jones/Downloads/markovianClusterAllClusterSizes.csv\")\n",
    "dfClusterSum.to_csv(\"/Users/jones/Downloads/markovianClusterAllClusterSizesSum.csv\")\n",
    "dfDiv.to_csv(\"/Users/jones/Downloads/markovianDivisionAllClusterSizes.csv\")\n",
    "dfDivSum.to_csv(\"/Users/jones/Downloads/markovianDivisionAllClusterSizesSum.csv\")"
   ],
   "metadata": {
    "collapsed": false,
    "pycharm": {
     "name": "#%%\n"
    }
   }
  },
  {
   "cell_type": "code",
   "execution_count": null,
   "outputs": [],
   "source": [],
   "metadata": {
    "collapsed": false,
    "pycharm": {
     "name": "#%%\n"
    }
   }
  },
  {
   "cell_type": "code",
   "execution_count": null,
   "outputs": [],
   "source": [],
   "metadata": {
    "collapsed": false,
    "pycharm": {
     "name": "#%%\n"
    }
   }
  },
  {
   "cell_type": "code",
   "execution_count": null,
   "outputs": [],
   "source": [],
   "metadata": {
    "collapsed": false,
    "pycharm": {
     "name": "#%%\n"
    }
   }
  },
  {
   "cell_type": "code",
   "execution_count": 31,
   "outputs": [
    {
     "data": {
      "text/plain": "21"
     },
     "execution_count": 31,
     "metadata": {},
     "output_type": "execute_result"
    }
   ],
   "source": [
    "maxDiv"
   ],
   "metadata": {
    "collapsed": false,
    "pycharm": {
     "name": "#%%\n"
    }
   }
  },
  {
   "cell_type": "code",
   "execution_count": 32,
   "outputs": [
    {
     "data": {
      "text/plain": "15"
     },
     "execution_count": 32,
     "metadata": {},
     "output_type": "execute_result"
    }
   ],
   "source": [
    "maxCluster"
   ],
   "metadata": {
    "collapsed": false,
    "pycharm": {
     "name": "#%%\n"
    }
   }
  },
  {
   "cell_type": "code",
   "execution_count": null,
   "outputs": [],
   "source": [
    "resultdic = {\"age\": segmentationPath.split(\"/\")[-3], \"aorta\": segmentationPath.split(\"/\")[-2]}\n",
    "unique, counts = np.unique(clusterSizes, return_counts=True)\n",
    "for i in range(1,18):\n",
    "    if i in unique:\n",
    "        resultdic[i] = counts[np.where(unique==i)][0]\n",
    "    else:\n",
    "        resultdic[i] = 0"
   ],
   "metadata": {
    "collapsed": false,
    "pycharm": {
     "name": "#%%\n"
    }
   }
  },
  {
   "cell_type": "code",
   "execution_count": null,
   "outputs": [],
   "source": [],
   "metadata": {
    "collapsed": false,
    "pycharm": {
     "name": "#%%\n"
    }
   }
  },
  {
   "cell_type": "code",
   "execution_count": 33,
   "outputs": [
    {
     "data": {
      "text/plain": "[2,\n 1,\n 2,\n 7,\n 1,\n 1,\n 1,\n 2,\n 1,\n 1,\n 1,\n 3,\n 2,\n 2,\n 1,\n 8,\n 5,\n 1,\n 1,\n 2,\n 1,\n 2,\n 2,\n 2,\n 1,\n 1,\n 1,\n 1,\n 1,\n 1,\n 1,\n 1,\n 3,\n 1,\n 1,\n 2,\n 1,\n 1,\n 1,\n 1,\n 4,\n 1,\n 1,\n 1,\n 2,\n 1,\n 1,\n 3,\n 2,\n 2,\n 1,\n 4,\n 4,\n 1,\n 1,\n 2,\n 1,\n 3,\n 3,\n 3,\n 3,\n 1,\n 3,\n 3,\n 1,\n 3,\n 1,\n 2,\n 1,\n 3,\n 3,\n 2,\n 3,\n 2,\n 1,\n 1,\n 1,\n 2,\n 1,\n 2,\n 2,\n 2,\n 2,\n 3,\n 1,\n 1,\n 1,\n 3,\n 1,\n 1,\n 1,\n 1,\n 1,\n 2,\n 1,\n 2,\n 2,\n 1,\n 3,\n 2,\n 3,\n 4,\n 1,\n 1,\n 1,\n 1,\n 1,\n 1,\n 2,\n 1,\n 3,\n 3,\n 7,\n 1,\n 6,\n 1,\n 5,\n 3,\n 1,\n 3,\n 1,\n 1,\n 2,\n 2,\n 1,\n 2,\n 1,\n 1,\n 4,\n 1,\n 1,\n 2,\n 1,\n 1,\n 1,\n 6,\n 1,\n 1,\n 1,\n 1,\n 3,\n 2,\n 6,\n 2,\n 1,\n 1,\n 2,\n 1,\n 2,\n 1,\n 4,\n 1,\n 1,\n 1,\n 1,\n 1,\n 4,\n 1,\n 2,\n 1,\n 1,\n 3,\n 1,\n 2,\n 1,\n 2,\n 1,\n 4,\n 2,\n 2,\n 2,\n 1,\n 3,\n 1,\n 3,\n 2,\n 2,\n 1,\n 1,\n 1,\n 1,\n 1,\n 2,\n 3,\n 1,\n 2,\n 2,\n 2,\n 1,\n 1,\n 2,\n 1,\n 1,\n 2,\n 10,\n 1,\n 2,\n 1,\n 1,\n 1,\n 1,\n 1,\n 1,\n 3,\n 1,\n 2,\n 1,\n 1,\n 1,\n 1,\n 1,\n 1,\n 1,\n 1,\n 4,\n 1,\n 5,\n 2,\n 2,\n 2,\n 1,\n 1,\n 2,\n 1,\n 3,\n 2,\n 1,\n 1,\n 1,\n 3,\n 2,\n 1,\n 2,\n 1,\n 4,\n 3,\n 1,\n 1,\n 1,\n 1,\n 2,\n 1,\n 2,\n 2,\n 1,\n 3,\n 2,\n 1,\n 2,\n 1,\n 2,\n 1,\n 3,\n 2,\n 2,\n 2,\n 1,\n 2,\n 3,\n 1,\n 1,\n 1,\n 1,\n 1,\n 1,\n 1,\n 1,\n 1,\n 1,\n 3,\n 1,\n 4,\n 1,\n 3,\n 4,\n 1,\n 2,\n 1,\n 1,\n 6,\n 1,\n 1,\n 2,\n 1,\n 1,\n 3,\n 1,\n 2,\n 1,\n 1,\n 1,\n 1,\n 2,\n 1,\n 1,\n 2,\n 1,\n 1,\n 1,\n 1,\n 2,\n 2,\n 2,\n 2,\n 1,\n 2,\n 1,\n 1,\n 5,\n 3,\n 1,\n 1,\n 1,\n 1,\n 2,\n 1,\n 2,\n 1,\n 1,\n 2,\n 1,\n 4,\n 2,\n 2,\n 1,\n 2,\n 1,\n 4,\n 1,\n 1,\n 1,\n 2,\n 4,\n 1,\n 1,\n 1,\n 1,\n 1,\n 3,\n 1,\n 1,\n 1,\n 1,\n 1,\n 1,\n 1,\n 3,\n 2,\n 2,\n 1,\n 1,\n 1,\n 1,\n 1,\n 1,\n 1,\n 1,\n 2,\n 1,\n 2,\n 2,\n 1,\n 2,\n 2,\n 1,\n 1,\n 2,\n 1,\n 1,\n 1,\n 3,\n 2,\n 1,\n 2,\n 1,\n 1,\n 1,\n 3,\n 1,\n 6,\n 1,\n 1,\n 3,\n 1,\n 1,\n 1,\n 1,\n 1,\n 5,\n 1,\n 3,\n 1,\n 1,\n 1,\n 2,\n 3,\n 1,\n 1,\n 1,\n 2,\n 1,\n 1,\n 1,\n 1,\n 1,\n 2,\n 1,\n 1,\n 3,\n 1,\n 5,\n 1,\n 3,\n 3,\n 2,\n 1]"
     },
     "execution_count": 33,
     "metadata": {},
     "output_type": "execute_result"
    }
   ],
   "source": [
    "resultsRandomDivision[0]"
   ],
   "metadata": {
    "collapsed": false,
    "pycharm": {
     "name": "#%%\n"
    }
   }
  },
  {
   "cell_type": "code",
   "execution_count": null,
   "outputs": [],
   "source": [
    "for simul in resultsRandomDivision:\n"
   ],
   "metadata": {
    "collapsed": false,
    "pycharm": {
     "name": "#%%\n"
    }
   }
  },
  {
   "cell_type": "code",
   "execution_count": 24,
   "outputs": [],
   "source": [
    "unique, counts = np.unique(resultsRandomDivision[0], return_counts=True)"
   ],
   "metadata": {
    "collapsed": false,
    "pycharm": {
     "name": "#%%\n"
    }
   }
  },
  {
   "cell_type": "code",
   "execution_count": 25,
   "outputs": [
    {
     "data": {
      "text/plain": "array([1, 2, 3, 4, 5, 7])"
     },
     "execution_count": 25,
     "metadata": {},
     "output_type": "execute_result"
    }
   ],
   "source": [
    "unique"
   ],
   "metadata": {
    "collapsed": false,
    "pycharm": {
     "name": "#%%\n"
    }
   }
  },
  {
   "cell_type": "code",
   "execution_count": 27,
   "outputs": [
    {
     "data": {
      "text/plain": "7"
     },
     "execution_count": 27,
     "metadata": {},
     "output_type": "execute_result"
    }
   ],
   "source": [
    "np.max(unique)"
   ],
   "metadata": {
    "collapsed": false,
    "pycharm": {
     "name": "#%%\n"
    }
   }
  },
  {
   "cell_type": "code",
   "execution_count": 26,
   "outputs": [
    {
     "data": {
      "text/plain": "array([396,  88,  27,  10,   2,   1])"
     },
     "execution_count": 26,
     "metadata": {},
     "output_type": "execute_result"
    }
   ],
   "source": [
    "counts"
   ],
   "metadata": {
    "collapsed": false,
    "pycharm": {
     "name": "#%%\n"
    }
   }
  },
  {
   "cell_type": "code",
   "execution_count": 20,
   "outputs": [
    {
     "ename": "SyntaxError",
     "evalue": "invalid syntax (3901764732.py, line 1)",
     "output_type": "error",
     "traceback": [
      "\u001B[0;36m  Input \u001B[0;32mIn [20]\u001B[0;36m\u001B[0m\n\u001B[0;31m    dfResult[[0:1]].sum(axis = 1)\u001B[0m\n\u001B[0m               ^\u001B[0m\n\u001B[0;31mSyntaxError\u001B[0m\u001B[0;31m:\u001B[0m invalid syntax\n"
     ]
    }
   ],
   "source": [
    "dfResult[[\"\"]].sum(axis = 1)"
   ],
   "metadata": {
    "collapsed": false,
    "pycharm": {
     "name": "#%%\n"
    }
   }
  },
  {
   "cell_type": "code",
   "execution_count": 26,
   "outputs": [
    {
     "data": {
      "text/plain": "0     524\n1     421\n2     390\n3     485\n4     337\n     ... \n56    535\n57    425\n58    492\n59    247\n60    416\nLength: 61, dtype: int64"
     },
     "execution_count": 26,
     "metadata": {},
     "output_type": "execute_result"
    }
   ],
   "source": [
    "dfResult.iloc[:,2:17].sum(axis=1)"
   ],
   "metadata": {
    "collapsed": false,
    "pycharm": {
     "name": "#%%\n"
    }
   }
  },
  {
   "cell_type": "code",
   "execution_count": 40,
   "outputs": [
    {
     "data": {
      "text/plain": "age         P0-5\naorta    aorta01\n1            409\n2             71\n3             27\n4             11\n5              3\n6              2\n7              1\n8              0\n9              0\n10             0\n11             0\n12             0\n13             0\n14             0\n15             0\nName: 0, dtype: object"
     },
     "execution_count": 40,
     "metadata": {},
     "output_type": "execute_result"
    }
   ],
   "source": [
    "dfResult.iloc[0]"
   ],
   "metadata": {
    "collapsed": false,
    "pycharm": {
     "name": "#%%\n"
    }
   }
  },
  {
   "cell_type": "code",
   "execution_count": 52,
   "outputs": [
    {
     "name": "stdout",
     "output_type": "stream",
     "text": [
      "0-5\n",
      "0-5\n",
      "0-5\n",
      "0-5\n",
      "0-5\n",
      "0-5\n",
      "0-10\n",
      "0-10\n",
      "0-10\n",
      "0-10\n",
      "0-10\n",
      "0-10\n",
      "10-21\n",
      "10-21\n",
      "10-21\n",
      "10-21\n",
      "10-21\n",
      "10-30\n",
      "10-30\n",
      "10-30\n",
      "10-30\n",
      "10-30\n",
      "10-30\n",
      "10-30\n",
      "10-60\n",
      "10-60\n",
      "10-60\n",
      "10-60\n",
      "10-60\n",
      "10-60\n",
      "21-30\n",
      "21-30\n",
      "21-30\n",
      "21-30\n",
      "21-30\n",
      "30-60\n",
      "30-60\n",
      "30-60\n",
      "30-60\n",
      "30-60\n",
      "5-10\n",
      "5-10\n",
      "5-10\n",
      "5-10\n",
      "5-10\n",
      "5-10\n",
      "5-10\n",
      "5-30\n",
      "5-30\n",
      "5-30\n",
      "5-30\n",
      "5-30\n",
      "5-30\n",
      "5-60\n",
      "5-60\n",
      "5-60\n",
      "5-60\n",
      "5-60\n",
      "5-60\n",
      "5-60\n",
      "5-60\n"
     ]
    }
   ],
   "source": [
    "for index, row in dfResult.iterrows():\n",
    "    age = row[\"age\"]\n",
    "    aorta = row[\"aorta\"]\n",
    "    print(age.split(\"P\")[1])"
   ],
   "metadata": {
    "collapsed": false,
    "pycharm": {
     "name": "#%%\n"
    }
   }
  },
  {
   "cell_type": "code",
   "execution_count": 50,
   "outputs": [
    {
     "data": {
      "text/plain": "array([ 1.,  1.,  1.,  1.,  1.,  1.,  1.,  1.,  1.,  1.,  1.,  1.,  1.,\n        1.,  1.,  1.,  1.,  1.,  1.,  1.,  1.,  1.,  1.,  1.,  1.,  1.,\n        1.,  1.,  1.,  1.,  1.,  1.,  1.,  1.,  1.,  1.,  1.,  1.,  1.,\n        1.,  1.,  1.,  1.,  1.,  1.,  1.,  1.,  1.,  1.,  1.,  1.,  1.,\n        1.,  1.,  1.,  1.,  1.,  1.,  1.,  1.,  1.,  1.,  1.,  1.,  1.,\n        1.,  1.,  1.,  1.,  1.,  1.,  1.,  1.,  1.,  1.,  1.,  1.,  1.,\n        1.,  1.,  1.,  1.,  1.,  1.,  1.,  1.,  1.,  1.,  1.,  1.,  1.,\n        1.,  1.,  1.,  1.,  1.,  1.,  1.,  1.,  1.,  1.,  1.,  1.,  1.,\n        1.,  1.,  1.,  1.,  1.,  1.,  1.,  1.,  1.,  1.,  1.,  1.,  1.,\n        1.,  1.,  1.,  1.,  1.,  1.,  1.,  1.,  1.,  1.,  1.,  1.,  1.,\n        1.,  1.,  1.,  1.,  1.,  1.,  1.,  1.,  1.,  1.,  1.,  1.,  1.,\n        1.,  1.,  1.,  1.,  1.,  1.,  1.,  1.,  1.,  1.,  1.,  1.,  1.,\n        1.,  1.,  1.,  1.,  1.,  1.,  1.,  1.,  1.,  1.,  1.,  1.,  1.,\n        1.,  1.,  1.,  1.,  1.,  1.,  1.,  1.,  1.,  1.,  1.,  1.,  1.,\n        1.,  1.,  1.,  1.,  1.,  1.,  1.,  1.,  1.,  1.,  1.,  1.,  1.,\n        1.,  1.,  1.,  1.,  1.,  1.,  1.,  1.,  1.,  1.,  1.,  1.,  1.,\n        1.,  1.,  1.,  1.,  1.,  1.,  1.,  1.,  1.,  1.,  1.,  1.,  1.,\n        1.,  1.,  1.,  1.,  1.,  2.,  2.,  2.,  2.,  2.,  2.,  2.,  2.,\n        2.,  2.,  2.,  2.,  2.,  2.,  2.,  2.,  2.,  2.,  2.,  2.,  2.,\n        2.,  2.,  2.,  2.,  2.,  2.,  2.,  2.,  2.,  2.,  2.,  2.,  2.,\n        2.,  2.,  2.,  2.,  2.,  2.,  2.,  2.,  2.,  2.,  2.,  2.,  2.,\n        2.,  2.,  2.,  2.,  2.,  2.,  2.,  2.,  2.,  2.,  2.,  2.,  2.,\n        2.,  2.,  2.,  2.,  2.,  2.,  2.,  2.,  2.,  2.,  2.,  2.,  2.,\n        2.,  2.,  2.,  2.,  2.,  2.,  2.,  2.,  2.,  2.,  2.,  2.,  2.,\n        2.,  2.,  2.,  2.,  2.,  2.,  2.,  2.,  2.,  2.,  2.,  2.,  2.,\n        2.,  2.,  2.,  2.,  2.,  2.,  2.,  2.,  2.,  2.,  2.,  2.,  2.,\n        2.,  2.,  2.,  2.,  2.,  2.,  2.,  2.,  2.,  2.,  2.,  2.,  2.,\n        3.,  3.,  3.,  3.,  3.,  3.,  3.,  3.,  3.,  3.,  3.,  3.,  3.,\n        3.,  3.,  3.,  3.,  3.,  3.,  3.,  3.,  3.,  3.,  3.,  3.,  3.,\n        3.,  3.,  3.,  3.,  3.,  3.,  3.,  3.,  3.,  4.,  4.,  4.,  4.,\n        4.,  4.,  4.,  4.,  4.,  4.,  4.,  4.,  4.,  4.,  4.,  4.,  5.,\n        5.,  5.,  5.,  5.,  5.,  5.,  6.,  6.,  6.,  6.,  7.,  9., 11.])"
     },
     "execution_count": 50,
     "metadata": {},
     "output_type": "execute_result"
    }
   ],
   "source": [
    "clusterSize"
   ],
   "metadata": {
    "collapsed": false,
    "pycharm": {
     "name": "#%%\n"
    }
   }
  },
  {
   "cell_type": "code",
   "execution_count": null,
   "outputs": [],
   "source": [],
   "metadata": {
    "collapsed": false,
    "pycharm": {
     "name": "#%%\n"
    }
   }
  }
 ],
 "metadata": {
  "kernelspec": {
   "name": "luisaproject",
   "language": "python",
   "display_name": "LuisaProject"
  },
  "language_info": {
   "codemirror_mode": {
    "name": "ipython",
    "version": 2
   },
   "file_extension": ".py",
   "mimetype": "text/x-python",
   "name": "python",
   "nbconvert_exporter": "python",
   "pygments_lexer": "ipython2",
   "version": "2.7.6"
  }
 },
 "nbformat": 4,
 "nbformat_minor": 0
}
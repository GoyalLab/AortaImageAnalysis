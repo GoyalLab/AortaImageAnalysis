{
 "cells": [
  {
   "cell_type": "code",
   "execution_count": 1,
   "outputs": [],
   "source": [
    "import pandas as pd\n",
    "import numpy as np\n",
    "from os import listdir\n",
    "from os.path import isfile, join\n",
    "import fnmatch"
   ],
   "metadata": {
    "collapsed": false,
    "pycharm": {
     "name": "#%%\n"
    }
   }
  },
  {
   "cell_type": "code",
   "execution_count": 2,
   "outputs": [],
   "source": [
    "inputPath = '/Volumes/Aortas/Aorta/results/KI67/coordinatesKI67'\n",
    "\n",
    "thresholdPath = '/Volumes/Aortas/Aorta/results/KI67/threshold/thresholds_Updated.csv'"
   ],
   "metadata": {
    "collapsed": false,
    "pycharm": {
     "name": "#%%\n"
    }
   }
  },
  {
   "cell_type": "code",
   "execution_count": 3,
   "outputs": [],
   "source": [
    "files = [f for f in listdir(inputPath) if isfile(join(inputPath, f)) if \"coordinates\" in f]\n",
    "files = sorted(files)\n",
    "pattern = \"coordinates*\"\n",
    "files = fnmatch.filter(files, pattern)"
   ],
   "metadata": {
    "collapsed": false,
    "pycharm": {
     "name": "#%%\n"
    }
   }
  },
  {
   "cell_type": "code",
   "execution_count": 14,
   "outputs": [],
   "source": [
    "thresholds = pd.read_csv(thresholdPath)\n",
    "df = pd.DataFrame()\n",
    "for file in files:\n",
    "    df_help = pd.read_csv(join(inputPath,file))\n",
    "    df_help['fractionNormNew'] = df_help.apply(lambda row: fractionNorm(row), axis=1)\n",
    "    df_help[\"thresholdIntensity\"] = df_help.apply(lambda row: thresholding(row, \"thresholdIntensity\"), axis=1)\n",
    "    df_help[\"thresholdFraction\"] = df_help.apply(lambda row: thresholding(row, \"thresholdFraction\"), axis=1)\n",
    "    df_help[\"threshold\"] = df_help.apply(lambda row: threshold(row), axis=1)\n",
    "    df = pd.concat((df, df_help), ignore_index = True)"
   ],
   "metadata": {
    "collapsed": false,
    "pycharm": {
     "name": "#%%\n"
    }
   }
  },
  {
   "cell_type": "code",
   "execution_count": 33,
   "outputs": [],
   "source": [
    "dfAggregate = df.groupby([\"age\", \"aorta\", \"filenameNuc\"]).count()"
   ],
   "metadata": {
    "collapsed": false,
    "pycharm": {
     "name": "#%%\n"
    }
   }
  },
  {
   "cell_type": "code",
   "execution_count": 34,
   "outputs": [],
   "source": [
    "dfAggregate.to_csv(\"/Volumes/Aortas/Aorta/results/KI67/KI67FileLevelCount2.csv\")"
   ],
   "metadata": {
    "collapsed": false,
    "pycharm": {
     "name": "#%%\n"
    }
   }
  },
  {
   "cell_type": "code",
   "execution_count": null,
   "outputs": [],
   "source": [
    "dfResult = pd.pivot_table(df, values = 'threshold', index = ['age', 'aorta'], aggfunc=np.mean )"
   ],
   "metadata": {
    "collapsed": false,
    "pycharm": {
     "name": "#%%\n"
    }
   }
  },
  {
   "cell_type": "code",
   "execution_count": 53,
   "outputs": [],
   "source": [
    "dfResult.to_csv('/Users/jones/Downloads/KI67Positive.csv')"
   ],
   "metadata": {
    "collapsed": false,
    "pycharm": {
     "name": "#%%\n"
    }
   }
  }
 ],
 "metadata": {
  "kernelspec": {
   "name": "luisaproject",
   "language": "python",
   "display_name": "LuisaProject"
  },
  "language_info": {
   "codemirror_mode": {
    "name": "ipython",
    "version": 2
   },
   "file_extension": ".py",
   "mimetype": "text/x-python",
   "name": "python",
   "nbconvert_exporter": "python",
   "pygments_lexer": "ipython2",
   "version": "2.7.6"
  }
 },
 "nbformat": 4,
 "nbformat_minor": 0
}
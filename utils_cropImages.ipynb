{
 "cells": [
  {
   "cell_type": "code",
   "execution_count": 1,
   "metadata": {
    "collapsed": true,
    "pycharm": {
     "name": "#%%\n"
    }
   },
   "outputs": [],
   "source": [
    "from os import listdir\n",
    "from os.path import isfile, join\n",
    "from matplotlib import pyplot as plt\n",
    "from PIL import Image\n",
    "import os\n",
    "import PIL"
   ]
  },
  {
   "cell_type": "code",
   "execution_count": 17,
   "outputs": [],
   "source": [
    "imagePath = \"/Volumes/Aortas/Aorta/preprocessedImages/rainbow/inducedRainbow/stitched/5-60/aorta08\"\n",
    "savePath = \"/Volumes/Aortas/Aorta/preprocessedImages/rainbow/inducedRainbow/cropped\""
   ],
   "metadata": {
    "collapsed": false,
    "pycharm": {
     "name": "#%%\n"
    }
   }
  },
  {
   "cell_type": "code",
   "execution_count": 18,
   "outputs": [],
   "source": [
    "folders = [x[0] for x in os.walk(imagePath)]\n",
    "folders = sorted(folders)"
   ],
   "metadata": {
    "collapsed": false,
    "pycharm": {
     "name": "#%%\n"
    }
   }
  },
  {
   "cell_type": "code",
   "execution_count": 19,
   "outputs": [],
   "source": [
    "for folder in folders:\n",
    "    os.chdir(folder)\n",
    "    files = [f for f in listdir(folder) if isfile(join(folder, f)) if \".DS_Store\" not in f if \"nuclei.tif\" in f if \"._\" not in f]\n",
    "    for file in files:\n",
    "        aorta = folder.split(\"/\")[-1]\n",
    "        age = folder.split(\"/\")[-2]\n",
    "        im = Image.open(join(folder, file))\n",
    "        #cropping_parameter_width = int(im.size[0]/550)\n",
    "        #cropping_parameter_height = int(im.size[1]/550)\n",
    "        cropping_parameter_width = 4\n",
    "        cropping_parameter_height = 4\n",
    "        k=1\n",
    "        imgwidth, imgheight = im.size\n",
    "        crop_width = imgwidth/cropping_parameter_width\n",
    "        crop_height = imgheight/cropping_parameter_height\n",
    "        os.chdir(join(savePath))\n",
    "        if not os.path.exists(join(savePath, age)):\n",
    "            os.mkdir(age)\n",
    "        os.chdir(join(savePath, age))\n",
    "        if not os.path.exists(join(savePath, age, aorta)):\n",
    "            os.mkdir(aorta)\n",
    "        os.chdir(join(savePath, age, aorta))\n",
    "        path_to_save = join(savePath, age, aorta)\n",
    "        for i in range(cropping_parameter_height):\n",
    "            for j in range(cropping_parameter_width):\n",
    "                box = (j*crop_width,i*crop_height,(j+1)*crop_width, (i+1)*crop_height)\n",
    "                crop = im.crop(box)\n",
    "                crop.save(os.path.join(path_to_save,\"Cropped_IMG-%s.tif\" % k))\n",
    "                k +=1"
   ],
   "metadata": {
    "collapsed": false,
    "pycharm": {
     "name": "#%%\n"
    }
   }
  },
  {
   "cell_type": "code",
   "execution_count": null,
   "outputs": [],
   "source": [],
   "metadata": {
    "collapsed": false,
    "pycharm": {
     "name": "#%%\n"
    }
   }
  }
 ],
 "metadata": {
  "kernelspec": {
   "name": "luisaproject",
   "language": "python",
   "display_name": "LuisaProject"
  },
  "language_info": {
   "codemirror_mode": {
    "name": "ipython",
    "version": 2
   },
   "file_extension": ".py",
   "mimetype": "text/x-python",
   "name": "python",
   "nbconvert_exporter": "python",
   "pygments_lexer": "ipython2",
   "version": "2.7.6"
  }
 },
 "nbformat": 4,
 "nbformat_minor": 0
}
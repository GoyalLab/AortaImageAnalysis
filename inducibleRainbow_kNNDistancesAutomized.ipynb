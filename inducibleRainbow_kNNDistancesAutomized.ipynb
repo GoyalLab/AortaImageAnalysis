{
 "cells": [
  {
   "cell_type": "code",
   "execution_count": 20,
   "outputs": [],
   "source": [
    "import numpy as np\n",
    "from random import seed\n",
    "from random import sample\n",
    "import pandas as pd\n",
    "from sklearn.neighbors import NearestNeighbors\n",
    "from skimage.measure import regionprops_table\n",
    "import matplotlib.pyplot as plt\n",
    "import os\n",
    "from os import listdir\n",
    "from os.path import isfile, join"
   ],
   "metadata": {
    "collapsed": false,
    "pycharm": {
     "name": "#%%\n"
    }
   }
  },
  {
   "cell_type": "code",
   "execution_count": 21,
   "outputs": [],
   "source": [
    "nucleiPath = '/Volumes/Aortas/Aorta/segmentations/inducedRainbow/final/nuclei'\n",
    "clusterPath = '/Volumes/Aortas/Aorta/segmentations/inducedRainbow/final/red'"
   ],
   "metadata": {
    "collapsed": false,
    "pycharm": {
     "name": "#%%\n"
    }
   }
  },
  {
   "cell_type": "code",
   "execution_count": 22,
   "outputs": [],
   "source": [
    "df = pd.read_csv(\"/Volumes/Aortas/Aorta/results/inducedRainbow/allClusterSizesRed.csv\")"
   ],
   "metadata": {
    "collapsed": false,
    "pycharm": {
     "name": "#%%\n"
    }
   }
  },
  {
   "cell_type": "code",
   "execution_count": 24,
   "outputs": [],
   "source": [
    "clusterFolders = [x[0] for x in os.walk(clusterPath)]\n",
    "clusterFolders = sorted(clusterFolders)"
   ],
   "metadata": {
    "collapsed": false,
    "pycharm": {
     "name": "#%%\n"
    }
   }
  },
  {
   "cell_type": "code",
   "execution_count": 8,
   "outputs": [],
   "source": [
    "def fullNucImage(nucPath):\n",
    "    scalingFactor = 10000\n",
    "    for i in range(4):\n",
    "        #build row block\n",
    "        nuc1 =np.load(join(nucPath, \"Cropped_IMG-\" + str(4*i +1) + '_seg.npy'), allow_pickle=True).item()['masks']\n",
    "        nuc2 =np.load(join(nucPath, \"Cropped_IMG-\" + str(4*i +2) + '_seg.npy'), allow_pickle=True).item()['masks']\n",
    "        nuc3 =np.load(join(nucPath, \"Cropped_IMG-\" + str(4*i +3) + '_seg.npy'), allow_pickle=True).item()['masks']\n",
    "        nuc4 =np.load(join(nucPath, \"Cropped_IMG-\" + str(4*i +4) + '_seg.npy'), allow_pickle=True).item()['masks']\n",
    "        nuc1 = nuc1 + scalingFactor *(4*i +1)\n",
    "        nuc1[nuc1 == (scalingFactor *(4*i +1))] = 0\n",
    "        nuc2 = nuc2 + scalingFactor *(4*i +2)\n",
    "        nuc2[nuc2 == (scalingFactor *(4*i +2))] = 0\n",
    "        nuc3 = nuc3 + scalingFactor *(4*i +3)\n",
    "        nuc3[nuc3 == (scalingFactor *(4*i +3))] = 0\n",
    "        nuc4 = nuc4 + scalingFactor *(4*i +4)\n",
    "        nuc4[nuc4 == (scalingFactor *(4*i +4))] = 0\n",
    "\n",
    "        row = np.concatenate((nuc1, nuc2, nuc3, nuc4), axis = 1)\n",
    "        if i == 0:\n",
    "            nucImage = row\n",
    "        else:\n",
    "            nucImage = np.concatenate((nucImage, row), axis = 0)\n",
    "    return nucImage"
   ],
   "metadata": {
    "collapsed": false,
    "pycharm": {
     "name": "#%%\n"
    }
   }
  },
  {
   "cell_type": "code",
   "execution_count": 9,
   "outputs": [],
   "source": [
    "def centeroidPoints(arr):\n",
    "    length = arr.shape[0]\n",
    "    sum_y = np.sum(arr[:, 0])\n",
    "    sum_x = np.sum(arr[:, 1])\n",
    "    return sum_y/length, sum_x/length"
   ],
   "metadata": {
    "collapsed": false,
    "pycharm": {
     "name": "#%%\n"
    }
   }
  },
  {
   "cell_type": "code",
   "execution_count": 10,
   "outputs": [],
   "source": [
    "def clusterCoord(cluster):\n",
    "    singletons = []\n",
    "    doublets = []\n",
    "    higher = []\n",
    "    marked = []\n",
    "    for key in cluster:\n",
    "        exclude = False\n",
    "        for i in range(len(cluster[key])):\n",
    "            if df[df['label'] == cluster[key][i]].to_numpy().size == 0:\n",
    "                print(cluster[key])\n",
    "                exclude = True\n",
    "        if exclude == False:\n",
    "            if len(cluster[key]) == 1:\n",
    "                singletons.append(df[df['label'] == cluster[key][0]][['centroid-0', 'centroid-1']].to_numpy()[0])\n",
    "                marked.append(df[df['label'] == cluster[key][0]][['centroid-0', 'centroid-1']].to_numpy()[0])\n",
    "            elif len(cluster[key]) == 2:\n",
    "                points = np.asarray([df[df['label'] == cluster[key][i]][['centroid-0', 'centroid-1']].to_numpy()[0] for i in range(len(cluster[key]))])\n",
    "                centroid = centeroidPoints(points)\n",
    "                doublets.append(centroid)\n",
    "                marked.append(centroid)\n",
    "                higher.append(centroid)\n",
    "            elif len(cluster[key]) >2:\n",
    "                points = np.asarray([df[df['label'] == cluster[key][i]][['centroid-0', 'centroid-1']].to_numpy()[0] for i in range(len(cluster[key]))])\n",
    "                centroid = centeroidPoints(points)\n",
    "                higher.append(centroid)\n",
    "                marked.append(centroid)\n",
    "\n",
    "    return np.asarray(marked), np.asarray(singletons), np.asarray(doublets), np.asarray(higher)"
   ],
   "metadata": {
    "collapsed": false,
    "pycharm": {
     "name": "#%%\n"
    }
   }
  },
  {
   "cell_type": "code",
   "execution_count": 11,
   "outputs": [],
   "source": [
    "def kNN(array, neighbor):\n",
    "    nbrs = NearestNeighbors(n_neighbors=neighbor, algorithm='ball_tree').fit(array)\n",
    "    distances, indices = nbrs.kneighbors(array)\n",
    "    return nbrs, distances, indices"
   ],
   "metadata": {
    "collapsed": false,
    "pycharm": {
     "name": "#%%\n"
    }
   }
  },
  {
   "cell_type": "code",
   "execution_count": 12,
   "outputs": [],
   "source": [
    "def randomkNNDistances(nucIDs,len, df):\n",
    "    selectedRandom = sample(nucIDs, len)\n",
    "    dfRandom = df[df['label'].isin(selectedRandom)]\n",
    "    nucCoordRandom = dfRandom[['centroid-0', 'centroid-1']].to_numpy()\n",
    "    nbrsRandom = NearestNeighbors(n_neighbors=6, algorithm='ball_tree').fit(nucCoordRandom)\n",
    "    distancesRand, indicesRandom = nbrsRandom.kneighbors(nucCoordRandom)\n",
    "    return distancesRand"
   ],
   "metadata": {
    "collapsed": false,
    "pycharm": {
     "name": "#%%\n"
    }
   }
  },
  {
   "cell_type": "code",
   "execution_count": 13,
   "outputs": [],
   "source": [
    "def randomkNNCluster(nucIDs,lens, df, simulationNumber):\n",
    "    seed(42)\n",
    "    markedRandom = []\n",
    "    singletonRandom = []\n",
    "    doubletRandom = []\n",
    "    higherRandom = []\n",
    "    for _ in range(simulationNumber):\n",
    "        if lens[0] > 7:\n",
    "            markedRandom.append(np.asarray(randomkNNDistances(nucIDs,lens[0], df)))\n",
    "        if lens[1] > 7:\n",
    "            singletonRandom.append(np.asarray(randomkNNDistances(nucIDs, lens[1], df)))\n",
    "        if lens[2] > 7:\n",
    "            doubletRandom.append(np.asarray((randomkNNDistances(nucIDs, lens[2], df))))\n",
    "        if lens[3] > 7:\n",
    "            higherRandom.append(np.asarray(randomkNNDistances(nucIDs, lens[3], df)))\n",
    "    return np.asarray(markedRandom) , np.asarray(singletonRandom), np.asarray(doubletRandom), np.asarray(higherRandom)"
   ],
   "metadata": {
    "collapsed": false,
    "pycharm": {
     "name": "#%%\n"
    }
   }
  },
  {
   "cell_type": "code",
   "execution_count": 14,
   "outputs": [],
   "source": [
    "def dataFrameHelp(age, aorta, values):\n",
    "    df_help = pd.DataFrame(columns= ['age', 'aorta', 'value'])\n",
    "    df_help['value'] = values\n",
    "    df_help['age'] = age\n",
    "    df_help['aorta'] = aorta\n",
    "    return df_help"
   ],
   "metadata": {
    "collapsed": false,
    "pycharm": {
     "name": "#%%\n"
    }
   }
  },
  {
   "cell_type": "code",
   "execution_count": 15,
   "outputs": [],
   "source": [
    "dfMarked1NN = pd.DataFrame(columns= ['age', 'aorta', 'value'])\n",
    "dfMarked2NN = pd.DataFrame(columns= ['age', 'aorta', 'value'])\n",
    "dfMarked3NN = pd.DataFrame(columns= ['age', 'aorta','value'])\n",
    "dfMarked4NN = pd.DataFrame(columns= ['age', 'aorta', 'value'])\n",
    "dfMarked5NN = pd.DataFrame(columns= ['age', 'aorta', 'value'])\n",
    "\n",
    "dfSingleton1NN = pd.DataFrame(columns= ['age', 'aorta',  'value'])\n",
    "dfSingleton2NN = pd.DataFrame(columns= ['age', 'aorta', 'value'])\n",
    "dfSingleton3NN = pd.DataFrame(columns= ['age', 'aorta', 'value'])\n",
    "dfSingleton4NN = pd.DataFrame(columns= ['age', 'aorta', 'value'])\n",
    "dfSingleton5NN = pd.DataFrame(columns= ['age', 'aorta', 'value'])\n",
    "\n",
    "dfDoublet1NN = pd.DataFrame(columns= ['age', 'aorta', 'value'])\n",
    "dfDoublet2NN = pd.DataFrame(columns= ['age', 'aorta', 'value'])\n",
    "dfDoublet3NN = pd.DataFrame(columns= ['age', 'aorta', 'value'])\n",
    "dfDoublet4NN = pd.DataFrame(columns= ['age', 'aorta', 'value'])\n",
    "dfDoublet5NN = pd.DataFrame(columns= ['age', 'aorta', 'value'])\n",
    "\n",
    "#higher = 2+\n",
    "dfHigher1NN = pd.DataFrame(columns= ['age', 'aorta', 'value'])\n",
    "dfHigher2NN = pd.DataFrame(columns= ['age', 'aorta', 'value'])\n",
    "dfHigher3NN = pd.DataFrame(columns= ['age', 'aorta', 'value'])\n",
    "dfHigher4NN = pd.DataFrame(columns= ['age', 'aorta', 'value'])\n",
    "dfHigher5NN = pd.DataFrame(columns= ['age', 'aorta', 'value'])"
   ],
   "metadata": {
    "collapsed": false,
    "pycharm": {
     "name": "#%%\n"
    }
   }
  },
  {
   "cell_type": "code",
   "execution_count": 16,
   "outputs": [
    {
     "name": "stdout",
     "output_type": "stream",
     "text": [
      "10-21\n",
      "aorta01\n",
      "10-21\n",
      "aorta02\n",
      "10-21\n",
      "aorta03\n",
      "10-21\n",
      "aorta04\n",
      "10-21\n",
      "aorta05\n",
      "10-30\n",
      "aorta01\n",
      "10-30\n",
      "aorta02\n",
      "10-30\n",
      "aorta03\n",
      "10-30\n",
      "aorta04\n",
      "10-30\n",
      "aorta05\n",
      "10-30\n",
      "aorta06\n",
      "10-30\n",
      "aorta07\n",
      "10-60\n",
      "aorta01\n",
      "10-60\n",
      "aorta02\n",
      "10-60\n",
      "aorta03\n",
      "10-60\n",
      "aorta04\n",
      "10-60\n",
      "aorta05\n",
      "10-60\n",
      "aorta06\n",
      "21-30\n",
      "aorta01\n",
      "21-30\n",
      "aorta02\n",
      "21-30\n",
      "aorta03\n",
      "21-30\n",
      "aorta04\n",
      "21-30\n",
      "aorta05\n",
      "30-60\n",
      "aorta01\n",
      "30-60\n",
      "aorta02\n",
      "30-60\n",
      "aorta03\n",
      "30-60\n",
      "aorta04\n",
      "30-60\n",
      "aorta05\n",
      "5-10\n",
      "aorta01\n",
      "5-10\n",
      "aorta02\n",
      "5-10\n",
      "aorta03\n",
      "5-10\n",
      "aorta04\n",
      "5-10\n",
      "aorta06\n",
      "5-10\n",
      "aorta07\n",
      "5-10\n",
      "aorta08\n",
      "5-30\n",
      "aorta01\n",
      "5-30\n",
      "aorta02\n",
      "5-30\n",
      "aorta03\n",
      "5-30\n",
      "aorta04\n",
      "5-30\n",
      "aorta05\n",
      "5-30\n",
      "aorta06\n",
      "5-60\n",
      "aorta01\n",
      "5-60\n",
      "aorta02\n",
      "5-60\n",
      "aorta03\n"
     ]
    }
   ],
   "source": [
    "dfMarked = pd.DataFrame()\n",
    "\n",
    "\n",
    "for folder in clusterFolders:\n",
    "    os.chdir(folder)\n",
    "    files = [f for f in listdir(folder) if isfile(join(folder, f)) if \".DS_Store\" not in f if \".npy\" in f if \"._\" not in f if \"clusterSize\" in f]\n",
    "    for file in files:\n",
    "        aorta = folder.split(\"/\")[-1]\n",
    "        age = folder.split(\"/\")[-2]\n",
    "        print(age)\n",
    "        print(aorta)\n",
    "        nucPath = join(nucleiPath, age, aorta)\n",
    "        nucImage = fullNucImage(nucPath)\n",
    "        prop_dict = regionprops_table(nucImage, properties = ('label', 'centroid'))\n",
    "        df = pd.DataFrame(prop_dict)\n",
    "        nucIDs = df['label'].tolist()\n",
    "        cluster = np.load(join(folder,file), allow_pickle=True).item()\n",
    "        marked, singletons, doublets, higher = clusterCoord(cluster)\n",
    "        #lens = [len(marked), len(singletons), len(doublets), len(higher)]\n",
    "        #markedRandom, singletonsRandom, doubletsRandom, higherRandom =  randomkNNCluster(nucIDs,lens, df, 1000)\n",
    "        #markedRandom =  randomkNNCluster(nucIDs,lens, df, 1000)\n",
    "\n",
    "\n",
    "        nbrsMarkedReal, distancesMarkedReal, indicesMarkedReal = kNN(marked, )\n",
    "        dfHelp = pd.DataFrame(distancesMarkedReal)\n",
    "        dfHelp[\"age\"] = age\n",
    "        dfHelp[\"aorta\"] = aorta\n",
    "        dfMarked = pd.concat([dfMarked, dfHelp])\n",
    "        #nbrsSingletonsReal, distancesSingletonsReal, indicesSingletonsReal = kNN(singletons, 6)\n",
    "        #nbrsDoubletsReal, distancesDoubletsReal, indicesDoubletsReal = kNN(doublets, 6)\n",
    "\n",
    "\n",
    "        #dfMarked1NN = dfMarked1NN.append(dataFrameHelp(age, aorta, distancesMarkedReal[:,1]/np.mean(markedRandom[:,:,1].flatten()) -1 ))\n",
    "        #dfMarked2NN = dfMarked2NN.append(dataFrameHelp(age, aorta, distancesMarkedReal[:,2]/np.mean(markedRandom[:,:,2].flatten()) -1 ))\n",
    "        #dfMarked3NN = dfMarked3NN.append(dataFrameHelp(age, aorta, distancesMarkedReal[:,3]/np.mean(markedRandom[:,:,3].flatten()) -1 ))\n",
    "        #dfMarked4NN = dfMarked4NN.append(dataFrameHelp(age, aorta, distancesMarkedReal[:,4]/np.mean(markedRandom[:,:,4].flatten()) -1 ))\n",
    "        #dfMarked5NN = dfMarked5NN.append(dataFrameHelp(age, aorta, distancesMarkedReal[:,5]/np.mean(markedRandom[:,:,5].flatten()) -1 ))\n",
    "\n",
    "        #dfSingleton1NN = dfSingleton1NN.append(dataFrameHelp(age, aorta, distancesSingletonsReal[:,1]/np.mean(singletonsRandom[:,:,1].flatten()) -1 ))\n",
    "        #dfSingleton2NN = dfSingleton2NN.append(dataFrameHelp(age, aorta, distancesSingletonsReal[:,2]/np.mean(singletonsRandom[:,:,2].flatten()) -1 ))\n",
    "        #dfSingleton3NN = dfSingleton3NN.append(dataFrameHelp(age, aorta, distancesSingletonsReal[:,3]/np.mean(singletonsRandom[:,:,3].flatten()) -1 ))\n",
    "        #dfSingleton4NN = dfSingleton4NN.append(dataFrameHelp(age, aorta, distancesSingletonsReal[:,4]/np.mean(singletonsRandom[:,:,4].flatten()) -1 ))\n",
    "        #dfSingleton5NN = dfSingleton5NN.append(dataFrameHelp(age, aorta, distancesSingletonsReal[:,5]/np.mean(singletonsRandom[:,:,5].flatten()) -1 ))\n",
    "\n",
    "        #dfDoublet1NN = dfDoublet1NN.append(dataFrameHelp(age, aorta, distancesDoubletsReal[:,1]/np.mean(doubletsRandom[:,:,1].flatten()) -1 ))\n",
    "        #dfDoublet2NN = dfDoublet2NN.append(dataFrameHelp(age, aorta, distancesDoubletsReal[:,2]/np.mean(doubletsRandom[:,:,2].flatten()) -1 ))\n",
    "        #dfDoublet3NN = dfDoublet3NN.append(dataFrameHelp(age, aorta, distancesDoubletsReal[:,3]/np.mean(doubletsRandom[:,:,3].flatten()) -1 ))\n",
    "        #dfDoublet4NN = dfDoublet4NN.append(dataFrameHelp(age, aorta, distancesDoubletsReal[:,4]/np.mean(doubletsRandom[:,:,4].flatten()) -1 ))\n",
    "        #dfDoublet5NN = dfDoublet5NN.append(dataFrameHelp(age, aorta, distancesDoubletsReal[:,5]/np.mean(doubletsRandom[:,:,5].flatten()) -1 ))\n",
    "\n",
    "        if len(higher) > 7:\n",
    "            nbrsHigherReal, distancesHigherReal, indicesHigherReal = kNN(higher, 6)\n",
    "            #dfHigher1NN = dfHigher1NN.append(dataFrameHelp(age, aorta, distancesHigherReal[:,1]/np.mean(higherRandom[:,:,1].flatten()) -1 ))\n",
    "            #dfHigher2NN = dfHigher2NN.append(dataFrameHelp(age, aorta, distancesHigherReal[:,2]/np.mean(higherRandom[:,:,2].flatten()) -1 ))\n",
    "            #dfHigher3NN = dfHigher3NN.append(dataFrameHelp(age, aorta, distancesHigherReal[:,3]/np.mean(higherRandom[:,:,3].flatten()) -1 ))\n",
    "            #dfHigher4NN = dfHigher4NN.append(dataFrameHelp(age, aorta, distancesHigherReal[:,4]/np.mean(higherRandom[:,:,4].flatten()) -1 ))\n",
    "            #dfHigher5NN = dfHigher5NN.append(dataFrameHelp(age, aorta, distancesHigherReal[:,5]/np.mean(higherRandom[:,:,5].flatten()) -1 ))"
   ],
   "metadata": {
    "collapsed": false,
    "pycharm": {
     "name": "#%%\n"
    }
   }
  },
  {
   "cell_type": "code",
   "execution_count": null,
   "outputs": [],
   "source": [
    "folder = clusterFolders[16]"
   ],
   "metadata": {
    "collapsed": false,
    "pycharm": {
     "name": "#%%\n"
    }
   }
  },
  {
   "cell_type": "code",
   "execution_count": null,
   "outputs": [],
   "source": [
    "files = [f for f in listdir(folder) if isfile(join(folder, f)) if \".DS_Store\" not in f if \".npy\" in f if \"._\" not in f if \"clusterSize\" in f]\n",
    "for file in files:\n",
    "    aorta = folder.split(\"/\")[-1]\n",
    "    age = folder.split(\"/\")[-2]\n",
    "    print(age)\n",
    "    print(aorta)\n",
    "    nucPath = join(nucleiPath, age, aorta)\n",
    "    nucImage = fullNucImage(nucPath)\n",
    "    prop_dict = regionprops_table(nucImage, properties = ('label', 'centroid'))\n",
    "    df = pd.DataFrame(prop_dict)"
   ],
   "metadata": {
    "collapsed": false,
    "pycharm": {
     "name": "#%%\n"
    }
   }
  },
  {
   "cell_type": "code",
   "execution_count": null,
   "outputs": [],
   "source": [
    "df"
   ],
   "metadata": {
    "collapsed": false,
    "pycharm": {
     "name": "#%%\n"
    }
   }
  },
  {
   "cell_type": "code",
   "execution_count": null,
   "outputs": [],
   "source": [
    "clusters = np.load(join(folder,file), allow_pickle=True).item()\n",
    "clusters"
   ],
   "metadata": {
    "collapsed": false,
    "pycharm": {
     "name": "#%%\n"
    }
   }
  },
  {
   "cell_type": "code",
   "execution_count": null,
   "outputs": [],
   "source": [
    "dfNucLabels = pd.DataFrame()\n",
    "for index in clusters:\n",
    "    dfHelp = pd.DataFrame({\"label\": clusters[index], \"cluster\": np.full(len(clusters[index]),index)})\n",
    "    dfNucLabels = pd.concat([dfNucLabels, dfHelp], ignore_index= True)"
   ],
   "metadata": {
    "collapsed": false,
    "pycharm": {
     "name": "#%%\n"
    }
   }
  },
  {
   "cell_type": "code",
   "execution_count": null,
   "outputs": [],
   "source": [
    "dfNucLabels"
   ],
   "metadata": {
    "collapsed": false,
    "pycharm": {
     "name": "#%%\n"
    }
   }
  },
  {
   "cell_type": "code",
   "execution_count": null,
   "outputs": [],
   "source": [
    "dfMerged = df.merge(dfNucLabels, on=\"label\", how=\"left\")"
   ],
   "metadata": {
    "collapsed": false,
    "pycharm": {
     "name": "#%%\n"
    }
   }
  },
  {
   "cell_type": "code",
   "execution_count": null,
   "outputs": [],
   "source": [
    "dfMerged"
   ],
   "metadata": {
    "collapsed": false,
    "pycharm": {
     "name": "#%%\n"
    }
   }
  },
  {
   "cell_type": "code",
   "execution_count": null,
   "outputs": [],
   "source": [
    "dfMerged['cluster'] = dfMerged['cluster'].fillna(0)"
   ],
   "metadata": {
    "collapsed": false,
    "pycharm": {
     "name": "#%%\n"
    }
   }
  },
  {
   "cell_type": "code",
   "execution_count": null,
   "outputs": [],
   "source": [
    "dfFiltered = dfMerged.loc[dfMerged[\"cluster\"] > 0]"
   ],
   "metadata": {
    "collapsed": false,
    "pycharm": {
     "name": "#%%\n"
    }
   }
  },
  {
   "cell_type": "code",
   "execution_count": null,
   "outputs": [],
   "source": [
    "dfFiltered"
   ],
   "metadata": {
    "collapsed": false,
    "pycharm": {
     "name": "#%%\n"
    }
   }
  },
  {
   "cell_type": "code",
   "execution_count": null,
   "outputs": [],
   "source": [],
   "metadata": {
    "collapsed": false,
    "pycharm": {
     "name": "#%%\n"
    }
   }
  },
  {
   "cell_type": "code",
   "execution_count": 87,
   "outputs": [],
   "source": [
    "dfFiltered = dfFiltered.reset_index(drop=True)\n",
    "dfFiltered = dfFiltered.reset_index(drop=False)"
   ],
   "metadata": {
    "collapsed": false,
    "pycharm": {
     "name": "#%%\n"
    }
   }
  },
  {
   "cell_type": "code",
   "execution_count": 88,
   "outputs": [
    {
     "data": {
      "text/plain": "     index   label   centroid-0   centroid-1  cluster\n0        0   10052    26.653846   311.307692     15.0\n1        1   10053    27.846154   181.461538     14.0\n2        2   10092    48.320000   240.000000     32.0\n3        3   10100    49.458333   321.750000     41.0\n4        4   10109    55.500000   175.500000     35.0\n..     ...     ...          ...          ...      ...\n853    853  160564  1453.444444  1233.740741    810.0\n854    854  160568  1457.029412  1196.676471    811.0\n855    855  160579  1462.962963  1160.111111    823.0\n856    856  160587  1467.000000  1061.080000    818.0\n857    857  160589  1467.000000  1178.000000    824.0\n\n[858 rows x 5 columns]",
      "text/html": "<div>\n<style scoped>\n    .dataframe tbody tr th:only-of-type {\n        vertical-align: middle;\n    }\n\n    .dataframe tbody tr th {\n        vertical-align: top;\n    }\n\n    .dataframe thead th {\n        text-align: right;\n    }\n</style>\n<table border=\"1\" class=\"dataframe\">\n  <thead>\n    <tr style=\"text-align: right;\">\n      <th></th>\n      <th>index</th>\n      <th>label</th>\n      <th>centroid-0</th>\n      <th>centroid-1</th>\n      <th>cluster</th>\n    </tr>\n  </thead>\n  <tbody>\n    <tr>\n      <th>0</th>\n      <td>0</td>\n      <td>10052</td>\n      <td>26.653846</td>\n      <td>311.307692</td>\n      <td>15.0</td>\n    </tr>\n    <tr>\n      <th>1</th>\n      <td>1</td>\n      <td>10053</td>\n      <td>27.846154</td>\n      <td>181.461538</td>\n      <td>14.0</td>\n    </tr>\n    <tr>\n      <th>2</th>\n      <td>2</td>\n      <td>10092</td>\n      <td>48.320000</td>\n      <td>240.000000</td>\n      <td>32.0</td>\n    </tr>\n    <tr>\n      <th>3</th>\n      <td>3</td>\n      <td>10100</td>\n      <td>49.458333</td>\n      <td>321.750000</td>\n      <td>41.0</td>\n    </tr>\n    <tr>\n      <th>4</th>\n      <td>4</td>\n      <td>10109</td>\n      <td>55.500000</td>\n      <td>175.500000</td>\n      <td>35.0</td>\n    </tr>\n    <tr>\n      <th>...</th>\n      <td>...</td>\n      <td>...</td>\n      <td>...</td>\n      <td>...</td>\n      <td>...</td>\n    </tr>\n    <tr>\n      <th>853</th>\n      <td>853</td>\n      <td>160564</td>\n      <td>1453.444444</td>\n      <td>1233.740741</td>\n      <td>810.0</td>\n    </tr>\n    <tr>\n      <th>854</th>\n      <td>854</td>\n      <td>160568</td>\n      <td>1457.029412</td>\n      <td>1196.676471</td>\n      <td>811.0</td>\n    </tr>\n    <tr>\n      <th>855</th>\n      <td>855</td>\n      <td>160579</td>\n      <td>1462.962963</td>\n      <td>1160.111111</td>\n      <td>823.0</td>\n    </tr>\n    <tr>\n      <th>856</th>\n      <td>856</td>\n      <td>160587</td>\n      <td>1467.000000</td>\n      <td>1061.080000</td>\n      <td>818.0</td>\n    </tr>\n    <tr>\n      <th>857</th>\n      <td>857</td>\n      <td>160589</td>\n      <td>1467.000000</td>\n      <td>1178.000000</td>\n      <td>824.0</td>\n    </tr>\n  </tbody>\n</table>\n<p>858 rows × 5 columns</p>\n</div>"
     },
     "execution_count": 88,
     "metadata": {},
     "output_type": "execute_result"
    }
   ],
   "source": [
    "dfFiltered"
   ],
   "metadata": {
    "collapsed": false,
    "pycharm": {
     "name": "#%%\n"
    }
   }
  },
  {
   "cell_type": "code",
   "execution_count": 76,
   "outputs": [],
   "source": [
    "nbrsNuc, distancesNuc, indicesNuc = kNN(dfFiltered.iloc[:,1:3], 17)"
   ],
   "metadata": {
    "collapsed": false,
    "pycharm": {
     "name": "#%%\n"
    }
   }
  },
  {
   "cell_type": "code",
   "execution_count": 80,
   "outputs": [
    {
     "data": {
      "text/plain": "array([[  0,   3,   2, ...,  11,  12,   8],\n       [  1,   4,   5, ...,  14,  10,  11],\n       [  2,   6,   1, ...,  13,  11,  14],\n       ...,\n       [855, 857, 851, ..., 842, 841, 852],\n       [856, 804, 850, ..., 857, 846, 793],\n       [857, 855, 854, ..., 852, 841, 856]])"
     },
     "execution_count": 80,
     "metadata": {},
     "output_type": "execute_result"
    }
   ],
   "source": [
    "indicesNuc"
   ],
   "metadata": {
    "collapsed": false,
    "pycharm": {
     "name": "#%%\n"
    }
   }
  },
  {
   "cell_type": "code",
   "execution_count": null,
   "outputs": [],
   "source": [],
   "metadata": {
    "collapsed": false,
    "pycharm": {
     "name": "#%%\n"
    }
   }
  },
  {
   "cell_type": "code",
   "execution_count": null,
   "outputs": [],
   "source": [],
   "metadata": {
    "collapsed": false,
    "pycharm": {
     "name": "#%%\n"
    }
   }
  },
  {
   "cell_type": "code",
   "execution_count": 77,
   "outputs": [
    {
     "data": {
      "text/plain": "array([[  0.        ,  25.08159535,  74.52656711, ..., 161.62021147,\n        168.41397154, 178.63528562],\n       [  0.        ,  28.2891348 ,  50.28547752, ..., 211.04704956,\n        216.44910166, 217.20055355],\n       [  0.        ,  41.16022641,  62.0155614 , ..., 164.17560115,\n        165.0061964 , 170.04118028],\n       ...,\n       [  0.        ,  18.33875715,  31.78424862, ..., 103.88782102,\n        111.8232518 , 119.91167303],\n       [  0.        ,  33.91955778,  56.05583288, ..., 116.92      ,\n        118.30891712, 119.93615811],\n       [  0.        ,  18.33875715,  21.17128204, ..., 102.57813777,\n        114.5010917 , 116.92      ]])"
     },
     "execution_count": 77,
     "metadata": {},
     "output_type": "execute_result"
    }
   ],
   "source": [
    "distancesNuc"
   ],
   "metadata": {
    "collapsed": false,
    "pycharm": {
     "name": "#%%\n"
    }
   }
  },
  {
   "cell_type": "code",
   "execution_count": null,
   "outputs": [],
   "source": [],
   "metadata": {
    "collapsed": false,
    "pycharm": {
     "name": "#%%\n"
    }
   }
  },
  {
   "cell_type": "code",
   "execution_count": 41,
   "outputs": [
    {
     "data": {
      "text/plain": "   nucID  label\n0  30124     11\n1  30140     11\n2  30172     11",
      "text/html": "<div>\n<style scoped>\n    .dataframe tbody tr th:only-of-type {\n        vertical-align: middle;\n    }\n\n    .dataframe tbody tr th {\n        vertical-align: top;\n    }\n\n    .dataframe thead th {\n        text-align: right;\n    }\n</style>\n<table border=\"1\" class=\"dataframe\">\n  <thead>\n    <tr style=\"text-align: right;\">\n      <th></th>\n      <th>nucID</th>\n      <th>label</th>\n    </tr>\n  </thead>\n  <tbody>\n    <tr>\n      <th>0</th>\n      <td>30124</td>\n      <td>11</td>\n    </tr>\n    <tr>\n      <th>1</th>\n      <td>30140</td>\n      <td>11</td>\n    </tr>\n    <tr>\n      <th>2</th>\n      <td>30172</td>\n      <td>11</td>\n    </tr>\n  </tbody>\n</table>\n</div>"
     },
     "execution_count": 41,
     "metadata": {},
     "output_type": "execute_result"
    }
   ],
   "source": [
    "dfHelp"
   ],
   "metadata": {
    "collapsed": false,
    "pycharm": {
     "name": "#%%\n"
    }
   }
  },
  {
   "cell_type": "code",
   "execution_count": 54,
   "outputs": [
    {
     "name": "stdout",
     "output_type": "stream",
     "text": [
      "[30051]\n",
      "[40042]\n",
      "[10053]\n",
      "[10052]\n",
      "[20051]\n",
      "[40057]\n",
      "[20115]\n",
      "[30096]\n",
      "[30124, 30140, 30172]\n",
      "[40077]\n",
      "[20097]\n",
      "[30109, 30179]\n",
      "[10092]\n",
      "[40078]\n",
      "[10109]\n",
      "[20122]\n",
      "[20133]\n",
      "[10100]\n",
      "[30141]\n",
      "[40086]\n",
      "[40102]\n",
      "[40099]\n",
      "[40115]\n",
      "[20153]\n",
      "[30181, 30216]\n",
      "[40120]\n",
      "[30199]\n",
      "[40125, 40153]\n",
      "[30197]\n",
      "[40135]\n",
      "[30221]\n",
      "[10152]\n",
      "[20232]\n",
      "[20241]\n",
      "[30241]\n",
      "[10172]\n",
      "[30249]\n",
      "[20274]\n",
      "[20267]\n",
      "[20293, 20314, 20321]\n",
      "[40204]\n",
      "[40194]\n",
      "[30335]\n",
      "[20317, 20327, 20351, 20368, 20372]\n",
      "[30325, 30358, 30389]\n",
      "[30363, 30403]\n",
      "[20357]\n",
      "[20379]\n",
      "[30362]\n",
      "[30372, 30387]\n",
      "[40247]\n",
      "[40255]\n",
      "[20385]\n",
      "[20373]\n",
      "[30422]\n",
      "[10275]\n",
      "[10258]\n",
      "[40284]\n",
      "[30414]\n",
      "[40276]\n",
      "[30444, 30493]\n",
      "[40297, 40339]\n",
      "[30439]\n",
      "[20428, 20488, 20500]\n",
      "[40308]\n",
      "[10292]\n",
      "[20438]\n",
      "[20436]\n",
      "[40314]\n",
      "[20465]\n",
      "[20475]\n",
      "[30485]\n",
      "[30523]\n",
      "[30504]\n",
      "[10314, 10319]\n",
      "[30520, 30569]\n",
      "[40333]\n",
      "[20521]\n",
      "[10323, 10354, 10367]\n",
      "[20532]\n",
      "[20543]\n",
      "[40370]\n",
      "[20536]\n",
      "[30543]\n",
      "[10350]\n",
      "[30571]\n",
      "[40371]\n",
      "[20541]\n",
      "[20545]\n",
      "[20565, 20616]\n",
      "[40394, 40408]\n",
      "[40385]\n",
      "[30615]\n",
      "[30622]\n",
      "[40399]\n",
      "[40437]\n",
      "[30631]\n",
      "[40413]\n",
      "[30658]\n",
      "[30641]\n",
      "[30654]\n",
      "[30628]\n",
      "[40430, 40451]\n",
      "[20604]\n",
      "[40418]\n",
      "[10382]\n",
      "[20627]\n",
      "[20668, 20722, 20752]\n",
      "[30667, 30689]\n",
      "[40440]\n",
      "[30704, 30773]\n",
      "[30705]\n",
      "[10414]\n",
      "[10406, 10441]\n",
      "[20660]\n",
      "[40454]\n",
      "[20727]\n",
      "[20698]\n",
      "[20699]\n",
      "[30734]\n",
      "[40498]\n",
      "[20688]\n",
      "[20745, 20797, 20841]\n",
      "[10439]\n",
      "[20718, 20773]\n",
      "[30756]\n",
      "[20739, 20789]\n",
      "[30799]\n",
      "[30774, 30817, 30842]\n",
      "[30767]\n",
      "[10438]\n",
      "[20758, 20851]\n",
      "[20754]\n",
      "[40549]\n",
      "[10486]\n",
      "[30837]\n",
      "[30869]\n",
      "[20834]\n",
      "[30880, 30936, 30977]\n",
      "[20833]\n",
      "[40571]\n",
      "[10499]\n",
      "[20876]\n",
      "[10521, 10559]\n",
      "[30905]\n",
      "[30896, 30935]\n",
      "[40627]\n",
      "[40620]\n",
      "[10508]\n",
      "[20897]\n",
      "[20915]\n",
      "[40615]\n",
      "[40634, 40665]\n",
      "[10510, 10538, 10550]\n",
      "[30911]\n",
      "[40636]\n",
      "[10529]\n",
      "[30953]\n",
      "[10548]\n",
      "[20930]\n",
      "[20925]\n",
      "[30984, 31014, 70020, 70056]\n",
      "[20936, 20972]\n",
      "[40673]\n",
      "[10542]\n",
      "[30989]\n",
      "[40669]\n",
      "[20971]\n",
      "[40675, 40678]\n",
      "[31008]\n",
      "[80004]\n",
      "[80023]\n",
      "[60017]\n",
      "[80032]\n",
      "[70024, 70073]\n",
      "[70059]\n",
      "[70074]\n",
      "[60151, 60152, 60068, 60069]\n",
      "[70067, 70115]\n",
      "[60077]\n",
      "[80049, 80065]\n",
      "[50055, 50063, 50090]\n",
      "[70110]\n",
      "[50041]\n",
      "[60114, 60145, 60178]\n",
      "[80082]\n",
      "[80084]\n",
      "[80076, 80092, 80113]\n",
      "[70156]\n",
      "[80087]\n",
      "[70127, 70128, 70209, 70247, 70273]\n",
      "[70170]\n",
      "[60166]\n",
      "[70165]\n",
      "[60175, 60238]\n",
      "[80127]\n",
      "[70185]\n",
      "[60197]\n",
      "[70168, 70217, 70233]\n",
      "[60194, 60263, 60317]\n",
      "[70122]\n",
      "[80144]\n",
      "[60227, 60313]\n",
      "[60241]\n",
      "[70303]\n",
      "[80162]\n",
      "[60249]\n",
      "[60247]\n",
      "[70246]\n",
      "[70278, 70309]\n",
      "[70268]\n",
      "[70255, 70271]\n",
      "[60310, 60339]\n",
      "[60309]\n",
      "[80202]\n",
      "[60328]\n",
      "[60357, 60379]\n",
      "[60319, 60333]\n",
      "[70340, 70406]\n",
      "[70358]\n",
      "[80240]\n",
      "[60350]\n",
      "[80257, 80285]\n",
      "[50163, 50176]\n",
      "[70405, 70427, 70466]\n",
      "[80262, 80282]\n",
      "[50183]\n",
      "[50199, 50233]\n",
      "[60424]\n",
      "[60405]\n",
      "[80292, 80325]\n",
      "[50202, 50208]\n",
      "[80293]\n",
      "[60437]\n",
      "[60433]\n",
      "[80286]\n",
      "[60455]\n",
      "[70467]\n",
      "[60456]\n",
      "[70473]\n",
      "[50207]\n",
      "[50218, 50272]\n",
      "[60483]\n",
      "[70530]\n",
      "[50229, 50244, 50249, 50262]\n",
      "[50245, 50265]\n",
      "[60534, 60547]\n",
      "[60528]\n",
      "[70541, 70559]\n",
      "[80348]\n",
      "[60551]\n",
      "[70547]\n",
      "[80357, 80368, 80386]\n",
      "[80367]\n",
      "[80392]\n",
      "[60556]\n",
      "[70577]\n",
      "[70578]\n",
      "[80401]\n",
      "[50296, 50329]\n",
      "[80412]\n",
      "[50328, 50349, 50351]\n",
      "[60601]\n",
      "[60620]\n",
      "[50308]\n",
      "[70691]\n",
      "[60579, 60607, 60656, 60707, 60723, 60812]\n",
      "[70690]\n",
      "[80429]\n",
      "[60622, 60654]\n",
      "[70686]\n",
      "[70704]\n",
      "[60682]\n",
      "[60715, 60764, 60838]\n",
      "[80473]\n",
      "[80493]\n",
      "[70768]\n",
      "[70747, 70784, 70685]\n",
      "[80494]\n",
      "[60741]\n",
      "[60757]\n",
      "[70766]\n",
      "[50383, 50402]\n",
      "[50389]\n",
      "[80513]\n",
      "[70783]\n",
      "[70777]\n",
      "[70837]\n",
      "[80521]\n",
      "[70823]\n",
      "[50397]\n",
      "[80534, 80564, 80592, 80594]\n",
      "[60823]\n",
      "[80546]\n",
      "[60851]\n",
      "[50430, 50445]\n",
      "[50417]\n",
      "[60866]\n",
      "[70907]\n",
      "[60883]\n",
      "[50432]\n",
      "[70899, 70910]\n",
      "[60878]\n",
      "[70883]\n",
      "[60900]\n",
      "[70927, 70988]\n",
      "[50452, 50463, 50480]\n",
      "[50458]\n",
      "[50441, 50472, 50489]\n",
      "[60907]\n",
      "[70971]\n",
      "[70967]\n",
      "[60953]\n",
      "[70977, 70993]\n",
      "[60977]\n",
      "[100026]\n",
      "[71002]\n",
      "[50490]\n",
      "[71023]\n",
      "[100031]\n",
      "[100014]\n",
      "[100016]\n",
      "[90026]\n",
      "[100024, 100044]\n",
      "[120010]\n",
      "[110049]\n",
      "[120025]\n",
      "[100067, 100072, 100166]\n",
      "[100062]\n",
      "[110046]\n",
      "[100076]\n",
      "[110076, 110143]\n",
      "[90050]\n",
      "[100103]\n",
      "[120082]\n",
      "[90080]\n",
      "[90079]\n",
      "[100145, 100199]\n",
      "[110144]\n",
      "[110138]\n",
      "[90095]\n",
      "[120083]\n",
      "[120097]\n",
      "[120085, 120090]\n",
      "[100160]\n",
      "[110183]\n",
      "[110186]\n",
      "[120096, 120151]\n",
      "[100197]\n",
      "[110162, 110261]\n",
      "[110181]\n",
      "[120116]\n",
      "[90089, 90125]\n",
      "[110189]\n",
      "[110219]\n",
      "[120125]\n",
      "[90103]\n",
      "[90123, 90135, 90164]\n",
      "[100211, 100272]\n",
      "[100291]\n",
      "[110239]\n",
      "[100226]\n",
      "[120147]\n",
      "[100261]\n",
      "[100243]\n",
      "[90126, 90152]\n",
      "[100299]\n",
      "[100268]\n",
      "[90127]\n",
      "[110271, 110354]\n",
      "[120163, 120183]\n",
      "[120174]\n",
      "[110299, 110377]\n",
      "[110330]\n",
      "[100307]\n",
      "[100287, 100318]\n",
      "[90149]\n",
      "[90163, 90165]\n",
      "[110338]\n",
      "[100320, 100367]\n",
      "[110390]\n",
      "[110358]\n",
      "[110362, 110429, 110462, 110501, 110506]\n",
      "[100364]\n",
      "[120214]\n",
      "[120216]\n",
      "[90186]\n",
      "[90182]\n",
      "[100386]\n",
      "[90205]\n",
      "[90204]\n",
      "[110460]\n",
      "[90235]\n",
      "[120259]\n",
      "[110448, 110497]\n",
      "[120278]\n",
      "[120265]\n",
      "[100450]\n",
      "[90220, 90256, 90285]\n",
      "[100432]\n",
      "[120297]\n",
      "[110494]\n",
      "[110498]\n",
      "[120283]\n",
      "[90237]\n",
      "[100486]\n",
      "[100460]\n",
      "[110530, 110590]\n",
      "[90238]\n",
      "[120295]\n",
      "[110525]\n",
      "[90250]\n",
      "[120311]\n",
      "[100510]\n",
      "[90272]\n",
      "[100499]\n",
      "[110563, 110616]\n",
      "[90258]\n",
      "[120317]\n",
      "[110528, 110583]\n",
      "[90290]\n",
      "[90278]\n",
      "[110641]\n",
      "[120350, 120372, 120409]\n",
      "[120371]\n",
      "[100593]\n",
      "[100607]\n",
      "[100626, 100672]\n",
      "[110668]\n",
      "[120389]\n",
      "[100609]\n",
      "[100614]\n",
      "[100637]\n",
      "[110695]\n",
      "[110715, 110735]\n",
      "[100650]\n",
      "[110723]\n",
      "[110757]\n",
      "[120432, 120450, 120461]\n",
      "[90364]\n",
      "[120425]\n",
      "[90363, 90434]\n",
      "[110750]\n",
      "[120445]\n",
      "[110775]\n",
      "[100701]\n",
      "[110781, 110827]\n",
      "[110804]\n",
      "[100731]\n",
      "[100730, 100776]\n",
      "[120469]\n",
      "[120474, 120535]\n",
      "[100788, 100879]\n",
      "[110879]\n",
      "[120473]\n",
      "[100773]\n",
      "[100775]\n",
      "[100814]\n",
      "[110894]\n",
      "[120519]\n",
      "[110922]\n",
      "[100825]\n",
      "[100829]\n",
      "[120542]\n",
      "[120553, 120584]\n",
      "[120563]\n",
      "[90450]\n",
      "[100860]\n",
      "[100833]\n",
      "[110956]\n",
      "[90449]\n",
      "[90428, 90441, 90442]\n",
      "[110969, 111013, 111044]\n",
      "[120574, 120595]\n",
      "[120576]\n",
      "[111022]\n",
      "[111014]\n",
      "[120589, 160003]\n",
      "[111011, 150001]\n",
      "[111025]\n",
      "[150008]\n",
      "[111034]\n",
      "[120591]\n",
      "[130007]\n",
      "[130009]\n",
      "[90489]\n",
      "[150060]\n",
      "[130021]\n",
      "[150057]\n",
      "[160028]\n",
      "[160042]\n",
      "[140001, 140039]\n",
      "[140096]\n",
      "[160047, 160083]\n",
      "[130049]\n",
      "[140088, 140157]\n",
      "[150093, 150102]\n",
      "[130017]\n",
      "[140098]\n",
      "[160058]\n",
      "[130050]\n",
      "[160082]\n",
      "[140137]\n",
      "[150118]\n",
      "[150122]\n",
      "[150132]\n",
      "[130063, 130079]\n",
      "[160081]\n",
      "[160112]\n",
      "[150161, 150165]\n",
      "[150151]\n",
      "[150189, 150223, 150237, 150278]\n",
      "[140195]\n",
      "[160123]\n",
      "[140213, 140227]\n",
      "[150222, 150259]\n",
      "[150227]\n",
      "[160128]\n",
      "[160125, 160130]\n",
      "[140231]\n",
      "[130119, 130137]\n",
      "[150226, 150267, 150268]\n",
      "[140104, 140154, 140171]\n",
      "[150225, 150254]\n",
      "[140245]\n",
      "[150248, 150321, 150340]\n",
      "[150238, 150265]\n",
      "[150261]\n",
      "[130124]\n",
      "[130127]\n",
      "[150298, 150352]\n",
      "[160158]\n",
      "[160175]\n",
      "[160185]\n",
      "[160187]\n",
      "[140278]\n",
      "[150307]\n",
      "[150331, 150396, 150459]\n",
      "[140300]\n",
      "[130151]\n",
      "[160204]\n",
      "[160218]\n",
      "[160224]\n",
      "[160207, 160228, 160268]\n",
      "[150369]\n",
      "[150378]\n",
      "[150379]\n",
      "[140335]\n",
      "[150407, 150456]\n",
      "[160259]\n",
      "[160274]\n",
      "[140437]\n",
      "[140390]\n",
      "[150416, 150474, 150485]\n",
      "[150466, 150470, 150491]\n",
      "[150499]\n",
      "[160301]\n",
      "[130211]\n",
      "[130223, 130229, 130236, 130255, 130261]\n",
      "[140406]\n",
      "[150581]\n",
      "[140469]\n",
      "[150588]\n",
      "[160308]\n",
      "[150548]\n",
      "[160370]\n",
      "[160374, 160387]\n",
      "[160397]\n",
      "[150578]\n",
      "[140510]\n",
      "[150592]\n",
      "[140520, 140564, 140581]\n",
      "[140532, 140576, 140585, 140613]\n",
      "[140548]\n",
      "[150632, 150646]\n",
      "[130289, 130310]\n",
      "[150663]\n",
      "[140603]\n",
      "[130320]\n",
      "[150700]\n",
      "[160442]\n",
      "[150715]\n",
      "[150705]\n",
      "[140626]\n",
      "[160431]\n",
      "[150706]\n",
      "[160444]\n",
      "[130326]\n",
      "[150716]\n",
      "[130334]\n",
      "[150769]\n",
      "[140688]\n",
      "[140692]\n",
      "[140703]\n",
      "[140709]\n",
      "[130364]\n",
      "[160488, 160515]\n",
      "[130354]\n",
      "[140712]\n",
      "[150815, 150869, 150932]\n",
      "[160511]\n",
      "[150827, 150863]\n",
      "[160506]\n",
      "[150833]\n",
      "[150845, 150906, 150917]\n",
      "[130374, 130382]\n",
      "[140775]\n",
      "[140752]\n",
      "[160544]\n",
      "[130388]\n",
      "[140756]\n",
      "[150919]\n",
      "[150862]\n",
      "[160552]\n",
      "[160509, 160564]\n",
      "[160568]\n",
      "[160562]\n",
      "[140797, 140820]\n",
      "[140800]\n",
      "[150947, 150951]\n",
      "[140803]\n",
      "[160587]\n",
      "[130416]\n",
      "[150942]\n",
      "[150944]\n",
      "[150940]\n",
      "[160579]\n",
      "[160589]\n",
      "[60088, 60128]\n",
      "[130200]\n",
      "[100748, 100766, 100772]\n",
      "[70638, 70687, 70742]\n"
     ]
    }
   ],
   "source": [],
   "metadata": {
    "collapsed": false,
    "pycharm": {
     "name": "#%%\n"
    }
   }
  },
  {
   "cell_type": "code",
   "execution_count": 44,
   "outputs": [
    {
     "data": {
      "text/plain": "{11: [30051],\n 13: [40042],\n 14: [10053],\n 15: [10052],\n 16: [20051],\n 20: [40057],\n 21: [20115],\n 22: [30096],\n 24: [30124, 30140, 30172],\n 26: [40077],\n 27: [20097],\n 28: [30109, 30179],\n 32: [10092],\n 33: [40078],\n 35: [10109],\n 36: [20122],\n 38: [20133],\n 41: [10100],\n 43: [30141],\n 44: [40086],\n 45: [40102],\n 46: [40099],\n 50: [40115],\n 51: [20153],\n 53: [30181, 30216],\n 54: [40120],\n 55: [30199],\n 56: [40125, 40153],\n 57: [30197],\n 58: [40135],\n 60: [30221],\n 61: [10152],\n 64: [20232],\n 65: [20241],\n 68: [30241],\n 70: [10172],\n 71: [30249],\n 73: [20274],\n 78: [20267],\n 79: [20293, 20314, 20321],\n 80: [40204],\n 82: [40194],\n 86: [30335],\n 87: [20317, 20327, 20351, 20368, 20372],\n 88: [30325, 30358, 30389],\n 90: [30363, 30403],\n 92: [20357],\n 93: [20379],\n 94: [30362],\n 96: [30372, 30387],\n 98: [40247],\n 99: [40255],\n 100: [20385],\n 101: [20373],\n 102: [30422],\n 104: [10275],\n 105: [10258],\n 106: [40284],\n 107: [30414],\n 108: [40276],\n 111: [30444, 30493],\n 112: [40297, 40339],\n 114: [30439],\n 115: [20428, 20488, 20500],\n 116: [40308],\n 117: [10292],\n 118: [20438],\n 119: [20436],\n 121: [40314],\n 122: [20465],\n 123: [20475],\n 126: [30485],\n 127: [30523],\n 128: [30504],\n 129: [10314, 10319],\n 130: [30520, 30569],\n 131: [40333],\n 132: [20521],\n 133: [10323, 10354, 10367],\n 134: [20532],\n 135: [20543],\n 136: [40370],\n 137: [20536],\n 138: [30543],\n 139: [10350],\n 140: [30571],\n 141: [40371],\n 142: [20541],\n 143: [20545],\n 144: [20565, 20616],\n 145: [40394, 40408],\n 146: [40385],\n 147: [30615],\n 148: [30622],\n 149: [40399],\n 150: [40437],\n 151: [30631],\n 152: [40413],\n 153: [30658],\n 154: [30641],\n 155: [30654],\n 156: [30628],\n 157: [40430, 40451],\n 158: [20604],\n 159: [40418],\n 160: [10382],\n 161: [20627],\n 162: [20668, 20722, 20752],\n 163: [30667, 30689],\n 164: [40440],\n 166: [30704, 30773],\n 167: [30705],\n 169: [10414],\n 170: [10406, 10441],\n 171: [20660],\n 172: [40454],\n 174: [20727],\n 176: [20698],\n 177: [20699],\n 178: [30734],\n 179: [40498],\n 180: [20688],\n 182: [20745, 20797, 20841],\n 184: [10439],\n 185: [20718, 20773],\n 187: [30756],\n 188: [20739, 20789],\n 190: [30799],\n 191: [30774, 30817, 30842],\n 192: [30767],\n 193: [10438],\n 194: [20758, 20851],\n 195: [20754],\n 196: [40549],\n 198: [10486],\n 199: [30837],\n 201: [30869],\n 202: [20834],\n 205: [30880, 30936, 30977],\n 206: [20833],\n 207: [40571],\n 208: [10499],\n 209: [20876],\n 211: [10521, 10559],\n 212: [30905],\n 213: [30896, 30935],\n 214: [40627],\n 215: [40620],\n 216: [10508],\n 217: [20897],\n 218: [20915],\n 220: [40615],\n 223: [40634, 40665],\n 224: [10510, 10538, 10550],\n 225: [30911],\n 226: [40636],\n 227: [10529],\n 229: [30953],\n 231: [10548],\n 232: [20930],\n 233: [20925],\n 234: [30984, 31014, 70020, 70056],\n 235: [20936, 20972],\n 236: [40673],\n 237: [10542],\n 238: [30989],\n 240: [40669],\n 241: [20971],\n 242: [40675, 40678],\n 243: [31008],\n 244: [80004],\n 245: [80023],\n 246: [60017],\n 247: [80032],\n 248: [70024, 70073],\n 249: [70059],\n 250: [70074],\n 251: [60151, 60152, 60068, 60069],\n 252: [70067, 70115],\n 255: [60077],\n 256: [80049, 80065],\n 257: [50055, 50063, 50090],\n 258: [70110],\n 259: [50041],\n 260: [60114, 60145, 60178],\n 264: [80082],\n 265: [80084],\n 266: [80076, 80092, 80113],\n 267: [70156],\n 268: [80087],\n 269: [70127, 70128, 70209, 70247, 70273],\n 270: [70170],\n 271: [60166],\n 272: [70165],\n 273: [60175, 60238],\n 275: [80127],\n 277: [70185],\n 280: [60197],\n 281: [70168, 70217, 70233],\n 282: [60194, 60263, 60317],\n 283: [70122],\n 284: [80144],\n 286: [60227, 60313],\n 289: [60241],\n 290: [70303],\n 291: [80162],\n 292: [60249],\n 293: [60247],\n 294: [70246],\n 295: [70278, 70309],\n 296: [70268],\n 297: [70255, 70271],\n 298: [60310, 60339],\n 299: [60309],\n 300: [80202],\n 302: [60328],\n 303: [60357, 60379],\n 304: [60319, 60333],\n 305: [70340, 70406],\n 306: [70358],\n 308: [80240],\n 310: [60350],\n 311: [80257, 80285],\n 312: [50163, 50176],\n 316: [70405, 70427, 70466],\n 319: [80262, 80282],\n 320: [50183],\n 321: [50199, 50233],\n 322: [60424],\n 323: [60405],\n 324: [80292, 80325],\n 325: [50202, 50208],\n 326: [80293],\n 328: [60437],\n 329: [60433],\n 330: [80286],\n 331: [60455],\n 332: [70467],\n 333: [60456],\n 334: [70473],\n 335: [50207],\n 336: [50218, 50272],\n 339: [60483],\n 340: [70530],\n 341: [50229, 50244, 50249, 50262],\n 342: [50245, 50265],\n 343: [60534, 60547],\n 344: [60528],\n 345: [70541, 70559],\n 346: [80348],\n 347: [60551],\n 349: [70547],\n 350: [80357, 80368, 80386],\n 352: [80367],\n 353: [80392],\n 354: [60556],\n 355: [70577],\n 356: [70578],\n 359: [80401],\n 361: [50296, 50329],\n 362: [80412],\n 363: [50328, 50349, 50351],\n 364: [60601],\n 365: [60620],\n 366: [50308],\n 368: [70691],\n 369: [60579, 60607, 60656, 60707, 60723, 60812],\n 372: [70690],\n 373: [80429],\n 374: [60622, 60654],\n 375: [70686],\n 378: [70704],\n 379: [60682],\n 380: [60715, 60764, 60838],\n 381: [80473],\n 382: [80493],\n 384: [70768],\n 385: [70747, 70784, 70685],\n 386: [80494],\n 387: [60741],\n 388: [60757],\n 389: [70766],\n 390: [50383, 50402],\n 391: [50389],\n 392: [80513],\n 394: [70783],\n 395: [70777],\n 397: [70837],\n 399: [80521],\n 400: [70823],\n 401: [50397],\n 402: [80534, 80564, 80592, 80594],\n 403: [60823],\n 405: [80546],\n 406: [60851],\n 407: [50430, 50445],\n 408: [50417],\n 409: [60866],\n 410: [70907],\n 411: [60883],\n 412: [50432],\n 413: [70899, 70910],\n 414: [60878],\n 415: [70883],\n 416: [60900],\n 417: [70927, 70988],\n 418: [50452, 50463, 50480],\n 419: [50458],\n 421: [50441, 50472, 50489],\n 422: [60907],\n 424: [70971],\n 426: [70967],\n 427: [60953],\n 428: [70977, 70993],\n 429: [60977],\n 433: [100026],\n 434: [71002],\n 435: [50490],\n 436: [71023],\n 439: [100031],\n 440: [100014],\n 441: [100016],\n 442: [90026],\n 443: [100024, 100044],\n 444: [120010],\n 445: [110049],\n 446: [120025],\n 447: [100067, 100072, 100166],\n 448: [100062],\n 449: [110046],\n 451: [100076],\n 452: [110076, 110143],\n 453: [90050],\n 454: [100103],\n 456: [120082],\n 458: [90080],\n 459: [90079],\n 460: [100145, 100199],\n 461: [110144],\n 463: [110138],\n 464: [90095],\n 466: [120083],\n 467: [120097],\n 468: [120085, 120090],\n 470: [100160],\n 471: [110183],\n 472: [110186],\n 473: [120096, 120151],\n 474: [100197],\n 475: [110162, 110261],\n 476: [110181],\n 477: [120116],\n 478: [90089, 90125],\n 479: [110189],\n 480: [110219],\n 481: [120125],\n 482: [90103],\n 483: [90123, 90135, 90164],\n 484: [100211, 100272],\n 485: [100291],\n 486: [110239],\n 487: [100226],\n 489: [120147],\n 491: [100261],\n 493: [100243],\n 494: [90126, 90152],\n 495: [100299],\n 496: [100268],\n 497: [90127],\n 499: [110271, 110354],\n 500: [120163, 120183],\n 501: [120174],\n 502: [110299, 110377],\n 503: [110330],\n 504: [100307],\n 505: [100287, 100318],\n 506: [90149],\n 508: [90163, 90165],\n 509: [110338],\n 511: [100320, 100367],\n 515: [110390],\n 516: [110358],\n 517: [110362, 110429, 110462, 110501, 110506],\n 518: [100364],\n 519: [120214],\n 520: [120216],\n 521: [90186],\n 522: [90182],\n 523: [100386],\n 525: [90205],\n 526: [90204],\n 527: [110460],\n 528: [90235],\n 529: [120259],\n 530: [110448, 110497],\n 531: [120278],\n 532: [120265],\n 533: [100450],\n 534: [90220, 90256, 90285],\n 535: [100432],\n 536: [120297],\n 537: [110494],\n 538: [110498],\n 539: [120283],\n 541: [90237],\n 542: [100486],\n 543: [100460],\n 544: [110530, 110590],\n 545: [90238],\n 546: [120295],\n 547: [110525],\n 548: [90250],\n 549: [120311],\n 551: [100510],\n 552: [90272],\n 553: [100499],\n 554: [110563, 110616],\n 555: [90258],\n 556: [120317],\n 557: [110528, 110583],\n 558: [90290],\n 559: [90278],\n 561: [110641],\n 562: [120350, 120372, 120409],\n 563: [120371],\n 565: [100593],\n 568: [100607],\n 569: [100626, 100672],\n 570: [110668],\n 571: [120389],\n 572: [100609],\n 573: [100614],\n 576: [100637],\n 577: [110695],\n 578: [110715, 110735],\n 579: [100650],\n 580: [110723],\n 581: [110757],\n 582: [120432, 120450, 120461],\n 584: [90364],\n 586: [120425],\n 588: [90363, 90434],\n 589: [110750],\n 590: [120445],\n 591: [110775],\n 592: [100701],\n 593: [110781, 110827],\n 596: [110804],\n 597: [100731],\n 598: [100730, 100776],\n 599: [120469],\n 600: [120474, 120535],\n 602: [100788, 100879],\n 603: [110879],\n 604: [120473],\n 605: [100773],\n 606: [100775],\n 609: [100814],\n 611: [110894],\n 612: [120519],\n 614: [110922],\n 615: [100825],\n 616: [100829],\n 617: [120542],\n 618: [120553, 120584],\n 619: [120563],\n 620: [90450],\n 621: [100860],\n 622: [100833],\n 623: [110956],\n 624: [90449],\n 625: [90428, 90441, 90442],\n 628: [110969, 111013, 111044],\n 629: [120574, 120595],\n 630: [120576],\n 631: [111022],\n 632: [111014],\n 633: [120589, 160003],\n 634: [111011, 150001],\n 636: [111025],\n 637: [150008],\n 638: [111034],\n 639: [120591],\n 640: [130007],\n 641: [130009],\n 643: [90489],\n 647: [150060],\n 648: [130021],\n 649: [150057],\n 650: [160028],\n 651: [160042],\n 652: [140001, 140039],\n 653: [140096],\n 654: [160047, 160083],\n 655: [130049],\n 656: [140088, 140157],\n 657: [150093, 150102],\n 658: [130017],\n 659: [140098],\n 660: [160058],\n 661: [130050],\n 662: [160082],\n 665: [140137],\n 666: [150118],\n 667: [150122],\n 668: [150132],\n 669: [130063, 130079],\n 670: [160081],\n 673: [160112],\n 674: [150161, 150165],\n 675: [150151],\n 677: [150189, 150223, 150237, 150278],\n 678: [140195],\n 680: [160123],\n 681: [140213, 140227],\n 682: [150222, 150259],\n 683: [150227],\n 684: [160128],\n 685: [160125, 160130],\n 686: [140231],\n 688: [130119, 130137],\n 689: [150226, 150267, 150268],\n 690: [140104, 140154, 140171],\n 691: [150225, 150254],\n 692: [140245],\n 693: [150248, 150321, 150340],\n 694: [150238, 150265],\n 695: [150261],\n 696: [130124],\n 697: [130127],\n 699: [150298, 150352],\n 700: [160158],\n 702: [160175],\n 703: [160185],\n 704: [160187],\n 705: [140278],\n 706: [150307],\n 707: [150331, 150396, 150459],\n 708: [140300],\n 710: [130151],\n 711: [160204],\n 712: [160218],\n 713: [160224],\n 714: [160207, 160228, 160268],\n 716: [150369],\n 717: [150378],\n 718: [150379],\n 719: [140335],\n 722: [150407, 150456],\n 724: [160259],\n 727: [160274],\n 728: [140437],\n 729: [140390],\n 730: [150416, 150474, 150485],\n 731: [150466, 150470, 150491],\n 733: [150499],\n 734: [160301],\n 735: [130211],\n 736: [130223, 130229, 130236, 130255, 130261],\n 737: [140406],\n 739: [150581],\n 742: [140469],\n 744: [150588],\n 745: [160308],\n 747: [150548],\n 748: [160370],\n 750: [160374, 160387],\n 751: [160397],\n 754: [150578],\n 755: [140510],\n 756: [150592],\n 758: [140520, 140564, 140581],\n 759: [140532, 140576, 140585, 140613],\n 761: [140548],\n 762: [150632, 150646],\n 763: [130289, 130310],\n 766: [150663],\n 767: [140603],\n 768: [130320],\n 769: [150700],\n 770: [160442],\n 772: [150715],\n 773: [150705],\n 774: [140626],\n 775: [160431],\n 776: [150706],\n 777: [160444],\n 778: [130326],\n 779: [150716],\n 780: [130334],\n 781: [150769],\n 782: [140688],\n 783: [140692],\n 785: [140703],\n 786: [140709],\n 788: [130364],\n 789: [160488, 160515],\n 790: [130354],\n 791: [140712],\n 792: [150815, 150869, 150932],\n 793: [160511],\n 795: [150827, 150863],\n 797: [160506],\n 798: [150833],\n 799: [150845, 150906, 150917],\n 800: [130374, 130382],\n 801: [140775],\n 802: [140752],\n 804: [160544],\n 805: [130388],\n 806: [140756],\n 807: [150919],\n 808: [150862],\n 809: [160552],\n 810: [160509, 160564],\n 811: [160568],\n 812: [160562],\n 813: [140797, 140820],\n 815: [140800],\n 816: [150947, 150951],\n 817: [140803],\n 818: [160587],\n 819: [130416],\n 820: [150942],\n 821: [150944],\n 822: [150940],\n 823: [160579],\n 824: [160589],\n 253: [60088, 60128],\n 738: [130200],\n 601: [100748, 100766, 100772],\n 383: [70638, 70687, 70742]}"
     },
     "execution_count": 44,
     "metadata": {},
     "output_type": "execute_result"
    }
   ],
   "source": [
    "clusters"
   ],
   "metadata": {
    "collapsed": false,
    "pycharm": {
     "name": "#%%\n"
    }
   }
  },
  {
   "cell_type": "code",
   "execution_count": 46,
   "outputs": [
    {
     "ename": "AttributeError",
     "evalue": "'dict' object has no attribute 'iterkeys'",
     "output_type": "error",
     "traceback": [
      "\u001B[0;31m---------------------------------------------------------------------------\u001B[0m",
      "\u001B[0;31mAttributeError\u001B[0m                            Traceback (most recent call last)",
      "Input \u001B[0;32mIn [46]\u001B[0m, in \u001B[0;36m<cell line: 1>\u001B[0;34m()\u001B[0m\n\u001B[0;32m----> 1\u001B[0m \u001B[38;5;28;01mfor\u001B[39;00m key \u001B[38;5;129;01min\u001B[39;00m \u001B[43mclusters\u001B[49m\u001B[38;5;241;43m.\u001B[39;49m\u001B[43miterkeys\u001B[49m():\n\u001B[1;32m      2\u001B[0m     \u001B[38;5;28mprint\u001B[39m(key)\n",
      "\u001B[0;31mAttributeError\u001B[0m: 'dict' object has no attribute 'iterkeys'"
     ]
    }
   ],
   "source": [
    "for key in clusters.iterkeys():\n",
    "    print(key)"
   ],
   "metadata": {
    "collapsed": false,
    "pycharm": {
     "name": "#%%\n"
    }
   }
  },
  {
   "cell_type": "code",
   "execution_count": null,
   "outputs": [],
   "source": [
    "for cluster in clusters:"
   ],
   "metadata": {
    "collapsed": false,
    "pycharm": {
     "name": "#%%\n"
    }
   }
  },
  {
   "cell_type": "code",
   "execution_count": null,
   "outputs": [],
   "source": [
    "for i in len(cluster):\n",
    "    df"
   ],
   "metadata": {
    "collapsed": false,
    "pycharm": {
     "name": "#%%\n"
    }
   }
  },
  {
   "cell_type": "code",
   "execution_count": 35,
   "outputs": [
    {
     "name": "stderr",
     "output_type": "stream",
     "text": [
      "/var/folders/6r/4p5g0w_j4jv11sr24nv1b0140000gn/T/ipykernel_59057/3536713633.py:1: SettingWithCopyWarning: \n",
      "A value is trying to be set on a copy of a slice from a DataFrame.\n",
      "Try using .loc[row_indexer,col_indexer] = value instead\n",
      "\n",
      "See the caveats in the documentation: https://pandas.pydata.org/pandas-docs/stable/user_guide/indexing.html#returning-a-view-versus-a-copy\n",
      "  df.loc[df['label'] ==  30051]['label'] = 11\n"
     ]
    }
   ],
   "source": [
    "df.loc[df['label'] ==  30051]['label'] = 11"
   ],
   "metadata": {
    "collapsed": false,
    "pycharm": {
     "name": "#%%\n"
    }
   }
  },
  {
   "cell_type": "code",
   "execution_count": 36,
   "outputs": [
    {
     "data": {
      "text/plain": "        label   centroid-0   centroid-1\n0       10001     2.812500   116.000000\n1       10002     3.347826   173.043478\n2       10003     3.782609   192.739130\n3       10004     4.481481   197.740741\n4       10005     1.400000   221.600000\n...       ...          ...          ...\n12427  160625  1487.625000  1143.875000\n12428  160626  1487.950000  1169.600000\n12429  160627  1488.150000  1060.450000\n12430  160628  1488.227273  1103.909091\n12431  160629  1488.000000  1122.400000\n\n[12432 rows x 3 columns]",
      "text/html": "<div>\n<style scoped>\n    .dataframe tbody tr th:only-of-type {\n        vertical-align: middle;\n    }\n\n    .dataframe tbody tr th {\n        vertical-align: top;\n    }\n\n    .dataframe thead th {\n        text-align: right;\n    }\n</style>\n<table border=\"1\" class=\"dataframe\">\n  <thead>\n    <tr style=\"text-align: right;\">\n      <th></th>\n      <th>label</th>\n      <th>centroid-0</th>\n      <th>centroid-1</th>\n    </tr>\n  </thead>\n  <tbody>\n    <tr>\n      <th>0</th>\n      <td>10001</td>\n      <td>2.812500</td>\n      <td>116.000000</td>\n    </tr>\n    <tr>\n      <th>1</th>\n      <td>10002</td>\n      <td>3.347826</td>\n      <td>173.043478</td>\n    </tr>\n    <tr>\n      <th>2</th>\n      <td>10003</td>\n      <td>3.782609</td>\n      <td>192.739130</td>\n    </tr>\n    <tr>\n      <th>3</th>\n      <td>10004</td>\n      <td>4.481481</td>\n      <td>197.740741</td>\n    </tr>\n    <tr>\n      <th>4</th>\n      <td>10005</td>\n      <td>1.400000</td>\n      <td>221.600000</td>\n    </tr>\n    <tr>\n      <th>...</th>\n      <td>...</td>\n      <td>...</td>\n      <td>...</td>\n    </tr>\n    <tr>\n      <th>12427</th>\n      <td>160625</td>\n      <td>1487.625000</td>\n      <td>1143.875000</td>\n    </tr>\n    <tr>\n      <th>12428</th>\n      <td>160626</td>\n      <td>1487.950000</td>\n      <td>1169.600000</td>\n    </tr>\n    <tr>\n      <th>12429</th>\n      <td>160627</td>\n      <td>1488.150000</td>\n      <td>1060.450000</td>\n    </tr>\n    <tr>\n      <th>12430</th>\n      <td>160628</td>\n      <td>1488.227273</td>\n      <td>1103.909091</td>\n    </tr>\n    <tr>\n      <th>12431</th>\n      <td>160629</td>\n      <td>1488.000000</td>\n      <td>1122.400000</td>\n    </tr>\n  </tbody>\n</table>\n<p>12432 rows × 3 columns</p>\n</div>"
     },
     "execution_count": 36,
     "metadata": {},
     "output_type": "execute_result"
    }
   ],
   "source": [
    "df"
   ],
   "metadata": {
    "collapsed": false,
    "pycharm": {
     "name": "#%%\n"
    }
   }
  },
  {
   "cell_type": "code",
   "execution_count": null,
   "outputs": [],
   "source": [],
   "metadata": {
    "collapsed": false,
    "pycharm": {
     "name": "#%%\n"
    }
   }
  },
  {
   "cell_type": "code",
   "execution_count": null,
   "outputs": [],
   "source": [],
   "metadata": {
    "collapsed": false,
    "pycharm": {
     "name": "#%%\n"
    }
   }
  },
  {
   "cell_type": "code",
   "execution_count": null,
   "outputs": [],
   "source": [],
   "metadata": {
    "collapsed": false,
    "pycharm": {
     "name": "#%%\n"
    }
   }
  },
  {
   "cell_type": "code",
   "execution_count": null,
   "outputs": [],
   "source": [],
   "metadata": {
    "collapsed": false,
    "pycharm": {
     "name": "#%%\n"
    }
   }
  },
  {
   "cell_type": "code",
   "execution_count": 19,
   "outputs": [],
   "source": [
    "savePath = \"/Users/jones/Downloads\"\n",
    "dfMarked.to_csv(join(savePath, \"markedkNN_1.csv\"), index=False)"
   ],
   "metadata": {
    "collapsed": false,
    "pycharm": {
     "name": "#%%\n"
    }
   }
  },
  {
   "cell_type": "code",
   "execution_count": null,
   "outputs": [],
   "source": [],
   "metadata": {
    "collapsed": false,
    "pycharm": {
     "name": "#%%\n"
    }
   }
  },
  {
   "cell_type": "code",
   "execution_count": 17,
   "outputs": [],
   "source": [
    "dfMarked1NN['kNNType'] = \"1NN\"\n",
    "dfMarked2NN['kNNType'] = \"2NN\"\n",
    "dfMarked3NN['kNNType'] = \"3NN\"\n",
    "dfMarked4NN['kNNType'] = \"4NN\"\n",
    "dfMarked5NN['kNNType'] = \"5NN\"\n",
    "dfMarkedAll = pd.concat([dfMarked1NN, dfMarked2NN, dfMarked3NN, dfMarked4NN, dfMarked5NN])"
   ],
   "metadata": {
    "collapsed": false,
    "pycharm": {
     "name": "#%%\n"
    }
   }
  },
  {
   "cell_type": "code",
   "execution_count": 18,
   "outputs": [
    {
     "data": {
      "text/plain": "       age    aorta     value kNNType\n0    10-21  aorta01  0.538041     1NN\n1    10-21  aorta01 -0.102917     1NN\n2    10-21  aorta01   0.05403     1NN\n3    10-21  aorta01  -0.06548     1NN\n4    10-21  aorta01  0.943803     1NN\n..     ...      ...       ...     ...\n365   5-60  aorta03  0.042522     5NN\n366   5-60  aorta03  0.056376     5NN\n367   5-60  aorta03  0.117743     5NN\n368   5-60  aorta03   0.07381     5NN\n369   5-60  aorta03  0.081142     5NN\n\n[86265 rows x 4 columns]",
      "text/html": "<div>\n<style scoped>\n    .dataframe tbody tr th:only-of-type {\n        vertical-align: middle;\n    }\n\n    .dataframe tbody tr th {\n        vertical-align: top;\n    }\n\n    .dataframe thead th {\n        text-align: right;\n    }\n</style>\n<table border=\"1\" class=\"dataframe\">\n  <thead>\n    <tr style=\"text-align: right;\">\n      <th></th>\n      <th>age</th>\n      <th>aorta</th>\n      <th>value</th>\n      <th>kNNType</th>\n    </tr>\n  </thead>\n  <tbody>\n    <tr>\n      <th>0</th>\n      <td>10-21</td>\n      <td>aorta01</td>\n      <td>0.538041</td>\n      <td>1NN</td>\n    </tr>\n    <tr>\n      <th>1</th>\n      <td>10-21</td>\n      <td>aorta01</td>\n      <td>-0.102917</td>\n      <td>1NN</td>\n    </tr>\n    <tr>\n      <th>2</th>\n      <td>10-21</td>\n      <td>aorta01</td>\n      <td>0.05403</td>\n      <td>1NN</td>\n    </tr>\n    <tr>\n      <th>3</th>\n      <td>10-21</td>\n      <td>aorta01</td>\n      <td>-0.06548</td>\n      <td>1NN</td>\n    </tr>\n    <tr>\n      <th>4</th>\n      <td>10-21</td>\n      <td>aorta01</td>\n      <td>0.943803</td>\n      <td>1NN</td>\n    </tr>\n    <tr>\n      <th>...</th>\n      <td>...</td>\n      <td>...</td>\n      <td>...</td>\n      <td>...</td>\n    </tr>\n    <tr>\n      <th>365</th>\n      <td>5-60</td>\n      <td>aorta03</td>\n      <td>0.042522</td>\n      <td>5NN</td>\n    </tr>\n    <tr>\n      <th>366</th>\n      <td>5-60</td>\n      <td>aorta03</td>\n      <td>0.056376</td>\n      <td>5NN</td>\n    </tr>\n    <tr>\n      <th>367</th>\n      <td>5-60</td>\n      <td>aorta03</td>\n      <td>0.117743</td>\n      <td>5NN</td>\n    </tr>\n    <tr>\n      <th>368</th>\n      <td>5-60</td>\n      <td>aorta03</td>\n      <td>0.07381</td>\n      <td>5NN</td>\n    </tr>\n    <tr>\n      <th>369</th>\n      <td>5-60</td>\n      <td>aorta03</td>\n      <td>0.081142</td>\n      <td>5NN</td>\n    </tr>\n  </tbody>\n</table>\n<p>86265 rows × 4 columns</p>\n</div>"
     },
     "execution_count": 18,
     "metadata": {},
     "output_type": "execute_result"
    }
   ],
   "source": [
    "dfMarkedAll"
   ],
   "metadata": {
    "collapsed": false,
    "pycharm": {
     "name": "#%%\n"
    }
   }
  },
  {
   "cell_type": "code",
   "execution_count": 19,
   "outputs": [],
   "source": [
    "dfHigher1NN['kNNType'] = \"1NN\"\n",
    "dfHigher2NN['kNNType'] = \"2NN\"\n",
    "dfHigher3NN['kNNType'] = \"3NN\"\n",
    "dfHigher4NN['kNNType'] = \"4NN\"\n",
    "dfHigher5NN['kNNType'] = \"5NN\"\n",
    "dfHigherAll = pd.concat([dfHigher1NN, dfHigher2NN, dfHigher3NN, dfHigher4NN, dfHigher5NN])"
   ],
   "metadata": {
    "collapsed": false,
    "pycharm": {
     "name": "#%%\n"
    }
   }
  },
  {
   "cell_type": "code",
   "execution_count": 20,
   "outputs": [
    {
     "data": {
      "text/plain": "       age    aorta     value kNNType\n0    10-21  aorta01  0.082806     1NN\n1    10-21  aorta01  0.082806     1NN\n2    10-21  aorta01  0.145923     1NN\n3    10-21  aorta01  0.751155     1NN\n4    10-21  aorta01 -0.099933     1NN\n..     ...      ...       ...     ...\n130   5-60  aorta03  0.100092     5NN\n131   5-60  aorta03  0.117213     5NN\n132   5-60  aorta03  0.482328     5NN\n133   5-60  aorta03 -0.055743     5NN\n134   5-60  aorta03  0.013121     5NN\n\n[28290 rows x 4 columns]",
      "text/html": "<div>\n<style scoped>\n    .dataframe tbody tr th:only-of-type {\n        vertical-align: middle;\n    }\n\n    .dataframe tbody tr th {\n        vertical-align: top;\n    }\n\n    .dataframe thead th {\n        text-align: right;\n    }\n</style>\n<table border=\"1\" class=\"dataframe\">\n  <thead>\n    <tr style=\"text-align: right;\">\n      <th></th>\n      <th>age</th>\n      <th>aorta</th>\n      <th>value</th>\n      <th>kNNType</th>\n    </tr>\n  </thead>\n  <tbody>\n    <tr>\n      <th>0</th>\n      <td>10-21</td>\n      <td>aorta01</td>\n      <td>0.082806</td>\n      <td>1NN</td>\n    </tr>\n    <tr>\n      <th>1</th>\n      <td>10-21</td>\n      <td>aorta01</td>\n      <td>0.082806</td>\n      <td>1NN</td>\n    </tr>\n    <tr>\n      <th>2</th>\n      <td>10-21</td>\n      <td>aorta01</td>\n      <td>0.145923</td>\n      <td>1NN</td>\n    </tr>\n    <tr>\n      <th>3</th>\n      <td>10-21</td>\n      <td>aorta01</td>\n      <td>0.751155</td>\n      <td>1NN</td>\n    </tr>\n    <tr>\n      <th>4</th>\n      <td>10-21</td>\n      <td>aorta01</td>\n      <td>-0.099933</td>\n      <td>1NN</td>\n    </tr>\n    <tr>\n      <th>...</th>\n      <td>...</td>\n      <td>...</td>\n      <td>...</td>\n      <td>...</td>\n    </tr>\n    <tr>\n      <th>130</th>\n      <td>5-60</td>\n      <td>aorta03</td>\n      <td>0.100092</td>\n      <td>5NN</td>\n    </tr>\n    <tr>\n      <th>131</th>\n      <td>5-60</td>\n      <td>aorta03</td>\n      <td>0.117213</td>\n      <td>5NN</td>\n    </tr>\n    <tr>\n      <th>132</th>\n      <td>5-60</td>\n      <td>aorta03</td>\n      <td>0.482328</td>\n      <td>5NN</td>\n    </tr>\n    <tr>\n      <th>133</th>\n      <td>5-60</td>\n      <td>aorta03</td>\n      <td>-0.055743</td>\n      <td>5NN</td>\n    </tr>\n    <tr>\n      <th>134</th>\n      <td>5-60</td>\n      <td>aorta03</td>\n      <td>0.013121</td>\n      <td>5NN</td>\n    </tr>\n  </tbody>\n</table>\n<p>28290 rows × 4 columns</p>\n</div>"
     },
     "execution_count": 20,
     "metadata": {},
     "output_type": "execute_result"
    }
   ],
   "source": [
    "dfHigherAll"
   ],
   "metadata": {
    "collapsed": false,
    "pycharm": {
     "name": "#%%\n"
    }
   }
  },
  {
   "cell_type": "code",
   "execution_count": 21,
   "outputs": [],
   "source": [
    "savePath = \"/Users/jones/Downloads\"\n",
    "dfMarkedAll.to_csv(join(savePath, \"markedClustersRedkNN_3.csv\"), index=False)\n",
    "dfHigherAll.to_csv(join(savePath, \"dividedClustersRedkNN_3.csv\"), index=False)"
   ],
   "metadata": {
    "collapsed": false,
    "pycharm": {
     "name": "#%%\n"
    }
   }
  },
  {
   "cell_type": "code",
   "execution_count": null,
   "outputs": [],
   "source": [],
   "metadata": {
    "collapsed": false,
    "pycharm": {
     "name": "#%%\n"
    }
   }
  },
  {
   "cell_type": "code",
   "execution_count": 17,
   "outputs": [
    {
     "data": {
      "text/plain": "       age     aorta     value\n0    10-21  C5RB-002  0.538909\n1    10-21  C5RB-002 -0.102411\n2    10-21  C5RB-002  0.054624\n3    10-21  C5RB-002 -0.064953\n4    10-21  C5RB-002  0.944899\n..     ...       ...       ...\n365   5-60  C5RB-050 -0.680801\n366   5-60  C5RB-050 -0.214692\n367   5-60  C5RB-050  0.417867\n368   5-60  C5RB-050  0.061219\n369   5-60  C5RB-050 -0.035162\n\n[15372 rows x 3 columns]",
      "text/html": "<div>\n<style scoped>\n    .dataframe tbody tr th:only-of-type {\n        vertical-align: middle;\n    }\n\n    .dataframe tbody tr th {\n        vertical-align: top;\n    }\n\n    .dataframe thead th {\n        text-align: right;\n    }\n</style>\n<table border=\"1\" class=\"dataframe\">\n  <thead>\n    <tr style=\"text-align: right;\">\n      <th></th>\n      <th>age</th>\n      <th>aorta</th>\n      <th>value</th>\n    </tr>\n  </thead>\n  <tbody>\n    <tr>\n      <th>0</th>\n      <td>10-21</td>\n      <td>C5RB-002</td>\n      <td>0.538909</td>\n    </tr>\n    <tr>\n      <th>1</th>\n      <td>10-21</td>\n      <td>C5RB-002</td>\n      <td>-0.102411</td>\n    </tr>\n    <tr>\n      <th>2</th>\n      <td>10-21</td>\n      <td>C5RB-002</td>\n      <td>0.054624</td>\n    </tr>\n    <tr>\n      <th>3</th>\n      <td>10-21</td>\n      <td>C5RB-002</td>\n      <td>-0.064953</td>\n    </tr>\n    <tr>\n      <th>4</th>\n      <td>10-21</td>\n      <td>C5RB-002</td>\n      <td>0.944899</td>\n    </tr>\n    <tr>\n      <th>...</th>\n      <td>...</td>\n      <td>...</td>\n      <td>...</td>\n    </tr>\n    <tr>\n      <th>365</th>\n      <td>5-60</td>\n      <td>C5RB-050</td>\n      <td>-0.680801</td>\n    </tr>\n    <tr>\n      <th>366</th>\n      <td>5-60</td>\n      <td>C5RB-050</td>\n      <td>-0.214692</td>\n    </tr>\n    <tr>\n      <th>367</th>\n      <td>5-60</td>\n      <td>C5RB-050</td>\n      <td>0.417867</td>\n    </tr>\n    <tr>\n      <th>368</th>\n      <td>5-60</td>\n      <td>C5RB-050</td>\n      <td>0.061219</td>\n    </tr>\n    <tr>\n      <th>369</th>\n      <td>5-60</td>\n      <td>C5RB-050</td>\n      <td>-0.035162</td>\n    </tr>\n  </tbody>\n</table>\n<p>15372 rows × 3 columns</p>\n</div>"
     },
     "execution_count": 17,
     "metadata": {},
     "output_type": "execute_result"
    }
   ],
   "source": [
    "dfMarked1NN = dfMarked1NN.drop('kNNType', axis=1)\n"
   ],
   "metadata": {
    "collapsed": false,
    "pycharm": {
     "name": "#%%\n"
    }
   }
  },
  {
   "cell_type": "code",
   "execution_count": 18,
   "outputs": [],
   "source": [
    "dfMarked2NN = dfMarked2NN.drop('kNNType', axis=1)\n",
    "dfMarked3NN = dfMarked3NN.drop('kNNType', axis=1)\n",
    "dfMarked4NN = dfMarked4NN.drop('kNNType', axis=1)\n",
    "dfMarked5NN = dfMarked5NN.drop('kNNType', axis=1)\n",
    "\n",
    "dfSingleton1NN = dfSingleton1NN.drop('kNNType', axis=1)\n",
    "dfSingleton2NN = dfSingleton2NN.drop('kNNType', axis=1)\n",
    "dfSingleton3NN = dfSingleton3NN.drop('kNNType', axis=1)\n",
    "dfSingleton4NN = dfSingleton4NN.drop('kNNType', axis=1)\n",
    "dfSingleton5NN = dfSingleton5NN.drop('kNNType', axis=1)\n",
    "\n",
    "dfDoublet1NN = dfDoublet1NN.drop('kNNType', axis=1)\n",
    "dfDoublet2NN = dfDoublet2NN.drop('kNNType', axis=1)\n",
    "dfDoublet3NN = dfDoublet3NN.drop('kNNType', axis=1)\n",
    "dfDoublet4NN = dfDoublet4NN.drop('kNNType', axis=1)\n",
    "dfDoublet5NN = dfDoublet5NN.drop('kNNType', axis=1)"
   ],
   "metadata": {
    "collapsed": false,
    "pycharm": {
     "name": "#%%\n"
    }
   }
  },
  {
   "cell_type": "code",
   "execution_count": 20,
   "outputs": [],
   "source": [
    "savePath = \"/Volumes/Aortas/Aorta/results/inducedRainbow/spatialPattern\"\n",
    "dfMarked1NN.to_csv(join(savePath, \"markedNorm1NN.csv\"), index=False)\n",
    "dfMarked2NN.to_csv(join(savePath, \"markedNorm2NN.csv\"), index=False)\n",
    "dfMarked3NN.to_csv(join(savePath, \"markedNorm3NN.csv\"), index=False)\n",
    "dfMarked4NN.to_csv(join(savePath, \"markedNorm4NN.csv\"), index=False)\n",
    "dfMarked5NN.to_csv(join(savePath, \"markedNorm5NN.csv\"), index=False)\n",
    "\n",
    "dfSingleton1NN.to_csv(join(savePath, \"singletonNorm1NN.csv\"), index=False)\n",
    "dfSingleton2NN.to_csv(join(savePath, \"singletonNorm2NN.csv\"), index=False)\n",
    "dfSingleton3NN.to_csv(join(savePath, \"singletonNorm3NN.csv\"), index=False)\n",
    "dfSingleton4NN.to_csv(join(savePath, \"singletonNorm4NN.csv\"), index=False)\n",
    "dfSingleton5NN.to_csv(join(savePath, \"singletonNorm5NN.csv\"), index=False)\n",
    "\n",
    "dfDoublet1NN.to_csv(join(savePath, \"doubletNorm1NN.csv\"), index=False)\n",
    "dfDoublet2NN.to_csv(join(savePath, \"doubletNorm2NN.csv\"), index=False)\n",
    "dfDoublet3NN.to_csv(join(savePath, \"doubletNorm3NN.csv\"), index=False)\n",
    "dfDoublet4NN.to_csv(join(savePath, \"doubletNorm4NN.csv\"), index=False)\n",
    "dfDoublet5NN.to_csv(join(savePath, \"doubletNorm5NN.csv\"), index=False)"
   ],
   "metadata": {
    "collapsed": false,
    "pycharm": {
     "name": "#%%\n"
    }
   }
  },
  {
   "cell_type": "code",
   "execution_count": 20,
   "outputs": [],
   "source": [],
   "metadata": {
    "collapsed": false,
    "pycharm": {
     "name": "#%%\n"
    }
   }
  },
  {
   "cell_type": "code",
   "execution_count": 21,
   "outputs": [
    {
     "data": {
      "text/plain": "[90229, 90243]"
     },
     "execution_count": 21,
     "metadata": {},
     "output_type": "execute_result"
    }
   ],
   "source": [
    "cluster[641]"
   ],
   "metadata": {
    "collapsed": false,
    "pycharm": {
     "name": "#%%\n"
    }
   }
  },
  {
   "cell_type": "code",
   "execution_count": 24,
   "outputs": [],
   "source": [
    "np.save(\"/Volumes/Aortas/Aorta/segmentations/inducedRainbow/final/red/5-10/C5RB-002/clusterSizeRedP5-10_aorta_C5RB-002_60Thres_updated.npy\", cluster)"
   ],
   "metadata": {
    "collapsed": false,
    "pycharm": {
     "name": "#%%\n"
    }
   }
  },
  {
   "cell_type": "code",
   "execution_count": null,
   "outputs": [],
   "source": [],
   "metadata": {
    "collapsed": false,
    "pycharm": {
     "name": "#%%\n"
    }
   }
  },
  {
   "cell_type": "code",
   "execution_count": null,
   "outputs": [],
   "source": [],
   "metadata": {
    "collapsed": false,
    "pycharm": {
     "name": "#%%\n"
    }
   }
  },
  {
   "cell_type": "code",
   "execution_count": 13,
   "outputs": [],
   "source": [
    "folder = clusterFolders[5]"
   ],
   "metadata": {
    "collapsed": false,
    "pycharm": {
     "name": "#%%\n"
    }
   }
  },
  {
   "cell_type": "code",
   "execution_count": 16,
   "outputs": [],
   "source": [
    "os.chdir(folder)\n",
    "files = [f for f in listdir(folder) if isfile(join(folder, f)) if \".DS_Store\" not in f if \".npy\" in f if \"._\" not in f if \"clusterSize\" in f]\n",
    "for file in files:\n",
    "    aorta = folder.split(\"/\")[-1]\n",
    "    age = folder.split(\"/\")[-2]\n",
    "    nucPath = join(nucleiPath, age, aorta)\n",
    "    nucImage = fullNucImage(nucPath)\n",
    "    prop_dict = regionprops_table(nucImage, properties = ('label', 'centroid'))\n",
    "    df = pd.DataFrame(prop_dict)\n",
    "    nucIDs = df['label'].tolist()\n",
    "    cluster = np.load(join(folder,file), allow_pickle=True).item()\n",
    "    marked, singletons, doublets, higher = clusterCoord(cluster)\n",
    "    lens = [len(marked), len(singletons), len(doublets), len(higher)]\n",
    "    markedRandom, singletonsRandom, doubletsRandom, higherRandom =  randomkNNCluster(nucIDs,lens, df, 1000)\n",
    "\n",
    "\n",
    "    nbrsMarkedReal, distancesMarkedReal, indicesMarkedReal = kNN(marked, 6)\n",
    "    nbrsSingletonsReal, distancesSingletonsReal, indicesSingletonsReal = kNN(singletons, 6)\n",
    "    nbrsDoubletsReal, distancesDoubletsReal, indicesDoubletsReal = kNN(doublets, 6)"
   ],
   "metadata": {
    "collapsed": false,
    "pycharm": {
     "name": "#%%\n"
    }
   }
  },
  {
   "cell_type": "code",
   "execution_count": 85,
   "outputs": [],
   "source": [
    "c = 1\n",
    "for i in range(1,6):\n",
    "    typeNN = str(i) + \"NN\"\n",
    "    typeCluster = \"marked\"\n",
    "    distancesMarkedRealNorm = distancesMarkedReal[:,i]/np.mean(markedRandom[:,:,i].flatten()) -1\n",
    "    dfResults[str(c)] = pd.DataFrame(np.concatenate(([age, aorta, typeNN, typeCluster], distancesMarkedRealNorm)))\n",
    "    c += 1\n",
    "    typeCluster = \"singleton\"\n",
    "    distancesSingletonsRealNorm = distancesSingletonsReal[:,i]/np.mean(singletonsRandom[:,:,i].flatten()) -1\n",
    "    dfResults[str(c)] = pd.DataFrame(np.concatenate(([age, aorta, typeNN, typeCluster], distancesSingletonsRealNorm)))\n",
    "    c += 1\n",
    "    typeCluster = \"doublet\"\n",
    "    distancesDoubletsRealNorm = distancesDoubletsReal[:,i]/np.mean(doubletsRandom[:,:,i].flatten()) - 1\n",
    "    dfResults[str(c)] = pd.DataFrame(np.concatenate(([age, aorta, typeNN, typeCluster], distancesDoubletsRealNorm)))\n",
    "    c += 1"
   ],
   "metadata": {
    "collapsed": false,
    "pycharm": {
     "name": "#%%\n"
    }
   }
  },
  {
   "cell_type": "code",
   "execution_count": 84,
   "outputs": [],
   "source": [
    "dfResults = pd.DataFrame()"
   ],
   "metadata": {
    "collapsed": false,
    "pycharm": {
     "name": "#%%\n"
    }
   }
  },
  {
   "cell_type": "code",
   "execution_count": 86,
   "outputs": [
    {
     "data": {
      "text/plain": "                        1                   2                   3  \\\n0                   10-21               10-21               10-21   \n1                C5RB-002            C5RB-002            C5RB-002   \n2                     1NN                 1NN                 1NN   \n3                  marked           singleton             doublet   \n4      0.5389085856893263  0.3383757342221625  0.7848453378440639   \n..                    ...                 ...                 ...   \n631   -0.3163275645343425                 NaN                 NaN   \n632  -0.10944814999645058                 NaN                 NaN   \n633  -0.19924921746940183                 NaN                 NaN   \n634    0.1161157670130144                 NaN                 NaN   \n635  -0.30928555186437356                 NaN                 NaN   \n\n                         4                    5                    6  \\\n0                    10-21                10-21                10-21   \n1                 C5RB-002             C5RB-002             C5RB-002   \n2                      2NN                  2NN                  2NN   \n3                   marked            singleton              doublet   \n4       0.5866320102296201  0.37410737852029485  0.36247073233772276   \n..                     ...                  ...                  ...   \n631   -0.46792276291250035                  NaN                  NaN   \n632   -0.02562434650857892                  NaN                  NaN   \n633   0.003740200555775175                  NaN                  NaN   \n634  -0.026048513602162315                  NaN                  NaN   \n635    0.07889958528859675                  NaN                  NaN   \n\n                        7                   8                    9  \\\n0                   10-21               10-21                10-21   \n1                C5RB-002            C5RB-002             C5RB-002   \n2                     3NN                 3NN                  3NN   \n3                  marked           singleton              doublet   \n4      0.5528315527890646  0.3425919887415889  0.12780344554788758   \n..                    ...                 ...                  ...   \n631  -0.04358143940279524                 NaN                  NaN   \n632   0.08941652892165708                 NaN                  NaN   \n633   0.06141641823221322                 NaN                  NaN   \n634   0.09672784525742606                 NaN                  NaN   \n635   0.39431473947838547                 NaN                  NaN   \n\n                        10                  11                    12  \\\n0                    10-21               10-21                 10-21   \n1                 C5RB-002            C5RB-002              C5RB-002   \n2                      4NN                 4NN                   4NN   \n3                   marked           singleton               doublet   \n4       0.4769923220705661  0.2755730925347153  0.032965230499825804   \n..                     ...                 ...                   ...   \n631   -0.14515000938555733                 NaN                   NaN   \n632  -0.024812516205067747                 NaN                   NaN   \n633    0.19037887203511983                 NaN                   NaN   \n634  -0.050941895536386284                 NaN                   NaN   \n635       0.26053295435045                 NaN                   NaN   \n\n                        13                  14                    15  \n0                    10-21               10-21                 10-21  \n1                 C5RB-002            C5RB-002              C5RB-002  \n2                      5NN                 5NN                   5NN  \n3                   marked           singleton               doublet  \n4      0.40420262445681154  0.3322740363876566  0.027963792117791764  \n..                     ...                 ...                   ...  \n631   -0.03510065190028788                 NaN                   NaN  \n632  -0.018956912184742825                 NaN                   NaN  \n633      0.272811590947591                 NaN                   NaN  \n634    0.03863125459075745                 NaN                   NaN  \n635    0.17689405910666633                 NaN                   NaN  \n\n[636 rows x 15 columns]",
      "text/html": "<div>\n<style scoped>\n    .dataframe tbody tr th:only-of-type {\n        vertical-align: middle;\n    }\n\n    .dataframe tbody tr th {\n        vertical-align: top;\n    }\n\n    .dataframe thead th {\n        text-align: right;\n    }\n</style>\n<table border=\"1\" class=\"dataframe\">\n  <thead>\n    <tr style=\"text-align: right;\">\n      <th></th>\n      <th>1</th>\n      <th>2</th>\n      <th>3</th>\n      <th>4</th>\n      <th>5</th>\n      <th>6</th>\n      <th>7</th>\n      <th>8</th>\n      <th>9</th>\n      <th>10</th>\n      <th>11</th>\n      <th>12</th>\n      <th>13</th>\n      <th>14</th>\n      <th>15</th>\n    </tr>\n  </thead>\n  <tbody>\n    <tr>\n      <th>0</th>\n      <td>10-21</td>\n      <td>10-21</td>\n      <td>10-21</td>\n      <td>10-21</td>\n      <td>10-21</td>\n      <td>10-21</td>\n      <td>10-21</td>\n      <td>10-21</td>\n      <td>10-21</td>\n      <td>10-21</td>\n      <td>10-21</td>\n      <td>10-21</td>\n      <td>10-21</td>\n      <td>10-21</td>\n      <td>10-21</td>\n    </tr>\n    <tr>\n      <th>1</th>\n      <td>C5RB-002</td>\n      <td>C5RB-002</td>\n      <td>C5RB-002</td>\n      <td>C5RB-002</td>\n      <td>C5RB-002</td>\n      <td>C5RB-002</td>\n      <td>C5RB-002</td>\n      <td>C5RB-002</td>\n      <td>C5RB-002</td>\n      <td>C5RB-002</td>\n      <td>C5RB-002</td>\n      <td>C5RB-002</td>\n      <td>C5RB-002</td>\n      <td>C5RB-002</td>\n      <td>C5RB-002</td>\n    </tr>\n    <tr>\n      <th>2</th>\n      <td>1NN</td>\n      <td>1NN</td>\n      <td>1NN</td>\n      <td>2NN</td>\n      <td>2NN</td>\n      <td>2NN</td>\n      <td>3NN</td>\n      <td>3NN</td>\n      <td>3NN</td>\n      <td>4NN</td>\n      <td>4NN</td>\n      <td>4NN</td>\n      <td>5NN</td>\n      <td>5NN</td>\n      <td>5NN</td>\n    </tr>\n    <tr>\n      <th>3</th>\n      <td>marked</td>\n      <td>singleton</td>\n      <td>doublet</td>\n      <td>marked</td>\n      <td>singleton</td>\n      <td>doublet</td>\n      <td>marked</td>\n      <td>singleton</td>\n      <td>doublet</td>\n      <td>marked</td>\n      <td>singleton</td>\n      <td>doublet</td>\n      <td>marked</td>\n      <td>singleton</td>\n      <td>doublet</td>\n    </tr>\n    <tr>\n      <th>4</th>\n      <td>0.5389085856893263</td>\n      <td>0.3383757342221625</td>\n      <td>0.7848453378440639</td>\n      <td>0.5866320102296201</td>\n      <td>0.37410737852029485</td>\n      <td>0.36247073233772276</td>\n      <td>0.5528315527890646</td>\n      <td>0.3425919887415889</td>\n      <td>0.12780344554788758</td>\n      <td>0.4769923220705661</td>\n      <td>0.2755730925347153</td>\n      <td>0.032965230499825804</td>\n      <td>0.40420262445681154</td>\n      <td>0.3322740363876566</td>\n      <td>0.027963792117791764</td>\n    </tr>\n    <tr>\n      <th>...</th>\n      <td>...</td>\n      <td>...</td>\n      <td>...</td>\n      <td>...</td>\n      <td>...</td>\n      <td>...</td>\n      <td>...</td>\n      <td>...</td>\n      <td>...</td>\n      <td>...</td>\n      <td>...</td>\n      <td>...</td>\n      <td>...</td>\n      <td>...</td>\n      <td>...</td>\n    </tr>\n    <tr>\n      <th>631</th>\n      <td>-0.3163275645343425</td>\n      <td>NaN</td>\n      <td>NaN</td>\n      <td>-0.46792276291250035</td>\n      <td>NaN</td>\n      <td>NaN</td>\n      <td>-0.04358143940279524</td>\n      <td>NaN</td>\n      <td>NaN</td>\n      <td>-0.14515000938555733</td>\n      <td>NaN</td>\n      <td>NaN</td>\n      <td>-0.03510065190028788</td>\n      <td>NaN</td>\n      <td>NaN</td>\n    </tr>\n    <tr>\n      <th>632</th>\n      <td>-0.10944814999645058</td>\n      <td>NaN</td>\n      <td>NaN</td>\n      <td>-0.02562434650857892</td>\n      <td>NaN</td>\n      <td>NaN</td>\n      <td>0.08941652892165708</td>\n      <td>NaN</td>\n      <td>NaN</td>\n      <td>-0.024812516205067747</td>\n      <td>NaN</td>\n      <td>NaN</td>\n      <td>-0.018956912184742825</td>\n      <td>NaN</td>\n      <td>NaN</td>\n    </tr>\n    <tr>\n      <th>633</th>\n      <td>-0.19924921746940183</td>\n      <td>NaN</td>\n      <td>NaN</td>\n      <td>0.003740200555775175</td>\n      <td>NaN</td>\n      <td>NaN</td>\n      <td>0.06141641823221322</td>\n      <td>NaN</td>\n      <td>NaN</td>\n      <td>0.19037887203511983</td>\n      <td>NaN</td>\n      <td>NaN</td>\n      <td>0.272811590947591</td>\n      <td>NaN</td>\n      <td>NaN</td>\n    </tr>\n    <tr>\n      <th>634</th>\n      <td>0.1161157670130144</td>\n      <td>NaN</td>\n      <td>NaN</td>\n      <td>-0.026048513602162315</td>\n      <td>NaN</td>\n      <td>NaN</td>\n      <td>0.09672784525742606</td>\n      <td>NaN</td>\n      <td>NaN</td>\n      <td>-0.050941895536386284</td>\n      <td>NaN</td>\n      <td>NaN</td>\n      <td>0.03863125459075745</td>\n      <td>NaN</td>\n      <td>NaN</td>\n    </tr>\n    <tr>\n      <th>635</th>\n      <td>-0.30928555186437356</td>\n      <td>NaN</td>\n      <td>NaN</td>\n      <td>0.07889958528859675</td>\n      <td>NaN</td>\n      <td>NaN</td>\n      <td>0.39431473947838547</td>\n      <td>NaN</td>\n      <td>NaN</td>\n      <td>0.26053295435045</td>\n      <td>NaN</td>\n      <td>NaN</td>\n      <td>0.17689405910666633</td>\n      <td>NaN</td>\n      <td>NaN</td>\n    </tr>\n  </tbody>\n</table>\n<p>636 rows × 15 columns</p>\n</div>"
     },
     "execution_count": 86,
     "metadata": {},
     "output_type": "execute_result"
    }
   ],
   "source": [
    "dfResults"
   ],
   "metadata": {
    "collapsed": false,
    "pycharm": {
     "name": "#%%\n"
    }
   }
  },
  {
   "cell_type": "code",
   "execution_count": 87,
   "outputs": [
    {
     "data": {
      "text/plain": "array([1.53890859, 0.89758921, 1.05462445, 0.93504676, 1.94489935,\n       1.15492516, 1.94489935, 1.47523499, 1.47523499, 0.89758921,\n       1.79738869, 1.92912652, 1.53446125, 1.48523031, 0.84686103,\n       1.1266117 , 0.86424377, 0.93504676, 1.30170416, 0.96341242,\n       1.15291844, 1.15291844, 1.42416338, 0.86424377, 0.76942459,\n       0.81722086, 1.28794074, 1.083077  , 1.18657347, 0.81722086,\n       1.30170416, 0.84686103, 1.97046897, 1.86674222, 1.92912652,\n       1.53446125, 0.76942459, 0.58759346, 2.16000912, 0.58759346,\n       0.84226944, 1.15816886, 1.02230443, 1.58366865, 0.82426397,\n       0.66768761, 1.1874983 , 1.24910575, 0.82426397, 1.46170349,\n       0.84226944, 0.95227903, 1.24910575, 1.29541517, 0.66768761,\n       0.67238346, 1.73782847, 0.95227903, 0.84822205, 1.14306584,\n       1.18199699, 1.08333641, 1.41281785, 1.15357305, 1.28031107,\n       0.67238346, 1.34381852, 1.15357305, 1.39370698, 1.34381852,\n       1.17276566, 1.68778658, 1.30165874, 1.1160561 , 1.58197532,\n       1.30165874, 1.15564483, 0.54135094, 1.03682112, 0.55622546,\n       0.54135094, 1.02666667, 1.34616464, 1.18199699, 1.73866649,\n       0.83450457, 1.009249  , 1.59780608, 0.55622546, 0.91140874,\n       1.02666667, 1.009249  , 0.97968088, 0.95393185, 0.94032798,\n       0.46709536, 0.50379017, 1.443337  , 0.49947979, 0.49947979,\n       0.69139187, 0.50379017, 0.46709536, 0.79399323, 1.04727235,\n       1.03682112, 0.79399323, 0.61174958, 0.69139187, 0.4921628 ,\n       0.57760263, 0.79639109, 1.08002645, 1.29661754, 0.79639109,\n       0.99266287, 1.03967066, 1.07881031, 0.61174958, 0.57760263,\n       0.99266287, 1.1444306 , 0.99083615, 1.64158052, 1.03967066,\n       1.10730916, 0.99083615, 1.03922973, 1.42255172, 1.9201949 ,\n       1.08002645, 0.99672468, 1.24838559, 1.41182417, 1.60380873,\n       1.10730916, 0.70521464, 1.2033894 , 1.28001176, 1.24838559,\n       1.48872399, 0.4820806 , 1.19621457, 1.13328128, 1.58910589,\n       0.70521464, 0.42087188, 1.96265022, 0.4820806 , 1.2033894 ,\n       0.93354884, 1.05771345, 0.64785635, 0.49576926, 1.05658504,\n       0.42087188, 0.49576926, 0.85107551, 0.80526433, 0.57884568,\n       0.57884568, 1.80873941, 1.03721529, 1.05771345, 1.33648665,\n       1.58910589, 0.64785635, 0.93354884, 1.23173674, 0.85107551,\n       1.40852092, 1.12742937, 1.03721529, 1.23173674, 1.45866752,\n       0.85545472, 1.45866752, 0.89055185, 1.234722  , 1.69091247,\n       1.09542686, 1.20285652, 1.44075168, 1.20285652, 1.44536347,\n       0.72190422, 1.12742937, 1.58902485, 1.48282734, 0.72190422,\n       1.50917245, 1.234722  , 1.31302274, 1.48851914, 0.79380434,\n       1.03013529, 1.17151243, 0.79016659, 1.48851914, 1.63013035,\n       0.85545472, 1.05846087, 1.4650875 , 1.159977  , 1.08853649,\n       1.03013529, 0.79016659, 1.159977  , 0.79380434, 0.79303331,\n       0.79303331, 1.48282734, 0.64812016, 1.42493619, 1.40447808,\n       0.59754458, 0.84610189, 0.64812016, 1.88482734, 1.08853649,\n       0.94709509, 0.59754458, 0.94709509, 0.9815068 , 1.34594695,\n       0.89880198, 0.79707647, 0.89324943, 0.84610189, 1.26906854,\n       0.88886367, 0.89324943, 0.89880198, 0.54202491, 1.80896536,\n       1.04970864, 0.90988802, 1.34594695, 0.54202491, 1.53949632,\n       0.79707647, 2.86854083, 0.90988802, 0.9467639 , 0.95713901,\n       1.18884313, 2.45644686, 0.92258877, 0.71890817, 0.88886367,\n       0.92258877, 0.71890817, 1.09731427, 0.89148944, 0.5752533 ,\n       1.50385642, 0.41770458, 0.41770458, 0.5752533 , 0.69933704,\n       0.98157751, 1.80402066, 1.4443084 , 1.21727289, 0.72855847,\n       0.81325351, 0.72241746, 1.32612863, 1.39983367, 0.69933704,\n       0.81325351, 1.20901467, 0.72241746, 1.830781  , 1.28802193,\n       0.84815999, 1.21311379, 0.69071445, 0.84815999, 1.56480005,\n       1.32876218, 0.90262684, 1.36008191, 1.51646075, 0.98849089,\n       0.95099522, 1.32612863, 0.95099522, 1.21816993, 0.90262684,\n       1.9458556 , 1.33361845, 1.28445532, 1.16651541, 0.89264079,\n       1.36008191, 1.42114842, 2.03484468, 1.94843189, 0.89264079,\n       1.03001533, 0.97900992, 0.70657977, 0.97900992, 1.28445532,\n       1.7607875 , 1.14653738, 1.03001533, 1.14653738, 0.70657977,\n       0.6647099 , 0.92197538, 1.42114842, 1.54925137, 1.69877834,\n       0.73481096, 0.6647099 , 1.4379871 , 0.92197538, 0.73481096,\n       0.84991999, 1.40302776, 1.65104445, 1.26777771, 1.77500794,\n       1.81554421, 1.59356866, 1.26777771, 0.77770582, 1.54925137,\n       0.84991999, 1.77671804, 1.4379871 , 1.43714979, 1.39537931,\n       0.99412952, 1.3043868 , 1.57651302, 1.91128737, 0.97124238,\n       0.99412952, 1.03476358, 1.19491908, 1.39537931, 1.79510116,\n       0.77495736, 1.2503085 , 0.4133783 , 1.12638297, 1.08988018,\n       0.54206636, 0.4133783 , 1.08882487, 0.54206636, 0.77495736,\n       1.03476358, 1.17062081, 0.73348539, 0.88752445, 0.95836037,\n       1.38548526, 1.43781747, 1.19491908, 0.6871091 , 0.6871091 ,\n       1.08544151, 0.69799956, 1.12638297, 0.73348539, 1.17872072,\n       1.29526032, 1.28123244, 0.62596851, 0.62596851, 0.69799956,\n       1.66313691, 1.40852389, 1.08544151, 0.89397614, 2.25500638,\n       0.91416201, 1.94744094, 1.50505865, 1.08386137, 0.7885171 ,\n       0.7885171 , 1.13531887, 1.17659386, 0.83122406, 1.04662303,\n       1.2652918 , 0.60838052, 0.71970118, 0.88267473, 0.60838052,\n       0.72247277, 0.74306648, 1.34225541, 1.04547229, 0.83122406,\n       1.50701081, 0.63607788, 0.99358157, 0.74306648, 0.85709545,\n       0.98300709, 2.1296715 , 1.46502876, 1.04662303, 1.68661517,\n       0.63607788, 0.85709545, 0.72247277, 0.98300709, 1.01006195,\n       1.01921929, 1.3455488 , 0.71970118, 0.97135612, 0.99358157,\n       1.29460167, 1.03081548, 1.3455488 , 1.63700989, 1.92603984,\n       2.1296715 , 0.89277722, 1.46202871, 1.14822821, 1.38242258,\n       1.04286576, 1.5721738 , 0.89277722, 1.47510511, 0.91081208,\n       1.66053787, 0.52995023, 0.71749022, 1.41653127, 1.983638  ,\n       0.60196801, 1.75351943, 0.52995023, 0.60196801, 1.78553086,\n       0.80016839, 1.47510511, 1.94698627, 0.80016839, 1.32613467,\n       1.18429335, 0.7680249 , 1.11611577, 0.7680249 , 0.88509017,\n       1.75351943, 1.44473427, 0.53059497, 1.35274234, 0.88509017,\n       1.48562547, 1.77940453, 1.32613467, 1.05262713, 1.14375751,\n       1.45370952, 1.93038365, 0.90253765, 0.53059497, 1.10845458,\n       0.99584424, 0.99584424, 0.98276204, 0.79223895, 0.89487151,\n       1.48562547, 1.2611591 , 1.87390843, 1.46629443, 1.06271167,\n       0.98276204, 1.10845458, 0.79223895, 0.5680598 , 0.5680598 ,\n       1.14817764, 0.61847229, 0.95486194, 1.2611591 , 1.49101214,\n       0.98437963, 1.12564314, 2.42055491, 0.98437963, 1.29328798,\n       2.12978825, 0.61847229, 1.93038365, 0.9956592 , 1.69742972,\n       0.95486194, 1.09774212, 0.9956592 , 0.76840327, 0.76840327,\n       1.44542703, 1.52689873, 0.99382421, 0.9879179 , 0.97579502,\n       0.9879179 , 0.79912182, 1.079025  , 0.61825673, 1.079025  ,\n       0.64485785, 0.69689457, 1.09774212, 0.61825673, 1.82211473,\n       0.65799251, 0.64485785, 1.68104825, 1.25173268, 0.75806022,\n       0.74201249, 1.24100814, 1.39044057, 0.65799251, 2.20445063,\n       1.25173268, 0.76027302, 1.02065232, 0.76027302, 1.07621347,\n       0.75806022, 1.97597585, 0.90455527, 1.51261653, 1.16734066,\n       0.94363032, 1.02065232, 1.07621347, 0.94090157, 1.53035269,\n       0.94363032, 0.90455527, 1.05693647, 1.53035269, 1.2602588 ,\n       0.7895971 , 1.55901333, 1.05693647, 1.82384576, 0.98241247,\n       0.98241247, 0.7895971 , 0.80075078, 1.48892207, 2.5353781 ,\n       1.17573334, 1.55901333, 0.85450325, 2.09186867, 0.83776862,\n       0.87286481, 2.17283489, 0.87286481, 0.83776862, 0.75494886,\n       0.85450325, 1.41823466, 1.6594153 , 0.75494886, 0.99687598,\n       1.39932992, 1.17573334, 1.43064586, 1.39932992, 1.22390047,\n       0.56234181, 2.05085761, 2.6948603 , 1.41823466, 0.56234181,\n       1.22390047, 1.06959587, 1.11737311, 1.57433852, 1.48094279,\n       1.49634197, 1.47348072, 1.23853782, 1.1622431 , 1.80645209,\n       0.97133958, 0.67658538, 1.11737311, 1.38718338, 1.32342754,\n       0.67658538, 1.33488968, 1.26979944, 1.34099704, 1.02561241,\n       0.97133958, 0.64583826, 1.23853782, 0.774814  , 1.11307676,\n       1.1622431 , 1.02561241, 1.49634197, 0.82097952, 1.57018536,\n       0.78926951, 1.79919104, 0.64583826, 2.11998651, 1.32342754,\n       1.4770143 , 1.26452772, 1.11307676, 1.59992171, 1.58405736,\n       1.33488968, 0.68367244, 0.68367244, 0.89055185, 0.80075078,\n       1.11611577, 0.69071445])"
     },
     "execution_count": 87,
     "metadata": {},
     "output_type": "execute_result"
    }
   ],
   "source": [
    "distancesMarkedReal[:,1]/np.mean(markedRandom[:,:,1].flatten())"
   ],
   "metadata": {
    "collapsed": false,
    "pycharm": {
     "name": "#%%\n"
    }
   }
  },
  {
   "cell_type": "markdown",
   "source": [],
   "metadata": {
    "collapsed": false,
    "pycharm": {
     "name": "#%% md\n"
    }
   }
  },
  {
   "cell_type": "code",
   "execution_count": 93,
   "outputs": [],
   "source": [
    "df_help = pd.DataFrame(columns= ['age', 'aorta', 'kNNType', 'value'])"
   ],
   "metadata": {
    "collapsed": false,
    "pycharm": {
     "name": "#%%\n"
    }
   }
  },
  {
   "cell_type": "code",
   "execution_count": 94,
   "outputs": [],
   "source": [
    "df_help['value'] = distancesMarkedReal[:,1]/np.mean(markedRandom[:,:,1].flatten()) -1"
   ],
   "metadata": {
    "collapsed": false,
    "pycharm": {
     "name": "#%%\n"
    }
   }
  },
  {
   "cell_type": "code",
   "execution_count": 95,
   "outputs": [],
   "source": [
    "df_help['age'] = age\n",
    "df_help['aorta'] = aorta\n",
    "df_help['kNNType'] = typeNN"
   ],
   "metadata": {
    "collapsed": false,
    "pycharm": {
     "name": "#%%\n"
    }
   }
  },
  {
   "cell_type": "code",
   "execution_count": 96,
   "outputs": [
    {
     "data": {
      "text/plain": "       age     aorta kNNType     value\n0    10-21  C5RB-002     5NN  0.538909\n1    10-21  C5RB-002     5NN -0.102411\n2    10-21  C5RB-002     5NN  0.054624\n3    10-21  C5RB-002     5NN -0.064953\n4    10-21  C5RB-002     5NN  0.944899\n..     ...       ...     ...       ...\n627  10-21  C5RB-002     5NN -0.316328\n628  10-21  C5RB-002     5NN -0.109448\n629  10-21  C5RB-002     5NN -0.199249\n630  10-21  C5RB-002     5NN  0.116116\n631  10-21  C5RB-002     5NN -0.309286\n\n[632 rows x 4 columns]",
      "text/html": "<div>\n<style scoped>\n    .dataframe tbody tr th:only-of-type {\n        vertical-align: middle;\n    }\n\n    .dataframe tbody tr th {\n        vertical-align: top;\n    }\n\n    .dataframe thead th {\n        text-align: right;\n    }\n</style>\n<table border=\"1\" class=\"dataframe\">\n  <thead>\n    <tr style=\"text-align: right;\">\n      <th></th>\n      <th>age</th>\n      <th>aorta</th>\n      <th>kNNType</th>\n      <th>value</th>\n    </tr>\n  </thead>\n  <tbody>\n    <tr>\n      <th>0</th>\n      <td>10-21</td>\n      <td>C5RB-002</td>\n      <td>5NN</td>\n      <td>0.538909</td>\n    </tr>\n    <tr>\n      <th>1</th>\n      <td>10-21</td>\n      <td>C5RB-002</td>\n      <td>5NN</td>\n      <td>-0.102411</td>\n    </tr>\n    <tr>\n      <th>2</th>\n      <td>10-21</td>\n      <td>C5RB-002</td>\n      <td>5NN</td>\n      <td>0.054624</td>\n    </tr>\n    <tr>\n      <th>3</th>\n      <td>10-21</td>\n      <td>C5RB-002</td>\n      <td>5NN</td>\n      <td>-0.064953</td>\n    </tr>\n    <tr>\n      <th>4</th>\n      <td>10-21</td>\n      <td>C5RB-002</td>\n      <td>5NN</td>\n      <td>0.944899</td>\n    </tr>\n    <tr>\n      <th>...</th>\n      <td>...</td>\n      <td>...</td>\n      <td>...</td>\n      <td>...</td>\n    </tr>\n    <tr>\n      <th>627</th>\n      <td>10-21</td>\n      <td>C5RB-002</td>\n      <td>5NN</td>\n      <td>-0.316328</td>\n    </tr>\n    <tr>\n      <th>628</th>\n      <td>10-21</td>\n      <td>C5RB-002</td>\n      <td>5NN</td>\n      <td>-0.109448</td>\n    </tr>\n    <tr>\n      <th>629</th>\n      <td>10-21</td>\n      <td>C5RB-002</td>\n      <td>5NN</td>\n      <td>-0.199249</td>\n    </tr>\n    <tr>\n      <th>630</th>\n      <td>10-21</td>\n      <td>C5RB-002</td>\n      <td>5NN</td>\n      <td>0.116116</td>\n    </tr>\n    <tr>\n      <th>631</th>\n      <td>10-21</td>\n      <td>C5RB-002</td>\n      <td>5NN</td>\n      <td>-0.309286</td>\n    </tr>\n  </tbody>\n</table>\n<p>632 rows × 4 columns</p>\n</div>"
     },
     "execution_count": 96,
     "metadata": {},
     "output_type": "execute_result"
    }
   ],
   "source": [
    "df_help"
   ],
   "metadata": {
    "collapsed": false,
    "pycharm": {
     "name": "#%%\n"
    }
   }
  },
  {
   "cell_type": "code",
   "execution_count": 61,
   "outputs": [
    {
     "data": {
      "text/plain": "array([ 4.04202624e-01, -4.28339694e-02,  9.03256937e-01,  8.54076845e-01,\n        6.57077116e-01, -1.33895725e-01,  3.35054052e-01,  4.55903741e-01,\n        4.01017107e-01, -1.49493989e-01,  1.77841891e-01,  5.50756891e-01,\n        1.36213808e-01,  3.74904083e-02,  5.10849532e-01,  3.44701573e-01,\n        3.29677696e-01,  4.72194492e-01,  1.02508267e-01, -3.05117440e-01,\n        2.16723847e-01,  6.08572861e-01,  6.42594477e-01,  2.94828850e-01,\n       -1.07749649e-02, -2.67404368e-01, -1.30236649e-01, -2.56908551e-01,\n       -2.94589327e-02, -2.30535522e-01, -3.75068755e-02,  1.64608572e-01,\n        3.16112339e-01, -6.02980732e-02,  3.09684896e-01,  3.27514011e-01,\n       -8.12309208e-02, -1.20369638e-02,  1.88406715e-01,  6.00963854e-02,\n       -1.32358800e-01,  1.74947369e-02, -1.03167173e-01, -4.15512751e-02,\n       -6.58379016e-02, -8.45606132e-02,  1.33128480e-01,  6.77077234e-02,\n       -8.01536709e-02,  4.91949712e-02, -5.37125374e-02,  3.58563844e-01,\n       -7.37353484e-02,  1.77032673e-01, -2.44090142e-01,  3.27514011e-01,\n        2.60117934e-01,  5.08368509e-01,  6.64788474e-02, -2.02404793e-02,\n       -1.42431486e-01, -2.76508965e-01,  3.02056950e-01, -5.60009609e-02,\n       -1.40811417e-01,  3.87046330e-01,  4.71951452e-02, -3.21264439e-02,\n       -9.60277199e-02,  1.34959399e-01,  7.10130206e-02,  4.34225997e-02,\n       -1.40298380e-01, -1.61915863e-01,  1.05043105e-01, -1.15821653e-01,\n        8.45624464e-02, -1.60075793e-01,  2.18572502e-01, -1.60075793e-01,\n       -3.01426460e-01, -3.20868868e-01, -3.90699224e-02, -3.35174639e-02,\n       -7.18128376e-02, -1.42431486e-01, -2.30826904e-01, -1.90937356e-01,\n       -1.26085786e-01, -4.49986482e-02, -2.74882224e-01, -1.40811417e-01,\n       -4.47003523e-01, -1.51612700e-01, -2.12166631e-01, -3.11545095e-01,\n       -5.83499141e-02,  2.03213630e-01, -9.38274717e-02, -4.16654310e-02,\n       -2.33579658e-01, -9.71222784e-02, -3.20868868e-01, -3.21264439e-02,\n       -9.44763945e-02,  1.32794343e-02, -2.80146683e-02, -2.27054892e-02,\n       -2.53077840e-01, -1.68779330e-01,  8.42800689e-02, -4.16654310e-02,\n        8.17047335e-02, -1.97513513e-02, -1.25539835e-01, -9.44763945e-02,\n        9.21202735e-02, -1.39112942e-01, -1.04247261e-01,  1.35376627e-01,\n        2.34473687e-02, -2.37892714e-02, -1.46103603e-01,  1.92518952e-01,\n        1.54118695e-01, -9.84142328e-02, -1.65645880e-01, -9.00274590e-04,\n       -1.40952108e-01,  1.21995104e-01,  1.32794343e-02, -2.14092617e-01,\n        4.35673701e-02,  3.64384497e-01, -2.13473875e-01, -1.89473311e-01,\n        3.57994643e-02, -6.68460407e-02,  2.63616792e-02, -2.20737935e-01,\n       -1.57509593e-01, -7.03332480e-04,  1.33695944e-01, -1.18402521e-01,\n        1.96778344e-01,  1.52721074e-01, -2.45783823e-01,  2.34788980e-01,\n        8.17047335e-02,  6.38659940e-02,  1.27831506e-03,  3.06147911e-01,\n       -1.74267652e-01,  1.07093953e-01, -1.56421016e-01, -3.23509322e-01,\n        1.61692124e-01, -1.40952108e-01,  5.21804208e-02, -1.82294943e-01,\n       -9.44107058e-02, -6.89776766e-02,  1.80288876e-01,  1.33165070e-01,\n        1.66616403e-01, -1.94304910e-01, -3.14577082e-01, -1.89569122e-02,\n       -6.18721162e-02, -9.07995032e-02, -2.30827694e-01,  1.02649911e-01,\n        1.04939998e-01, -2.45783823e-01,  2.28895944e-01, -1.58323092e-01,\n        2.82096724e-02, -1.99152335e-02,  1.52721074e-01,  1.64310140e-01,\n       -2.65389345e-01,  4.71578156e-01, -1.96597394e-01,  2.47097285e-01,\n        4.33157177e-02, -2.09483843e-01,  1.33165070e-01,  3.07672447e-01,\n        1.18004439e-02, -1.93759588e-02,  1.89086296e-01,  1.69204608e-01,\n       -1.35277618e-01, -1.17900899e-01, -2.02472055e-01, -1.33109027e-01,\n       -3.89548718e-01,  3.83978350e-02, -1.10689296e-02,  1.40419682e-01,\n       -2.25719069e-01,  9.08940942e-02,  9.39194837e-02, -2.14147599e-01,\n       -8.59806253e-02, -6.92529276e-02, -1.44008705e-01, -2.21244354e-01,\n       -3.04290153e-01, -2.13563778e-02, -7.27556867e-02,  5.38209942e-02,\n       -1.53725732e-01, -1.47407364e-01, -6.05769229e-02,  5.37049308e-02,\n       -2.97092022e-01, -1.33733326e-01,  1.06441177e-02,  1.10862641e-02,\n        3.07672447e-01, -6.62083618e-02,  4.13943257e-01,  2.21930790e-01,\n        4.12416038e-01,  1.74539632e-02,  7.78771758e-02, -1.34116515e-01,\n       -2.80645384e-01, -2.74600275e-01,  1.48186482e-01, -3.54931681e-03,\n        1.99133443e-02, -6.62083618e-02,  2.76181176e-01,  4.03672199e-02,\n        5.97118292e-02,  2.24986695e-02, -1.27824075e-01,  4.56467094e-01,\n        1.73091293e-01,  5.80253874e-01,  8.77618171e-02, -4.24240052e-02,\n       -8.49337111e-02, -3.71912862e-01,  2.54048736e-01, -2.11145984e-01,\n       -4.20791452e-02,  4.07794233e-02,  3.77689687e-02, -6.51476684e-02,\n       -8.33886607e-02, -2.21276193e-02, -1.36282071e-01,  4.10020014e-01,\n        2.58403061e-01,  2.53088242e-01, -1.75827332e-01, -6.93122311e-03,\n       -2.91466219e-01,  1.73272182e-01,  2.20766708e-01,  1.22935686e-01,\n       -6.90243478e-02, -1.82524518e-01,  1.13770867e-01,  5.76540124e-02,\n       -9.94043399e-02, -1.81482558e-01, -2.02596798e-01, -1.28572997e-01,\n        1.96860102e-01,  2.20766708e-01,  2.37427202e-01, -1.69718007e-01,\n        1.73308728e-01,  2.10622496e-01, -1.29576579e-01, -2.84073482e-02,\n        3.10477722e-01, -1.95024527e-01,  2.24299089e-02, -4.64580207e-02,\n       -1.29092854e-01,  1.77535875e-01,  4.10322265e-03,  3.00136563e-01,\n        2.05612368e-01, -1.95134801e-01,  3.46680385e-01,  1.18590085e-01,\n        8.77867876e-02,  2.07500732e-01,  1.24180040e-01, -1.75078127e-01,\n        1.46163893e-01, -2.84073482e-02,  3.06845747e-02, -1.50413232e-01,\n       -1.31561976e-01,  1.46021267e-01,  5.83164544e-02,  1.31051573e-01,\n        2.46999569e-01,  2.32006870e-01,  3.77776565e-01, -1.47827648e-01,\n        7.22913450e-02,  1.53233503e-02,  1.63879729e-01,  1.29433211e-01,\n        1.39981637e-01,  4.80940409e-03,  1.42076678e-01, -1.50413232e-01,\n        1.29698451e-01, -1.00537301e-01, -2.74603470e-02, -1.33480965e-01,\n       -1.45127034e-01, -6.78531581e-02,  1.70407532e-01, -5.64021854e-02,\n        1.29654323e-01, -4.57208777e-02,  2.24063735e-01,  1.52430323e-01,\n       -4.70876794e-02, -4.57208777e-02, -1.81844819e-01,  1.91888223e-01,\n        1.34885412e-01, -2.62959243e-02,  2.67805413e-01, -1.18771718e-01,\n       -2.52506440e-01,  3.16888297e-03,  2.36620045e-01,  4.80940409e-03,\n       -3.15686580e-01, -2.74603470e-02, -2.78725082e-01, -1.88873387e-01,\n        5.38744289e-01,  6.72363472e-02, -2.17991441e-01, -1.07601696e-01,\n       -1.94264726e-02, -1.07146228e-01, -1.63044016e-01, -6.43786515e-02,\n        1.26441922e-01, -1.83098254e-01,  1.28779874e-01, -2.40519752e-03,\n       -1.72886738e-01, -3.17129928e-01, -3.17129928e-01,  2.37741966e-02,\n        1.03173608e-01, -8.66411858e-02, -1.06907696e-01, -7.78139449e-02,\n        3.16888297e-03, -2.65994488e-01, -3.55464172e-01, -1.92578962e-01,\n       -2.00483431e-01, -3.49295042e-02, -2.06877475e-01, -5.79262706e-04,\n       -9.21047999e-02, -1.24939542e-01, -3.50509347e-01, -5.58887909e-02,\n       -1.44774363e-01, -2.00483431e-01, -1.24254118e-01,  2.47339942e-01,\n       -1.20519732e-01,  7.86631792e-02, -3.49295042e-02, -6.25056194e-02,\n       -6.43786515e-02, -4.65893845e-02, -2.66675388e-01, -1.62798178e-01,\n       -1.62781393e-01,  6.83178482e-03, -2.50689333e-01, -1.51005555e-01,\n       -3.04773765e-01, -6.56246720e-02, -1.37282604e-01, -4.05608911e-02,\n       -3.31290791e-02, -7.43585261e-02, -2.50689333e-01,  9.27172848e-02,\n       -1.45742257e-01, -6.56246720e-02,  2.33961686e-01,  1.25547470e-01,\n       -2.36472898e-01,  2.47339942e-01,  4.57410404e-01, -7.61509272e-06,\n        7.05798127e-02,  1.46066162e-01,  3.45270317e-02, -3.16649166e-01,\n       -1.13774431e-01,  1.15242520e-01, -2.36472898e-01,  4.43231851e-02,\n       -1.30776232e-01, -8.82798419e-02, -2.14653996e-02,  2.04032789e-01,\n       -3.32379236e-02,  9.72163834e-03,  1.53942723e-01, -1.03989592e-01,\n        3.90515709e-01,  3.20998211e-01, -2.00931161e-01,  9.91563761e-02,\n       -4.00875713e-01, -1.05694456e-01, -1.62277218e-01,  4.65198780e-02,\n       -3.84429001e-02,  1.22843161e-01, -1.92706690e-01,  2.29196868e-01,\n       -3.32081323e-02, -2.56938333e-03,  2.44872564e-01,  1.74169313e-01,\n       -2.42958997e-01,  2.65291891e-01, -1.07308085e-01, -1.92650475e-01,\n       -1.92653793e-02,  8.87530834e-02,  2.16693890e-01,  2.19725383e-01,\n       -1.62277218e-01,  1.45435617e-01, -1.47315618e-01,  1.13518176e-02,\n       -1.35498707e-02,  6.52368340e-02,  1.55419499e-01,  3.14042484e-01,\n        1.49114359e-01, -1.16119617e-01, -3.32081323e-02,  1.89115060e-01,\n        1.51755974e-01,  1.16514318e-01,  2.01004882e-01, -2.65568046e-01,\n       -1.07525538e-01, -1.20026884e-01,  5.12648513e-01,  1.16514318e-01,\n        3.86312546e-02,  1.69817679e-02,  3.24279285e-03, -6.82524228e-02,\n        2.19725383e-01, -2.65791625e-01, -6.87363922e-02, -9.54203401e-02,\n        8.78645228e-03, -7.05350664e-02, -3.19178735e-03,  6.06136092e-02,\n        8.78645228e-03,  1.05186831e-01, -1.07525538e-01, -2.13959753e-01,\n       -1.34414435e-01, -4.09501119e-02, -1.93068733e-01,  4.12294898e-02,\n        9.51161989e-02, -1.33633492e-01, -1.66537956e-01,  1.44497548e-01,\n        2.99654663e-01, -1.07039243e-01,  4.60529766e-03,  3.40982168e-01,\n       -1.48021918e-01,  2.19270643e-01,  2.24850344e-01,  1.46681721e-02,\n        1.77945161e-01, -2.17189611e-01,  3.31337200e-01, -2.88630036e-01,\n       -2.95288068e-01, -1.57758082e-01, -1.34414435e-01, -4.01685679e-01,\n       -1.49986420e-01, -3.38446216e-01,  6.11001669e-02, -2.76041244e-01,\n       -8.44453877e-03, -3.09889776e-01, -7.00995742e-02, -3.95319619e-01,\n       -2.88630036e-01, -1.30066794e-01, -2.32754204e-01,  4.67503637e-01,\n        3.47459585e-01, -2.20240934e-01,  3.79220223e-01,  9.80946471e-02,\n        1.47420793e-02, -2.05290739e-01, -1.66963171e-01,  2.07715526e-01,\n        2.04090571e-01,  1.77945161e-01,  3.02735732e-02, -7.17729892e-02,\n       -2.59003044e-01, -6.38125614e-02, -2.13815290e-01,  1.36617836e-01,\n        6.11001669e-02, -1.01838098e-01,  3.40982168e-01,  1.28927275e-02,\n       -1.49986420e-01, -2.35481041e-01, -1.45443610e-02, -3.02739376e-01,\n       -1.30741999e-01, -5.81241013e-02,  4.15692472e-03,  2.32908259e-01,\n        1.93106062e-01, -8.62839313e-02, -1.00704189e-01,  4.25097123e-01,\n        2.96798593e-02, -8.97303272e-02,  5.06323253e-02,  3.15189515e-01,\n       -6.84162031e-02,  1.74352296e-01,  2.62402475e-01,  3.12282055e-01,\n        5.04233084e-01,  4.73380743e-01, -1.69435390e-01,  1.30530508e-01,\n       -1.10751470e-01, -1.41025905e-01,  2.00646798e-01, -1.11418019e-01,\n       -9.88133444e-02,  2.80088551e-01, -1.03927257e-01,  3.68442156e-02,\n        1.57383479e-01,  1.01086538e-01, -1.77271864e-01,  3.56750083e-01,\n        3.84152617e-01, -5.40897870e-02,  5.38251560e-01,  1.63152209e-01,\n       -1.25145829e-01,  7.66078355e-02,  2.98123272e-01,  4.81016622e-02,\n       -2.67488341e-02, -1.69435390e-01, -2.82005700e-01,  2.00015322e-01,\n        1.02064545e-01, -3.38879768e-02,  3.44490075e-02,  2.33803884e-02,\n        1.24211621e-02, -1.10124025e-01,  1.00963436e-01, -1.73783958e-01,\n       -1.91053791e-01, -2.31140549e-01, -9.93188300e-02,  8.82134687e-02,\n       -1.19190242e-01,  8.89426285e-02, -2.83989492e-01,  6.33132937e-02,\n        7.46417506e-02,  1.55806723e-02,  3.18170751e-01,  6.44902061e-02,\n       -1.45386487e-01,  2.00015322e-01,  1.29503575e-01,  2.94812585e-01,\n        3.42229860e-01, -2.83989492e-01,  1.03014799e-02, -4.66843813e-03,\n        5.63881191e-01,  4.84248391e-01,  4.29300768e-01,  1.28661859e-01,\n        8.81067690e-02,  1.18845972e-01,  5.38251560e-01,  4.13095064e-01,\n       -6.51518651e-02,  3.51175247e-01, -1.91053791e-01, -3.51006519e-02,\n       -1.89569122e-02,  2.72811591e-01,  3.86312546e-02,  1.76894059e-01])"
     },
     "execution_count": 61,
     "metadata": {},
     "output_type": "execute_result"
    }
   ],
   "source": [
    "distancesMarkedRealNorm"
   ],
   "metadata": {
    "collapsed": false,
    "pycharm": {
     "name": "#%%\n"
    }
   }
  },
  {
   "cell_type": "code",
   "execution_count": 60,
   "outputs": [
    {
     "data": {
      "text/plain": "array(['10-21', 'C5RB-002', '5NN', 'doublet', '0.40420262445681154',\n       '-0.042833969410483785', '0.9032569374623436',\n       '0.8540768454187406', '0.6570771156703319', '-0.13389572513264292',\n       '0.3350540520105012', '0.45590374066070494', '0.40101710679736624',\n       '-0.14949398948658799', '0.17784189062418765', '0.550756891150376',\n       '0.136213807692247', '0.03749040825703975', '0.5108495321326894',\n       '0.34470157258855405', '0.3296776964370751', '0.47219449233092936',\n       '0.10250826745201547', '-0.3051174399437234',\n       '0.21672384708482872', '0.6085728608235133', '0.6425944773544807',\n       '0.2948288504740635', '-0.010774964925290731',\n       '-0.2674043679399696', '-0.1302366490500797',\n       '-0.25690855074509744', '-0.029458932723849918',\n       '-0.2305355222110308', '-0.037506875454822564',\n       '0.1646085724182944', '0.3161123392874823', '-0.06029807316233238',\n       '0.30968489616693917', '0.3275140112599091',\n       '-0.08123092077549865', '-0.012036963839169634',\n       '0.1884067154129172', '0.060096385410392195',\n       '-0.13235880029844893', '0.017494736895286023',\n       '-0.10316717271258335', '-0.04155127511781409',\n       '-0.06583790159525504', '-0.08456061315400931',\n       '0.13312847957472296', '0.06770772337234754',\n       '-0.08015367087016922', '0.04919497120300509',\n       '-0.0537125373700329', '0.358563844040668', '-0.07373534838303286',\n       '0.17703267251688581', '-0.24409014222348868',\n       '0.3275140112599091', '0.26011793386912374', '0.5083685086585183',\n       '0.06647884736043208', '-0.020240479267257916',\n       '-0.14243148574480036', '-0.27650896479868625',\n       '0.3020569497521184', '-0.056000960899555086',\n       '-0.1408114169190362', '0.387046329604501', '0.04719514524915991',\n       '-0.03212644386005903', '-0.09602771991542136',\n       '0.1349593989396165', '0.07101302058288406', '0.04342259966764783',\n       '-0.14029837957547897', '-0.16191586262274937',\n       '0.10504310479707857', '-0.1158216525534671', '0.0845624463628627',\n       '-0.16007579344416945', '0.2185725020026137',\n       '-0.16007579344416945', '-0.3014264597406653',\n       '-0.3208688677164663', '-0.039069922440315596',\n       '-0.03351746385388121', '-0.07181283757295431',\n       '-0.14243148574480036', '-0.23082690417770357',\n       '-0.19093735623968588', '-0.1260857861310517',\n       '-0.04499864820750654', '-0.2748822235955726',\n       '-0.1408114169190362', '-0.4470035234632669',\n       '-0.15161270042118535', '-0.21216663109537537',\n       '-0.31154509539806763', '-0.058349914092738375',\n       '0.2032136302915668', '-0.09382747174409434',\n       '-0.04166543099019748', '-0.2335796582876325',\n       '-0.09712227839209198', '-0.3208688677164663',\n       '-0.03212644386005903', '-0.0944763944573519',\n       '0.013279434275336843', '-0.028014668308213753',\n       '-0.02270548920598703', '-0.2530778397152813',\n       '-0.16877933031638515', '0.08428006890667872',\n       '-0.04166543099019748', '0.08170473346984974',\n       '-0.019751351285825947', '-0.12553983519967793',\n       '-0.0944763944573519', '0.09212027347254104',\n       '-0.13911294242959293', '-0.10424726116649219',\n       '0.1353766274470085', '0.023447368721397188',\n       '-0.023789271360895592', '-0.1461036034413472',\n       '0.19251895162395316', '0.1541186949381772',\n       '-0.09841423281947337', '-0.1656458795773239',\n       '-0.0009002745904440612', '-0.14095210772195854',\n       '0.12199510410424996', '0.013279434275336843',\n       '-0.21409261656684975', '0.043567370117531645',\n       '0.3643844969514676', '-0.2134738753934886', '-0.1894733107190777',\n       '0.03579946434022374', '-0.06684604074091938',\n       '0.02636167922760535', '-0.2207379351677481',\n       '-0.15750959269724418', '-0.0007033324796086315',\n       '0.13369594448713884', '-0.11840252148052433',\n       '0.1967783435987056', '0.15272107406176882',\n       '-0.24578382341238691', '0.23478897984179325',\n       '0.08170473346984974', '0.06386599404121163',\n       '0.001278315056005619', '0.3061479114391712',\n       '-0.17426765234991815', '0.10709395327271998',\n       '-0.1564210156383724', '-0.3235093222991148',\n       '0.16169212442231817', '-0.14095210772195854',\n       '0.05218042078253404', '-0.18229494261780033',\n       '-0.09441070580333233', '-0.06897767658138954',\n       '0.18028887618553568', '0.13316506951698193',\n       '0.16661640335840744', '-0.1943049097605467',\n       '-0.3145770820812245', '-0.018956912184742825',\n       '-0.06187211616801347', '-0.09079950324295616',\n       '-0.23082769374648948', '0.10264991118002786',\n       '0.10493999757784733', '-0.24578382341238691',\n       '0.22889594369788413', '-0.15832309212980278',\n       '0.028209672388936458', '-0.019915233507918795',\n       '0.15272107406176882', '0.16431013970128316',\n       '-0.2653893446252992', '0.47157815551043347',\n       '-0.19659739415565114', '0.24709728529043007',\n       '0.04331571765850373', '-0.20948384310927237',\n       '0.13316506951698193', '0.30767244712834296',\n       '0.011800443919748771', '-0.019375958848156682',\n       '0.18908629616073203', '0.1692046082344305',\n       '-0.13527761832451535', '-0.11790089902258116',\n       '-0.20247205462381979', '-0.13310902710026506',\n       '-0.38954871827816395', '0.0383978350098213',\n       '-0.011068929596197097', '0.14041968156639317',\n       '-0.2257190689538725', '0.0908940941932661', '0.09391948370527592',\n       '-0.21414759871860156', '-0.08598062527536576',\n       '-0.06925292763046453', '-0.144008705170534',\n       '-0.22124435358079775', '-0.30429015302834916',\n       '-0.021356377822289718', '-0.07275568673709742',\n       '0.05382099415199093', '-0.153725732314545',\n       '-0.14740736392888676', '-0.06057692286892047',\n       '0.05370493078622163', '-0.29709202169615034',\n       '-0.133733326113051', '0.010644117695637556',\n       '0.011086264100592214', '0.30767244712834296',\n       '-0.06620836181863943', '0.4139432569755501', '0.2219307900252181',\n       '0.41241603763078416', '0.01745396324102555',\n       '0.07787717579380526', '-0.13411651465591068',\n       '-0.2806453840220374', '-0.27460027494997585',\n       '0.14818648159912895', '-0.003549316805271041',\n       '0.01991334430093139', '-0.06620836181863943',\n       '0.2761811762779647', '0.04036721985492342',\n       '0.059711829157798935', '0.02249866950542878',\n       '-0.12782407545933916', '0.4564670940146045',\n       '0.17309129259971967', '0.5802538742322296', '0.08776181713674758',\n       '-0.042424005213080984', '-0.08493371105587189',\n       '-0.37191286207241414', '0.25404873600189015',\n       '-0.21114598383037697', '-0.04207914517673483',\n       '0.04077942325890027', '0.037768968669519065',\n       '-0.06514766838566055', '-0.08338866066753459',\n       '-0.022127619333348947', '-0.1362820713699363',\n       '0.41002001443131775', '0.2584030612285235', '0.2530882421951086',\n       '-0.17582733235161918', '-0.006931223114485907',\n       '-0.2914662193492653', '0.17327218159148083', '0.2207667083560494',\n       '0.1229356857481183', '-0.06902434775840471',\n       '-0.18252451780689483', '0.11377086676182668',\n       '0.057654012407548194', '-0.09940433986105757',\n       '-0.18148255778940536', '-0.20259679773302786',\n       '-0.12857299674229294', '0.1968601023514316', '0.2207667083560494',\n       '0.23742720234612769', '-0.1697180068781553',\n       '0.17330872821702537', '0.21062249574532155',\n       '-0.12957657905216713', '-0.02840734819305135',\n       '0.31047772203652046', '-0.19502452717608587',\n       '0.022429908928578657', '-0.04645802066447413',\n       '-0.12909285378289226', '0.1775358745276372',\n       '0.0041032226514396974', '0.3001365634596449',\n       '0.20561236774068647', '-0.19513480087724788',\n       '0.3466803851896152', '0.11859008453305031', '0.08778678755242542',\n       '0.20750073165867566', '0.12418003960539092',\n       '-0.17507812664338718', '0.14616389339581204',\n       '-0.02840734819305135', '0.03068457474891484',\n       '-0.15041323199230738', '-0.13156197585525242',\n       '0.1460212673005219', '0.05831645441531763', '0.1310515728872399',\n       '0.24699956923070632', '0.23200686971988826', '0.3777765652441829',\n       '-0.14782764804499338', '0.07229134499319301',\n       '0.015323350266660984', '0.16387972910242987',\n       '0.12943321061788282', '0.1399816374677978',\n       '0.004809404086900448', '0.14207667849667316',\n       '-0.15041323199230738', '0.12969845082404463',\n       '-0.10053730119146331', '-0.02746034702916489',\n       '-0.13348096482360583', '-0.1451270339191728',\n       '-0.06785315813544779', '0.17040753169374634',\n       '-0.05640218541857478', '0.12965432271886623',\n       '-0.045720877702245866', '0.2240637348040282',\n       '0.1524303230862758', '-0.047087679431767615',\n       '-0.045720877702245866', '-0.18184481918479367',\n       '0.19188822293088292', '0.13488541206304494',\n       '-0.026295924324108433', '0.26780541320063733',\n       '-0.11877171843400436', '-0.2525064401307109',\n       '0.003168882966977593', '0.2366200446974498',\n       '0.004809404086900448', '-0.31568657962388647',\n       '-0.02746034702916489', '-0.2787250817400777',\n       '-0.1888733873511207', '0.5387442889591141', '0.06723634717273441',\n       '-0.21799144100116175', '-0.1076016955506306',\n       '-0.019426472609132883', '-0.1071462277600409',\n       '-0.1630440157626699', '-0.06437865145332822',\n       '0.12644192230565388', '-0.18309825362429943',\n       '0.12877987440985939', '-0.0024051975201601072',\n       '-0.17288673794870768', '-0.3171299277851283',\n       '-0.3171299277851283', '0.02377419664987057',\n       '0.10317360804076636', '-0.08664118576065594',\n       '-0.1069076960031834', '-0.07781394486313475',\n       '0.003168882966977593', '-0.2659944875244987',\n       '-0.3554641718715319', '-0.19257896235284422',\n       '-0.20048343082779974', '-0.03492950422912422',\n       '-0.20687747460713912', '-0.0005792627063814226',\n       '-0.09210479993107246', '-0.12493954189385337',\n       '-0.3505093468405731', '-0.05588879086523946',\n       '-0.14477436344076167', '-0.20048343082779974',\n       '-0.12425411825969723', '0.24733994236739587',\n       '-0.12051973190761722', '0.07866317915118426',\n       '-0.03492950422912422', '-0.06250561941412813',\n       '-0.06437865145332822', '-0.046589384527822686',\n       '-0.266675387892923', '-0.16279817767049498',\n       '-0.16278139318180718', '0.006831784820926723',\n       '-0.2506893326683608', '-0.1510055546105833',\n       '-0.3047737645010856', '-0.06562467198713928',\n       '-0.1372826036195116', '-0.040560891080265504',\n       '-0.033129079058085154', '-0.07435852609640303',\n       '-0.2506893326683608', '0.09271728483663555',\n       '-0.14574225657648987', '-0.06562467198713928',\n       '0.2339616859386484', '0.1255474695432479', '-0.236472898272707',\n       '0.24733994236739587', '0.45741040429889335',\n       '-7.61509272317884e-06', '0.07057981265491642',\n       '0.1460661621981456', '0.034527031665738894',\n       '-0.3166491664693841', '-0.11377443134266663',\n       '0.11524252031985549', '-0.236472898272707', '0.04432318514268596',\n       '-0.1307762316992842', '-0.08827984194182181',\n       '-0.021465399636488747', '0.20403278871273534',\n       '-0.03323792363519973', '0.009721638339936778',\n       '0.1539427232773023', '-0.10398959238132122', '0.3905157089794664',\n       '0.3209982113022416', '-0.2009311613819228', '0.09915637610084649',\n       '-0.40087571283761314', '-0.10569445566257296',\n       '-0.1622772181926958', '0.04651987803964652',\n       '-0.038442900095944976', '0.1228431605988285',\n       '-0.19270669030054755', '0.22919686815209062',\n       '-0.03320813231223596', '-0.002569383334434794',\n       '0.24487256377684807', '0.1741693126009478',\n       '-0.24295899719259628', '0.26529189097863237',\n       '-0.10730808470720632', '-0.19265047488691533',\n       '-0.019265379306950936', '0.08875308337411125',\n       '0.21669388959578684', '0.21972538318948787',\n       '-0.1622772181926958', '0.14543561738058708',\n       '-0.14731561781701974', '0.011351817630095296',\n       '-0.013549870673762898', '0.0652368339975955',\n       '0.15541949893250728', '0.314042484459357', '0.14911435915079063',\n       '-0.11611961679213334', '-0.03320813231223596',\n       '0.189115059978052', '0.15175597378288486', '0.11651431831937553',\n       '0.2010048816108403', '-0.2655680456670725',\n       '-0.10752553750555427', '-0.12002688369918568',\n       '0.5126485133102161', '0.11651431831937553', '0.03863125459075745',\n       '0.01698176791929229', '0.0032427928525733396',\n       '-0.06825242283558497', '0.21972538318948787',\n       '-0.2657916251151772', '-0.06873639222730665',\n       '-0.09542034013685885', '0.008786452279156753',\n       '-0.07053506636155371', '-0.0031917873455498125',\n       '0.060613609208169494', '0.008786452279156753',\n       '0.10518683105318072', '-0.10752553750555427',\n       '-0.21395975335692186', '-0.13441443493715688',\n       '-0.04095011190786979', '-0.19306873261674806',\n       '0.04122948975454266', '0.09511619894009238',\n       '-0.1336334923268696', '-0.1665379558205996',\n       '0.14449754819821647', '0.2996546630547905',\n       '-0.10703924306153745', '0.004605297660373875',\n       '0.3409821679504792', '-0.14802191811188647',\n       '0.21927064324567214', '0.22485034382460722',\n       '0.014668172128113222', '0.17794516101589175',\n       '-0.21718961086594935', '0.3313372003322703',\n       '-0.28863003586835567', '-0.2952880675691473',\n       '-0.1577580824451692', '-0.13441443493715688',\n       '-0.4016856785061528', '-0.1499864203601906',\n       '-0.3384462155401593', '0.061100166873715445',\n       '-0.2760412441237795', '-0.008444538769372012',\n       '-0.3098897756859935', '-0.07009957416538792',\n       '-0.39531961882229283', '-0.28863003586835567',\n       '-0.1300667943099576', '-0.23275420353207932', '0.467503637068299',\n       '0.34745958471152383', '-0.22024093414115953',\n       '0.3792202226140182', '0.09809464705024662',\n       '0.014742079266681918', '-0.2052907390772064',\n       '-0.16696317147251805', '0.20771552554716433',\n       '0.20409057085133075', '0.17794516101589175',\n       '0.030273573181201163', '-0.0717729892317005',\n       '-0.2590030436625418', '-0.0638125613891265',\n       '-0.2138152898734852', '0.1366178360352488',\n       '0.061100166873715445', '-0.10183809844235003',\n       '0.3409821679504792', '0.012892727536127024',\n       '-0.1499864203601906', '-0.23548104064278608',\n       '-0.014544360950131563', '-0.3027393759840892',\n       '-0.13074199868033798', '-0.05812410130476331',\n       '0.004156924717802157', '0.2329082594939571',\n       '0.19310606164571942', '-0.08628393128007761',\n       '-0.10070418928447022', '0.42509712294262836',\n       '0.029679859341214643', '-0.08973032715101992',\n       '0.05063232527348194', '0.3151895148580779',\n       '-0.06841620307844398', '0.17435229567196342',\n       '0.2624024749134959', '0.31228205492201755', '0.5042330835347371',\n       '0.4733807431919901', '-0.16943539044290368',\n       '0.13053050792290466', '-0.1107514698368981', '-0.141025905457569',\n       '0.20064679838699662', '-0.11141801942408325',\n       '-0.09881334437273248', '0.2800885506182116',\n       '-0.10392725655681634', '0.0368442155798645',\n       '0.15738347902549243', '0.10108653845643856',\n       '-0.17727186405189665', '0.35675008308969947',\n       '0.3841526174839789', '-0.054089787029012903',\n       '0.5382515604256473', '0.16315220850087075',\n       '-0.12514582923809559', '0.0766078355113593',\n       '0.29812327222320767', '0.0481016621972743',\n       '-0.026748834074742933', '-0.16943539044290368',\n       '-0.2820056998310122', '0.20001532246449583',\n       '0.10206454502291562', '-0.033887976804550246',\n       '0.034449007523309705', '0.02338038843662349',\n       '0.012421162059269353', '-0.11012402518512943',\n       '0.10096343571541322', '-0.17378395768525556',\n       '-0.1910537907404597', '-0.23114054881986612',\n       '-0.09931883001493436', '0.088213468741833',\n       '-0.11919024207910411', '0.0889426284890038',\n       '-0.2839894920534355', '0.06331329373929284',\n       '0.07464175055207467', '0.015580672291294784',\n       '0.3181707508331024', '0.0644902060527448', '-0.14538648707740354',\n       '0.20001532246449583', '0.12950357500800247',\n       '0.29481258485671735', '0.34222986047389004',\n       '-0.2839894920534355', '0.010301479855908235',\n       '-0.004668438126271379', '0.5638811906477708',\n       '0.4842483907637658', '0.42930076810724005', '0.12866185915904782',\n       '0.08810676902449188', '0.11884597208536807', '0.5382515604256473',\n       '0.4130950641957014', '-0.06515186505293369', '0.3511752472087759',\n       '-0.1910537907404597', '-0.03510065190028788',\n       '-0.018956912184742825', '0.272811590947591',\n       '0.03863125459075745', '0.17689405910666633'], dtype='<U32')"
     },
     "execution_count": 60,
     "metadata": {},
     "output_type": "execute_result"
    }
   ],
   "source": [],
   "metadata": {
    "collapsed": false,
    "pycharm": {
     "name": "#%%\n"
    }
   }
  },
  {
   "cell_type": "code",
   "execution_count": 21,
   "outputs": [
    {
     "data": {
      "text/plain": "array([[  0.        ,  50.78648939,  57.6077239 ,  96.05975727,\n         97.52959511, 106.83425804],\n       [  0.        ,  37.49520191,  45.03553545,  67.02056942,\n         86.90208458, 113.70175919],\n       [  0.        ,  45.03553545,  55.48041606,  77.01644176,\n         94.68433963, 103.70918273],\n       ...,\n       [  0.        ,  79.72223046, 130.89983791, 150.65295549,\n        160.78927327, 197.50098745],\n       [  0.        ,  47.74718034,  88.24432505, 115.57159297,\n        127.51753357, 132.47869624],\n       [  0.        ,  27.14213436,  40.20600421,  47.37454191,\n         71.88818962,  90.01666888]])"
     },
     "execution_count": 21,
     "metadata": {},
     "output_type": "execute_result"
    }
   ],
   "source": [
    "distancesMarkedReal"
   ],
   "metadata": {
    "collapsed": false,
    "pycharm": {
     "name": "#%%\n"
    }
   }
  },
  {
   "cell_type": "code",
   "execution_count": 22,
   "outputs": [
    {
     "data": {
      "text/plain": "array([50.78648939, 37.49520191, 45.03553545, 18.20110011, 30.06659276,\n       18.20110011, 23.43540057, 50.78648939, 30.36975835, 44.9146123 ,\n       31.61779867, 66.00352537, 23.43540057, 71.19352438, 65.81313359,\n       31.61779867, 32.77848238, 29.52807801, 50.36710032, 32.01951476,\n       27.72865748, 30.74667552, 27.72865748, 30.74667552, 32.01951476,\n       53.95584071, 50.73742537, 29.52807801, 54.25176719, 32.73323859,\n       69.86046412, 43.21610093, 20.02429598, 38.94483161, 20.02429598,\n       32.73323859, 44.1624014 , 41.36229012, 27.72674326, 65.3020121 ,\n       43.21610093, 51.22591836, 41.36229012, 38.94483161, 77.65371852,\n       71.99355679, 43.99681154, 50.32121882, 44.21137453, 37.48322861,\n       40.86572982, 34.76842702, 41.30658179, 30.25394363, 83.1346865 ,\n       55.78073657, 40.33300665, 37.48322861, 44.21137453, 30.25394363,\n       41.30658179, 20.37981571, 34.34590904, 31.08038565, 45.75200371,\n       20.37981571, 43.56332064, 40.33300665, 34.34590904, 46.95754133,\n       53.33315396, 35.74109419, 31.08038565, 14.61048009, 35.49364595,\n       81.40993576, 78.40953921, 35.74109419, 21.32088469, 14.61048009,\n       21.32088469, 24.9785606 , 22.3239841 , 35.49364595, 22.3239841 ,\n       24.9785606 , 42.8976207 , 26.64103509, 22.98499079, 26.52948963,\n       44.26879605, 43.5624761 , 43.1881347 , 51.10348527, 26.64103509,\n       17.66192795, 68.79681955, 42.8976207 , 22.98499079, 28.5220156 ,\n       71.71967372, 26.97075958, 39.45036625, 41.69185304, 51.91461636,\n       49.56361372, 37.43721227, 17.66192795, 28.5220156 , 32.37410016,\n       37.43721227, 36.63797318, 26.97075958, 88.93439505, 53.13604154,\n       48.58327795, 39.22602044, 36.68420545, 41.782071  , 41.32233681,\n       49.56361372, 24.4450255 , 70.30967365, 28.37064101, 25.71330258,\n       25.30823268, 28.37064101, 24.4450255 , 31.98193568, 27.6153864 ,\n       31.98193568, 35.86698263, 41.782071  , 32.10668257, 28.60161297,\n       39.88944188, 25.71330258, 44.95539351, 27.6153864 , 28.60161297,\n       23.19612736, 46.97100401, 39.88944188, 23.19612736, 46.97100401,\n       36.9207993 , 19.3845914 , 19.3845914 , 61.91095452, 42.62650625,\n       36.25314104, 39.78484554, 35.71973796, 42.62650625, 35.97585453,\n       13.95477296, 23.58862456, 38.42308717, 13.95477296, 39.78484554,\n       22.81140358, 61.91095452, 41.31644281, 17.35560005, 79.21550916,\n       17.35560005, 48.97750681, 35.97585453, 40.37460235, 41.74945988,\n       21.62509232, 14.61498327, 22.81140358, 14.61498327, 33.41025292,\n       26.73330818, 23.77659516, 27.00845322, 24.34054941, 18.63024713,\n       18.63024713, 25.77522869, 41.74945988, 33.30266659, 27.00845322,\n       41.61923011, 33.30266659, 20.68653821, 24.98638571, 21.60670948,\n       37.03642245, 20.68653821, 39.56553367, 27.27991154, 21.60670948,\n       29.25706091, 25.77522869, 31.51525421, 67.81638814, 29.25706091,\n       39.56553367, 26.56623245, 23.41261962, 23.41261962, 55.90933935,\n       19.61223128, 25.79414644, 47.69721298, 19.61223128, 27.39175869,\n       62.2992028 , 43.54983105, 19.79717514, 69.2730036 , 36.55515521,\n       25.81672047, 32.3172863 , 48.68825114, 25.81672047, 19.79717514,\n       59.92808807, 24.73137908, 43.54983105, 52.50062925, 23.28651468,\n       23.28651468, 40.97856597, 25.79414644, 18.08536855, 18.08536855,\n       24.02012911, 22.27301587, 48.68825114, 44.60595458, 22.27301587,\n       30.99048524, 30.99048524, 44.36842442, 21.22161749, 24.78898992,\n       24.78898992, 58.79555782, 21.22161749, 42.03235525, 50.10820716,\n       20.29033143, 31.97345402, 20.29033143, 34.55618311, 35.4999457 ,\n       34.55618311, 30.24994384, 31.17840461, 59.1044708 , 54.36570843,\n       28.19667975, 30.94355244, 43.22110918, 50.10820716, 29.26800406,\n       21.61933032, 21.73451165, 56.3660911 , 27.05816035, 33.70681453,\n       58.96145668, 27.98021431, 58.23134155, 49.19684579, 21.73451165,\n       28.19667975, 21.61933032, 48.21693807, 34.37819456, 29.26800406,\n       43.22110918, 27.05816035, 48.67133574, 24.32416956, 16.01127561,\n       24.32416956, 16.01127561, 44.97756179, 40.66510575, 22.9876769 ,\n       40.66510575, 39.50780657, 22.9876769 , 30.87228724, 34.41706959,\n       33.24589472, 67.303575  , 22.00831482, 37.93439706, 17.49728821,\n       45.80221705, 22.00831482, 17.49728821, 37.62756732, 50.51722102,\n       32.25619605, 51.47584007, 17.55795614, 33.24589472, 32.25619605,\n       17.55795614, 64.42948407, 37.93439706, 47.60022321, 45.80221705,\n       56.38688382, 27.5625001 , 17.7315052 , 27.5625001 , 17.7315052 ,\n       33.9729954 , 22.49682286, 35.36192461, 38.35541792, 36.52801848,\n       53.39713347, 57.52612651, 22.49682286, 31.88455363, 33.12619192,\n       55.61231859, 45.9715896 , 35.36192461, 31.88455363, 50.32328959,\n       75.64667527, 36.47692851, 40.12473411, 27.81080597, 27.81080597,\n       36.47692851, 24.84555151, 31.63080697, 35.31157389, 24.84555151,\n       21.48763789, 44.85775295, 43.0015116 , 32.89840893, 31.63080697,\n       21.48763789, 59.67920946, 59.50605266, 32.89840893, 45.55407273,\n       26.78537934, 43.0015116 , 33.12619192, 36.25035249, 43.37555142,\n       35.31157389, 45.50764969, 42.98902171, 42.78021137, 26.78537934,\n       42.78021137, 37.35766224, 37.00006559, 24.44284751, 52.80896894,\n       14.88370547, 18.52342127, 14.88370547, 42.09489324, 18.52342127,\n       51.78842839, 38.34177438, 14.71894273, 24.44284751, 14.71894273,\n       65.92431391, 39.7857729 , 42.46831398, 35.22356346, 66.59475924,\n       35.22356346, 50.25109288, 37.54439368, 47.30635271, 45.23671301,\n       25.020739  , 59.68405567, 30.19930648, 30.19930648, 21.21825897,\n       56.93578864, 25.020739  , 25.09608332, 31.63132703, 19.60168488,\n       19.60168488, 42.13980116, 47.24339313, 55.21485588, 25.09608332,\n       38.95114499, 31.63132703, 32.8975683 , 30.45593065, 67.84767463,\n       32.8975683 , 68.30653839, 26.61499555, 18.90369159, 53.64904312,\n       40.138614  , 18.90369159, 45.2260536 , 32.35062682, 26.61499555,\n       44.3800253 , 22.69115199, 47.6174711 , 40.138614  , 16.72997183,\n       41.76200547, 29.15171382, 34.61314879, 68.30653839, 47.74718034,\n       29.15171382, 16.72997183, 48.89137567, 34.61314879, 61.9686261 ,\n       27.14213436, 53.90014313, 79.72223046, 47.74718034, 27.14213436])"
     },
     "execution_count": 22,
     "metadata": {},
     "output_type": "execute_result"
    }
   ],
   "source": [
    "distancesMarkedReal[:,1]"
   ],
   "metadata": {
    "collapsed": false,
    "pycharm": {
     "name": "#%%\n"
    }
   }
  },
  {
   "cell_type": "code",
   "execution_count": 28,
   "outputs": [
    {
     "data": {
      "text/plain": "33.5438650665144"
     },
     "execution_count": 28,
     "metadata": {},
     "output_type": "execute_result"
    }
   ],
   "source": [
    "np.mean(markedRandom[:,:,1].flatten())"
   ],
   "metadata": {
    "collapsed": false,
    "pycharm": {
     "name": "#%%\n"
    }
   }
  },
  {
   "cell_type": "code",
   "execution_count": 38,
   "outputs": [
    {
     "data": {
      "text/plain": "(-4.0, 4.0)"
     },
     "execution_count": 38,
     "metadata": {},
     "output_type": "execute_result"
    },
    {
     "data": {
      "text/plain": "<Figure size 432x288 with 1 Axes>",
      "image/png": "[encoded data removed]"
     },
     "metadata": {},
     "output_type": "display_data"
    }
   ],
   "source": [
    "k = 5\n",
    "plt.hist((distancesMarkedReal[:,1]/np.mean(markedRandom[:,:,1].flatten())) -1, bins = 50)\n",
    "plt.xlim(-4,4)"
   ],
   "metadata": {
    "collapsed": false,
    "pycharm": {
     "name": "#%%\n"
    }
   }
  },
  {
   "cell_type": "code",
   "execution_count": 43,
   "outputs": [
    {
     "data": {
      "text/plain": "array([1.53890859, 0.89758921, 1.05462445, 0.93504676, 1.94489935,\n       1.15492516, 1.94489935, 1.47523499, 1.47523499, 0.89758921,\n       1.79738869, 1.92912652, 1.53446125, 1.48523031, 0.84686103,\n       1.1266117 , 0.86424377, 0.93504676, 1.30170416, 0.96341242,\n       1.15291844, 1.15291844, 1.42416338, 0.86424377, 0.76942459,\n       0.81722086, 1.28794074, 1.083077  , 1.18657347, 0.81722086,\n       1.30170416, 0.84686103, 1.97046897, 1.86674222, 1.92912652,\n       1.53446125, 0.76942459, 0.58759346, 2.16000912, 0.58759346,\n       0.84226944, 1.15816886, 1.02230443, 1.58366865, 0.82426397,\n       0.66768761, 1.1874983 , 1.24910575, 0.82426397, 1.46170349,\n       0.84226944, 0.95227903, 1.24910575, 1.29541517, 0.66768761,\n       0.67238346, 1.73782847, 0.95227903, 0.84822205, 1.14306584,\n       1.18199699, 1.08333641, 1.41281785, 1.15357305, 1.28031107,\n       0.67238346, 1.34381852, 1.15357305, 1.39370698, 1.34381852,\n       1.17276566, 1.68778658, 1.30165874, 1.1160561 , 1.58197532,\n       1.30165874, 1.15564483, 0.54135094, 1.03682112, 0.55622546,\n       0.54135094, 1.02666667, 1.34616464, 1.18199699, 1.73866649,\n       0.83450457, 1.009249  , 1.59780608, 0.55622546, 0.91140874,\n       1.02666667, 1.009249  , 0.97968088, 0.95393185, 0.94032798,\n       0.46709536, 0.50379017, 1.443337  , 0.49947979, 0.49947979,\n       0.69139187, 0.50379017, 0.46709536, 0.79399323, 1.04727235,\n       1.03682112, 0.79399323, 0.61174958, 0.69139187, 0.4921628 ,\n       0.57760263, 0.79639109, 1.08002645, 1.29661754, 0.79639109,\n       0.99266287, 1.03967066, 1.07881031, 0.61174958, 0.57760263,\n       0.99266287, 1.1444306 , 0.99083615, 1.64158052, 1.03967066,\n       1.10730916, 0.99083615, 1.03922973, 1.42255172, 1.9201949 ,\n       1.08002645, 0.99672468, 1.24838559, 1.41182417, 1.60380873,\n       1.10730916, 0.70521464, 1.2033894 , 1.28001176, 1.24838559,\n       1.48872399, 0.4820806 , 1.19621457, 1.13328128, 1.58910589,\n       0.70521464, 0.42087188, 1.96265022, 0.4820806 , 1.2033894 ,\n       0.93354884, 1.05771345, 0.64785635, 0.49576926, 1.05658504,\n       0.42087188, 0.49576926, 0.85107551, 0.80526433, 0.57884568,\n       0.57884568, 1.80873941, 1.03721529, 1.05771345, 1.33648665,\n       1.58910589, 0.64785635, 0.93354884, 1.23173674, 0.85107551,\n       1.40852092, 1.12742937, 1.03721529, 1.23173674, 1.45866752,\n       0.85545472, 1.45866752, 0.89055185, 1.234722  , 1.69091247,\n       1.09542686, 1.20285652, 1.44075168, 1.20285652, 1.44536347,\n       0.72190422, 1.12742937, 1.58902485, 1.48282734, 0.72190422,\n       1.50917245, 1.234722  , 1.31302274, 1.48851914, 0.79380434,\n       1.03013529, 1.17151243, 0.79016659, 1.48851914, 1.63013035,\n       0.85545472, 1.05846087, 1.4650875 , 1.159977  , 1.08853649,\n       1.03013529, 0.79016659, 1.159977  , 0.79380434, 0.79303331,\n       0.79303331, 1.48282734, 0.64812016, 1.42493619, 1.40447808,\n       0.59754458, 0.84610189, 0.64812016, 1.88482734, 1.08853649,\n       0.94709509, 0.59754458, 0.94709509, 0.9815068 , 1.34594695,\n       0.89880198, 0.79707647, 0.89324943, 0.84610189, 1.26906854,\n       0.88886367, 0.89324943, 0.89880198, 0.54202491, 1.80896536,\n       1.04970864, 0.90988802, 1.34594695, 0.54202491, 1.53949632,\n       0.79707647, 2.86854083, 0.90988802, 0.9467639 , 0.95713901,\n       1.18884313, 2.45644686, 0.92258877, 0.71890817, 0.88886367,\n       0.92258877, 0.71890817, 1.09731427, 0.89148944, 0.5752533 ,\n       1.50385642, 0.41770458, 0.41770458, 0.5752533 , 0.69933704,\n       0.98157751, 1.80402066, 1.4443084 , 1.21727289, 0.72855847,\n       0.81325351, 0.72241746, 1.32612863, 1.39983367, 0.69933704,\n       0.81325351, 1.20901467, 0.72241746, 1.830781  , 1.28802193,\n       0.84815999, 1.21311379, 0.69071445, 0.84815999, 1.56480005,\n       1.32876218, 0.90262684, 1.36008191, 1.51646075, 0.98849089,\n       0.95099522, 1.32612863, 0.95099522, 1.21816993, 0.90262684,\n       1.9458556 , 1.33361845, 1.28445532, 1.16651541, 0.89264079,\n       1.36008191, 1.42114842, 2.03484468, 1.94843189, 0.89264079,\n       1.03001533, 0.97900992, 0.70657977, 0.97900992, 1.28445532,\n       1.7607875 , 1.14653738, 1.03001533, 1.14653738, 0.70657977,\n       0.6647099 , 0.92197538, 1.42114842, 1.54925137, 1.69877834,\n       0.73481096, 0.6647099 , 1.4379871 , 0.92197538, 0.73481096,\n       0.84991999, 1.40302776, 1.65104445, 1.26777771, 1.77500794,\n       1.81554421, 1.59356866, 1.26777771, 0.77770582, 1.54925137,\n       0.84991999, 1.77671804, 1.4379871 , 1.43714979, 1.39537931,\n       0.99412952, 1.3043868 , 1.57651302, 1.91128737, 0.97124238,\n       0.99412952, 1.03476358, 1.19491908, 1.39537931, 1.79510116,\n       0.77495736, 1.2503085 , 0.4133783 , 1.12638297, 1.08988018,\n       0.54206636, 0.4133783 , 1.08882487, 0.54206636, 0.77495736,\n       1.03476358, 1.17062081, 0.73348539, 0.88752445, 0.95836037,\n       1.38548526, 1.43781747, 1.19491908, 0.6871091 , 0.6871091 ,\n       1.08544151, 0.69799956, 1.12638297, 0.73348539, 1.17872072,\n       1.29526032, 1.28123244, 0.62596851, 0.62596851, 0.69799956,\n       1.66313691, 1.40852389, 1.08544151, 0.89397614, 2.25500638,\n       0.91416201, 1.94744094, 1.50505865, 1.08386137, 0.7885171 ,\n       0.7885171 , 1.13531887, 1.17659386, 0.83122406, 1.04662303,\n       1.2652918 , 0.60838052, 0.71970118, 0.88267473, 0.60838052,\n       0.72247277, 0.74306648, 1.34225541, 1.04547229, 0.83122406,\n       1.50701081, 0.63607788, 0.99358157, 0.74306648, 0.85709545,\n       0.98300709, 2.1296715 , 1.46502876, 1.04662303, 1.68661517,\n       0.63607788, 0.85709545, 0.72247277, 0.98300709, 1.01006195,\n       1.01921929, 1.3455488 , 0.71970118, 0.97135612, 0.99358157,\n       1.29460167, 1.03081548, 1.3455488 , 1.63700989, 1.92603984,\n       2.1296715 , 0.89277722, 1.46202871, 1.14822821, 1.38242258,\n       1.04286576, 1.5721738 , 0.89277722, 1.47510511, 0.91081208,\n       1.66053787, 0.52995023, 0.71749022, 1.41653127, 1.983638  ,\n       0.60196801, 1.75351943, 0.52995023, 0.60196801, 1.78553086,\n       0.80016839, 1.47510511, 1.94698627, 0.80016839, 1.32613467,\n       1.18429335, 0.7680249 , 1.11611577, 0.7680249 , 0.88509017,\n       1.75351943, 1.44473427, 0.53059497, 1.35274234, 0.88509017,\n       1.48562547, 1.77940453, 1.32613467, 1.05262713, 1.14375751,\n       1.45370952, 1.93038365, 0.90253765, 0.53059497, 1.10845458,\n       0.99584424, 0.99584424, 0.98276204, 0.79223895, 0.89487151,\n       1.48562547, 1.2611591 , 1.87390843, 1.46629443, 1.06271167,\n       0.98276204, 1.10845458, 0.79223895, 0.5680598 , 0.5680598 ,\n       1.14817764, 0.61847229, 0.95486194, 1.2611591 , 1.49101214,\n       0.98437963, 1.12564314, 2.42055491, 0.98437963, 1.29328798,\n       2.12978825, 0.61847229, 1.93038365, 0.9956592 , 1.69742972,\n       0.95486194, 1.09774212, 0.9956592 , 0.76840327, 0.76840327,\n       1.44542703, 1.52689873, 0.99382421, 0.9879179 , 0.97579502,\n       0.9879179 , 0.79912182, 1.079025  , 0.61825673, 1.079025  ,\n       0.64485785, 0.69689457, 1.09774212, 0.61825673, 1.82211473,\n       0.65799251, 0.64485785, 1.68104825, 1.25173268, 0.75806022,\n       0.74201249, 1.24100814, 1.39044057, 0.65799251, 2.20445063,\n       1.25173268, 0.76027302, 1.02065232, 0.76027302, 1.07621347,\n       0.75806022, 1.97597585, 0.90455527, 1.51261653, 1.16734066,\n       0.94363032, 1.02065232, 1.07621347, 0.94090157, 1.53035269,\n       0.94363032, 0.90455527, 1.05693647, 1.53035269, 1.2602588 ,\n       0.7895971 , 1.55901333, 1.05693647, 1.82384576, 0.98241247,\n       0.98241247, 0.7895971 , 0.80075078, 1.48892207, 2.5353781 ,\n       1.17573334, 1.55901333, 0.85450325, 2.09186867, 0.83776862,\n       0.87286481, 2.17283489, 0.87286481, 0.83776862, 0.75494886,\n       0.85450325, 1.41823466, 1.6594153 , 0.75494886, 0.99687598,\n       1.39932992, 1.17573334, 1.43064586, 1.39932992, 1.22390047,\n       0.56234181, 2.05085761, 2.6948603 , 1.41823466, 0.56234181,\n       1.22390047, 1.06959587, 1.11737311, 1.57433852, 1.48094279,\n       1.49634197, 1.47348072, 1.23853782, 1.1622431 , 1.80645209,\n       0.97133958, 0.67658538, 1.11737311, 1.38718338, 1.32342754,\n       0.67658538, 1.33488968, 1.26979944, 1.34099704, 1.02561241,\n       0.97133958, 0.64583826, 1.23853782, 0.774814  , 1.11307676,\n       1.1622431 , 1.02561241, 1.49634197, 0.82097952, 1.57018536,\n       0.78926951, 1.79919104, 0.64583826, 2.11998651, 1.32342754,\n       1.4770143 , 1.26452772, 1.11307676, 1.59992171, 1.58405736,\n       1.33488968, 0.68367244, 0.68367244, 0.89055185, 0.80075078,\n       1.11611577, 0.69071445])"
     },
     "execution_count": 43,
     "metadata": {},
     "output_type": "execute_result"
    }
   ],
   "source": [
    "distancesMarkedReal[:,1]/np.mean(markedRandom[:,:,1].flatten())"
   ],
   "metadata": {
    "collapsed": false,
    "pycharm": {
     "name": "#%%\n"
    }
   }
  },
  {
   "cell_type": "code",
   "execution_count": null,
   "outputs": [],
   "source": [],
   "metadata": {
    "collapsed": false,
    "pycharm": {
     "name": "#%%\n"
    }
   }
  }
 ],
 "metadata": {
  "kernelspec": {
   "display_name": "Python 3",
   "language": "python",
   "name": "python3"
  },
  "language_info": {
   "codemirror_mode": {
    "name": "ipython",
    "version": 2
   },
   "file_extension": ".py",
   "mimetype": "text/x-python",
   "name": "python",
   "nbconvert_exporter": "python",
   "pygments_lexer": "ipython2",
   "version": "2.7.6"
  }
 },
 "nbformat": 4,
 "nbformat_minor": 0
}
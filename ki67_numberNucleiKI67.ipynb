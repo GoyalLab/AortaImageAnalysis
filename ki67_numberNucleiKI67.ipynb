{
 "cells": [
  {
   "cell_type": "code",
   "execution_count": null,
   "outputs": [],
   "source": [
    "#Number of Nuclei of KI67 images"
   ],
   "metadata": {
    "collapsed": false,
    "pycharm": {
     "name": "#%%\n"
    }
   }
  },
  {
   "cell_type": "code",
   "execution_count": 1,
   "outputs": [],
   "source": [
    "import pandas as pd\n",
    "import numpy as np\n",
    "from os import listdir\n",
    "from os.path import isfile, join\n",
    "import os\n",
    "import fnmatch"
   ],
   "metadata": {
    "collapsed": false,
    "pycharm": {
     "name": "#%%\n"
    }
   }
  },
  {
   "cell_type": "code",
   "execution_count": 24,
   "outputs": [],
   "source": [
    "path = '/Users/jones/Library/CloudStorage/GoogleDrive-jonasbraunnu@gmail.com/.shortcut-targets-by-id/1D_bPjhT95POOAirSmkzFskKPd4RlOOwP/LuisaLab/data/segmentations/KI67/P50/nuclei'\n",
    "\n",
    "maturities = ['P50']\n",
    "type = ['newModel']\n",
    "\n",
    "columns = ['age', 'aorta', 'nucleiNumber']\n",
    "properties = ('label', 'centroid')\n",
    "\n",
    "filename = \"/Users/jones/Library/CloudStorage/GoogleDrive-jonasbraunnu@gmail.com/.shortcut-targets-by-id/1D_bPjhT95POOAirSmkzFskKPd4RlOOwP/LuisaLab/plotData/numberNucleiKI67.csv\""
   ],
   "metadata": {
    "collapsed": false,
    "pycharm": {
     "name": "#%%\n"
    }
   }
  },
  {
   "cell_type": "code",
   "execution_count": 26,
   "outputs": [],
   "source": [
    "folders = [x[0] for x in os.walk(path)]\n",
    "folders = sorted(folders)\n",
    "pattern = \"*\" + type[0] + \"*\"\n",
    "foldersTypeFiltered = fnmatch.filter(folders, pattern)\n",
    "pattern = \"*notPerfect*\"\n",
    "foldersWrong = fnmatch.filter(foldersTypeFiltered, pattern)\n",
    "s = set(foldersTypeFiltered) - set(foldersWrong)"
   ],
   "metadata": {
    "collapsed": false,
    "pycharm": {
     "name": "#%%\n"
    }
   }
  },
  {
   "cell_type": "code",
   "execution_count": 31,
   "outputs": [
    {
     "name": "stderr",
     "output_type": "stream",
     "text": [
      "/var/folders/6r/4p5g0w_j4jv11sr24nv1b0140000gn/T/ipykernel_43977/4063700176.py:15: FutureWarning: The frame.append method is deprecated and will be removed from pandas in a future version. Use pandas.concat instead.\n",
      "  df = df.append(dic, ignore_index=True)\n",
      "/var/folders/6r/4p5g0w_j4jv11sr24nv1b0140000gn/T/ipykernel_43977/4063700176.py:15: FutureWarning: The frame.append method is deprecated and will be removed from pandas in a future version. Use pandas.concat instead.\n",
      "  df = df.append(dic, ignore_index=True)\n"
     ]
    }
   ],
   "source": [
    "df = pd.DataFrame()\n",
    "for i in maturities:\n",
    "    age = \"*\" + i + \"*\"\n",
    "    foldersAge = fnmatch.filter(s, age)\n",
    "    for folder in foldersAge:\n",
    "        files = [f for f in listdir(folder) if isfile(join(folder, f))]\n",
    "        dat_folder = [np.load(join(folder,f), allow_pickle = True).item() for f in files]\n",
    "        numberNuclei = 0\n",
    "        for j in range(len(dat_folder)):\n",
    "            numberNuclei += len(np.unique(dat_folder[j]['masks']))\n",
    "\n",
    "        dic = {'age': i, 'aorta': folder.split(\"/\")[-2],  'nucleiNumber': numberNuclei}\n",
    "        dfData = pd.DataFrame(dict, index= [0])\n",
    "        df = pd.concat((df, dfData), axis=0, ignore_index=True)\n",
    "\n",
    "df.to_csv(filename, index = False)"
   ],
   "metadata": {
    "collapsed": false,
    "pycharm": {
     "name": "#%%\n"
    }
   }
  }
 ],
 "metadata": {
  "kernelspec": {
   "display_name": "Python 3",
   "language": "python",
   "name": "python3"
  },
  "language_info": {
   "codemirror_mode": {
    "name": "ipython",
    "version": 2
   },
   "file_extension": ".py",
   "mimetype": "text/x-python",
   "name": "python",
   "nbconvert_exporter": "python",
   "pygments_lexer": "ipython2",
   "version": "2.7.6"
  }
 },
 "nbformat": 4,
 "nbformat_minor": 0
}
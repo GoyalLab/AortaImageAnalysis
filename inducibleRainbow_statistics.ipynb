{
 "cells": [
  {
   "cell_type": "code",
   "execution_count": null,
   "metadata": {
    "collapsed": true,
    "pycharm": {
     "name": "#%%\n"
    }
   },
   "outputs": [],
   "source": [
    "import pandas as pd\n",
    "from inducedRainbow.clusterSize.statistics import clusterSizeDF, stats\n",
    "import scipy"
   ]
  },
  {
   "cell_type": "code",
   "execution_count": null,
   "outputs": [],
   "source": [
    "df = pd.read_csv(\"/Volumes/Aortas/Aorta/results/inducedRainbow/allClusterSizesRed.csv\")"
   ],
   "metadata": {
    "collapsed": false,
    "pycharm": {
     "name": "#%%\n"
    }
   }
  },
  {
   "cell_type": "code",
   "execution_count": null,
   "outputs": [],
   "source": [
    "dfResults = pd.DataFrame()\n",
    "for index, row in df.iterrows():\n",
    "    clusterSizes = clusterSizeDF(row)\n",
    "    age = row['age']\n",
    "    aorta = row['aorta']\n",
    "    gini, shannonlog2, shannonlogN, shannonEquiLog2, shannonEquiLogN, simpson, hoover = stats(clusterSizes, withSingletons = True)\n",
    "    dfHelp = pd.DataFrame({\"age\": age, \"aorta\": aorta, \"gini\": gini, \"shannonlog2\": shannonlog2, \"shannonlogN\": shannonlogN, \"shannonEquiLog2\": shannonEquiLog2, \"shannonEquiLogN\": shannonEquiLogN, \"simpson\": simpson, \"hoover\":hoover }, index= [0])\n",
    "    dfResults = dfResults.append(dfHelp)"
   ],
   "metadata": {
    "collapsed": false,
    "pycharm": {
     "name": "#%%\n"
    }
   }
  },
  {
   "cell_type": "code",
   "execution_count": null,
   "outputs": [],
   "source": [
    "dfResults.to_csv(\"/Volumes/Aortas/Aorta/results/inducedRainbow/StatsWithOutSingletons.csv\")"
   ],
   "metadata": {
    "collapsed": false,
    "pycharm": {
     "name": "#%%\n"
    }
   }
  },
  {
   "cell_type": "code",
   "execution_count": null,
   "outputs": [],
   "source": [],
   "metadata": {
    "collapsed": false,
    "pycharm": {
     "name": "#%%\n"
    }
   }
  },
  {
   "cell_type": "code",
   "execution_count": null,
   "outputs": [],
   "source": [
    "scipy.stats.f_oneway()"
   ],
   "metadata": {
    "collapsed": false,
    "pycharm": {
     "name": "#%%\n"
    }
   }
  },
  {
   "cell_type": "code",
   "execution_count": null,
   "outputs": [],
   "source": [],
   "metadata": {
    "collapsed": false,
    "pycharm": {
     "name": "#%%\n"
    }
   }
  },
  {
   "cell_type": "code",
   "execution_count": null,
   "outputs": [],
   "source": [
    "# compare with markov div/cluster\n",
    "\n",
    "dfResults = pd.DataFrame()\n",
    "for i, row in df.iterrows():\n",
    "    aorta = row['aorta']\n",
    "    age = row['age']\n",
    "    markovPath = join(markovianPath, age, aorta)\n",
    "    if age != \"30-60\":\n",
    "        if (age != \"10-60\") & (aorta != \"C5RB-001\"):\n",
    "            if (age != \"5-60\") & (aorta != \"C5RB-014\"):\n",
    "                os.chdir(markovPath)\n",
    "                files = [f for f in listdir(markovPath) if isfile(join(markovPath, f)) if \"markovianDivision_\" in f if \"DS_Store\" not in f if \"._\" not in f]\n",
    "                for file in files:\n",
    "                    unique, count = np.unique(np.loadtxt(join(markovPath, file)), return_counts=True)\n",
    "                    p = np.array(df.loc[(df.age == age) & (df.aorta == aorta)].values[0,2:], dtype='float64')\n",
    "                    q = []\n",
    "                    maxIter = int(np.max(13 - np.max(unique), 0))\n",
    "                    for i in range(int(np.max(unique))):\n",
    "                        if count[np.where(unique == (i+1))].size == 0:\n",
    "                            q.append(0)\n",
    "                        else:\n",
    "                            q.append(count[np.where(unique == (i+1))][0])\n",
    "                    for i in range(maxIter):\n",
    "                        q.append(0)\n",
    "\n",
    "                    q = np.asarray(q, dtype='float64')\n",
    "                    for i in range(int(np.max(np.max(unique)- len(p),0))):\n",
    "                        p = np.append(p,0.0)\n",
    "                    scores = distanceScores(p,q)\n",
    "                    df_help = pd.DataFrame(scores, index = [0])\n",
    "                    df_help['age'] = age\n",
    "                    df_help['aorta'] = aorta\n",
    "                    dfResults = dfResults.append(df_help)"
   ],
   "metadata": {
    "collapsed": false,
    "pycharm": {
     "name": "#%%\n"
    }
   }
  },
  {
   "cell_type": "code",
   "execution_count": null,
   "outputs": [],
   "source": [],
   "metadata": {
    "collapsed": false,
    "pycharm": {
     "name": "#%%\n"
    }
   }
  }
 ],
 "metadata": {
  "kernelspec": {
   "display_name": "Python 3",
   "language": "python",
   "name": "python3"
  },
  "language_info": {
   "codemirror_mode": {
    "name": "ipython",
    "version": 2
   },
   "file_extension": ".py",
   "mimetype": "text/x-python",
   "name": "python",
   "nbconvert_exporter": "python",
   "pygments_lexer": "ipython2",
   "version": "2.7.6"
  }
 },
 "nbformat": 4,
 "nbformat_minor": 0
}
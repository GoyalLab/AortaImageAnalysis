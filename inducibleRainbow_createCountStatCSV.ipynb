{
 "cells": [
  {
   "cell_type": "code",
   "execution_count": 3,
   "outputs": [],
   "source": [
    "import numpy as np\n",
    "import pandas as pd\n",
    "import os\n",
    "from os import listdir\n",
    "from os.path import isfile, join"
   ],
   "metadata": {
    "collapsed": false,
    "pycharm": {
     "name": "#%%\n"
    }
   }
  },
  {
   "cell_type": "code",
   "execution_count": 6,
   "outputs": [],
   "source": [
    "dataPath = \"/Volumes/Aortas/Aorta/segmentations/inducedRainbow/final/orange\""
   ],
   "metadata": {
    "collapsed": false,
    "pycharm": {
     "name": "#%%\n"
    }
   }
  },
  {
   "cell_type": "code",
   "execution_count": 7,
   "outputs": [],
   "source": [
    "folders = [x[0] for x in os.walk(dataPath)]\n",
    "folders = sorted(folders)"
   ],
   "metadata": {
    "collapsed": false,
    "pycharm": {
     "name": "#%%\n"
    }
   }
  },
  {
   "cell_type": "code",
   "execution_count": 9,
   "outputs": [
    {
     "name": "stderr",
     "output_type": "stream",
     "text": [
      "/var/folders/6r/4p5g0w_j4jv11sr24nv1b0140000gn/T/ipykernel_93541/510272600.py:36: FutureWarning: The frame.append method is deprecated and will be removed from pandas in a future version. Use pandas.concat instead.\n",
      "  dfResults = dfResults.append(pd.DataFrame([row], columns=columnList))\n",
      "/var/folders/6r/4p5g0w_j4jv11sr24nv1b0140000gn/T/ipykernel_93541/510272600.py:36: FutureWarning: The frame.append method is deprecated and will be removed from pandas in a future version. Use pandas.concat instead.\n",
      "  dfResults = dfResults.append(pd.DataFrame([row], columns=columnList))\n",
      "/var/folders/6r/4p5g0w_j4jv11sr24nv1b0140000gn/T/ipykernel_93541/510272600.py:36: FutureWarning: The frame.append method is deprecated and will be removed from pandas in a future version. Use pandas.concat instead.\n",
      "  dfResults = dfResults.append(pd.DataFrame([row], columns=columnList))\n",
      "/var/folders/6r/4p5g0w_j4jv11sr24nv1b0140000gn/T/ipykernel_93541/510272600.py:36: FutureWarning: The frame.append method is deprecated and will be removed from pandas in a future version. Use pandas.concat instead.\n",
      "  dfResults = dfResults.append(pd.DataFrame([row], columns=columnList))\n",
      "/var/folders/6r/4p5g0w_j4jv11sr24nv1b0140000gn/T/ipykernel_93541/510272600.py:36: FutureWarning: The frame.append method is deprecated and will be removed from pandas in a future version. Use pandas.concat instead.\n",
      "  dfResults = dfResults.append(pd.DataFrame([row], columns=columnList))\n",
      "/var/folders/6r/4p5g0w_j4jv11sr24nv1b0140000gn/T/ipykernel_93541/510272600.py:36: FutureWarning: The frame.append method is deprecated and will be removed from pandas in a future version. Use pandas.concat instead.\n",
      "  dfResults = dfResults.append(pd.DataFrame([row], columns=columnList))\n",
      "/var/folders/6r/4p5g0w_j4jv11sr24nv1b0140000gn/T/ipykernel_93541/510272600.py:36: FutureWarning: The frame.append method is deprecated and will be removed from pandas in a future version. Use pandas.concat instead.\n",
      "  dfResults = dfResults.append(pd.DataFrame([row], columns=columnList))\n",
      "/var/folders/6r/4p5g0w_j4jv11sr24nv1b0140000gn/T/ipykernel_93541/510272600.py:36: FutureWarning: The frame.append method is deprecated and will be removed from pandas in a future version. Use pandas.concat instead.\n",
      "  dfResults = dfResults.append(pd.DataFrame([row], columns=columnList))\n",
      "/var/folders/6r/4p5g0w_j4jv11sr24nv1b0140000gn/T/ipykernel_93541/510272600.py:36: FutureWarning: The frame.append method is deprecated and will be removed from pandas in a future version. Use pandas.concat instead.\n",
      "  dfResults = dfResults.append(pd.DataFrame([row], columns=columnList))\n",
      "/var/folders/6r/4p5g0w_j4jv11sr24nv1b0140000gn/T/ipykernel_93541/510272600.py:36: FutureWarning: The frame.append method is deprecated and will be removed from pandas in a future version. Use pandas.concat instead.\n",
      "  dfResults = dfResults.append(pd.DataFrame([row], columns=columnList))\n",
      "/var/folders/6r/4p5g0w_j4jv11sr24nv1b0140000gn/T/ipykernel_93541/510272600.py:36: FutureWarning: The frame.append method is deprecated and will be removed from pandas in a future version. Use pandas.concat instead.\n",
      "  dfResults = dfResults.append(pd.DataFrame([row], columns=columnList))\n",
      "/var/folders/6r/4p5g0w_j4jv11sr24nv1b0140000gn/T/ipykernel_93541/510272600.py:36: FutureWarning: The frame.append method is deprecated and will be removed from pandas in a future version. Use pandas.concat instead.\n",
      "  dfResults = dfResults.append(pd.DataFrame([row], columns=columnList))\n",
      "/var/folders/6r/4p5g0w_j4jv11sr24nv1b0140000gn/T/ipykernel_93541/510272600.py:36: FutureWarning: The frame.append method is deprecated and will be removed from pandas in a future version. Use pandas.concat instead.\n",
      "  dfResults = dfResults.append(pd.DataFrame([row], columns=columnList))\n",
      "/var/folders/6r/4p5g0w_j4jv11sr24nv1b0140000gn/T/ipykernel_93541/510272600.py:36: FutureWarning: The frame.append method is deprecated and will be removed from pandas in a future version. Use pandas.concat instead.\n",
      "  dfResults = dfResults.append(pd.DataFrame([row], columns=columnList))\n",
      "/var/folders/6r/4p5g0w_j4jv11sr24nv1b0140000gn/T/ipykernel_93541/510272600.py:36: FutureWarning: The frame.append method is deprecated and will be removed from pandas in a future version. Use pandas.concat instead.\n",
      "  dfResults = dfResults.append(pd.DataFrame([row], columns=columnList))\n",
      "/var/folders/6r/4p5g0w_j4jv11sr24nv1b0140000gn/T/ipykernel_93541/510272600.py:36: FutureWarning: The frame.append method is deprecated and will be removed from pandas in a future version. Use pandas.concat instead.\n",
      "  dfResults = dfResults.append(pd.DataFrame([row], columns=columnList))\n",
      "/var/folders/6r/4p5g0w_j4jv11sr24nv1b0140000gn/T/ipykernel_93541/510272600.py:36: FutureWarning: The frame.append method is deprecated and will be removed from pandas in a future version. Use pandas.concat instead.\n",
      "  dfResults = dfResults.append(pd.DataFrame([row], columns=columnList))\n",
      "/var/folders/6r/4p5g0w_j4jv11sr24nv1b0140000gn/T/ipykernel_93541/510272600.py:36: FutureWarning: The frame.append method is deprecated and will be removed from pandas in a future version. Use pandas.concat instead.\n",
      "  dfResults = dfResults.append(pd.DataFrame([row], columns=columnList))\n",
      "/var/folders/6r/4p5g0w_j4jv11sr24nv1b0140000gn/T/ipykernel_93541/510272600.py:36: FutureWarning: The frame.append method is deprecated and will be removed from pandas in a future version. Use pandas.concat instead.\n",
      "  dfResults = dfResults.append(pd.DataFrame([row], columns=columnList))\n",
      "/var/folders/6r/4p5g0w_j4jv11sr24nv1b0140000gn/T/ipykernel_93541/510272600.py:36: FutureWarning: The frame.append method is deprecated and will be removed from pandas in a future version. Use pandas.concat instead.\n",
      "  dfResults = dfResults.append(pd.DataFrame([row], columns=columnList))\n",
      "/var/folders/6r/4p5g0w_j4jv11sr24nv1b0140000gn/T/ipykernel_93541/510272600.py:36: FutureWarning: The frame.append method is deprecated and will be removed from pandas in a future version. Use pandas.concat instead.\n",
      "  dfResults = dfResults.append(pd.DataFrame([row], columns=columnList))\n",
      "/var/folders/6r/4p5g0w_j4jv11sr24nv1b0140000gn/T/ipykernel_93541/510272600.py:36: FutureWarning: The frame.append method is deprecated and will be removed from pandas in a future version. Use pandas.concat instead.\n",
      "  dfResults = dfResults.append(pd.DataFrame([row], columns=columnList))\n",
      "/var/folders/6r/4p5g0w_j4jv11sr24nv1b0140000gn/T/ipykernel_93541/510272600.py:36: FutureWarning: The frame.append method is deprecated and will be removed from pandas in a future version. Use pandas.concat instead.\n",
      "  dfResults = dfResults.append(pd.DataFrame([row], columns=columnList))\n",
      "/var/folders/6r/4p5g0w_j4jv11sr24nv1b0140000gn/T/ipykernel_93541/510272600.py:36: FutureWarning: The frame.append method is deprecated and will be removed from pandas in a future version. Use pandas.concat instead.\n",
      "  dfResults = dfResults.append(pd.DataFrame([row], columns=columnList))\n",
      "/var/folders/6r/4p5g0w_j4jv11sr24nv1b0140000gn/T/ipykernel_93541/510272600.py:36: FutureWarning: The frame.append method is deprecated and will be removed from pandas in a future version. Use pandas.concat instead.\n",
      "  dfResults = dfResults.append(pd.DataFrame([row], columns=columnList))\n",
      "/var/folders/6r/4p5g0w_j4jv11sr24nv1b0140000gn/T/ipykernel_93541/510272600.py:36: FutureWarning: The frame.append method is deprecated and will be removed from pandas in a future version. Use pandas.concat instead.\n",
      "  dfResults = dfResults.append(pd.DataFrame([row], columns=columnList))\n",
      "/var/folders/6r/4p5g0w_j4jv11sr24nv1b0140000gn/T/ipykernel_93541/510272600.py:36: FutureWarning: The frame.append method is deprecated and will be removed from pandas in a future version. Use pandas.concat instead.\n",
      "  dfResults = dfResults.append(pd.DataFrame([row], columns=columnList))\n",
      "/var/folders/6r/4p5g0w_j4jv11sr24nv1b0140000gn/T/ipykernel_93541/510272600.py:36: FutureWarning: The frame.append method is deprecated and will be removed from pandas in a future version. Use pandas.concat instead.\n",
      "  dfResults = dfResults.append(pd.DataFrame([row], columns=columnList))\n",
      "/var/folders/6r/4p5g0w_j4jv11sr24nv1b0140000gn/T/ipykernel_93541/510272600.py:36: FutureWarning: The frame.append method is deprecated and will be removed from pandas in a future version. Use pandas.concat instead.\n",
      "  dfResults = dfResults.append(pd.DataFrame([row], columns=columnList))\n",
      "/var/folders/6r/4p5g0w_j4jv11sr24nv1b0140000gn/T/ipykernel_93541/510272600.py:36: FutureWarning: The frame.append method is deprecated and will be removed from pandas in a future version. Use pandas.concat instead.\n",
      "  dfResults = dfResults.append(pd.DataFrame([row], columns=columnList))\n"
     ]
    }
   ],
   "source": [
    "allClusterSizes = []\n",
    "for folder in folders:\n",
    "    os.chdir(folder)\n",
    "    files = [f for f in listdir(folder) if isfile(join(folder, f)) if \".DS_Store\" not in f if \".npy\" in f if \"._\" not in f if \"clusterSize\" in f]\n",
    "    for file in files:\n",
    "        cluster = np.load(join(folder, file), allow_pickle=True).item()\n",
    "        clusterSizes = []\n",
    "        for key in cluster:\n",
    "            clusterSizes.append(len(cluster[key]))\n",
    "        allClusterSizes.append(np.max(clusterSizes))\n",
    "\n",
    "maxClusterSize = np.max(allClusterSizes)\n",
    "columnList = [\"age\", \"aorta\"]\n",
    "for i in range(maxClusterSize):\n",
    "    columnList.append(str(i+1))\n",
    "dfResults = pd.DataFrame(columns=columnList)\n",
    "\n",
    "for folder in folders:\n",
    "    os.chdir(folder)\n",
    "    files = [f for f in listdir(folder) if isfile(join(folder, f)) if \".DS_Store\" not in f if \".npy\" in f if \"._\" not in f if \"clusterSize\" in f]\n",
    "    for file in files:\n",
    "        cluster = np.load(join(folder, file), allow_pickle=True).item()\n",
    "        clusterSizes = []\n",
    "        for key in cluster:\n",
    "            clusterSizes.append(len(cluster[key]))\n",
    "        clusterSizes = np.asarray(clusterSizes)\n",
    "        unique, count = np.unique(clusterSizes, return_counts=True)\n",
    "        aorta = folder.split(\"/\")[-1]\n",
    "        age = folder.split(\"/\")[-2]\n",
    "        row = [age, aorta]\n",
    "        for i in range(maxClusterSize):\n",
    "            if count[np.where(unique == (i+1))].size == 0:\n",
    "                row.append(0)\n",
    "            else:\n",
    "                row.append(count[np.where(unique == (i+1))][0])\n",
    "        dfResults = dfResults.append(pd.DataFrame([row], columns=columnList))"
   ],
   "metadata": {
    "collapsed": false,
    "pycharm": {
     "name": "#%%\n"
    }
   }
  },
  {
   "cell_type": "code",
   "execution_count": 10,
   "outputs": [
    {
     "data": {
      "text/plain": "     age     aorta    1    2   3   4   5  6  7  8  9 10\n0  10-21  C5RB-002  497  103  16   4   3  0  1  0  0  0\n0  10-21  C5RB-003  326   55  16   5   4  0  0  0  0  0\n0  10-21  C5RB-004  346   55  12   7   1  0  0  0  0  0\n0  10-21  C5RB-005  327   70  17   4   1  0  0  1  0  0\n0  10-30  C5RB-051  374  134  21   7   3  0  0  1  0  0\n0  10-30  C5RB-052  450  196  46  16   8  3  2  0  1  0\n0  10-30  C5RB-053  314   96  19   5   1  1  0  1  0  0\n0  10-30  C5RB-054  282   96  22   7   1  0  0  0  0  0\n0  10-30  C5RB-061  422  142  23  10   1  0  0  0  0  0\n0  10-60  C5RB-001  199   76   6   6   0  1  0  0  0  0\n0  10-60  C5RB-038  201   61   8   1   2  1  0  0  0  0\n0  10-60  C5RB-041  305  136  21  10   3  2  0  0  1  0\n0  30-60  C5RB-019  432   84  18   1   1  1  0  0  0  0\n0  30-60  C5RB-023  102   11   2   1   0  0  0  0  0  0\n0  30-60  C5RB-024  157   31   3   0   0  0  0  0  0  0\n0  30-60  C5RB-025  124   31   4   1   0  0  0  0  0  0\n0  30-60  C5RB-027   84   18   2   0   0  0  0  0  0  0\n0   5-10  C5RB-001  651  130  30  14   8  1  1  0  0  0\n0   5-10  C5RB-002  300   65  17   4   7  0  2  0  0  0\n0   5-10  C5RB-003  262   58   9   4   2  0  0  0  0  0\n0   5-10  C5RB-004  500  132  41  18   5  2  2  2  1  0\n0   5-10  C5RB-008  493  113  38  11   5  2  1  2  0  0\n0   5-30  C5RB-001  343  156  38  11   3  1  0  0  0  0\n0   5-30  C5RB-002  249  119  25  12   2  2  0  2  0  1\n0   5-30  C5RB-066  223   56   6   2   1  0  0  0  0  0\n0   5-30  C5RB-068  275  148  30  12  12  1  2  1  0  0\n0   5-30  C5RB-069  235   93  27  10   3  0  0  0  0  0\n0   5-30  C5RB-070  331  160  35  24   7  4  0  1  0  0\n0   5-60  C5RB-013  256  138  48  13   9  3  1  1  1  0\n0   5-60  C5RB-014  223  118  29  14   7  3  0  0  0  0",
      "text/html": "<div>\n<style scoped>\n    .dataframe tbody tr th:only-of-type {\n        vertical-align: middle;\n    }\n\n    .dataframe tbody tr th {\n        vertical-align: top;\n    }\n\n    .dataframe thead th {\n        text-align: right;\n    }\n</style>\n<table border=\"1\" class=\"dataframe\">\n  <thead>\n    <tr style=\"text-align: right;\">\n      <th></th>\n      <th>age</th>\n      <th>aorta</th>\n      <th>1</th>\n      <th>2</th>\n      <th>3</th>\n      <th>4</th>\n      <th>5</th>\n      <th>6</th>\n      <th>7</th>\n      <th>8</th>\n      <th>9</th>\n      <th>10</th>\n    </tr>\n  </thead>\n  <tbody>\n    <tr>\n      <th>0</th>\n      <td>10-21</td>\n      <td>C5RB-002</td>\n      <td>497</td>\n      <td>103</td>\n      <td>16</td>\n      <td>4</td>\n      <td>3</td>\n      <td>0</td>\n      <td>1</td>\n      <td>0</td>\n      <td>0</td>\n      <td>0</td>\n    </tr>\n    <tr>\n      <th>0</th>\n      <td>10-21</td>\n      <td>C5RB-003</td>\n      <td>326</td>\n      <td>55</td>\n      <td>16</td>\n      <td>5</td>\n      <td>4</td>\n      <td>0</td>\n      <td>0</td>\n      <td>0</td>\n      <td>0</td>\n      <td>0</td>\n    </tr>\n    <tr>\n      <th>0</th>\n      <td>10-21</td>\n      <td>C5RB-004</td>\n      <td>346</td>\n      <td>55</td>\n      <td>12</td>\n      <td>7</td>\n      <td>1</td>\n      <td>0</td>\n      <td>0</td>\n      <td>0</td>\n      <td>0</td>\n      <td>0</td>\n    </tr>\n    <tr>\n      <th>0</th>\n      <td>10-21</td>\n      <td>C5RB-005</td>\n      <td>327</td>\n      <td>70</td>\n      <td>17</td>\n      <td>4</td>\n      <td>1</td>\n      <td>0</td>\n      <td>0</td>\n      <td>1</td>\n      <td>0</td>\n      <td>0</td>\n    </tr>\n    <tr>\n      <th>0</th>\n      <td>10-30</td>\n      <td>C5RB-051</td>\n      <td>374</td>\n      <td>134</td>\n      <td>21</td>\n      <td>7</td>\n      <td>3</td>\n      <td>0</td>\n      <td>0</td>\n      <td>1</td>\n      <td>0</td>\n      <td>0</td>\n    </tr>\n    <tr>\n      <th>0</th>\n      <td>10-30</td>\n      <td>C5RB-052</td>\n      <td>450</td>\n      <td>196</td>\n      <td>46</td>\n      <td>16</td>\n      <td>8</td>\n      <td>3</td>\n      <td>2</td>\n      <td>0</td>\n      <td>1</td>\n      <td>0</td>\n    </tr>\n    <tr>\n      <th>0</th>\n      <td>10-30</td>\n      <td>C5RB-053</td>\n      <td>314</td>\n      <td>96</td>\n      <td>19</td>\n      <td>5</td>\n      <td>1</td>\n      <td>1</td>\n      <td>0</td>\n      <td>1</td>\n      <td>0</td>\n      <td>0</td>\n    </tr>\n    <tr>\n      <th>0</th>\n      <td>10-30</td>\n      <td>C5RB-054</td>\n      <td>282</td>\n      <td>96</td>\n      <td>22</td>\n      <td>7</td>\n      <td>1</td>\n      <td>0</td>\n      <td>0</td>\n      <td>0</td>\n      <td>0</td>\n      <td>0</td>\n    </tr>\n    <tr>\n      <th>0</th>\n      <td>10-30</td>\n      <td>C5RB-061</td>\n      <td>422</td>\n      <td>142</td>\n      <td>23</td>\n      <td>10</td>\n      <td>1</td>\n      <td>0</td>\n      <td>0</td>\n      <td>0</td>\n      <td>0</td>\n      <td>0</td>\n    </tr>\n    <tr>\n      <th>0</th>\n      <td>10-60</td>\n      <td>C5RB-001</td>\n      <td>199</td>\n      <td>76</td>\n      <td>6</td>\n      <td>6</td>\n      <td>0</td>\n      <td>1</td>\n      <td>0</td>\n      <td>0</td>\n      <td>0</td>\n      <td>0</td>\n    </tr>\n    <tr>\n      <th>0</th>\n      <td>10-60</td>\n      <td>C5RB-038</td>\n      <td>201</td>\n      <td>61</td>\n      <td>8</td>\n      <td>1</td>\n      <td>2</td>\n      <td>1</td>\n      <td>0</td>\n      <td>0</td>\n      <td>0</td>\n      <td>0</td>\n    </tr>\n    <tr>\n      <th>0</th>\n      <td>10-60</td>\n      <td>C5RB-041</td>\n      <td>305</td>\n      <td>136</td>\n      <td>21</td>\n      <td>10</td>\n      <td>3</td>\n      <td>2</td>\n      <td>0</td>\n      <td>0</td>\n      <td>1</td>\n      <td>0</td>\n    </tr>\n    <tr>\n      <th>0</th>\n      <td>30-60</td>\n      <td>C5RB-019</td>\n      <td>432</td>\n      <td>84</td>\n      <td>18</td>\n      <td>1</td>\n      <td>1</td>\n      <td>1</td>\n      <td>0</td>\n      <td>0</td>\n      <td>0</td>\n      <td>0</td>\n    </tr>\n    <tr>\n      <th>0</th>\n      <td>30-60</td>\n      <td>C5RB-023</td>\n      <td>102</td>\n      <td>11</td>\n      <td>2</td>\n      <td>1</td>\n      <td>0</td>\n      <td>0</td>\n      <td>0</td>\n      <td>0</td>\n      <td>0</td>\n      <td>0</td>\n    </tr>\n    <tr>\n      <th>0</th>\n      <td>30-60</td>\n      <td>C5RB-024</td>\n      <td>157</td>\n      <td>31</td>\n      <td>3</td>\n      <td>0</td>\n      <td>0</td>\n      <td>0</td>\n      <td>0</td>\n      <td>0</td>\n      <td>0</td>\n      <td>0</td>\n    </tr>\n    <tr>\n      <th>0</th>\n      <td>30-60</td>\n      <td>C5RB-025</td>\n      <td>124</td>\n      <td>31</td>\n      <td>4</td>\n      <td>1</td>\n      <td>0</td>\n      <td>0</td>\n      <td>0</td>\n      <td>0</td>\n      <td>0</td>\n      <td>0</td>\n    </tr>\n    <tr>\n      <th>0</th>\n      <td>30-60</td>\n      <td>C5RB-027</td>\n      <td>84</td>\n      <td>18</td>\n      <td>2</td>\n      <td>0</td>\n      <td>0</td>\n      <td>0</td>\n      <td>0</td>\n      <td>0</td>\n      <td>0</td>\n      <td>0</td>\n    </tr>\n    <tr>\n      <th>0</th>\n      <td>5-10</td>\n      <td>C5RB-001</td>\n      <td>651</td>\n      <td>130</td>\n      <td>30</td>\n      <td>14</td>\n      <td>8</td>\n      <td>1</td>\n      <td>1</td>\n      <td>0</td>\n      <td>0</td>\n      <td>0</td>\n    </tr>\n    <tr>\n      <th>0</th>\n      <td>5-10</td>\n      <td>C5RB-002</td>\n      <td>300</td>\n      <td>65</td>\n      <td>17</td>\n      <td>4</td>\n      <td>7</td>\n      <td>0</td>\n      <td>2</td>\n      <td>0</td>\n      <td>0</td>\n      <td>0</td>\n    </tr>\n    <tr>\n      <th>0</th>\n      <td>5-10</td>\n      <td>C5RB-003</td>\n      <td>262</td>\n      <td>58</td>\n      <td>9</td>\n      <td>4</td>\n      <td>2</td>\n      <td>0</td>\n      <td>0</td>\n      <td>0</td>\n      <td>0</td>\n      <td>0</td>\n    </tr>\n    <tr>\n      <th>0</th>\n      <td>5-10</td>\n      <td>C5RB-004</td>\n      <td>500</td>\n      <td>132</td>\n      <td>41</td>\n      <td>18</td>\n      <td>5</td>\n      <td>2</td>\n      <td>2</td>\n      <td>2</td>\n      <td>1</td>\n      <td>0</td>\n    </tr>\n    <tr>\n      <th>0</th>\n      <td>5-10</td>\n      <td>C5RB-008</td>\n      <td>493</td>\n      <td>113</td>\n      <td>38</td>\n      <td>11</td>\n      <td>5</td>\n      <td>2</td>\n      <td>1</td>\n      <td>2</td>\n      <td>0</td>\n      <td>0</td>\n    </tr>\n    <tr>\n      <th>0</th>\n      <td>5-30</td>\n      <td>C5RB-001</td>\n      <td>343</td>\n      <td>156</td>\n      <td>38</td>\n      <td>11</td>\n      <td>3</td>\n      <td>1</td>\n      <td>0</td>\n      <td>0</td>\n      <td>0</td>\n      <td>0</td>\n    </tr>\n    <tr>\n      <th>0</th>\n      <td>5-30</td>\n      <td>C5RB-002</td>\n      <td>249</td>\n      <td>119</td>\n      <td>25</td>\n      <td>12</td>\n      <td>2</td>\n      <td>2</td>\n      <td>0</td>\n      <td>2</td>\n      <td>0</td>\n      <td>1</td>\n    </tr>\n    <tr>\n      <th>0</th>\n      <td>5-30</td>\n      <td>C5RB-066</td>\n      <td>223</td>\n      <td>56</td>\n      <td>6</td>\n      <td>2</td>\n      <td>1</td>\n      <td>0</td>\n      <td>0</td>\n      <td>0</td>\n      <td>0</td>\n      <td>0</td>\n    </tr>\n    <tr>\n      <th>0</th>\n      <td>5-30</td>\n      <td>C5RB-068</td>\n      <td>275</td>\n      <td>148</td>\n      <td>30</td>\n      <td>12</td>\n      <td>12</td>\n      <td>1</td>\n      <td>2</td>\n      <td>1</td>\n      <td>0</td>\n      <td>0</td>\n    </tr>\n    <tr>\n      <th>0</th>\n      <td>5-30</td>\n      <td>C5RB-069</td>\n      <td>235</td>\n      <td>93</td>\n      <td>27</td>\n      <td>10</td>\n      <td>3</td>\n      <td>0</td>\n      <td>0</td>\n      <td>0</td>\n      <td>0</td>\n      <td>0</td>\n    </tr>\n    <tr>\n      <th>0</th>\n      <td>5-30</td>\n      <td>C5RB-070</td>\n      <td>331</td>\n      <td>160</td>\n      <td>35</td>\n      <td>24</td>\n      <td>7</td>\n      <td>4</td>\n      <td>0</td>\n      <td>1</td>\n      <td>0</td>\n      <td>0</td>\n    </tr>\n    <tr>\n      <th>0</th>\n      <td>5-60</td>\n      <td>C5RB-013</td>\n      <td>256</td>\n      <td>138</td>\n      <td>48</td>\n      <td>13</td>\n      <td>9</td>\n      <td>3</td>\n      <td>1</td>\n      <td>1</td>\n      <td>1</td>\n      <td>0</td>\n    </tr>\n    <tr>\n      <th>0</th>\n      <td>5-60</td>\n      <td>C5RB-014</td>\n      <td>223</td>\n      <td>118</td>\n      <td>29</td>\n      <td>14</td>\n      <td>7</td>\n      <td>3</td>\n      <td>0</td>\n      <td>0</td>\n      <td>0</td>\n      <td>0</td>\n    </tr>\n  </tbody>\n</table>\n</div>"
     },
     "execution_count": 10,
     "metadata": {},
     "output_type": "execute_result"
    }
   ],
   "source": [
    "dfResults"
   ],
   "metadata": {
    "collapsed": false,
    "pycharm": {
     "name": "#%%\n"
    }
   }
  },
  {
   "cell_type": "code",
   "execution_count": 11,
   "outputs": [],
   "source": [
    "dfResults.to_csv(\"/Volumes/Aortas/Aorta/results/inducedRainbow/allClusterSizesOrange.csv\", index=False)"
   ],
   "metadata": {
    "collapsed": false,
    "pycharm": {
     "name": "#%%\n"
    }
   }
  }
 ],
 "metadata": {
  "kernelspec": {
   "display_name": "Python 3",
   "language": "python",
   "name": "python3"
  },
  "language_info": {
   "codemirror_mode": {
    "name": "ipython",
    "version": 2
   },
   "file_extension": ".py",
   "mimetype": "text/x-python",
   "name": "python",
   "nbconvert_exporter": "python",
   "pygments_lexer": "ipython2",
   "version": "2.7.6"
  }
 },
 "nbformat": 4,
 "nbformat_minor": 0
}